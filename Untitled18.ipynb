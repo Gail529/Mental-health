{
  "nbformat": 4,
  "nbformat_minor": 0,
  "metadata": {
    "colab": {
      "name": "Untitled18.ipynb",
      "provenance": [],
      "authorship_tag": "ABX9TyPRODyJ9vF0c+nZniOwREWV",
      "include_colab_link": true
    },
    "kernelspec": {
      "name": "python3",
      "display_name": "Python 3"
    }
  },
  "cells": [
    {
      "cell_type": "markdown",
      "metadata": {
        "id": "view-in-github",
        "colab_type": "text"
      },
      "source": [
        "<a href=\"https://colab.research.google.com/github/Gail529/Mental-health/blob/main/Untitled18.ipynb\" target=\"_parent\"><img src=\"https://colab.research.google.com/assets/colab-badge.svg\" alt=\"Open In Colab\"/></a>"
      ]
    },
    {
      "cell_type": "code",
      "metadata": {
        "colab": {
          "base_uri": "https://localhost:8080/"
        },
        "id": "iw80Hf6TmgxE",
        "outputId": "9bd06bf6-2c10-409f-dd61-220062385f5b"
      },
      "source": [
        "import pandas as pd \n",
        "from tqdm import tqdm_notebook as tqdm \n",
        "from tqdm import trange\n",
        "import nltk\n",
        "nltk.download('punkt')\n",
        "nltk.download('wordnet')\n",
        "from nltk import word_tokenize\n",
        "from nltk.stem import WordNetLemmatizer"
      ],
      "execution_count": 2,
      "outputs": [
        {
          "output_type": "stream",
          "text": [
            "[nltk_data] Downloading package punkt to /root/nltk_data...\n",
            "[nltk_data]   Unzipping tokenizers/punkt.zip.\n",
            "[nltk_data] Downloading package wordnet to /root/nltk_data...\n",
            "[nltk_data]   Unzipping corpora/wordnet.zip.\n"
          ],
          "name": "stdout"
        }
      ]
    },
    {
      "cell_type": "code",
      "metadata": {
        "id": "aUUw1KC2tQyQ"
      },
      "source": [
        "data=pd.read_excel('/content/DPL-EN_lrec2016.xlsx') #distributional polarity lexicon\n"
      ],
      "execution_count": 3,
      "outputs": []
    },
    {
      "cell_type": "code",
      "metadata": {
        "colab": {
          "base_uri": "https://localhost:8080/",
          "height": 622
        },
        "id": "MAe540mrwOJL",
        "outputId": "dac001a0-9914-4e5a-c006-8e8c1aab8bbc"
      },
      "source": [
        "data.head(20)"
      ],
      "execution_count": 10,
      "outputs": [
        {
          "output_type": "execute_result",
          "data": {
            "text/html": [
              "<div>\n",
              "<style scoped>\n",
              "    .dataframe tbody tr th:only-of-type {\n",
              "        vertical-align: middle;\n",
              "    }\n",
              "\n",
              "    .dataframe tbody tr th {\n",
              "        vertical-align: top;\n",
              "    }\n",
              "\n",
              "    .dataframe thead th {\n",
              "        text-align: right;\n",
              "    }\n",
              "</style>\n",
              "<table border=\"1\" class=\"dataframe\">\n",
              "  <thead>\n",
              "    <tr style=\"text-align: right;\">\n",
              "      <th></th>\n",
              "      <th>word</th>\n",
              "      <th>negativity</th>\n",
              "    </tr>\n",
              "  </thead>\n",
              "  <tbody>\n",
              "    <tr>\n",
              "      <th>0</th>\n",
              "      <td>!</td>\n",
              "      <td>0.223810</td>\n",
              "    </tr>\n",
              "    <tr>\n",
              "      <th>1</th>\n",
              "      <td>i</td>\n",
              "      <td>0.741824</td>\n",
              "    </tr>\n",
              "    <tr>\n",
              "      <th>2</th>\n",
              "      <td>the</td>\n",
              "      <td>0.270082</td>\n",
              "    </tr>\n",
              "    <tr>\n",
              "      <th>3</th>\n",
              "      <td>NaN</td>\n",
              "      <td>0.294649</td>\n",
              "    </tr>\n",
              "    <tr>\n",
              "      <th>4</th>\n",
              "      <td>you</td>\n",
              "      <td>0.140852</td>\n",
              "    </tr>\n",
              "    <tr>\n",
              "      <th>5</th>\n",
              "      <td>to</td>\n",
              "      <td>0.451124</td>\n",
              "    </tr>\n",
              "    <tr>\n",
              "      <th>6</th>\n",
              "      <td>a</td>\n",
              "      <td>0.313906</td>\n",
              "    </tr>\n",
              "    <tr>\n",
              "      <th>7</th>\n",
              "      <td>and</td>\n",
              "      <td>0.239210</td>\n",
              "    </tr>\n",
              "    <tr>\n",
              "      <th>8</th>\n",
              "      <td>rt</td>\n",
              "      <td>0.129684</td>\n",
              "    </tr>\n",
              "    <tr>\n",
              "      <th>9</th>\n",
              "      <td>lnk</td>\n",
              "      <td>0.006437</td>\n",
              "    </tr>\n",
              "    <tr>\n",
              "      <th>10</th>\n",
              "      <td>it</td>\n",
              "      <td>0.491987</td>\n",
              "    </tr>\n",
              "    <tr>\n",
              "      <th>11</th>\n",
              "      <td>is</td>\n",
              "      <td>0.461684</td>\n",
              "    </tr>\n",
              "    <tr>\n",
              "      <th>12</th>\n",
              "      <td>my</td>\n",
              "      <td>0.590883</td>\n",
              "    </tr>\n",
              "    <tr>\n",
              "      <th>13</th>\n",
              "      <td>of</td>\n",
              "      <td>0.274051</td>\n",
              "    </tr>\n",
              "    <tr>\n",
              "      <th>14</th>\n",
              "      <td>for</td>\n",
              "      <td>0.231479</td>\n",
              "    </tr>\n",
              "    <tr>\n",
              "      <th>15</th>\n",
              "      <td>me</td>\n",
              "      <td>0.732169</td>\n",
              "    </tr>\n",
              "    <tr>\n",
              "      <th>16</th>\n",
              "      <td>'s</td>\n",
              "      <td>0.338513</td>\n",
              "    </tr>\n",
              "    <tr>\n",
              "      <th>17</th>\n",
              "      <td>in</td>\n",
              "      <td>0.550660</td>\n",
              "    </tr>\n",
              "    <tr>\n",
              "      <th>18</th>\n",
              "      <td>so</td>\n",
              "      <td>0.655076</td>\n",
              "    </tr>\n",
              "    <tr>\n",
              "      <th>19</th>\n",
              "      <td>that</td>\n",
              "      <td>0.404731</td>\n",
              "    </tr>\n",
              "  </tbody>\n",
              "</table>\n",
              "</div>"
            ],
            "text/plain": [
              "    word  negativity\n",
              "0      !    0.223810\n",
              "1      i    0.741824\n",
              "2    the    0.270082\n",
              "3    NaN    0.294649\n",
              "4    you    0.140852\n",
              "5     to    0.451124\n",
              "6      a    0.313906\n",
              "7    and    0.239210\n",
              "8     rt    0.129684\n",
              "9    lnk    0.006437\n",
              "10    it    0.491987\n",
              "11    is    0.461684\n",
              "12    my    0.590883\n",
              "13    of    0.274051\n",
              "14   for    0.231479\n",
              "15    me    0.732169\n",
              "16    's    0.338513\n",
              "17    in    0.550660\n",
              "18    so    0.655076\n",
              "19  that    0.404731"
            ]
          },
          "metadata": {
            "tags": []
          },
          "execution_count": 10
        }
      ]
    },
    {
      "cell_type": "code",
      "metadata": {
        "id": "iIE6OR5KwawE"
      },
      "source": [
        "del data[\"neutrality\"]\n"
      ],
      "execution_count": 9,
      "outputs": []
    },
    {
      "cell_type": "code",
      "metadata": {
        "id": "z1Mpjz2WxlcP"
      },
      "source": [
        "tweets=pd.read_csv('/content/final_tweets.csv')"
      ],
      "execution_count": 11,
      "outputs": []
    },
    {
      "cell_type": "code",
      "metadata": {
        "colab": {
          "base_uri": "https://localhost:8080/",
          "height": 456
        },
        "id": "qnA45VujyZdk",
        "outputId": "bec74083-65f6-4b1a-ab99-ae739e92a191"
      },
      "source": [
        "tweets\n"
      ],
      "execution_count": 12,
      "outputs": [
        {
          "output_type": "execute_result",
          "data": {
            "text/html": [
              "<div>\n",
              "<style scoped>\n",
              "    .dataframe tbody tr th:only-of-type {\n",
              "        vertical-align: middle;\n",
              "    }\n",
              "\n",
              "    .dataframe tbody tr th {\n",
              "        vertical-align: top;\n",
              "    }\n",
              "\n",
              "    .dataframe thead th {\n",
              "        text-align: right;\n",
              "    }\n",
              "</style>\n",
              "<table border=\"1\" class=\"dataframe\">\n",
              "  <thead>\n",
              "    <tr style=\"text-align: right;\">\n",
              "      <th></th>\n",
              "      <th>Unnamed: 0</th>\n",
              "      <th>Unnamed: 0.1</th>\n",
              "      <th>user</th>\n",
              "      <th>location</th>\n",
              "      <th>text</th>\n",
              "      <th>tweets</th>\n",
              "    </tr>\n",
              "  </thead>\n",
              "  <tbody>\n",
              "    <tr>\n",
              "      <th>0</th>\n",
              "      <td>0</td>\n",
              "      <td>0</td>\n",
              "      <td>app_stayaway</td>\n",
              "      <td>Mumbai</td>\n",
              "      <td>People can also take advantage of your phone a...</td>\n",
              "      <td>people can also take advantage of your phone a...</td>\n",
              "    </tr>\n",
              "    <tr>\n",
              "      <th>1</th>\n",
              "      <td>1</td>\n",
              "      <td>1</td>\n",
              "      <td>rykorua</td>\n",
              "      <td>Italia</td>\n",
              "      <td>Christmas is a good time to start practicing g...</td>\n",
              "      <td>christmas is a good time to start practicing g...</td>\n",
              "    </tr>\n",
              "    <tr>\n",
              "      <th>2</th>\n",
              "      <td>2</td>\n",
              "      <td>2</td>\n",
              "      <td>allevin18</td>\n",
              "      <td>Minneapolis, MN</td>\n",
              "      <td>\"Driving in the Midst of #Depression\" https://...</td>\n",
              "      <td>driving in the midst of depression   mindwand...</td>\n",
              "    </tr>\n",
              "    <tr>\n",
              "      <th>3</th>\n",
              "      <td>3</td>\n",
              "      <td>3</td>\n",
              "      <td>DulleyTopBooks</td>\n",
              "      <td>North Vancouver, B.C. Canada</td>\n",
              "      <td>@BCGovNews May the Prince of Peace give us ALL...</td>\n",
              "      <td>may the prince of peace give u all peace of ou...</td>\n",
              "    </tr>\n",
              "    <tr>\n",
              "      <th>4</th>\n",
              "      <td>4</td>\n",
              "      <td>4</td>\n",
              "      <td>sadvibes43ver</td>\n",
              "      <td>NaN</td>\n",
              "      <td>Anyone else just pretending they’re ok?\\n#sadt...</td>\n",
              "      <td>anyone else just pretending they  re ok  sadtw...</td>\n",
              "    </tr>\n",
              "    <tr>\n",
              "      <th>...</th>\n",
              "      <td>...</td>\n",
              "      <td>...</td>\n",
              "      <td>...</td>\n",
              "      <td>...</td>\n",
              "      <td>...</td>\n",
              "      <td>...</td>\n",
              "    </tr>\n",
              "    <tr>\n",
              "      <th>1995</th>\n",
              "      <td>1995</td>\n",
              "      <td>1995</td>\n",
              "      <td>Nem_RL</td>\n",
              "      <td>Tennessee</td>\n",
              "      <td>well looks like i am more fucked up than i tho...</td>\n",
              "      <td>well look like i am more fucked up than i thou...</td>\n",
              "    </tr>\n",
              "    <tr>\n",
              "      <th>1996</th>\n",
              "      <td>1996</td>\n",
              "      <td>1996</td>\n",
              "      <td>Saru_Faja</td>\n",
              "      <td>Karachi,Pakistan</td>\n",
              "      <td>#IOK_ParadiseInPain\\n42- Last year, Ms. Rehman...</td>\n",
              "      <td>iokparadiseinpain 42  last year  ms  rehman vi...</td>\n",
              "    </tr>\n",
              "    <tr>\n",
              "      <th>1997</th>\n",
              "      <td>1997</td>\n",
              "      <td>1997</td>\n",
              "      <td>PeteThornberg</td>\n",
              "      <td>Cleveland, OH</td>\n",
              "      <td>@BillBindc Don’t forget newly diagnosed depres...</td>\n",
              "      <td>don  t forget newly diagnosed depression  anxi...</td>\n",
              "    </tr>\n",
              "    <tr>\n",
              "      <th>1998</th>\n",
              "      <td>1998</td>\n",
              "      <td>1998</td>\n",
              "      <td>BentsenElin</td>\n",
              "      <td>NaN</td>\n",
              "      <td>@sojac60 @ThatEricAlper I think he was diagnos...</td>\n",
              "      <td>i think he wa diagnosed with depression and bi...</td>\n",
              "    </tr>\n",
              "    <tr>\n",
              "      <th>1999</th>\n",
              "      <td>1999</td>\n",
              "      <td>1999</td>\n",
              "      <td>daibakusasshin</td>\n",
              "      <td>they/she | NY | jpn-us</td>\n",
              "      <td>Also before someone tries to go all “THERES SO...</td>\n",
              "      <td>also before someone try to go all  theres so m...</td>\n",
              "    </tr>\n",
              "  </tbody>\n",
              "</table>\n",
              "<p>2000 rows × 6 columns</p>\n",
              "</div>"
            ],
            "text/plain": [
              "      Unnamed: 0  ...                                             tweets\n",
              "0              0  ...  people can also take advantage of your phone a...\n",
              "1              1  ...  christmas is a good time to start practicing g...\n",
              "2              2  ...   driving in the midst of depression   mindwand...\n",
              "3              3  ...  may the prince of peace give u all peace of ou...\n",
              "4              4  ...  anyone else just pretending they  re ok  sadtw...\n",
              "...          ...  ...                                                ...\n",
              "1995        1995  ...  well look like i am more fucked up than i thou...\n",
              "1996        1996  ...  iokparadiseinpain 42  last year  ms  rehman vi...\n",
              "1997        1997  ...  don  t forget newly diagnosed depression  anxi...\n",
              "1998        1998  ...  i think he wa diagnosed with depression and bi...\n",
              "1999        1999  ...  also before someone try to go all  theres so m...\n",
              "\n",
              "[2000 rows x 6 columns]"
            ]
          },
          "metadata": {
            "tags": []
          },
          "execution_count": 12
        }
      ]
    },
    {
      "cell_type": "code",
      "metadata": {
        "id": "BFaFbCY1ybNN"
      },
      "source": [
        ""
      ],
      "execution_count": null,
      "outputs": []
    }
  ]
}