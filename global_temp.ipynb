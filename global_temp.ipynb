{
  "nbformat": 4,
  "nbformat_minor": 0,
  "metadata": {
    "colab": {
      "name": "global_temp.ipynb",
      "private_outputs": true,
      "provenance": [],
      "collapsed_sections": [],
      "authorship_tag": "ABX9TyOjqmQySj/rvk1RTt2gBMjO",
      "include_colab_link": true
    },
    "kernelspec": {
      "name": "python3",
      "display_name": "Python 3"
    },
    "language_info": {
      "name": "python"
    }
  },
  "cells": [
    {
      "cell_type": "markdown",
      "metadata": {
        "id": "view-in-github",
        "colab_type": "text"
      },
      "source": [
        "<a href=\"https://colab.research.google.com/github/Gail529/Mental-health/blob/main/global_temp.ipynb\" target=\"_parent\"><img src=\"https://colab.research.google.com/assets/colab-badge.svg\" alt=\"Open In Colab\"/></a>"
      ]
    },
    {
      "cell_type": "code",
      "metadata": {
        "id": "yhE3W1hZnXHW"
      },
      "source": [
        "import pandas as pd\n",
        "import numpy as np\n",
        "import matplotlib.pyplot as plt\n",
        "import seaborn as sns\n",
        "\n",
        "import os\n",
        "import string\n"
      ],
      "execution_count": null,
      "outputs": []
    },
    {
      "cell_type": "code",
      "metadata": {
        "id": "yebRzUgholZu"
      },
      "source": [
        "temp_data=pd.read_csv('/content/GlobalLandTemperaturesByCountry.csv')"
      ],
      "execution_count": null,
      "outputs": []
    },
    {
      "cell_type": "code",
      "metadata": {
        "id": "iDtpB54eo5S2"
      },
      "source": [
        "temp_data.head(3)"
      ],
      "execution_count": null,
      "outputs": []
    },
    {
      "cell_type": "code",
      "metadata": {
        "id": "IAuuqOwgo-eU"
      },
      "source": [
        "temp_data.describe()\n",
        "temp_data.shape"
      ],
      "execution_count": null,
      "outputs": []
    },
    {
      "cell_type": "code",
      "metadata": {
        "id": "L091t1eZpCa4"
      },
      "source": [
        "temp_data.info()"
      ],
      "execution_count": null,
      "outputs": []
    },
    {
      "cell_type": "code",
      "metadata": {
        "id": "bDkUQO3VwLKb"
      },
      "source": [
        "temp_data['dt']=pd.to_datetime(temp_data['dt'])\n",
        "temp_data=temp_data[(temp_data['dt'] > '1950-01-01') & (temp_data['dt'] < '2020-01-01')]\n",
        "temp_data.reset_index(drop=True ,inplace=True)"
      ],
      "execution_count": null,
      "outputs": []
    },
    {
      "cell_type": "code",
      "metadata": {
        "id": "y_v-LUYV5_Jr"
      },
      "source": [
        "temp_data.to_csv('temp_data.csv')"
      ],
      "execution_count": null,
      "outputs": []
    },
    {
      "cell_type": "code",
      "metadata": {
        "id": "eVObBvNfpO-x"
      },
      "source": [
        "#missing values\n",
        "print(temp_data.isnull().sum().sum())\n",
        "temp_data.dropna(axis=0,inplace=True)\n",
        "print(temp_data.isnull().sum().sum())\n"
      ],
      "execution_count": null,
      "outputs": []
    },
    {
      "cell_type": "code",
      "metadata": {
        "id": "tXC95nGOrSTD"
      },
      "source": [
        "print(temp_data['Country'].describe())\n",
        "temp_data['Country'].value_counts().head(50).plot(kind='barh')"
      ],
      "execution_count": null,
      "outputs": []
    },
    {
      "cell_type": "code",
      "metadata": {
        "id": "2nddbMt7szC5"
      },
      "source": [
        "country_list=temp_data['Country'].value_counts().head(100)\n",
        "values=country_list.values\n",
        "country=country_list.index"
      ],
      "execution_count": null,
      "outputs": []
    },
    {
      "cell_type": "code",
      "metadata": {
        "id": "qYUHBzuVu77V"
      },
      "source": [
        "names"
      ],
      "execution_count": null,
      "outputs": []
    }
  ]
}