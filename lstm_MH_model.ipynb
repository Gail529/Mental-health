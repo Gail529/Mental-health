{
  "nbformat": 4,
  "nbformat_minor": 0,
  "metadata": {
    "colab": {
      "name": "lstm_MH_model.ipynb",
      "provenance": [],
      "collapsed_sections": [
        "v-UNdK-yCTLB"
      ],
      "authorship_tag": "ABX9TyOL1jMmWPrLJmTHawjBYVgL",
      "include_colab_link": true
    },
    "kernelspec": {
      "name": "python3",
      "display_name": "Python 3"
    }
  },
  "cells": [
    {
      "cell_type": "markdown",
      "metadata": {
        "id": "view-in-github",
        "colab_type": "text"
      },
      "source": [
        "<a href=\"https://colab.research.google.com/github/Gail529/Mental-health/blob/main/lstm_MH_model.ipynb\" target=\"_parent\"><img src=\"https://colab.research.google.com/assets/colab-badge.svg\" alt=\"Open In Colab\"/></a>"
      ]
    },
    {
      "cell_type": "markdown",
      "metadata": {
        "id": "rwclrnprMA8l"
      },
      "source": [
        "#Importing necessary libraries\n"
      ]
    },
    {
      "cell_type": "code",
      "metadata": {
        "colab": {
          "base_uri": "https://localhost:8080/"
        },
        "id": "54bvoPIZgTGY",
        "outputId": "721f35d1-9f10-48ac-a066-1c46c6ac3a6a"
      },
      "source": [
        "import pandas as pd \n",
        "import numpy as np\n",
        "import gensim\n",
        "import os\n",
        "import tweepy as tw\n",
        " \n",
        "#tweet preprocessing \n",
        "import nltk\n",
        "nltk.download('punkt')\n",
        "nltk.download('stopwords')\n",
        "nltk.download('wordnet')\n",
        "import string\n",
        "import re\n",
        "from keras import backend as K\n",
        "from tensorflow.keras.models import Model, load_model\n",
        "from nltk.tokenize import word_tokenize,sent_tokenize,TweetTokenizer\n",
        "from nltk.stem import WordNetLemmatizer\n",
        "from nltk.corpus import stopwords\n",
        "from nltk.stem import PorterStemmer\n",
        " \n",
        " \n",
        " \n",
        "from tensorflow.python.keras.preprocessing.text import Tokenizer\n",
        "from tensorflow.python.keras.preprocessing.sequence import pad_sequences\n",
        " \n",
        "\n",
        "import pickle \n",
        "import keras\n",
        "from keras.models import Sequential\n",
        "from keras.layers import Dense,Embedding,LSTM,GRU\n",
        "from keras.layers.embeddings import Embedding\n",
        "from keras.initializers import Constant\n",
        "import tensorflow as tf\n",
        "from tensorflow.keras.layers import Dense, Flatten, LSTM, Dropout, Activation, Embedding, Bidirectional"
      ],
      "execution_count": null,
      "outputs": [
        {
          "output_type": "stream",
          "text": [
            "[nltk_data] Downloading package punkt to /root/nltk_data...\n",
            "[nltk_data]   Unzipping tokenizers/punkt.zip.\n",
            "[nltk_data] Downloading package stopwords to /root/nltk_data...\n",
            "[nltk_data]   Unzipping corpora/stopwords.zip.\n",
            "[nltk_data] Downloading package wordnet to /root/nltk_data...\n",
            "[nltk_data]   Unzipping corpora/wordnet.zip.\n"
          ],
          "name": "stdout"
        }
      ]
    },
    {
      "cell_type": "code",
      "metadata": {
        "id": "wW8CXhEhBaWl"
      },
      "source": [
        "dataframe=pd.read_csv('/content/Mental_health2.csv')"
      ],
      "execution_count": null,
      "outputs": []
    },
    {
      "cell_type": "code",
      "metadata": {
        "id": "-SrqEWYCf2SE",
        "colab": {
          "base_uri": "https://localhost:8080/",
          "height": 1000
        },
        "outputId": "5ae792a5-25d4-4b77-a6c2-7773da825b2c"
      },
      "source": [
        "dataframe.tail(20)\n"
      ],
      "execution_count": null,
      "outputs": [
        {
          "output_type": "execute_result",
          "data": {
            "text/html": [
              "<div>\n",
              "<style scoped>\n",
              "    .dataframe tbody tr th:only-of-type {\n",
              "        vertical-align: middle;\n",
              "    }\n",
              "\n",
              "    .dataframe tbody tr th {\n",
              "        vertical-align: top;\n",
              "    }\n",
              "\n",
              "    .dataframe thead th {\n",
              "        text-align: right;\n",
              "    }\n",
              "</style>\n",
              "<table border=\"1\" class=\"dataframe\">\n",
              "  <thead>\n",
              "    <tr style=\"text-align: right;\">\n",
              "      <th></th>\n",
              "      <th>Unnamed: 0</th>\n",
              "      <th>tweets</th>\n",
              "      <th>Positive</th>\n",
              "      <th>Negative</th>\n",
              "      <th>Anger</th>\n",
              "      <th>Anticipation</th>\n",
              "      <th>Disgust</th>\n",
              "      <th>Fear</th>\n",
              "      <th>Joy</th>\n",
              "      <th>Sadness</th>\n",
              "      <th>Surprise</th>\n",
              "      <th>Trust</th>\n",
              "      <th>afinn_score</th>\n",
              "      <th>positive_vader</th>\n",
              "      <th>negative_vader</th>\n",
              "      <th>neutral_vader</th>\n",
              "      <th>depression_score</th>\n",
              "    </tr>\n",
              "  </thead>\n",
              "  <tbody>\n",
              "    <tr>\n",
              "      <th>1884</th>\n",
              "      <td>1884</td>\n",
              "      <td>hi everyone  i  m izzi  i  m 22 year old and i...</td>\n",
              "      <td>0</td>\n",
              "      <td>2</td>\n",
              "      <td>1</td>\n",
              "      <td>1</td>\n",
              "      <td>0</td>\n",
              "      <td>1</td>\n",
              "      <td>0</td>\n",
              "      <td>2</td>\n",
              "      <td>0</td>\n",
              "      <td>0</td>\n",
              "      <td>-2.0</td>\n",
              "      <td>0.000</td>\n",
              "      <td>0.213</td>\n",
              "      <td>0.787</td>\n",
              "      <td>128.8625</td>\n",
              "    </tr>\n",
              "    <tr>\n",
              "      <th>1885</th>\n",
              "      <td>1885</td>\n",
              "      <td>i finally got diagnosed with depression and ge...</td>\n",
              "      <td>1</td>\n",
              "      <td>2</td>\n",
              "      <td>1</td>\n",
              "      <td>2</td>\n",
              "      <td>1</td>\n",
              "      <td>1</td>\n",
              "      <td>1</td>\n",
              "      <td>2</td>\n",
              "      <td>1</td>\n",
              "      <td>1</td>\n",
              "      <td>-2.0</td>\n",
              "      <td>0.000</td>\n",
              "      <td>0.265</td>\n",
              "      <td>0.735</td>\n",
              "      <td>157.1225</td>\n",
              "    </tr>\n",
              "    <tr>\n",
              "      <th>1886</th>\n",
              "      <td>1886</td>\n",
              "      <td>things ive been diagnosed with  depression anx...</td>\n",
              "      <td>1</td>\n",
              "      <td>3</td>\n",
              "      <td>2</td>\n",
              "      <td>2</td>\n",
              "      <td>0</td>\n",
              "      <td>2</td>\n",
              "      <td>0</td>\n",
              "      <td>3</td>\n",
              "      <td>0</td>\n",
              "      <td>0</td>\n",
              "      <td>-4.0</td>\n",
              "      <td>0.154</td>\n",
              "      <td>0.332</td>\n",
              "      <td>0.514</td>\n",
              "      <td>211.4790</td>\n",
              "    </tr>\n",
              "    <tr>\n",
              "      <th>1887</th>\n",
              "      <td>1887</td>\n",
              "      <td>the self diagnosed depression starter pack   m...</td>\n",
              "      <td>0</td>\n",
              "      <td>1</td>\n",
              "      <td>0</td>\n",
              "      <td>0</td>\n",
              "      <td>0</td>\n",
              "      <td>0</td>\n",
              "      <td>0</td>\n",
              "      <td>1</td>\n",
              "      <td>0</td>\n",
              "      <td>0</td>\n",
              "      <td>0.0</td>\n",
              "      <td>0.000</td>\n",
              "      <td>0.346</td>\n",
              "      <td>0.654</td>\n",
              "      <td>47.6450</td>\n",
              "    </tr>\n",
              "    <tr>\n",
              "      <th>1888</th>\n",
              "      <td>1888</td>\n",
              "      <td>just got diagnosed with depression  feeling  d...</td>\n",
              "      <td>1</td>\n",
              "      <td>3</td>\n",
              "      <td>2</td>\n",
              "      <td>1</td>\n",
              "      <td>1</td>\n",
              "      <td>2</td>\n",
              "      <td>1</td>\n",
              "      <td>3</td>\n",
              "      <td>1</td>\n",
              "      <td>1</td>\n",
              "      <td>-1.0</td>\n",
              "      <td>0.120</td>\n",
              "      <td>0.560</td>\n",
              "      <td>0.320</td>\n",
              "      <td>230.8100</td>\n",
              "    </tr>\n",
              "    <tr>\n",
              "      <th>1889</th>\n",
              "      <td>1889</td>\n",
              "      <td>oh yeah  getting diagnosed with adhd  depressi...</td>\n",
              "      <td>0</td>\n",
              "      <td>2</td>\n",
              "      <td>1</td>\n",
              "      <td>1</td>\n",
              "      <td>0</td>\n",
              "      <td>1</td>\n",
              "      <td>0</td>\n",
              "      <td>2</td>\n",
              "      <td>0</td>\n",
              "      <td>0</td>\n",
              "      <td>-1.0</td>\n",
              "      <td>0.112</td>\n",
              "      <td>0.276</td>\n",
              "      <td>0.612</td>\n",
              "      <td>129.8520</td>\n",
              "    </tr>\n",
              "    <tr>\n",
              "      <th>1890</th>\n",
              "      <td>1890</td>\n",
              "      <td>two year ago i wa diagnosed with chronic  biol...</td>\n",
              "      <td>0</td>\n",
              "      <td>2</td>\n",
              "      <td>0</td>\n",
              "      <td>0</td>\n",
              "      <td>0</td>\n",
              "      <td>0</td>\n",
              "      <td>0</td>\n",
              "      <td>2</td>\n",
              "      <td>0</td>\n",
              "      <td>0</td>\n",
              "      <td>2.0</td>\n",
              "      <td>0.132</td>\n",
              "      <td>0.148</td>\n",
              "      <td>0.720</td>\n",
              "      <td>93.2320</td>\n",
              "    </tr>\n",
              "    <tr>\n",
              "      <th>1891</th>\n",
              "      <td>1891</td>\n",
              "      <td>you commented in my tweet about what i said ab...</td>\n",
              "      <td>0</td>\n",
              "      <td>1</td>\n",
              "      <td>0</td>\n",
              "      <td>0</td>\n",
              "      <td>0</td>\n",
              "      <td>0</td>\n",
              "      <td>0</td>\n",
              "      <td>1</td>\n",
              "      <td>0</td>\n",
              "      <td>0</td>\n",
              "      <td>0.0</td>\n",
              "      <td>0.000</td>\n",
              "      <td>0.188</td>\n",
              "      <td>0.812</td>\n",
              "      <td>47.2500</td>\n",
              "    </tr>\n",
              "    <tr>\n",
              "      <th>1892</th>\n",
              "      <td>1892</td>\n",
              "      <td>hi flora  i have adhd  no autism  i occasional...</td>\n",
              "      <td>0</td>\n",
              "      <td>3</td>\n",
              "      <td>1</td>\n",
              "      <td>1</td>\n",
              "      <td>0</td>\n",
              "      <td>1</td>\n",
              "      <td>0</td>\n",
              "      <td>2</td>\n",
              "      <td>0</td>\n",
              "      <td>0</td>\n",
              "      <td>-3.0</td>\n",
              "      <td>0.000</td>\n",
              "      <td>0.352</td>\n",
              "      <td>0.648</td>\n",
              "      <td>133.2100</td>\n",
              "    </tr>\n",
              "    <tr>\n",
              "      <th>1893</th>\n",
              "      <td>1893</td>\n",
              "      <td>i wa diagnosed with depression and anxiety a f...</td>\n",
              "      <td>0</td>\n",
              "      <td>2</td>\n",
              "      <td>1</td>\n",
              "      <td>1</td>\n",
              "      <td>0</td>\n",
              "      <td>1</td>\n",
              "      <td>0</td>\n",
              "      <td>2</td>\n",
              "      <td>0</td>\n",
              "      <td>0</td>\n",
              "      <td>-2.0</td>\n",
              "      <td>0.000</td>\n",
              "      <td>0.205</td>\n",
              "      <td>0.795</td>\n",
              "      <td>128.8425</td>\n",
              "    </tr>\n",
              "    <tr>\n",
              "      <th>1894</th>\n",
              "      <td>1894</td>\n",
              "      <td>although mental healthawareness month ha come ...</td>\n",
              "      <td>1</td>\n",
              "      <td>0</td>\n",
              "      <td>0</td>\n",
              "      <td>0</td>\n",
              "      <td>0</td>\n",
              "      <td>0</td>\n",
              "      <td>0</td>\n",
              "      <td>0</td>\n",
              "      <td>0</td>\n",
              "      <td>1</td>\n",
              "      <td>4.0</td>\n",
              "      <td>0.200</td>\n",
              "      <td>0.000</td>\n",
              "      <td>0.800</td>\n",
              "      <td>9.3400</td>\n",
              "    </tr>\n",
              "    <tr>\n",
              "      <th>1895</th>\n",
              "      <td>1895</td>\n",
              "      <td>women are almost twice a likely a men to be di...</td>\n",
              "      <td>0</td>\n",
              "      <td>1</td>\n",
              "      <td>0</td>\n",
              "      <td>0</td>\n",
              "      <td>0</td>\n",
              "      <td>0</td>\n",
              "      <td>0</td>\n",
              "      <td>1</td>\n",
              "      <td>0</td>\n",
              "      <td>0</td>\n",
              "      <td>0.0</td>\n",
              "      <td>0.000</td>\n",
              "      <td>0.150</td>\n",
              "      <td>0.850</td>\n",
              "      <td>47.1550</td>\n",
              "    </tr>\n",
              "    <tr>\n",
              "      <th>1896</th>\n",
              "      <td>1896</td>\n",
              "      <td>they dont diagnose bpd under 18  so my mom had...</td>\n",
              "      <td>0</td>\n",
              "      <td>1</td>\n",
              "      <td>0</td>\n",
              "      <td>0</td>\n",
              "      <td>0</td>\n",
              "      <td>1</td>\n",
              "      <td>0</td>\n",
              "      <td>0</td>\n",
              "      <td>0</td>\n",
              "      <td>0</td>\n",
              "      <td>-2.0</td>\n",
              "      <td>0.000</td>\n",
              "      <td>0.137</td>\n",
              "      <td>0.863</td>\n",
              "      <td>15.1225</td>\n",
              "    </tr>\n",
              "    <tr>\n",
              "      <th>1897</th>\n",
              "      <td>1897</td>\n",
              "      <td>so i have did  tourettes syndrome  ocd  adhd  ...</td>\n",
              "      <td>0</td>\n",
              "      <td>1</td>\n",
              "      <td>0</td>\n",
              "      <td>0</td>\n",
              "      <td>0</td>\n",
              "      <td>0</td>\n",
              "      <td>0</td>\n",
              "      <td>1</td>\n",
              "      <td>0</td>\n",
              "      <td>0</td>\n",
              "      <td>0.0</td>\n",
              "      <td>0.000</td>\n",
              "      <td>0.179</td>\n",
              "      <td>0.821</td>\n",
              "      <td>47.2275</td>\n",
              "    </tr>\n",
              "    <tr>\n",
              "      <th>1898</th>\n",
              "      <td>1898</td>\n",
              "      <td>i lost 3 family member from suicide n the fact...</td>\n",
              "      <td>0</td>\n",
              "      <td>6</td>\n",
              "      <td>4</td>\n",
              "      <td>3</td>\n",
              "      <td>0</td>\n",
              "      <td>4</td>\n",
              "      <td>0</td>\n",
              "      <td>5</td>\n",
              "      <td>1</td>\n",
              "      <td>1</td>\n",
              "      <td>-11.0</td>\n",
              "      <td>0.000</td>\n",
              "      <td>0.525</td>\n",
              "      <td>0.475</td>\n",
              "      <td>376.2925</td>\n",
              "    </tr>\n",
              "    <tr>\n",
              "      <th>1899</th>\n",
              "      <td>1899</td>\n",
              "      <td>when you get diagnosed with severe depression ...</td>\n",
              "      <td>0</td>\n",
              "      <td>1</td>\n",
              "      <td>0</td>\n",
              "      <td>0</td>\n",
              "      <td>0</td>\n",
              "      <td>0</td>\n",
              "      <td>0</td>\n",
              "      <td>1</td>\n",
              "      <td>0</td>\n",
              "      <td>1</td>\n",
              "      <td>-2.0</td>\n",
              "      <td>0.000</td>\n",
              "      <td>0.489</td>\n",
              "      <td>0.511</td>\n",
              "      <td>48.1425</td>\n",
              "    </tr>\n",
              "    <tr>\n",
              "      <th>1900</th>\n",
              "      <td>1900</td>\n",
              "      <td>all addictive behaviour have their root in tra...</td>\n",
              "      <td>2</td>\n",
              "      <td>0</td>\n",
              "      <td>0</td>\n",
              "      <td>0</td>\n",
              "      <td>0</td>\n",
              "      <td>0</td>\n",
              "      <td>1</td>\n",
              "      <td>0</td>\n",
              "      <td>0</td>\n",
              "      <td>1</td>\n",
              "      <td>1.0</td>\n",
              "      <td>0.164</td>\n",
              "      <td>0.124</td>\n",
              "      <td>0.711</td>\n",
              "      <td>8.4115</td>\n",
              "    </tr>\n",
              "    <tr>\n",
              "      <th>1901</th>\n",
              "      <td>1901</td>\n",
              "      <td>thanks to decade of being diagnosed with depre...</td>\n",
              "      <td>0</td>\n",
              "      <td>2</td>\n",
              "      <td>1</td>\n",
              "      <td>1</td>\n",
              "      <td>0</td>\n",
              "      <td>1</td>\n",
              "      <td>0</td>\n",
              "      <td>2</td>\n",
              "      <td>1</td>\n",
              "      <td>1</td>\n",
              "      <td>0.0</td>\n",
              "      <td>0.119</td>\n",
              "      <td>0.222</td>\n",
              "      <td>0.658</td>\n",
              "      <td>136.4140</td>\n",
              "    </tr>\n",
              "    <tr>\n",
              "      <th>1902</th>\n",
              "      <td>1902</td>\n",
              "      <td>interesting to note that the contagion effect ...</td>\n",
              "      <td>1</td>\n",
              "      <td>4</td>\n",
              "      <td>1</td>\n",
              "      <td>2</td>\n",
              "      <td>1</td>\n",
              "      <td>3</td>\n",
              "      <td>0</td>\n",
              "      <td>2</td>\n",
              "      <td>0</td>\n",
              "      <td>0</td>\n",
              "      <td>-4.0</td>\n",
              "      <td>0.118</td>\n",
              "      <td>0.487</td>\n",
              "      <td>0.395</td>\n",
              "      <td>177.6405</td>\n",
              "    </tr>\n",
              "    <tr>\n",
              "      <th>1903</th>\n",
              "      <td>1903</td>\n",
              "      <td>dec 2020 i got diagnosed with dysthmia aka per...</td>\n",
              "      <td>1</td>\n",
              "      <td>3</td>\n",
              "      <td>0</td>\n",
              "      <td>0</td>\n",
              "      <td>0</td>\n",
              "      <td>1</td>\n",
              "      <td>0</td>\n",
              "      <td>2</td>\n",
              "      <td>0</td>\n",
              "      <td>0</td>\n",
              "      <td>-2.0</td>\n",
              "      <td>0.000</td>\n",
              "      <td>0.261</td>\n",
              "      <td>0.739</td>\n",
              "      <td>104.9925</td>\n",
              "    </tr>\n",
              "  </tbody>\n",
              "</table>\n",
              "</div>"
            ],
            "text/plain": [
              "      Unnamed: 0  ... depression_score\n",
              "1884        1884  ...         128.8625\n",
              "1885        1885  ...         157.1225\n",
              "1886        1886  ...         211.4790\n",
              "1887        1887  ...          47.6450\n",
              "1888        1888  ...         230.8100\n",
              "1889        1889  ...         129.8520\n",
              "1890        1890  ...          93.2320\n",
              "1891        1891  ...          47.2500\n",
              "1892        1892  ...         133.2100\n",
              "1893        1893  ...         128.8425\n",
              "1894        1894  ...           9.3400\n",
              "1895        1895  ...          47.1550\n",
              "1896        1896  ...          15.1225\n",
              "1897        1897  ...          47.2275\n",
              "1898        1898  ...         376.2925\n",
              "1899        1899  ...          48.1425\n",
              "1900        1900  ...           8.4115\n",
              "1901        1901  ...         136.4140\n",
              "1902        1902  ...         177.6405\n",
              "1903        1903  ...         104.9925\n",
              "\n",
              "[20 rows x 17 columns]"
            ]
          },
          "metadata": {
            "tags": []
          },
          "execution_count": 6
        }
      ]
    },
    {
      "cell_type": "code",
      "metadata": {
        "colab": {
          "base_uri": "https://localhost:8080/"
        },
        "id": "Kmu8PdjfOB1q",
        "outputId": "42e0819a-02b2-4354-f953-2c8a6fbe0046"
      },
      "source": [
        "dataframe['depression_score'].describe()"
      ],
      "execution_count": null,
      "outputs": [
        {
          "output_type": "execute_result",
          "data": {
            "text/plain": [
              "count    1904.000000\n",
              "mean       63.106308\n",
              "std        55.414191\n",
              "min        -1.132500\n",
              "25%        24.183125\n",
              "50%        47.982500\n",
              "75%        88.028375\n",
              "max       376.292500\n",
              "Name: depression_score, dtype: float64"
            ]
          },
          "metadata": {
            "tags": []
          },
          "execution_count": 9
        }
      ]
    },
    {
      "cell_type": "markdown",
      "metadata": {
        "id": "u9KYYotbMQ_t"
      },
      "source": [
        "# Text Preprocessing "
      ]
    },
    {
      "cell_type": "code",
      "metadata": {
        "id": "PTFtM_4wT1vi"
      },
      "source": [
        "#lowercasing and url,punctuations and numbers removal,\n",
        "def Lowercasing(words):\n",
        "    string=re.sub(\"([^0-9A-Za-z \\t])|(\\w+:\\/\\/\\S+)\", \"\",str(words))\n",
        "    word=string.lower()\n",
        "    return word\n",
        "\n",
        "#Tokenization and (@)handle extraction\n",
        "def Tokenization(tweet):\n",
        "    tokenizer=TweetTokenizer(strip_handles=True)\n",
        "    tokens = tokenizer.tokenize(tweet)\n",
        "    return tokens\n",
        "\n",
        "#punctuations\n",
        "def Punctuation_removal(tokens):\n",
        "    words=[word for word in tokens if word.isalnum()]\n",
        "    return words\n",
        "\n",
        "#stemming\n",
        "def stemming(text):\n",
        "    stemmer=PorterStemmer()\n",
        "    for word in text:\n",
        "        stemmed_words=stemmer.stem(word)\n",
        "        return stemmed_words\n",
        "\n",
        "#stopword_removal\n",
        "def remove_stopwords(words):\n",
        "    stop_words=set(stopwords.words(\"english\")) \n",
        "    result=[word for word in words if word not in stop_words ]\n",
        "    return result\n",
        "\n",
        "\n",
        "#lemmatization\n",
        "def lemmatization(text):\n",
        "    lemmatizer=WordNetLemmatizer()\n",
        "    lemmatized_phrase=[]\n",
        "    for word in text:\n",
        "        lemmatized_word=lemmatizer.lemmatize(word)\n",
        "        lemmatized_phrase.append(lemmatized_word)\n",
        "    return lemmatized_phrase\n",
        " "
      ],
      "execution_count": null,
      "outputs": []
    },
    {
      "cell_type": "code",
      "metadata": {
        "id": "nhIHXQmbzZF4"
      },
      "source": [
        "#code for cleaning a simple tweet\n",
        "def clean_tweet(tweet):\n",
        "    tweet_tokens=Tokenization(tweet)\n",
        "    lemmatized_tweet=lemmatization(tweet_tokens)#lemmatization\n",
        "    lowercased_string=Lowercasing(lemmatized_tweet)#lowercasing and removing numbers\n",
        "    return lowercased_string\n"
      ],
      "execution_count": null,
      "outputs": []
    },
    {
      "cell_type": "markdown",
      "metadata": {
        "id": "6xeOh9nt2VeM"
      },
      "source": [
        "Tokenizing the tweet"
      ]
    },
    {
      "cell_type": "code",
      "metadata": {
        "colab": {
          "base_uri": "https://localhost:8080/"
        },
        "id": "DMP7clmMgm6t",
        "outputId": "dd978539-3149-410a-e227-133cf1a5544e"
      },
      "source": [
        "tweets=data['tweets'].values.tolist()\n",
        "len(tweets)"
      ],
      "execution_count": null,
      "outputs": [
        {
          "output_type": "execute_result",
          "data": {
            "text/plain": [
              "1904"
            ]
          },
          "metadata": {
            "tags": []
          },
          "execution_count": 8
        }
      ]
    },
    {
      "cell_type": "code",
      "metadata": {
        "id": "pOc3IFfojdT8"
      },
      "source": [
        "tweet_list=[]\n",
        "for tweet in tweets:\n",
        "    tokens =  word_tokenize(tweet)\n",
        "    #stop_words=set(stopwords.words(\"english\")) \n",
        "    #word=[word for word in tokens if word not in stop_words]\n",
        "    tweet_list.append(tokens)\n",
        "\n",
        "    "
      ],
      "execution_count": null,
      "outputs": []
    },
    {
      "cell_type": "markdown",
      "metadata": {
        "id": "p1ZPogaFMbRx"
      },
      "source": [
        "# Word Embedding"
      ]
    },
    {
      "cell_type": "markdown",
      "metadata": {
        "id": "7Xs9p4Xe2g1m"
      },
      "source": [
        "Training the word2vec Model"
      ]
    },
    {
      "cell_type": "code",
      "metadata": {
        "id": "B24DKlqYgpp4",
        "colab": {
          "base_uri": "https://localhost:8080/"
        },
        "outputId": "77c09866-39e5-4fb7-9b4f-6767c21afc73"
      },
      "source": [
        "EMBEDDING_DIM=100\n",
        "model = gensim.models.Word2Vec(sentences=tweet_list,size=EMBEDDING_DIM,window=5,workers=4,min_count=1)\n",
        "words = list(model.wv.vocab)\n",
        "print('Vocabulary size: %d',len(words))\n",
        "print(words)"
      ],
      "execution_count": null,
      "outputs": [
        {
          "output_type": "stream",
          "text": [
            "Vocabulary size: %d 4381\n",
            "['i', 'love', 'my', 'family', 'life', 'happiness', 'homosexual', 'will', 'not', 'inherit', 'the', 'kingdom', 'of', 'god', 'right', 'so', 'guess', 'your', 'homphobic', 'mom', 'we', 'r', 'here', 'to', 'shower', 'our', 'unconditional', 'n', 'alwys', 'felt', 'they', 'both', 'a', 'wanted', 'you', 'are', 'and', 'always', 'be', 'for', 'ever', 'bts', 'praying', 'almighty', 'with', 'good', 'health', 'bountiful', 'patience', 'positivity', 'peace', 'fa', 'worked', 'hard', 'improve', 'on', 'or', 'correct', 'entirely', 'promote', 'self', 'value', 'integrity', 'work', 'persi', 'true', 'me', 'make', 'it', 'happen', 'heart', 'get', 'into', 'place', 'done', 'in', 'future', 'want', 'queen', 'who', 'isn', 't', 'trying', 'live', 'her', 'others', 'market', 'herself', 'like', 'she', 's', 'single', 'time', 'back', 'again', 'together', 'celebrate', 'while', 'serve', 'thing', 'know', 'where', 'do', 'believe', 'eye', 'especially', 'when', 'entertaining', 'those', 'take', 'care', 'truly', 'feel', 'happin', 'wish', 'hope', 'everlasting', 'joy', 'thank', 'being', 'best', 'friend', 'may', 'b', '1111', 'loved', 'confidence', 'motivation', 'money', 'equality', 'able', 'no', 'the5in5', 'tomorrow', 'have', 'been', 'feeling', 'little', 'under', 'weather', 'today', 'getting', 'some', 'rest', 'thanks', 'advance', 'f', 'remove', 'three', '2friends', 'school', 'mate', 'step', 'up', 'girldad', 'stepping', 'prek', '4', 'morning', 'maggie', 'wishing', 'all', 'wonderful', 'day', 'chilly', 'cooler', 'then', 'he', 'what', 'is', 'most', 'important', 'defines', 'quality', 'humans', 'career', 'sha', 'by', 'engaging', 'activity', 'from', 'these', '3', 'categoriesor', 'combine', 'category', 'youll', 'l', 'never', 'let', 'anyone', 'come', 'between', 'bag', 'respect', 'dignity', 'education', 'overall', 're', 'an', 'adult', 'can', 'choose', 'whoever', 'help', 'att', 'am', 'sorry', 'this', 'happened', 'but', 'happy', 'cut', 'toxic', 'member', 'off', 'living', 'inks', 'ha', 'far', 'grateful', 'part', 'many', 'month', 'year', 'cooking', 'fun', 'u', 'share', 'gluten', 'free', 'recipe', 'too', 'celi', 'ppl', 'ada', 'now', 'first', 'shes', 'chasing', 'man', 'own', 'bc', 'belief', 'shed', 'openminded', 'people', 'think', 'that', 'way', 'don', 'their', 'grandkid', 'funny', 'how', 'hide', 'identity', 'blurt', 'out', 'hateful', 'message', 'well', 'atleast', 'valentine', 'c', 'dont', 'situation', 'popped', 'feed', 'just', 'wan', 'na', 'say', 'youre', 'beauti', 'val', 'scott', 'found', 'at', 'sight', 'his', 'meddling', 'them', 'keep', 'happines', 'shane', 'wa', 'noisy', 'heir', 'before', 'sport', 'referee', 'came', 'surprising', 'tale', 'about', 'perfect', 'allan', 'tish', 'over', 'moon', 'engagement', 'next', 'chapter', 'fi', 'bos', 'passionate', 'teacher', 'treated', 'extension', 'very', 'large', 'happiest', 'birthday', 'nanay', 'josefina', 'cuevaspanganiban', 'really', 'having', '2', 'skittles', 'awwwwww', 'pawsome', 'furrends', 'send', 'lot', 'purrs', 'praye', '9', 'close', 'second', 'pet', 'im', 'point', 'frie', 'remember', 'were', 'excited', 'go', 'fast', 'yesterday', 'h', 'stolitz', 'much', 'unwarranted', 'hated', 'stolas', 'should', 'leave', 'marriage', 'form', 'healthy', 'another', 'fake', 'account', 'dedicated', 'ruin', 'yet', 'claim', 'ob', 'home', 'alone', 'cry', 'tear', 'after', 'kind', 'word', 'gift', 'card', 'hug', 'company', 'made', 'even', 'gone', 'success', 'there', 'which', 'exceedingly', 'boring', 'describe', 'appreciate', 'amazing', 'twitter', 'wholesome', 'v', 'one', 'hold', 'chris', 'regular', 'scottish', 'until', 'cleaner', 'suggest', 'if', 'classless', 'society', 'as', 'figure', 'm', 'blessed', 'humility', 'weal', 'bhai', 'give', 'ur', 'bcs', 'li', '8th', 'sweet', 'abigail', 'brings', 'nice', 'hear', 'great', 'safe', 'greece', 'full', 'laughter', 'tho', 'equate', 'see', 'nigga', 'treat', 'gave', 'freedom', 'someone', 'knew', 'w', 'bless', 'him', 'thier', 'mental', 'rashamians', 'dailydevotions', 'through', 'christ', 'june', '22', 'joyfully', 'wife', 'whom', 'thou', 'lovest', 'al', 'wrenching', 'story', 'thread', 'reiterate', 'worthy', 'proud', 'brian', 'trust', 'ge', 'sum', '1', 'rubbish', 'hate', 'bigger', 'thn', 'grandchildrens', 'support', 'such', 'witch', 'boy', 'girl', 'sirius', 'bus', 'find', 'furever', 'loving', 'crazy', 'pentecostal', 'religious', 'nor', 'desire', 'inflict', 'view', 'move', 'learn', 'interesting', 'chile', 'nature', 'hometown', 'smile', 'laugh', 'because', 'extreme', 'plan', 'fuck', 'em', 'tough', 'cutting', 'something', 'need', 'ahem', 'happiosity', 'natal', 'glad', 'alhamdullilah', 'every', 'wake', 'financial', 'stability', 'cruel', 'world', 'ready', 'queer', 'person', 'yourself', 'page', 'left', 'question', 'mostly', '1051', 'anne', 'does', 'mean', 'communicate', 'beca', 'delete', 'permanently', '5', '6', 'rays', 'player', 'molded', 'encouraged', 'themselves', 'doing', 'dear', 'bruce', 'surrounded', 'middle', 'desert', 'nnnnnn', 'instagood', 'pick', 'gathering', 'reunion', 'might', 'coming', 'soon', 'spending', 'more', 'incredibly', 'sad', 'bring', 'daughter', 'would', 'actual', 'hour', 'mine', 'shove', '10', 'ac', 'cost', 'workweeks', 'boost', 'matter', 'enjoy', 'granted', 'continue', 'silline', 'strongly', 'disagree', 'sidneys', 'choice', 'cold', 'put', 'hap', 'thought', 'going', 'diversity', 'nasty', 'continent', 'medi', 'birthdays', 'happ', 'financially', 'stable', 'won', 'continued', 'growth', 'mon', 'united', 'strong', 'disheartened', 'only', 'sister', 'filled', 'joyful', 'vibration', 'forever', 'indebted', 'beautiful', 'sending', 'lots', 'ashaangi', 'honesty', 'faithfulness', 'romantic', 'romance', 'fanfam', 'sorrow', 'eachother', 'wonder', 'y', 'emotional', 'rn', 'fam', 'lets', 'spread', 'cra', 'hoping', 'bestie', 'visiting', 'homeland', 'minimal', 'stress', 'maximum', 'kid', 'deserves', 'everything', 'positive', 'u0001f90d', 'sg', 'dil', 'ki', 'dhadkan', 'devyaan', 'earth', 'exactly', 'already', 'taken', 'sunshine', 'edinburgh', 'scotland', 'u000e0067', 'u000e0062', 'u000e0073', 'u000e0063', 'u000e0074', 'u000e007f', 'sir', 'gm', 'allison', 'spiritual', 'jesus', 'reign', 'supreme', 'different', 'domestic', 'soft', 'deserve', 've', 'had', 'winning', 'moment', 'attain', 'level', 'achieving', 'th', 'mirror', 'bad', 'worst', 'khushishah', 'khushi', 'fashion', 'style', 'thalapathy', 'vijay', 'inspired', 'cheered', 'directed', 'heres', 'bright', 'early', 'everyone', 'meaning', 'existence', 'happinesswe', 'solution', 'heading', 'baby', 'sendi', 'truck', 'drivers', 'detroit', 'same', 'meet', 'swastikashines', 'announce', '200', '000', 'clientele', 'expa', 'crumbling', 'down', 'tell', 'exp', 'japanese', 'turkish', 'friendship', 'throughout', 'history', 'congrats', 'blake', 'gwen', 'rarely', 'talked', 'said', 'each', 'other', 'friends', 'lo', 'week', 'turn', 'fabulous', 'architect', 'nicola', 'varkevisser', 'congratulations', 'oneye', 'guy', 'big', 'bond', 'asian', 'totally', 'relate', 'stacking', 'bread', 'taking', 'keeping', 'myself', 'unlocked', 'new', 'nothing', 'count', 'age', 'john', 'lennon', 'ecobud', 'happybirthdaykavin', 'tuesday', 'happytuesday', 'selflove', 'healing', 'positiveenergy', 'quotes', 'two', 'private', 'wanting', 'ms', 'gadot', 'actress', 'demon', 'deserved', 'soul', 'somewhere', 'amaz', 'eugenie', 'theres', 'ton', 'sure', 'also', 'genuinely', 'reciprocated', 'thats', 'why', 'stay', 'long', 'neenga', 'ahh', 'e', 'pill', 'source', 'strength', 'comfort', 'worth', 'yes', 'sideways', 'cause', 'double', 'staying', 'balance', 'key', 'its', 'married', 'couple', 'relationship', 'talk', 'thodu', 'needa', 'etc', 'sugar', 'coated', 'unconventional', 'sacrifice', 'kargil', 'hero', 'nation', 'above', 'father', 'didn', 'honestly', 'idk', 'mad', 'negative', 'towards', 'happi', 'precious', 'parent', 'meditate', 'read', 'book', 'solve', 'problem', 'thy', 'neighbor', 'speak', 'famil', 'thanx', 'fact', 'ancient', 'modern', 'body', 'futuristic', 'request', 'fridaylivestream', 'summer', 'arashi', 'music', 'video', 'played', 'fls', 'onemonth', 'grow', 'enti', 'succes', 'protection', 'blessing', 'tc', 'charmant', 'didi', 'prince', 'pray', 'sm', 'ugh', 'virtual', 'sharing', 'pradeep', 'ji', 'lord', 'hanumanji', 'miss', 'mahi', 'nanakdev', 'madhu', 'dr', 'arohi', 'sunanda', 'goodnight', 'maga', 'patriot', 'bidencheated', 'abortionismurder', 'americaneedsjesus', 'prayforamerica', 'joyous', 'chiandana', '100', 'pandit', 'sapna', 'pe', 'karuna', 'chowdhary', 'sahab', 'upadhyay', 'parul', 'didnt', 'irritate', 'taehyung', 'contrary', 'content', 'happybirthdaythalapathy', 'happiee', 'wisdom', 'doodle', 'nnnn', 'mentalhealthawareness', 'community', 'prosperity', 'camera', 'focused', 'longer', 'than', 'usual', 'ahir', 'revealed', 'shakhi', 'dard', 'picture', 'edited', 'filtered', 'memo', 'children', 'purr', 'louder', 'still', 'once', 'bachelor', 'mayema', 'q', 'da', 'greatest', '1aimat3', '1aim', '1aimmedia', '1aimyouthchurch', 'wizards', 'brooklyn', 'surfer', 'grumpy', 'priceless', 'collection', 'curve', 'set', 'everythin', 'loss', 'toxicity', 'aside', 'vj', 'ai', 'myx', 'welcome', 'somehow', 'force', 'head', 'monday', 'kids', 'photooftheday', 'cute', 'momlife', 'picoftheday', 'mewlions', 'complete', 'princess', 'bringing', 'jeddawis', 'relative', 'makkah', 'eid', 'swear', 'd', 'general', 'infant', 'newborn', 'revived', 'dimension', 'mars', 'alien', 'war', 'regardl', 'eggcellent', 'auntielife', 'hatchingplans', 'dinomite', 'rogerwilliamszoo', 'rhodeisland', 'add', 'appreciated', 'prayer', 'son', 'papam', 'lend', 'helping', 'hand', 'toda', 'saved', 'patch', 'usually', 'start', 'heard', 'song', 'immediately', 'remind', 'br', 'regardless', 'any', 'recent', 'drama', 'look', 'blocking', 'biological', 'som', 'absolutely', 'striving', 'yagi', 'fathers', 'northern', 'manhattan', 'lady', 'struggling', 'driver', 'seoul', 'course', 'old', 'changed', 'mother', 'sibling', 'across', 'kindness', 'becau', 'bri', 'upbeat', 'super', 'fan', 'occasion', 'visit', 'immerse', 'ourselves', 'baba', 'whose', 'manifest', 'doe', 'break', 'gon', 'marry', 'zemo', 'adopting', 'though', 'proper', 'words', 'brilliant', 'child', 'follow', 'minute', 'ish', 'inspirational', 'tutorial', 'glow', '7', 'inspiration', 'demi', 'anna', 'real', 'duaas', 'allah', 'swt', 'experience', 'deser', 'wedding', 'season', 'whi', 'leimert', 'park', 'capturing', 'celebration', 'juneteenth', 'spirit', 'texture', 'flavor', 'oh', 'nnnnnnnnnnnnnnn', 'cider', 'hardcider', 'centralcoast', 'slo', 'summervibes', 'name', 'tag', 'moot', 'travel', 'sea', 'castro', 'trusting', 'team', 'fellow', 'lgbtq', 'past', 'emotionally', 'unattached', 'ease', 'bec', 'futa', 'vitu', 'vitatu', 'kwenye', 'maisha', 'yako', 'afternoon', 'william', '100k', 'beaming', 'reach', 'height', 'built', 'please', 'dog', 'gaza', 'innocent', 'ch', 'rich', 'hmm', 'weird', 'lovely', 'moo', 'songs', 'bridge', 'maybe', 'hopeless', 'offer', 'deepest', 'heartfelt', 'condolence', 'familys', 'senseless', 'vi', 'racism', 'huh', 'idgaf', 'could', 'dad', 'campartner', 'dallas', 'texas', 'dfw', 'fathersday', 'dadday', 'charity', 'woul', 'lotto', 'buy', 'wi', 'shauryaauranohikikahani', 'halfday', 'kelsang', 'khacho', 'understand', 'tantra', 'quickly', 'accomplish', 'amen', 'ahead', 'anniversary', '12', 'years', '1st', 'grew', 'ultimately', 'congratulation', 'appu', '1m', 'insta', 'familymany', 'yo', 'ga', 'murah', 'rezeki', 'selaluuu', 'training', 'tool', 'within', 'plea', 'separation', 'act', 'itself', 'despite', 'possibility', 'seokhyung', 'neikaarapatticurdkurma', 'based', 'expectat', 'easy', 'difficult', 'looking', 'answer', 'chinese', 'thankful', 'womenspodium', 'thankyou', 'gratitude', 'luck', 'ka', 'showered', 'days', 'familylove', '3rd', 'got', 'tagged', 'reason', 'denji', 'cool', 'character', 'literally', 'teen', 'shitty', 'lived', 'lasted', 'weekend', 'pure', 'whole', 'fathersdaygifts', 'happyfathersday', 'fathersday2021', 'fatherson', 'hey', 'trey', 'must', 'awesome', 'huge', 'ape', 'adore', 'highness', 'special', 'shared', 'fri', 'rome', 'pathetic', 'enough', 'camilla', 'social', 'worker', 'turned', 'ups', 'toget', 'hbdthalapathyvijay', 'beyond', 'measure', 'yr', 'sacrificing', 'natural', 'drug', 'date', 'xole', 'irregardless', 'dearest', 'bird', 'flew', 'bogdan', 'check', 'p', 'eople', 'alot', 'period', 'become', 'noah', 'planet', 'leimertpark', 'safety', 'cake', 'cooky', 'cak', 'pyari', 'feri', 'sweetest', 'entertainer', 'interacted', 'le', 'childhood', 'simple', 'things', 'brought', 'us', 'gdafternoon', 'smiling', 'modi', 'poses', 'idea', 'bestfriends', 'gurly', 'girly', 'daddies', 'without', 'end', 'george', 'strait', 'bestow', 'papa', 'wh', 'darlings', 'faith', 'thankfulnees', 'chef', 'gardener', 'dinner', 'party', 'guadalajara', 'dull', 'hip', 'hopper', 'damulag', 'gelatin', 'fit', 'secret', 'lifestay', 'practice', 'yoga', 'safehappy', 'international', 'pain', 'misunderstand', 'ak', 'sk', 'giving', 'cha', 'temporary', 'residence', 'wont', 'attached', 'shivangians', 'extended', 'ours', 'growing', 'stronger', 'whats', 'motivationour', 'nowenjoy', 'show', 'haven', 'energy', 'wrap', 'around', 'making', 'better', '20june2021', 'solstice', '621', '2021', '222', '11', 'powerful', 'portal', 'light', 'infused', 'infinite', 'selfie', 'university', 'dude', 'zerohalliburton', 'zh', 'lifeinpursuit', 'zerocase', 'zhtravelingbag', 'aluminum', 'died', 'grandma', 'kitty', 'ended', 'kill', 'shelter', 'murder', 'senior', 'coperon', 'solid', 'rock', 'human', 'pr', 'papiii', 'teach', 'deal', 'anger', 'effort', 'chen', 'ot9', 'stan', 'gods', 'mighty', 'ayatsuji', 'passion', 'floor', 'sky', 'sun', 'star', 'o', 'ocean', 'nnnnn', 'pacificocean', 'canada', 'vancouver', 'portmoody', 'boss', 'lil', 'wow', 'photo', 'radiates', 'melody', 'sadnes', 'celebrating', 'holiday', 'environment', 'kickoff', 'last', 'high', 'upcoming', 'graduation', 'challenging', 'foolish', 'russ', 'example', 'delicate', 'game', 'impo', 'usain', 'bolt', 'tha', 'bounty', 'beginning', 'blissful', 'neverendings', 'adorable', 'addition', 'gd', 'mrngg', 'power', 'chellamas', 'face', 'digital', 'someday', 'nastasia', 'gurl', 'oncecomesbeforetwice', 'twice', 'happyfathersday2021', 'stresstosuccessformula', 'linkedinfamily', 'hater', 'patty', 'waszak', 'asks', 'musical', 'danced', 'daddy', 'created', 'incredible', 'comfortable', 'exists', 'jeff', 'finally', 'rob', 'fr', 'xicheng', 'entire', 'endless', 'positiv', 'raising', 'u200d', 'knelt', 'eliza', 'frustrated', 'provides', 'atlantic', 'decided', 'raise', 'murdered', 'whately', 'marvin', 'call', 'dedicate', 'sick', 'patien', 'destroy', 'bakers', 'chicago', 'youtuber', 'loud', 'taught', 'empathy', 'smalles', 'news', 'barbara', 'cuddle', 'af', 'kim', 'jongdae', 'judge', 'bricklayer', 'ludicrous', 'featurin', 'michael', 'gorge', 'hunterdcartlidge', 'sydneycartlidge', 'halekulani', 'yours', 'corbett', 'amanda', 'mama', 'lynn', 'room', 'corbetts', 'wid', 'ask', 'anything', 'heal', 'telangana', 'tigeress', 'dynamic', 'energetic', 'visionary', 'leader', 'wallawani', 'top', 'pursuit', 'pay', 'ganna', 'sink', 'supporting', 'atm', 'chosen', 'providing', 'aunty', 'ive', 'receive', 'portrait', 'arbaaz', 'khan', 'paradise', 'shaa', 'j', 'men', 'recogni', 'present', 'handmade', 'art', 'giftideas', 'albert', 'sheriff', 'elton', 'pawsitive', 'santiago', 'black', 'designer', 'flamboyant', 'cornbread', 'table', 'feat', 'douglas', 'haines', 'bob', 'country', 'folk', 'serdar', 'honoring', 'dads', 'victoria', 'okay', 'wala', 'mag', 'papakilig', 'sakin', 'totall', 'shaan', 'sushant', 'donkiss', 'donkissfam', 'donny', 'pangilinan', 'k', 'indeed', 'recreate', 'fantastic', 'rachel', 'painter', 'bartender', 'tur', 'spend', 'build', 'everywhere', 'fans', 'sallu', 'mr', 'president', 'professi', 'replying', 'fo', 'superhero', 'breakfast', 'bed', 'pizza', 'picnic', 'hi', 'amy', 'toge', 'awwww', 'endearingly', 'fatherslove', 'cherishable', 'wouldnt', 'stop', 'started', 'mentioning', 'memory', 'instagram', 'rivera', 'caring', 'naya', 'embodiment', 'paralegals', 'jersey', 'stock', 'investor', 'perplexing', 'depression', 'swing', 'emotion', 'completely', 'muted', 'wang', 'lov', 'vilicious', 'daughterlove', 'daddiesgirl', 'di', 'happine', 'kiddos', 'drink', 'admirable', 'fishing', 'heaven', 'upon', 'rely', 'beth', 'postcard', 'certainly', 'unfor', 'fatherhood', 'net', 'wellbeing', 'sacrific', 'beckys', 'learned', 'wait', 'create', 'playing', 'sims', 'everybody', 'household', 'successful', 'followed', 'retweeted', 'tweets', 'ca', 'cant', 'watch', 'episode', 'express', 'sri', 'gracious', 'presence', 'insp', 'cheer', 'hfd', 'cherish', 'nate', 'quiet', 'vietnamese', 'woman', 'secretary', 'exciting', 'role', 'model', 'appreciation', 'canadian', 'serving', 'seniors', 'superheroes', 'champ', 'fur', 'brother', 'presidents', 'carter', 'clinton', 'bush', 'obama', 'biden', 'pop', 'showing', 'lower', 'boundless', 'fianc', 'omelette', 'holding', 'wound', 'kix', '106', 'masterpiece', 'antoi', 'load', 'lifelong', 'fulltime', 'job', 'headache', 'tochi', 'burst', 'fatherlove', 'hears', 'gentle', 'voice', 'lydia', 'behind', 'leroy', 'christen', 'stroller', 'tehidy', 'wood', 'strangely', 'compelled', 'shoot', 'tree', 'along', 'terlalu', 'memaksa', 'diriku', 'menyibukkan', 'bolotin', 'magnificent', 'enjoying', 'gorgeous', 'grandchil', 'naa', 'alla', 'ya', 'irundhadhe', 'indha', 'reached', 'consistent', 'evidence', 'psy', 'enga', 'amma', 'kuda', 'nalla', 'vechi', 'seyuvange', 'adhuku', 'appa', 'vittu', 'irukamudiyadu', 'understanding', 'omg', 'doesn', 'specialday', 'dodger', 'shawn', 'gre', 'sons', 'daughters', 'underestimate', 'importance', 'given', 'duty', 'seriously', 'luckiest', 'purest', '252', 'hello', 'side', 'wondering', 'spe', 'pretty', 'play', 'maple', 'reinders', 'biggest', 'recogn', 'food', 'prashant', 'fav', 'jammwalions', 'votechriscastillo', 'husband', 'co', 'women', 'protect', 'grand', 'rising', 'owoourworldorder', 'coffee', 'goodmorning', 'coffeeshop', 'hanoi', 'michelle', 'upside', 'truth', 'blessings', 'pra', 'pcfcu', 'weekendvibes', 'foodies', 'restaurant', 'hotsummerdays', 'artemis', 'working', 'tirelessly', 'provide', 'whatever', 'inve', 'teton', 'tetonfamily', 'alike', 'cheers', 'blood', 'appreciates', 'admire', 'nn', 'dadsday', 'dadsdayoff', 'tranquility', 'shout', 'sean', 'shah', 'surprise', 'mor', 'cathyerskine', 'teamlogue', 'arriveathome', 'susansterbinsky', 'sonniamartorana', 'foundation', 'nothi', 'everyday', 'laug', 'lost', 'yrs', 'strict', 'thin', 'heavy', 'celebr', 'jack', 'giles', 'durantastic', 'ipromiseyou', 'wherever', 'legacy', 'highschool', 'used', 'theyre', 'stopping', 'universe', 'shepi', 'twitterverse', 'outside', 'thru', 'since', 'facilitator', '07', 'gaudencio', 'selfless', 'contentment', 'tackle', 'difficulties', 'tim', 'desir', 'accept', 'lucky', 'idiot', 'moron', 'lovable', 'known', 'expressed', 'bcz', 'deserv', 'fortieth', 'yemisi', 'seldom', 'breed', 'overdose', 'praise', 'genuine', 'leadership', 'devotion', 'guide', 'companion', 'gr', 'wasn', 'wouldn', 'honour', 'night', 'track', 'razz', 'carers', 'mum', 'specia', 'unconditionally', 'tireless', 'epitome', 'courage', 'affection', 'luminiser', 'ev', 'isnt', 'dancer', 'singer', 'performer', 'artist', 'hardworking', 'hande', 'jimmy', 'parolis', 'harry', 'dimitri', 'needed', 'compiled', 'alive', 'sunday', 'holy', 'bette', 'serf', 'dy', 'abu', 'highest', 'jannah', 'hea', 'small', 'gesture', 'unsung', 'jays', 'jay', 'enha', 'expect', 'return', 'wishi', 'deep', 'thankyu', '127', 'kyummunity', 'slowly', '333', 'reasons', 'leela', 'orchid', 'greens', 'wishes', 'ver', 'awaits', 'anywhere', 'thangachi', 'youuuu', 'yall', 'hav', 'note', 'forget', 'doesnt', 'creator', 'youtube', 'rahul', 'kanaujia', 'believed', 'saw', 'kindhearted', 'humble', 'internationalfathersday', 'daddysday', 'closeknit', 'city', 'fear', 'unseen', 'unexpressed', 'remains', 'pillar', 'stre', 'ordinary', 'adventurer', 'storyteller', 'fathe', 'luv', 'theirs', 'openly', 'dadlife', 'intending', 'doctor', 'idol', 'unfollow', 'lol', 'll', 'stuff', 'medium', 'whether', 'refreshing', 'captures', 'innocence', 'fatherfigure', 'mentor', 'teerth2work', 'coworking', 'teerth', 'teerthrealties', 'struggle', 'project', 'remain', 'acknowledge', 'ensuring', 'erg', 'commemorates', 'took', 'length', 'trans', 'bestdad', 'solitary', 'mountain', 'aspiring', 'zaddy', 'fucking', 'ooooo', 'frame', 'jagannath', 'ye', 'invest', 'perfe', 'seen', 'sacrificed', 'breath', 'sweat', 'comfo', 'aka', 'often', 'pioneer', 'institute', 'box', 'opportunity', 'priority', 'tears', 'fears', 'necessary', 'away', 'till', 'buster', 'stayed', 'times', 'cheering', 'succeed', 'ty', 'doting', 'number', 'newest', 'uncle', 'robby', 'goi', 'fathering', 'angel', 'winworld', 'realty', 'alwa', 'streng', 'neither', 'anchor', 'sail', 'guiding', 'hardships', 'ambition', 'belonging', 'blog', 'death', 'destiny', 'wear', 'cape', 'reallife', 'inpro', 'nnn', 'inprocorpindia', 'standing', 'weak', '26', 'drive', 'wasnt', 'ago', 'astrologermanishakoushik', 'betaji', 'naimu', 'try', 'simplehabits', 'agree', 'motivate', 'path', 'mew', 'suppasit', 'fireworks', '2m', 'onl', 'childs', 'unmatched', 'tonic', 'happyfathers', 'troubleshooter', 'maheshadvertisinganddesign', 'hundred', 'schoolmaster', 'vardhamanhomesmumbai', 'bombsquaddigitalsolutions', 'catch', 'fall', 'instead', 'brush', 'ag', 'stand', 'interior', 'pharmacist', 'cruise', 'los', 'angeles', 'alwaysthere', 'pillarofstrength', 'mylife', 'thelegend', 'goat', 'tym', 'greater', 'jealous', 'commitment', 'surp', 'exquisite', 'cantonese', 'delicacy', 'hearty', 'western', 'decadent', 'pastry', 'moving', 'forward', 'follower', 'tesorosdelverbo', 'boyfriend', 'bday', 'vibe', 'absolute', 'honor', 'bound', 'rip', 'losing', 'hurt', 'apart', 'sometimes', 'beloved', 'maxx', 'boxer', 'mix', 'goal', 'dream', 'aspiration', 'himself', 'fathersday2021s', 'simply', 'bcuz', 'hs', 'suffering', 'reduction', 'breakdown', 'sex', 'watched', 'rebelabc', 'surge', 'win', 'forgiveness', 'went', 'quirky', 'kaitlyn', 'late', 'host', 'met', 'grace', 'au', 'menye', 'aldersgate', '30th', 'belong', 'did', 'buried', 'celebrated', 'confusio', 'nino', 'retail', 'workers', 'outrageous', 'computer', 'programmer', 'protector', 'provider', 'serenity', 'wea', 'luky', '18th', 'older', 'verappl', 'veracity', 'fidelity', 'accuracy', 'wrong', 'fugazi', 'connection', 'actriv', 'ma', 'bible', 'founders', 'constitution', 'law', 'order', 'champmr', 'extending', 'sorro', 'rosie', 'su', 'immense', 'tribe', 'flamemates', '72', 'flame', 'mates', 'praising', 'thanking', 'emanates', 'ari', 'write', 'heroes', 'strive', 'collective', 'uploads', 'abc', 'lowkey', 'devastating', 'rejoice', 'settle', 'harm', 'giacomo', 'imagine', 'canine', 'during', 'fandom', 'beaut', '16yo', 'autistic', 'nonverbal', 'ipad', 'proloquo', 'fame', 'state', 'caesar', 'madly', 'gay', 'influence', 'judges', 'york', 'paleonthologist', 'moist', 'cat', 'pets', 'considered', 'ho', 'bollywoodflashback', 'sitara', 'evening', 'smil', 'danny', 'loose', 'weight', 'eventually', 'broug', 'happybirthdayashubhaiya', 'ashu', 'prosper', 'piece', 'alarm', 'google', '156', 'realized', 'weve', 'group', 'lem', '5things', 'cuppa', 'vid', 'chat', 'garden', 'lif', 'dogs', 'loyal', 'shine', 'sunrise', 'mtvlaglobalgolden', 'keerthysuresh', 'poetry', 'currently', '8', 'lunch', 'alessandro', 'elena', 'ourboyandgirl', 'peo', 'variety', 'personal', 'opinion', 'valuable', 'jimin', 'jungkook', 'preciou', '13', 'hurting', 'superheros', 'travelexploria', 'weekends', 'mazel', 'tov', 'coach', 'bride', 'hugs', 'mourn', 'pal', 'daisy', 'la', 'abba', 'although', 'separated', 'lexi', 'journey', 'triumph', 'spreading', 'hype', 'etika', 'beautif', '60', 'terribly', 'painful', 'loyalty', 'security', 'chefs', 'magazine', 'editor', 'nuestlove', 'coolest', 'princewilliam', 'protects', 'putting', 'reading', 'tweet', 'bubbly', 'swell', 'mindset', 'maturity', 'parade', 'drown', 'sadness', 'goin', 'sour', 'straying', 'ending', 'kyle', 'echarri', '18thbdaysalubong', 'landon', 'paralegal', 'san', 'francisco', 'hairdresser', 'change', 'glorious', 'offline', 'thinking', 'inspires', 'carefree', 'happily', 'ian', 'bb', 'astro', 'honey', 'unlived', 'tragic', 'sound', 'short', 'iam', 'upliftworld', 'wild', '50th', 'greatful', 'hyukjae', 'experiencing', 'moms', 'pallavi', 'raghav', 'else', 'worlds', 'tie', 'effortlessly', 'solo', 'shipper', 'madiselgroup', 'madiselcoaching', 'lifecoach', 'quote', 'georgesand', 'grant', 'righteous', 'offspring', 'extremely', 'talented', 'gene', 'junior', 'girls', 'boys', 'sidhearts', 'joined', 'twit', 'fourth', 'layer', 'religion', 'universal', 'infratech', 'goodness', 'donal', 'grey', 'hair', 'trio', 'btss', 'makane', 'line', 'personally', 'mrg', 'b4', 'bored', 'serials', 'entertainment', 'provided', 'riansh', 'rrahel', 'ridhbir', 'vangr', 'mac', 'messy', 'lie', 'trauma', 'eimear', 'humour', 'nurses', 'athens', 'telemarketer', 'athletic', 'seeing', 'soooooo', 'siddi', 'lifes', 'seem', 'excitement', 'rose', 'mustread', '0', 'ah', 'glowing', 'setting', 'saturday', 'lekker', 'mnchwaah', 'reality', 'mako', 'ayaka', 'rio', 'miihi', 'riku', 'nina', 'maya', 'mayuka', 'rima', 'meant', 'inspirationalquotes', 'beyourself', 'partner', 'bf', 'counselor', 'hubby', 'providin', 'heartwarming', 'endearing', 'reallifehero', 'via', 'desi', 'tracks', 'volume', 'cover', 'flowers', 'evil', 'mangaka', 'student', 'seiich', 'bro', 'giggle', 'selfcare', 'loveyourself', 'kodrea', 'starmagicblackpenday', 'mutuals', 'recommended', 'bimbo', 'mature', 'finding', 'toughest', 'somone', 'youu', 'ill', 'dudoy', 'maligayangkaarawan', 'happybirthday', 'goodvibes', 'quezon', 'phi', 'couldnt', 'snuggle', 'signif', '230', 'stage', 'agai', 'mytechie', 'royal', 'saving', 'knowing', 'tattoo', '8851', 'diego', 'ross', 'emily', 'possession', 'profoundness', 'com', 'schedule', 'ryusei', 'kainuma', 'bbzfamily', 'friendships', 'covid', 'allha', 'ldh', '22nd', 'succe', 'mi', 'enj', 'cous', 'challenge', 'ace', 'gotchu', 'cst', 'spark', 'broke', 'shall', 'beach', 'paul', 'mccartney', 'cody', 'brandi', 'theyll', 'squeeze', 'tight', 'sandy', 'mezzauntie', 'adn', 'trending', 'pair', 'shopping', 'laughte', 'promise', 'obtain', 'satisfy', 'wit', 'searching', 'mavi', 'reconciled', 'expand', 'individual', 'insurance', 'singlemom', 'jenny', 'turne', 'list', 'adoration', 'kurt', 'kobain', 'heath', 'beautifully', 'written', 'novel', 'grab', 'copy', 'rewrite', 'sta', 'capitalism', 'suck', 'bit', 'production', 'die', 'concept', 'explain', 'bab', 'terrible', 'bearing', 'scar', 'automatically', 'disqualify', 'fut', 'destined', 'depressed', 'poor', 'giant', 'sucess', 'ameen', 'ssrians', 'ssr', '79th', 'pic', 'expected', 'id', 'happier', 'therapy', 'therapist', 'asshole', 'admit', 'baji', 'ok', '22yrs', 'classic', 'hddcs', 'wau', 'japan', 'justin', 'deb', 'barlow', 'detailxperts', 'grade', 'deeply', 'allow', 'mingle', 'issue', 'failure', 'wil', 'chuuya', 'oxy', 'ikon', 'healed', 'edify', 'increase', 'selfworth', 'hint', 'dekhte', 'rahiye', 'janani', 'sirf', 'ishara', 'zindagi', 'nazara', 'pa', 'cinematic', 'perfection', 'culture', 'sho', 'proudly', 'received', 'eve', '34', 'mrsmoke', 'kristi', 'astral', 'wrapping', 'acceptance', 'infatuated', 'fell', 'personali', 'magic', 'marypoppins', 'disneymovies', 'repeated', 'pattern', 'police', 'officers', 'tedious', 'inner', 'nb', 'mewgulf', 'helped', 'realise', 'dem', 'official', 'owner', 'sold', 'u0001f972', 'friday', 'watching', 'hahahaha', 'kaayo', 'akong', 'karun', 'mike', 'breathtaking', 'bookstore', 'managing', 'spent', 'shot', 'drunk', 'transition', 'cade', 'lasting', 'falling', 'rea', 'shanghai', 'rhiannon', 'gallery', 'wished', 'goa', 'smell', 'fathersdayatgardencity', 'jungle', 'actually', 'france', 'alana', 'ta', 'statement', 'fulfillment', 'exols', 'kaye', 'strange', 'doubt', 'managed', 'achieve', 'white', 'assalam', 'alaekum', 'frown', 'weakness', 'anxious', 'purple', 'swept', 'foot', 'equal', '50', 'bravest', 'benevolence', 'becomes', 'beast', 'baddest', 'mystery', 'magical', 'futur', 'halala', 'culxurezw', 'poet', 'musician', 'creative', 'entrepreneur', 'bir', 'looked', 'earnest', 'lip', 'rad', 'consist', 'cherishing', 'thankyoudad', '71st', 'nay', 'chee', 'jimins', 'blatantly', 'thrown', 'victorious', 'sendithome', 'charactersshapedbygenerations', 'definitely', 'apprec', 'crush', 'broken', 'ijumaa', 'kareem', 'frien', 'happiiee', 'bakhiiiiiiii', 'greeting', 'innalillah', '30', 'valorant', 'fix', 'run', 'gun', 'diagnosed', 'arrival', 'survived', 'twelve', 'tip', 'ride', 'remembering', 'psychiatrist', 'perscribed', 'adhd', 'med', 'cancele', 'sadly', 'narcism', 'behavior', 'abusive', 'rather', 'recently', 'bipolar', 'disorder', 'manic', 'medication', 'treatment', 'cofacilitate', 'presentation', 'crowd', '40', 'officially', 'gad', 'ocd', 'medical', 'record', 'lmao', 'seeking', 'psych', 'likely', 'antidepressant', 'however', 'properly', 'obvious', 'misunderstood', 'function', 'differently', 'female', 'rant', 'severe', 'anxiety', 'slight', 'panic', 'attack', 'zach', '20', 'autism', 'fe', 'schizophrenia', 'borderline', 'personality', 'disassociative', 'disor', 'functioning', 'woooooo', 'clinically', 'possibly', 'few', 'hearing', 'album', 'ripe', '14', 'jordan', 'hon', 'evaluated', 'selfdiagnosed', 'mention', 'rushed', 'professional', 'shit', 'theyd', 'diagnose', 'pare', 'spender', 'pocket', 'told', 'lfg', 'bitch', 'zoloft', 'xanax', 'apparently', 'marker', 'mono', 'assume', 'doc', 'ptsd', 'roll', 'post', 'knowin', 'hibs', 'update', 'mentally', 'relax', 'stream', 'whenever', 'tbh', 'swag', '2018', 'clinical', 'caused', 'repressed', 'menshealthweek', 'remembered', 'joke', 'million', 'suffer', 'half', '2x', 'forced', 'abortion', '18', 'raped', 'chi', 'buck', 'eddie', 'checked', 'yay', 'disappoints', '4th', 'disord', 'finished', 'nurological', 'test', 'sooo', 'tired', 'puzzle', 'block', 'annie', 'sammy', 'eating', 'formally', 'major', 'def', 'changer', 'near', 'asd', 'medically', 'struggled', 'dennis', 'omba', 'steroidinduced', 'diabetes', 'metformin', 'walked', 'diagnosis', 'possible', 'nevermind', 'waaaay', 'acknowledged', 'honest', 'yeah', 'coloured', 'cuz', 'freaking', 'ugly', 'nev', 'unfortunately', 'common', 'antidepressants', 'sativas', 'was', 'recognized', 'prescribed', 'disease', 'fighting', 'bet', 'billion', 'office', 'realize', 'poorly', 'handled', 'supportive', 'breakup', 'introver', 'moderate', 'lmfao', 'refuse', 'counsellor', 'generalised', 'mixed', 'emotio', 'someo', 'tune', 'tonight', 'director', 'kopell', 'colleague', 'refusuez', 'seve', 'char', 'tried', 'dump', 'kidding', 'derealisation', 'yep', 'dissociate', 'regularly', 'practicing', 'vulnerability', 'correctly', 'rcpsychic', 'reared', 'luckily', 'lockdown', 'talking', 'pandemic', 'studying', 'diag', 'arena', '2019', 'accepted', 'undiagnosed', '25', 'causin', 'illness', 'cancer', 'bone', 'medica', 'nyo', 'ko', 'sobrang', 'makakatulong', 'introduction', 'vent', 'ednos', 'afraid', 'counselling', 'scarred', 'dia', 'emergency', 'fancy', 'academic', 'expressing', 'symptom', 'easily', 'worse', 'thousand', 'employed', 'fill', 'dass', 'directly', 'fight', 'telling', 'waste', 'tw', 'suspected', 'dysmorphia', 'class', 'develop', 'tit', 'har', 'window', 'clothes', 'online', 'damb', 'lifestyle', 'causing', 'socalled', 'expansive', 'insomnia', 'antisocial', 'bpd', 'anxi', 'havent', 'duloxetine', 'young', 'scheduled', 'appointment', 'nearest', 'generalized', 'medicated', 'graduated', 'drs', 'figur', 'carson', '16', 'pronoun', 'aspergers', 'suspect', 'bullied', 'rule', 'meme', 'relatable', 'esp', 'fami', 'spoke', 'newly', 'du', 'sleep', 'tested', 'tsundere', 'semicontrollable', 'necessarily', 'downpla', 'quarterly', 'statemanda', 'begging', 'differ', 'generasi', 'skrg', 'suka', 'katan', 'ither', 'socially', 'withdraw', 'asking', 'hesitate', 'dm', 'specially', 'repeat', '90', '00', 'patient', 'oddly', 'intim', 'lilah', 'myob', 'minor', 'pronouns', 'confused', 'sexuali', 'aged', 'spl', '15', 'benefit', 'hit', 'condition', 'anyon', 'saying', 'turns', 'ass', 'zero', 'interest', 'mild', 'hur', 'dealt', 'pregnant', 'uh', 'hyper', 'later', 'pjsekai', 'miku', 'main', 'pan', 'hypomania', 'kissesdelavin', 'decline', 'patriarchal', 'hegemony', 'parallel', 'rise', 'dnd', 'abl', 'realised', 'coping', 'skill', 'bahahahaa', 'stuggle', 'osdd', 'probably', 'shame', 'peop', 'brain', 'abnorm', 'lvl', 'academically', 'adept', '2017', 'twt', 'depressive', 'pernicious', 'anaemia', 'b12', 'deficiency', 'staggering', 'speeding', 'train', 'overlap', 'depressi', 'decade', 'abuse', 'assed', 'chase', 'hospitalization', 'polarity', 'frightens', 'mania', 'motivationalmonday', 'spotlight', 'pete', 'davidson', 'tgat', 'yoh', 'arent', 'including', 'exact', 'ykk', '37', 'irks', 'depr', 'allowed', 'toddler', 'kick', 'scared', 'mutter', 'depress', 'fair', 'yearold', 'drop', 'study', 'bein', 'speaking', 'staff', 'flint', 'house', 'agreed', 'sprinkle', 'prison', 'sigh', 'color', 'blue', 'lon', 'born', 'psycholo', 'result', 'comprehensive', 'servic', 'accepting', 'als', 'research', 'fou', 'concert', 'choosing', 'fuel', 'reali', 'sat', 'car', 'silence', 'simone', '80', 'dose', 'vaccine', 'sr', 'review', 'goto', 'unwell', 'listening', 'critic', 'case', 'involve', 'disordered', 'habit', 'dreadful', 'immune', 'system', 'constantly', 'pressu', 'sarcopenia', 'geelongosteoporosisstudy', 'suggests', 'low', 'mood', 'affect', 'dysthymia', 'ear', 'fuckin', 'grandfather', 'ran', 'addiction', 'disorde', 'lmaoo', 'damnit', 'suffered', 'sort', 'de', 'guys', 'skip', 'science', 'homoph', 'tend', 'tmr', 'woken', '10ish', 'diso', 'invasive', 'surgery', 'leech', 'suicide', 'loos', 'rare', 'flu', 'rel', 'outright', 'banning', 'diagnos', 'interpret', 'intp', 'prns', 'aries', 'unlabeled', 'agender', 'potentially', 'schizophrenic', 'brug', 'forcing', 'hilarious', 'almost', 'developed', 'ed', 'km', 'se', 'seftdiagnosed', 'nnnnnnnnnnnnn', 'ra', 'apologise', 'behavioral', 'experiment', 'sever', 'suburban', 'push', 'narrative', 'yea', 'facts', 'selective', 'mutism', 'states', 'survivor', 'survivo', '15yrs', 'sah', 'pnd', 'onc', 'happens', 'israeli', 'spy', 'mossad', 'abt', 'connor', '04', 'gender', 'dysphoria', 'tweeting', 'accute', 'kicked', 'blow', 'changingco', 'noooo', 'genius', 'haunting', 'link', 'scie', 'calm', 'join', 'myheartdiseaseteam', 'annoying', 'normal', 'buzzfeed', 'lmaooo', 'tr', 'use', 'internet', 'sweeping', 'generalisation', 'trigger', 'warning', 'shouldnt', 'hindi', 'pwedeng', 'maging', 'dapat', 'matapang', 'lag', 'recovered', 'aggravated', 'nervous', 'buddy', 'custodian', 'wtf', 'throwing', 'initially', 'explained', 'dep', 'fin', 'josh', 'sought', 'thankfully', 'sophie', 'remission', 'deppresion', 'dpdr', 'haan', 'proved', 'farmabardar', 'feroz', 'college', 'refused', 'rainbow', 'smokey', 'laughs', 'debilitating', 'wrongly', 'consider', 'disability', 'doubted', 'escape', 'eighth', 'extrac', 'wording', 'corelate', 'exercise', 'walking', 'prev', 'refuses', 'esa', 'thema', 'neurotypical', 'roller', 'coaster', 'convince', 'smart', 'historical', 'factor', 'cooper', 'village', 'funding', 'credible', 'discovered', 'gross', 'satis', 'somet', 'yoongis', 'verse', 'ad', 'chronic', 'isolation', 'beleive', 'confirmed', 'adding', 'professionally', 'educated', 'aint', 'tryna', 'depressio', 'bdp', 'contemplated', '201', 'faced', 'blown', 'hospitalized', 'cried', 'nobody', 'understands', 'phobia', 'adulthood', 'due', 'acting', 'welp', 'using', 'reaching', 'unless', 'pretentious', 'awareness', 'sabotage', 'spectrum', 'lit', 'jackson', '21', 'neurodivergent', 'depersonalization', 'scary', 'u0001f978', 'whoo', 'hoo', 'otherwise', 'cptsd', 'aspd', '14yrs', 'third', 'diagno', 'yan', 'din', 'yung', 'sabi', 'sa', 'amin', 'ng', 'psychometrician', 'prof', 'namin', 'careful', 'term', 'oook', 'unlike', 'meltdown', 'shutdown', 'sensory', 'overload', 'burnout', 'suicidal', 'none', 'mechanism', 'cop', 'separately', 'victim', 'mentality', 'frustrating', 'transgender', 'activist', 'illegal', 'psychologist', 'deny', 'sugges', 'dollhouse', 'cereal', 'finish', 'str', 'fyi', 'teenager', 'medicine', 'available', 'resistant', 'sense', '23', 'january', 'ungamer', 'psyc', 'similar', 'mai', 'sleeping', 'microdepression', 'woohoo', 'melancholy', 'circumstance', 'town', 'estoy', 'pasando', 'por', 'uno', 'entre', 'comillas', 'pq', 'pero', 'el', 'gotcha', 'speculated', 'vastly', 'suicida', 'mind', 'dismiss', 'scene', 'fine', 'certain', 'critical', 'enemy', 'suddenly', 'depre', 'wreak', 'havoc', 'diagn', 'blogging', 'hardest', 'ii', 'depres', 'recurrent', 'imho', 'adhdmisdiagnosis', 'malpractice', '28', 'referral', 'throwback', 'basically', 'nicole', 'melleby', 'reported', 'attribute', 'bubble', 'approach', 'laughed', 'text', 'phone', 'wri', 'endogenous', 'means', 'stfu', 'btw', 'spurt', 'accord', 'original', 'po', 'anx', 'listen', 'playlist', 'psd', 'proof', 'iatrist', 'ologist', 'wrote', 'ia', 'bac', 'silent', 'hyperthyroidism', 'asked', 'noticed', 'clinic', 'undetected', 'plenty', 'prove', 'opposing', 'adoption', 'labeled', 'whic', 'euphoric', 'freed', 'anorexia', 'prbly', 'bye', 'introverted', 'meanwhile', 'classmate', 'extro', 'type', '2020', 'camhs', 'referred', 'suic', '17', 'kinda', 'processing', 'info', 'psychotic', 'dealing', 'anymore', 'scored', 'higher', 'icide', 'rate', 'inferiority', 'complex', 'lmk', 'coped', 'sudden', 'confusing', 'catherine', 'middleton', 'counseling', 'total', 'mess', 'vietnam', 'messed', 'prone', 'youngest', 'magically', 'sumn', 'und', 'fift', 'si', 'nd', 'ud', 'lolll', 'worry', 'stigma', 'couldn', 'sexy', 'dk', 'crashed', 'olympic', 'champion', 'manuel', 'reveals', 'overtraining', 'syndrome', 'hyuna', 'featured', 'conversation', 'symptoms', 'pressure', 'december', 'lrt', 'inaccuracy', 'highlight', 'include', 'misdx', 'priori', 'offense', 'differen', 'treating', 'admin', 'intro', 'strider', 'rp', 'streets', 'earlier', 'stopped', 'random', 'boi', '2012', 'six', 'mentioned', 'effect', 'overwhelmed', 'lead', 'pas', 'clinicall', 'recovery', 'hospital', 'sent', '33', 'misdiagn', 'boarding', '36', 'resea', 'gunned', 'originally', 'sen', 'tourettes', 'applaud', 'posting', '56', 'manager', 'jobless', 'seven', 'funct', 'witnessk', 'court', 'canberra', 'sentence', 'imprisonment', 'wholly', 'suspended', 'entering', 'psvt', 'normally', 'mistake', 'several', 'dropped', 'picked', 'pushing', 'hes', 'collect', 'decide', 'active', 'fails', 'straight', 'eligible', 'medicaid', 'letter', 'era', 'rough', 'spot', 'destigmatize', 'federal', 'disabili', 'disclaimer', 'booo', 'ext', 'taco', 'hell', 'volcano', 'burrito', 'dis', 'doorknob', 'door', 'bi', 'polar', 'therefore', 'excuse', 'cide', 'process', 'int', 'funk', 'pls', 'ti', 'presented', 'migraine', 'decent', 'walk', 'tories', 'commo', 'seasonal', 'summertime', 'u0001f9a9', 'battled', 'mdd', 'crippling', 'miserable', 'gerd', 'considering', 'anxiet', 'explicitly', 'streaming', 'teaching', 'dance', 'cronic', 'cli', 'mf', 'candace', 'owens', 'tbf', 'tumblr', 'grad', 'mjr', 'oc', 'icymi', 'adolescent', 'specifically', 'increased', 'hypochondriac', 'legit', 'nurse', 'practitioner', 'mys', 'design', 'illnes', 'lectured', 'accountable', 'scolding', 'heeding', 'advice', 'aggressive', 'space', 'negativity', 'ana', 'unfaithful', 'rihanna', 'writing', 'accompanied', 'buzzword', '7th', 'diagnostic', 'exam', 'coworkers', 'tol', 'bulimia', 'called', 'apsychotic', 'psychosis', 'clic', 'multiple', 'abnormal', 'series', 'sucked', 'hockey', 'venturefunding', 'healthtech', 'startup', 'skyrocket', 'thi', 'unofficially', 'abroad', 'included', 'jfc', 'draw', 'aren', 'commit', 'oldest', 'moved', 'opened', 'brad', 'pitt', 'allegedly', 'according', 'weekly', 'ph', 'rothbaum', 'endstigma', 'techically', 'virtue', 'signaling', 'finest', 'candidate', 'legalize', 'psychedelics', 'besties', 'controversial', 'topic', 'gravity', 'accused', 'sand', 'slit', 'upset', 'unscientific', 'bald', 'gained', 'gaining', 'raised', 'standard', 'failed', 'orgo', 'mercy', 'depending', 'nak', 'sikit', 'semua', 'orang', 'masa', 'akan', 'rasa', 'beza', 'dengan', 'bu', 'bullet', 'fatal', 'aware', 'stalker', 'aw', 'ohio', 'website', 'evaluatio', 'faked', '247', 'cbd', 'cbdoil', 'psycho', 'blame', 'local', 'officer', 'recommending', 'trea', 'arc', 'amalgamation', 'nah', 'paranoia', 'statistic', 'basic', '2534', 'shits', 'stressed', 'busy', 'burnouts', 'meltdowns', 'harder', 'te', 'pun', 'takaful', 'industry', 'cash', 'relief', 'anxie', 'phase', 'vanished', 'damn', 'difference', 'harmless', 'outrigh', 'dah', 'tak', 'macam', 'dulu', 'curious', 'average', 'eight', 'ten', 'pass', 'emerge', 'jus', 'byproduct', '6yrs', 'suffers', 'quite', 'diabetesawarenessweek', 'psychological', 'passed', 'laziness', 'precursor', 'yup', 'variously', 'agoraphobia', 'reactive', 'popping', 'xanny', 'tendency', 'forgive', 'missed', 'gps', 'hyperactivity', 'hospitalisati', 'difficulty', '1999', 'addict', 'selfharmer', 'wilbursoot', 'singing', 'nihachu', '2005', 'uk', 'facing', 'faking', 'ring', 'bell', 'um', 'anon', 'lack', 'creativity', 'havi', 'target', 'demographic', 'dt', 'ash', 'shtwt', 'ig', 'interacts', 'edtwt', 'upse', 'pkp', 'toll', 'vitam', 'becker', 'lmfaoo', 'situational', '1a', 'mainly', '67', 'brief', 'roughly', 'bei', 'sang', 'bish', 'cr', 'aired', 'vital', 'november', 'quiz', 'gi', 'joker', 'hopefully', 'owe', 'commission', 'slow', 'spongebob', 'simpson', 'edits', 'offended', 'refer', 'reflects', 'targeting', 'discrimination', 'unusual', 'angle', 'achieved', 'diamond', 'status', '19', 'haul', 'incre', 'anorexic', 'option', 'psychiatri', 'misalignment', 'explains', 'interview', 'reveal', 'anyways', 'whew', 'moreso', 'impression', 'farming', 'hottest', 'sliced', 'perhaps', 'ignorance', 'bliss', 'chest', 'exhausted', 'combination', 'gp', 'doi', 'venting', 'anyway', 'barely', 'stanley', 'arktaev', 'advised', 'affectionately', 'calling', 'gifted', 'behold', 'ophelia', 'adopted', 'visited', 'session', 'pulled', 'waiting', 'mode', 'gnna', 'paralysis', 'percent', 'carry', 'abilify', 'benzatropine', 'spelling', 'dysph', 'employer', 'stupid', 'diagnosing', 'edgy', 'begin', '1987', 'panromantic', 'demiromantic', 'genderqueer', 'specializes', 'clear', 'guilty', 'conscio', 'burden', 'neil', 'darkness', 'latest', 'psychologic', 'report', 'dark', 'u0001f9cd', 'lancet', '47', 'highdistress', 'phenotype', 'cohort', 'indication', 'untreated', 'seems', 'impossible', 'hormones', 'experts', 'hontent', 'slightly', 'cope', 'blamed', 'hormone', 'sounds', 'unlockyourstory', 'campaign', 'intan', 'maisara', 'stans', 'explaining', 'mask', 'rhyme', 'lalo', 'nung', 'danganronpa', 'donkey', 'kong', 'abo', 'eat', 'mark', 'dissatisfac', 'developmental', 'delayed', 'disappeared', 'workplace', 'commonly', 'moderatesevere', 'ngl', 'han', 'entitled', 'compe', 'becaus', '2day', 'battle', 'exhausting', 'tuberculosis', 'initiation', 'among', 'botswana', 'competition', 'vicious', 'cycle', 'medicat', 'reclaim', 'fire', 'sustained', 'either', 'aunt', 'saddest', 'superstar', 'ignored', 'amcstory', 'onto', 'fml', 'unh', 'mun', 'tends', 'distracted', 'cell', 'dominance', 'eith', '2013', 'favorite', '1314', 'selfdiagnose', 'tches', 'july', '24th', 'following', 'adhdtwitter', '44', 'mana', 'recommend', 'drew', 'gf', 'shell', 'grandmother', 'buries', 'ssi', 'fmla', 'webtoon', 'author', 'korea', 'bothered', 'translation', 'thei', 'application', 'throw', 'bounced', 'forth', 'st', 'secluding', 'questioning', 'scoliosis', 'arti', 'serious', 'bout', 'alth', '20102018', '124', 'committed', 'rocker', 'odd', 'badly', 'epilepsy', 'whos', 'smith', 'documentary', 'app', 'hashimotos', 'toying', 'majordepressivedisorder', 'male', 'researcher', 'foun', 'disregard', 'ignoring', 'hrt', 'tiktok', 'hmph', 'scan', 'housemate', 'hv', 'wondered', 'issues', 'danish', 'odds', 'smallcell', 'lung', 'gymnastics', 'extent', 'generaliz', 'boom', 'sends', 'lash', 'fault', 'lose', 'purpose', 'direction', 'eventuall', 'further', 'sympt', 'experien', 'jumped', 'bandwagon', 'clearly', 'versus', 'interaction', 'control', 'shock', 'difficu', 'nonbinary', 'australian', 'korang', 'expression', 'rsd', 'alfie', 'templeman', 'unmotivated', 'internship', 'g', 'newcastle', 'sue', 'politician', 'screwed', 'economically', 'convinced', 'greatly', 'reduce', 'num', 'service', 'medicati', 'overview', 'materialistic', 'polyamory', 'drus', 'user', 'pills', 'aspergeric', 'receiving', 'cdb', 'oil', 'appar', 'acha', 'gl', 'qualifie', 'served', 'cunt', 'hrgh', 'drawing', 'traumatic', 'shocked', 'worsen', 'dknt', 'undo', 'fucjing', 'horny', 'hasn', 'sign', 'appt', 'wei', 'vocal', 'mute', 'frequently', 'merch', 'effe', 'piff2021doc', 'quietly', 'attempted', 'alt', 'ate', 'hw', 'divorced', 'dragon', 'coin', 'complaint', 'petras', 'ratio', 'attempt', 'cryi', 'credit', 'relating', 'misato', 'advocate', 'tv', 'pil', 'doctors', 'para', 'flag', 'lately', 'touc', 'drain', 'bo', 'trip', 'worried', 'lik', 'izzi', 'intellectual', 'potential', 'highly', 'emotiona', 'starter', 'pack', 'memes', 'starterpack', 'stric', 'commented', 'flora', 'occasionally', 'healthawareness', 'nos', 'sympto', 'heds', 'gastoparilisis', 'mcas', 'lyme', 'tietze', 'pots', 'scare', 'disliking', 'addictive', 'behaviour', 'root', 'excellent', 'accessible', 'gabor', 'mat', 'assessment', 'contagion', 'stressrelated', 'dec', 'dysthmia', 'persistent', 'continuous', 'longterm']\n"
          ],
          "name": "stdout"
        }
      ]
    },
    {
      "cell_type": "code",
      "metadata": {
        "id": "rmNXuyVliCI1",
        "colab": {
          "base_uri": "https://localhost:8080/"
        },
        "outputId": "4899774c-133b-4e22-ba7b-6332b0382275"
      },
      "source": [
        "model.wv.most_similar('depression')"
      ],
      "execution_count": null,
      "outputs": [
        {
          "output_type": "execute_result",
          "data": {
            "text/plain": [
              "[('diagnosed', 0.9999203681945801),\n",
              " ('i', 0.9999161958694458),\n",
              " ('with', 0.9999105334281921),\n",
              " ('got', 0.9999090433120728),\n",
              " ('wa', 0.9999023675918579),\n",
              " ('anxiety', 0.9998990297317505),\n",
              " ('been', 0.9998780488967896),\n",
              " ('adhd', 0.9998779296875),\n",
              " ('just', 0.9998500347137451),\n",
              " ('disorder', 0.999835193157196)]"
            ]
          },
          "metadata": {
            "tags": []
          },
          "execution_count": 11
        }
      ]
    },
    {
      "cell_type": "markdown",
      "metadata": {
        "id": "_EBxCSIe2sxy"
      },
      "source": [
        "Saving the word2vec model"
      ]
    },
    {
      "cell_type": "code",
      "metadata": {
        "id": "PZnauC_OmInN"
      },
      "source": [
        "filename = 'tweets_embedding.txt'\n",
        "model.wv.save_word2vec_format(filename,binary=False)"
      ],
      "execution_count": null,
      "outputs": []
    },
    {
      "cell_type": "markdown",
      "metadata": {
        "id": "b21TlBd_xzAo"
      },
      "source": [
        "Preparing Train and Test Data\n"
      ]
    },
    {
      "cell_type": "code",
      "metadata": {
        "id": "Vi9BjL-WczkS"
      },
      "source": [
        "def prep_tokenizer(tweet_list):\n",
        "    #instantiating the tokenizing object -creating a unique word dictionary ,where unique words are rep. as sentences\n",
        "    tokenizer = Tokenizer()\n",
        "    #fitting it into the text\n",
        "    tokenizer.fit_on_texts(tweet_list)\n",
        "    #saving the tokenizing object\n",
        "    with open('tokenizer.pickle', 'wb') as handle:\n",
        "        pickle.dump(tokenizer, handle, protocol=pickle.HIGHEST_PROTOCOL)\n",
        "        print('Tokeniser saved')\n",
        "    \n",
        "def prepare_data(tweet_list,tokenizer):\n",
        "   #creating a list of tokens for each tweet (A list of lists)\n",
        "   sequences = tokenizer.texts_to_sequences(tweet_list)\n",
        "   word_index = tokenizer.word_index\n",
        "   print('Vocabulary size:', len(word_index))\n",
        "   max_length = max([len(s.split()) for s in tweets])\n",
        "   tweet_pad =pad_sequences(sequences,maxlen=max_length)\n",
        "   return tweet_pad\n",
        "\n",
        " "
      ],
      "execution_count": null,
      "outputs": []
    },
    {
      "cell_type": "code",
      "metadata": {
        "id": "Y618PXpIsd0n",
        "colab": {
          "base_uri": "https://localhost:8080/"
        },
        "outputId": "a1eb5715-8f60-401d-b6c3-b355ce344b80"
      },
      "source": [
        "import pickle \n",
        "import os\n",
        "import re\n",
        "\n",
        "prep_tokenizer(tweet_list)\n",
        "with open('tokenizer.pickle', 'rb') as handle:\n",
        "   tokenizer = pickle.load(handle)\n",
        "\n",
        "tweet_pad = prepare_data(tweet_list,tokenizer)"
      ],
      "execution_count": null,
      "outputs": [
        {
          "output_type": "stream",
          "text": [
            "Tokeniser saved\n",
            "Vocabulary size: 4381\n"
          ],
          "name": "stdout"
        }
      ]
    },
    {
      "cell_type": "code",
      "metadata": {
        "id": "XGNU4I1M50TW"
      },
      "source": [
        "sequences = tokenizer.texts_to_sequences(tweet_list)\n",
        "word_index = tokenizer.word_index"
      ],
      "execution_count": null,
      "outputs": []
    },
    {
      "cell_type": "markdown",
      "metadata": {
        "id": "kQNr28WRNLQ6"
      },
      "source": [
        "Splitting the training and validation set"
      ]
    },
    {
      "cell_type": "code",
      "metadata": {
        "id": "NwlO4vIYRyp3"
      },
      "source": [
        "emotion_score=data['depression_score'].values\n",
        "VALIDATION_SPLIT = 0.2\n",
        "indices = np.arange(tweet_pad.shape[0])\n",
        "np.random.shuffle(indices)\n",
        "tweet_pad = tweet_pad[indices]\n",
        "emotion_score = emotion_score[indices]\n",
        "\n",
        "num_validation_samples = int(VALIDATION_SPLIT * tweet_pad.shape[0])\n",
        "\n",
        "x_train_pad = tweet_pad[:-num_validation_samples]\n",
        "y_train = emotion_score[:-num_validation_samples]\n",
        "x_test_pad = tweet_pad[-num_validation_samples:]\n",
        "y_test = emotion_score[-num_validation_samples:]"
      ],
      "execution_count": null,
      "outputs": []
    },
    {
      "cell_type": "code",
      "metadata": {
        "id": "fMRmKnCb10T7",
        "colab": {
          "base_uri": "https://localhost:8080/"
        },
        "outputId": "2d7a6e6c-b075-4912-97e5-37ec40dbd7df"
      },
      "source": [
        "x_train_pad = np.asarray(x_train_pad).astype(np.float32)\n",
        "y_train = np.asarray(y_train).astype(np.float32)\n",
        "x_test_pad = np.asarray(x_test_pad).astype(np.float32)\n",
        "y_test= np.asarray(y_test).astype(np.float32)\n",
        "\n",
        "\n",
        "print(len(x_test_pad))\n",
        "print(len(x_train_pad))\n",
        "print(len(y_train))\n",
        "print(len(y_test))"
      ],
      "execution_count": null,
      "outputs": [
        {
          "output_type": "stream",
          "text": [
            "380\n",
            "1524\n",
            "1524\n",
            "380\n"
          ],
          "name": "stdout"
        }
      ]
    },
    {
      "cell_type": "markdown",
      "metadata": {
        "id": "0xVC-2nnxwMH"
      },
      "source": [
        "# Scaling Outputs"
      ]
    },
    {
      "cell_type": "code",
      "metadata": {
        "id": "kCeqBHsAxvyW"
      },
      "source": [
        "y_train=y_train.reshape(-1,1)\n",
        "y_test=y_test.reshape(-1,1)\n",
        "from sklearn.preprocessing import MinMaxScaler\n",
        "scaler = MinMaxScaler(feature_range = (0,1))\n",
        "y_scaler = scaler.fit(y_train)\n",
        "\n",
        "scaled_ytrain = y_scaler.transform(y_train)\n",
        "scaled_ytest = y_scaler.transform(y_test)"
      ],
      "execution_count": null,
      "outputs": []
    },
    {
      "cell_type": "markdown",
      "metadata": {
        "id": "CKrf7_a23YOw"
      },
      "source": [
        "Creating the Embedding layer"
      ]
    },
    {
      "cell_type": "code",
      "metadata": {
        "id": "xOQDMEcHm49c"
      },
      "source": [
        "import os\n",
        "embeddings_index = {}\n",
        "f = open(os.path.join('','tweets_embedding.txt'),encoding=\"utf-8\")\n",
        "for line in f:\n",
        "    values = line.split()\n",
        "    word = values[0]\n",
        "    coefs = np.asarray(values[1:])\n",
        "    embeddings_index[word] = coefs\n",
        "f.close()    "
      ],
      "execution_count": null,
      "outputs": []
    },
    {
      "cell_type": "markdown",
      "metadata": {
        "id": "HtBpNUfhpz3j"
      },
      "source": [
        "Embedding Matrix"
      ]
    },
    {
      "cell_type": "code",
      "metadata": {
        "id": "qxvwpIMPtGqi"
      },
      "source": [
        "num_words = len(word_index) + 1\n",
        "embedding_matrix = np.zeros((num_words,EMBEDDING_DIM))\n",
        "\n",
        "for word,i in word_index.items():\n",
        "    if i > num_words:\n",
        "        continue\n",
        "        embedding_vector = embeddings_index.get(word)\n",
        "        if embedding_vector is not None:\n",
        "            embedding_matrix[i] = embedding_vector"
      ],
      "execution_count": null,
      "outputs": []
    },
    {
      "cell_type": "code",
      "metadata": {
        "colab": {
          "base_uri": "https://localhost:8080/"
        },
        "id": "KkjovhgDt7At",
        "outputId": "b3e2b937-5bb6-4074-9e40-fe82180736aa"
      },
      "source": [
        "print(num_words)"
      ],
      "execution_count": null,
      "outputs": [
        {
          "output_type": "stream",
          "text": [
            "4382\n"
          ],
          "name": "stdout"
        }
      ]
    },
    {
      "cell_type": "code",
      "metadata": {
        "id": "0mBQZUb9eB6e"
      },
      "source": [
        "import tensorflow as tf\n",
        "from tensorflow import keras"
      ],
      "execution_count": null,
      "outputs": []
    },
    {
      "cell_type": "code",
      "metadata": {
        "id": "gbUQsHcyEuic"
      },
      "source": [
        "def get_reg_model():\n",
        "    model = keras.Sequential()\n",
        "    model.add(Embedding(num_words ,EMBEDDING_DIM))\n",
        "    model.add(LSTM(64, return_sequences=True))\n",
        "    model.add(Dropout(0.2))\n",
        "    model.add(LSTM(64))\n",
        "    model.add(Dropout(0.2))\n",
        "    model.add(Dense(1, activation='tanh'))\n",
        "    model.compile(loss='mean_squared_error', optimizer='adam')\n",
        "    return model\n",
        "\n",
        "model=get_reg_model()\n"
      ],
      "execution_count": null,
      "outputs": []
    },
    {
      "cell_type": "markdown",
      "metadata": {
        "id": "3i69J5WF4_DO"
      },
      "source": [
        "Model Training Finally...."
      ]
    },
    {
      "cell_type": "code",
      "metadata": {
        "colab": {
          "base_uri": "https://localhost:8080/"
        },
        "id": "QavzjDRzKNgc",
        "outputId": "65ff6dd2-6023-49ba-aed6-9c5b5a2646fa"
      },
      "source": [
        "history=model.fit(x_train_pad, scaled_ytrain, batch_size=20, epochs=20, validation_data=(x_test_pad, scaled_ytest))"
      ],
      "execution_count": null,
      "outputs": [
        {
          "output_type": "stream",
          "text": [
            "Epoch 1/20\n",
            "77/77 [==============================] - 7s 48ms/step - loss: 0.0170 - val_loss: 0.0109\n",
            "Epoch 2/20\n",
            "77/77 [==============================] - 3s 36ms/step - loss: 0.0064 - val_loss: 0.0091\n",
            "Epoch 3/20\n",
            "77/77 [==============================] - 3s 36ms/step - loss: 0.0035 - val_loss: 0.0082\n",
            "Epoch 4/20\n",
            "77/77 [==============================] - 3s 36ms/step - loss: 0.0021 - val_loss: 0.0074\n",
            "Epoch 5/20\n",
            "77/77 [==============================] - 3s 37ms/step - loss: 0.0016 - val_loss: 0.0074\n",
            "Epoch 6/20\n",
            "77/77 [==============================] - 3s 36ms/step - loss: 0.0013 - val_loss: 0.0069\n",
            "Epoch 7/20\n",
            "77/77 [==============================] - 3s 36ms/step - loss: 0.0014 - val_loss: 0.0071\n",
            "Epoch 8/20\n",
            "77/77 [==============================] - 3s 36ms/step - loss: 9.8834e-04 - val_loss: 0.0072\n",
            "Epoch 9/20\n",
            "77/77 [==============================] - 3s 36ms/step - loss: 8.9648e-04 - val_loss: 0.0066\n",
            "Epoch 10/20\n",
            "77/77 [==============================] - 3s 36ms/step - loss: 7.5051e-04 - val_loss: 0.0065\n",
            "Epoch 11/20\n",
            "77/77 [==============================] - 3s 36ms/step - loss: 8.1539e-04 - val_loss: 0.0068\n",
            "Epoch 12/20\n",
            "77/77 [==============================] - 3s 36ms/step - loss: 6.9868e-04 - val_loss: 0.0068\n",
            "Epoch 13/20\n",
            "77/77 [==============================] - 3s 36ms/step - loss: 7.8419e-04 - val_loss: 0.0065\n",
            "Epoch 14/20\n",
            "77/77 [==============================] - 3s 36ms/step - loss: 6.8984e-04 - val_loss: 0.0062\n",
            "Epoch 15/20\n",
            "77/77 [==============================] - 3s 36ms/step - loss: 7.4913e-04 - val_loss: 0.0063\n",
            "Epoch 16/20\n",
            "77/77 [==============================] - 3s 36ms/step - loss: 6.9955e-04 - val_loss: 0.0061\n",
            "Epoch 17/20\n",
            "77/77 [==============================] - 3s 36ms/step - loss: 6.8274e-04 - val_loss: 0.0062\n",
            "Epoch 18/20\n",
            "77/77 [==============================] - 3s 37ms/step - loss: 6.5132e-04 - val_loss: 0.0063\n",
            "Epoch 19/20\n",
            "77/77 [==============================] - 3s 36ms/step - loss: 5.1026e-04 - val_loss: 0.0062\n",
            "Epoch 20/20\n",
            "77/77 [==============================] - 3s 36ms/step - loss: 6.1545e-04 - val_loss: 0.0064\n"
          ],
          "name": "stdout"
        }
      ]
    },
    {
      "cell_type": "code",
      "metadata": {
        "colab": {
          "base_uri": "https://localhost:8080/",
          "height": 295
        },
        "id": "P4YyRKOU1zNB",
        "outputId": "0b430cd9-f5a0-4d75-95a4-c4bf3460c2d3"
      },
      "source": [
        "import matplotlib.pyplot as plt\n",
        "\n",
        "plt.plot(history.history['loss'], label='MSE (training data)')\n",
        "plt.plot(history.history['val_loss'], label='MSE (validation data)')\n",
        "plt.title('MSE')\n",
        "plt.ylabel('MSE value')\n",
        "plt.xlabel('No. epoch')\n",
        "plt.legend(loc=\"upper left\")\n",
        "plt.show()"
      ],
      "execution_count": null,
      "outputs": [
        {
          "output_type": "display_data",
          "data": {
            "image/png": "[encoded data removed]",
            "text/plain": [
              "<Figure size 432x288 with 1 Axes>"
            ]
          },
          "metadata": {
            "tags": [],
            "needs_background": "light"
          }
        }
      ]
    },
    {
      "cell_type": "code",
      "metadata": {
        "id": "6RrkQV0aergH"
      },
      "source": [
        "model.save('MH3_reg_model.h5')"
      ],
      "execution_count": null,
      "outputs": []
    },
    {
      "cell_type": "code",
      "metadata": {
        "id": "ygw08JqLkU7b"
      },
      "source": [
        "reconstructed_model = keras.models.load_model('/content/MH3_reg_model.h5')"
      ],
      "execution_count": null,
      "outputs": []
    },
    {
      "cell_type": "code",
      "metadata": {
        "colab": {
          "base_uri": "https://localhost:8080/",
          "height": 35
        },
        "id": "aRieTyxI56D4",
        "outputId": "b6552f79-175d-4e17-a1cb-914d7556d166"
      },
      "source": [
        "tweets=dataframe['tweets']\n",
        "test_text=tweets[1606]\n",
        "test_text"
      ],
      "execution_count": null,
      "outputs": [
        {
          "output_type": "execute_result",
          "data": {
            "application/vnd.google.colaboratory.intrinsic+json": {
              "type": "string"
            },
            "text/plain": [
              "'wilbursoot   singing w nihachu  did you know i also have depression  self diagnosed  thought i should mention'"
            ]
          },
          "metadata": {
            "tags": []
          },
          "execution_count": 54
        }
      ]
    },
    {
      "cell_type": "code",
      "metadata": {
        "id": "e4CLQO0ze7zd",
        "colab": {
          "base_uri": "https://localhost:8080/"
        },
        "outputId": "89ed3846-139c-4b73-e298-d8235f909f64"
      },
      "source": [
        "model=load_model('/content/MH3_reg_model.h5')\n",
        "with open('/content/tokenizer.pickle', 'rb') as handle:\n",
        "    tokenizer = pickle.load(handle)\n",
        "\n",
        "#data = clean_tweet('great to see friend at aldersgate 30th birthday celebration  we are blessed to belong to this community ')\n",
        "seq=tokenizer.texts_to_sequences(test_text)\n",
        "data = pad_sequences(seq,maxlen=200)\n",
        "prediction=np.argmax(model.predict(data))\n",
        "output=model.predict(data)\n",
        "prediction"
      ],
      "execution_count": null,
      "outputs": [
        {
          "output_type": "execute_result",
          "data": {
            "text/plain": [
              "7"
            ]
          },
          "metadata": {
            "tags": []
          },
          "execution_count": 55
        }
      ]
    },
    {
      "cell_type": "code",
      "metadata": {
        "id": "Y66AdUCG6gMY"
      },
      "source": [
        ""
      ],
      "execution_count": null,
      "outputs": []
    },
    {
      "cell_type": "markdown",
      "metadata": {
        "id": "v-UNdK-yCTLB"
      },
      "source": [
        "# Streamlit code\n"
      ]
    },
    {
      "cell_type": "code",
      "metadata": {
        "colab": {
          "base_uri": "https://localhost:8080/",
          "height": 1000
        },
        "id": "1Rl66cqiRQcl",
        "outputId": "5cb0a5c6-547c-4cfd-bdd7-6c7c6389f3af"
      },
      "source": [
        "!pip install streamlit"
      ],
      "execution_count": null,
      "outputs": [
        {
          "output_type": "stream",
          "text": [
            "Collecting streamlit\n",
            "\u001b[?25l  Downloading https://files.pythonhosted.org/packages/04/11/57097e14f72a2d1b2a1bbe86c2a8bc375661bfd5c30b5e8cee7c2fad9a44/streamlit-0.82.0-py2.py3-none-any.whl (8.2MB)\n",
            "\u001b[K     |████████████████████████████████| 8.2MB 5.2MB/s \n",
            "\u001b[?25hRequirement already satisfied: click<8.0,>=7.0 in /usr/local/lib/python3.7/dist-packages (from streamlit) (7.1.2)\n",
            "Requirement already satisfied: tzlocal in /usr/local/lib/python3.7/dist-packages (from streamlit) (1.5.1)\n",
            "Requirement already satisfied: protobuf!=3.11,>=3.6.0 in /usr/local/lib/python3.7/dist-packages (from streamlit) (3.12.4)\n",
            "Requirement already satisfied: pillow>=6.2.0 in /usr/local/lib/python3.7/dist-packages (from streamlit) (7.1.2)\n",
            "Requirement already satisfied: python-dateutil in /usr/local/lib/python3.7/dist-packages (from streamlit) (2.8.1)\n",
            "Requirement already satisfied: packaging in /usr/local/lib/python3.7/dist-packages (from streamlit) (20.9)\n",
            "Collecting watchdog; platform_system != \"Darwin\"\n",
            "\u001b[?25l  Downloading https://files.pythonhosted.org/packages/f2/5b/36b3b11e557830de6fc1dc06e9aa3ee274119b8cea9cc98175dbbf72cf87/watchdog-2.1.2-py3-none-manylinux2014_x86_64.whl (74kB)\n",
            "\u001b[K     |████████████████████████████████| 81kB 9.1MB/s \n",
            "\u001b[?25hRequirement already satisfied: cachetools>=4.0 in /usr/local/lib/python3.7/dist-packages (from streamlit) (4.2.2)\n",
            "Collecting blinker\n",
            "\u001b[?25l  Downloading https://files.pythonhosted.org/packages/1b/51/e2a9f3b757eb802f61dc1f2b09c8c99f6eb01cf06416c0671253536517b6/blinker-1.4.tar.gz (111kB)\n",
            "\u001b[K     |████████████████████████████████| 112kB 46.8MB/s \n",
            "\u001b[?25hRequirement already satisfied: astor in /usr/local/lib/python3.7/dist-packages (from streamlit) (0.8.1)\n",
            "Requirement already satisfied: altair>=3.2.0 in /usr/local/lib/python3.7/dist-packages (from streamlit) (4.1.0)\n",
            "Requirement already satisfied: pyarrow; python_version < \"3.9\" in /usr/local/lib/python3.7/dist-packages (from streamlit) (3.0.0)\n",
            "Requirement already satisfied: toml in /usr/local/lib/python3.7/dist-packages (from streamlit) (0.10.2)\n",
            "Collecting base58\n",
            "  Downloading https://files.pythonhosted.org/packages/b8/a1/d9f565e9910c09fd325dc638765e8843a19fa696275c16cc08cf3b0a3c25/base58-2.1.0-py3-none-any.whl\n",
            "Requirement already satisfied: pandas>=0.21.0 in /usr/local/lib/python3.7/dist-packages (from streamlit) (1.1.5)\n",
            "Collecting gitpython\n",
            "\u001b[?25l  Downloading https://files.pythonhosted.org/packages/27/da/6f6224fdfc47dab57881fe20c0d1bc3122be290198ba0bf26a953a045d92/GitPython-3.1.17-py3-none-any.whl (166kB)\n",
            "\u001b[K     |████████████████████████████████| 174kB 43.0MB/s \n",
            "\u001b[?25hRequirement already satisfied: numpy in /usr/local/lib/python3.7/dist-packages (from streamlit) (1.19.5)\n",
            "Collecting pydeck>=0.1.dev5\n",
            "\u001b[?25l  Downloading https://files.pythonhosted.org/packages/d6/bc/f0e44828e4290367c869591d50d3671a4d0ee94926da6cb734b7b200308c/pydeck-0.6.2-py2.py3-none-any.whl (4.2MB)\n",
            "\u001b[K     |████████████████████████████████| 4.2MB 34.1MB/s \n",
            "\u001b[?25hCollecting validators\n",
            "  Downloading https://files.pythonhosted.org/packages/db/2f/7fed3ee94ad665ad2c1de87f858f10a7785251ff75b4fd47987888d07ef1/validators-0.18.2-py3-none-any.whl\n",
            "Requirement already satisfied: tornado>=5.0 in /usr/local/lib/python3.7/dist-packages (from streamlit) (5.1.1)\n",
            "Requirement already satisfied: requests in /usr/local/lib/python3.7/dist-packages (from streamlit) (2.23.0)\n",
            "Requirement already satisfied: pytz in /usr/local/lib/python3.7/dist-packages (from tzlocal->streamlit) (2018.9)\n",
            "Requirement already satisfied: six>=1.9 in /usr/local/lib/python3.7/dist-packages (from protobuf!=3.11,>=3.6.0->streamlit) (1.15.0)\n",
            "Requirement already satisfied: setuptools in /usr/local/lib/python3.7/dist-packages (from protobuf!=3.11,>=3.6.0->streamlit) (57.0.0)\n",
            "Requirement already satisfied: pyparsing>=2.0.2 in /usr/local/lib/python3.7/dist-packages (from packaging->streamlit) (2.4.7)\n",
            "Requirement already satisfied: jsonschema in /usr/local/lib/python3.7/dist-packages (from altair>=3.2.0->streamlit) (2.6.0)\n",
            "Requirement already satisfied: entrypoints in /usr/local/lib/python3.7/dist-packages (from altair>=3.2.0->streamlit) (0.3)\n",
            "Requirement already satisfied: jinja2 in /usr/local/lib/python3.7/dist-packages (from altair>=3.2.0->streamlit) (2.11.3)\n",
            "Requirement already satisfied: toolz in /usr/local/lib/python3.7/dist-packages (from altair>=3.2.0->streamlit) (0.11.1)\n",
            "Requirement already satisfied: typing-extensions>=3.7.4.0; python_version < \"3.8\" in /usr/local/lib/python3.7/dist-packages (from gitpython->streamlit) (3.7.4.3)\n",
            "Collecting gitdb<5,>=4.0.1\n",
            "\u001b[?25l  Downloading https://files.pythonhosted.org/packages/ea/e8/f414d1a4f0bbc668ed441f74f44c116d9816833a48bf81d22b697090dba8/gitdb-4.0.7-py3-none-any.whl (63kB)\n",
            "\u001b[K     |████████████████████████████████| 71kB 7.7MB/s \n",
            "\u001b[?25hRequirement already satisfied: traitlets>=4.3.2 in /usr/local/lib/python3.7/dist-packages (from pydeck>=0.1.dev5->streamlit) (5.0.5)\n",
            "Requirement already satisfied: ipywidgets>=7.0.0 in /usr/local/lib/python3.7/dist-packages (from pydeck>=0.1.dev5->streamlit) (7.6.3)\n",
            "Collecting ipykernel>=5.1.2; python_version >= \"3.4\"\n",
            "\u001b[?25l  Downloading https://files.pythonhosted.org/packages/90/6d/6c8fe4b658f77947d4244ce81f60230c4c8d1dc1a21ae83e63b269339178/ipykernel-5.5.5-py3-none-any.whl (120kB)\n",
            "\u001b[K     |████████████████████████████████| 122kB 41.8MB/s \n",
            "\u001b[?25hRequirement already satisfied: decorator>=3.4.0 in /usr/local/lib/python3.7/dist-packages (from validators->streamlit) (4.4.2)\n",
            "Requirement already satisfied: idna<3,>=2.5 in /usr/local/lib/python3.7/dist-packages (from requests->streamlit) (2.10)\n",
            "Requirement already satisfied: urllib3!=1.25.0,!=1.25.1,<1.26,>=1.21.1 in /usr/local/lib/python3.7/dist-packages (from requests->streamlit) (1.24.3)\n",
            "Requirement already satisfied: certifi>=2017.4.17 in /usr/local/lib/python3.7/dist-packages (from requests->streamlit) (2020.12.5)\n",
            "Requirement already satisfied: chardet<4,>=3.0.2 in /usr/local/lib/python3.7/dist-packages (from requests->streamlit) (3.0.4)\n",
            "Requirement already satisfied: MarkupSafe>=0.23 in /usr/local/lib/python3.7/dist-packages (from jinja2->altair>=3.2.0->streamlit) (2.0.1)\n",
            "Collecting smmap<5,>=3.0.1\n",
            "  Downloading https://files.pythonhosted.org/packages/68/ee/d540eb5e5996eb81c26ceffac6ee49041d473bc5125f2aa995cf51ec1cf1/smmap-4.0.0-py2.py3-none-any.whl\n",
            "Requirement already satisfied: ipython-genutils in /usr/local/lib/python3.7/dist-packages (from traitlets>=4.3.2->pydeck>=0.1.dev5->streamlit) (0.2.0)\n",
            "Requirement already satisfied: nbformat>=4.2.0 in /usr/local/lib/python3.7/dist-packages (from ipywidgets>=7.0.0->pydeck>=0.1.dev5->streamlit) (5.1.3)\n",
            "Requirement already satisfied: ipython>=4.0.0; python_version >= \"3.3\" in /usr/local/lib/python3.7/dist-packages (from ipywidgets>=7.0.0->pydeck>=0.1.dev5->streamlit) (5.5.0)\n",
            "Requirement already satisfied: jupyterlab-widgets>=1.0.0; python_version >= \"3.6\" in /usr/local/lib/python3.7/dist-packages (from ipywidgets>=7.0.0->pydeck>=0.1.dev5->streamlit) (1.0.0)\n",
            "Requirement already satisfied: widgetsnbextension~=3.5.0 in /usr/local/lib/python3.7/dist-packages (from ipywidgets>=7.0.0->pydeck>=0.1.dev5->streamlit) (3.5.1)\n",
            "Requirement already satisfied: jupyter-client in /usr/local/lib/python3.7/dist-packages (from ipykernel>=5.1.2; python_version >= \"3.4\"->pydeck>=0.1.dev5->streamlit) (5.3.5)\n",
            "Requirement already satisfied: jupyter-core in /usr/local/lib/python3.7/dist-packages (from nbformat>=4.2.0->ipywidgets>=7.0.0->pydeck>=0.1.dev5->streamlit) (4.7.1)\n",
            "Requirement already satisfied: pexpect; sys_platform != \"win32\" in /usr/local/lib/python3.7/dist-packages (from ipython>=4.0.0; python_version >= \"3.3\"->ipywidgets>=7.0.0->pydeck>=0.1.dev5->streamlit) (4.8.0)\n",
            "Requirement already satisfied: pygments in /usr/local/lib/python3.7/dist-packages (from ipython>=4.0.0; python_version >= \"3.3\"->ipywidgets>=7.0.0->pydeck>=0.1.dev5->streamlit) (2.6.1)\n",
            "Requirement already satisfied: pickleshare in /usr/local/lib/python3.7/dist-packages (from ipython>=4.0.0; python_version >= \"3.3\"->ipywidgets>=7.0.0->pydeck>=0.1.dev5->streamlit) (0.7.5)\n",
            "Requirement already satisfied: simplegeneric>0.8 in /usr/local/lib/python3.7/dist-packages (from ipython>=4.0.0; python_version >= \"3.3\"->ipywidgets>=7.0.0->pydeck>=0.1.dev5->streamlit) (0.8.1)\n",
            "Requirement already satisfied: prompt-toolkit<2.0.0,>=1.0.4 in /usr/local/lib/python3.7/dist-packages (from ipython>=4.0.0; python_version >= \"3.3\"->ipywidgets>=7.0.0->pydeck>=0.1.dev5->streamlit) (1.0.18)\n",
            "Requirement already satisfied: notebook>=4.4.1 in /usr/local/lib/python3.7/dist-packages (from widgetsnbextension~=3.5.0->ipywidgets>=7.0.0->pydeck>=0.1.dev5->streamlit) (5.3.1)\n",
            "Requirement already satisfied: pyzmq>=13 in /usr/local/lib/python3.7/dist-packages (from jupyter-client->ipykernel>=5.1.2; python_version >= \"3.4\"->pydeck>=0.1.dev5->streamlit) (22.0.3)\n",
            "Requirement already satisfied: ptyprocess>=0.5 in /usr/local/lib/python3.7/dist-packages (from pexpect; sys_platform != \"win32\"->ipython>=4.0.0; python_version >= \"3.3\"->ipywidgets>=7.0.0->pydeck>=0.1.dev5->streamlit) (0.7.0)\n",
            "Requirement already satisfied: wcwidth in /usr/local/lib/python3.7/dist-packages (from prompt-toolkit<2.0.0,>=1.0.4->ipython>=4.0.0; python_version >= \"3.3\"->ipywidgets>=7.0.0->pydeck>=0.1.dev5->streamlit) (0.2.5)\n",
            "Requirement already satisfied: terminado>=0.8.1 in /usr/local/lib/python3.7/dist-packages (from notebook>=4.4.1->widgetsnbextension~=3.5.0->ipywidgets>=7.0.0->pydeck>=0.1.dev5->streamlit) (0.10.0)\n",
            "Requirement already satisfied: Send2Trash in /usr/local/lib/python3.7/dist-packages (from notebook>=4.4.1->widgetsnbextension~=3.5.0->ipywidgets>=7.0.0->pydeck>=0.1.dev5->streamlit) (1.5.0)\n",
            "Requirement already satisfied: nbconvert in /usr/local/lib/python3.7/dist-packages (from notebook>=4.4.1->widgetsnbextension~=3.5.0->ipywidgets>=7.0.0->pydeck>=0.1.dev5->streamlit) (5.6.1)\n",
            "Requirement already satisfied: testpath in /usr/local/lib/python3.7/dist-packages (from nbconvert->notebook>=4.4.1->widgetsnbextension~=3.5.0->ipywidgets>=7.0.0->pydeck>=0.1.dev5->streamlit) (0.5.0)\n",
            "Requirement already satisfied: bleach in /usr/local/lib/python3.7/dist-packages (from nbconvert->notebook>=4.4.1->widgetsnbextension~=3.5.0->ipywidgets>=7.0.0->pydeck>=0.1.dev5->streamlit) (3.3.0)\n",
            "Requirement already satisfied: pandocfilters>=1.4.1 in /usr/local/lib/python3.7/dist-packages (from nbconvert->notebook>=4.4.1->widgetsnbextension~=3.5.0->ipywidgets>=7.0.0->pydeck>=0.1.dev5->streamlit) (1.4.3)\n",
            "Requirement already satisfied: defusedxml in /usr/local/lib/python3.7/dist-packages (from nbconvert->notebook>=4.4.1->widgetsnbextension~=3.5.0->ipywidgets>=7.0.0->pydeck>=0.1.dev5->streamlit) (0.7.1)\n",
            "Requirement already satisfied: mistune<2,>=0.8.1 in /usr/local/lib/python3.7/dist-packages (from nbconvert->notebook>=4.4.1->widgetsnbextension~=3.5.0->ipywidgets>=7.0.0->pydeck>=0.1.dev5->streamlit) (0.8.4)\n",
            "Requirement already satisfied: webencodings in /usr/local/lib/python3.7/dist-packages (from bleach->nbconvert->notebook>=4.4.1->widgetsnbextension~=3.5.0->ipywidgets>=7.0.0->pydeck>=0.1.dev5->streamlit) (0.5.1)\n",
            "Building wheels for collected packages: blinker\n",
            "  Building wheel for blinker (setup.py) ... \u001b[?25l\u001b[?25hdone\n",
            "  Created wheel for blinker: filename=blinker-1.4-cp37-none-any.whl size=13476 sha256=bb79f392b6daa6f99c3850cdce7d385a35cce5488805dcccae40c84307375e91\n",
            "  Stored in directory: /root/.cache/pip/wheels/92/a0/00/8690a57883956a301d91cf4ec999cc0b258b01e3f548f86e89\n",
            "Successfully built blinker\n",
            "\u001b[31mERROR: google-colab 1.0.0 has requirement ipykernel~=4.10, but you'll have ipykernel 5.5.5 which is incompatible.\u001b[0m\n",
            "Installing collected packages: watchdog, blinker, base58, smmap, gitdb, gitpython, ipykernel, pydeck, validators, streamlit\n",
            "  Found existing installation: ipykernel 4.10.1\n",
            "    Uninstalling ipykernel-4.10.1:\n",
            "      Successfully uninstalled ipykernel-4.10.1\n",
            "Successfully installed base58-2.1.0 blinker-1.4 gitdb-4.0.7 gitpython-3.1.17 ipykernel-5.5.5 pydeck-0.6.2 smmap-4.0.0 streamlit-0.82.0 validators-0.18.2 watchdog-2.1.2\n"
          ],
          "name": "stdout"
        },
        {
          "output_type": "display_data",
          "data": {
            "application/vnd.colab-display-data+json": {
              "pip_warning": {
                "packages": [
                  "ipykernel"
                ]
              }
            }
          },
          "metadata": {
            "tags": []
          }
        }
      ]
    },
    {
      "cell_type": "code",
      "metadata": {
        "id": "f_1Tz-ZLjwAh"
      },
      "source": [
        "from keras import backend as K\n",
        "from tensorflow.keras.models import Model, load_model\n",
        "from nltk.tokenize import word_tokenize\n",
        "from tensorflow.keras.preprocessing.sequence import pad_sequences\n",
        "import pickle\n",
        "import re\n",
        "import string\n",
        "from nltk.corpus import stopwords\n",
        "from nltk.stem.wordnet import WordNetLemmatizer\n",
        "import streamlit as st\n",
        "import pandas as pd\n",
        "import numpy as np\n",
        "import seaborn as sns\n",
        "import matplotlib.pyplot as plt\n",
        "\n",
        "import plotly.express as px\n",
        "import plotly.graph_objects as go\n",
        "\n",
        "wordnet = WordNetLemmatizer()\n",
        "regex = re.compile('[%s]' % re.escape(string.punctuation))\n"
      ],
      "execution_count": null,
      "outputs": []
    },
    {
      "cell_type": "code",
      "metadata": {
        "id": "KKqPfmfQAWyE"
      },
      "source": [
        "MODEL_PATH = '/content/MH/saved_model.pb'\n",
        "MAX_NB_WORDS = 100000 # max no. of words for tokenizer\n",
        "MAX_SEQUENCE_LENGTH = 200 # max length of each entry (sentence), including padding\n",
        "VALIDATION_SPLIT = 0.2 # data for validation (not used in training)\n",
        "EMBEDDING_DIM = 100\n",
        "tokenizer_file = 'tokenizer.pickle'"
      ],
      "execution_count": null,
      "outputs": []
    },
    {
      "cell_type": "code",
      "metadata": {
        "id": "plfKV0oIB_8b"
      },
      "source": [
        "with open(tokenizer_file, 'rb') as handle:\n",
        "   tokenizer = pickle.load(handle)\n",
        "@st.cache(allow_output_mutation=True)\n",
        "def Load_model():\n",
        "   model = reconstructed_model\n",
        "   model.summary() # included to make it visible when model is reloaded\n",
        "   session = K.get_session()\n",
        "   return model, session\n",
        "\n",
        "   Load_model"
      ],
      "execution_count": null,
      "outputs": []
    },
    {
      "cell_type": "code",
      "metadata": {
        "id": "_JV1FqeRTCkl"
      },
      "source": [
        "#@st.cache\n",
        "#def load_my_model():\n",
        "model = reconstructed_model\n",
        " \n",
        "\n",
        "if __name__ == '__main__':\n",
        "    st.title('A simple streamlit mental health app')\n",
        "    st.write('Want to know if your tweets contain some depressive characteristics')\n",
        "    st.subheader('Key in or paste one of your tweets') \n",
        "    tweet=st.text_area('') \n",
        "    prediction_btn = st.button('predict')\n",
        "    if prediction_btn:\n",
        "        clean_text = []\n",
        "        #K.set_session(session)\n",
        "        i = clean_tweet(tweet)\n",
        "        clean_text.append(i)\n",
        "        sequences = tokenizer.texts_to_sequences(clean_text)\n",
        "        data = pad_sequences(sequences, maxlen = max_length)\n",
        "        prediction = model.predict(data)"
      ],
      "execution_count": null,
      "outputs": []
    },
    {
      "cell_type": "code",
      "metadata": {
        "id": "hsXUSSw_CG2y"
      },
      "source": [
        "if prediction_btn:\n",
        "   clean_text = []\n",
        "   K.set_session(session)\n",
        "   i = clean_tweet(tweet)\n",
        "   clean_text.append(i)\n",
        "   sequences = tokenizer.texts_to_sequences(clean_text)\n",
        "   data = pad_sequences(sequences, maxlen = max_length)\n",
        "   prediction = model.predict(data)"
      ],
      "execution_count": null,
      "outputs": []
    },
    {
      "cell_type": "code",
      "metadata": {
        "id": "J_KjZmvCOLYp"
      },
      "source": [
        "prediction_class = prediction.argmax(axis=-1)[0]\n",
        "\n",
        "\n",
        "st.header(\"Prediction using LSTM model\")\n",
        "if prediction_class == 0:\n",
        "    st.success()\n",
        "if prediction_class == 1:\n",
        "    st.success()\n",
        "if prediction_class == 2:\n",
        "    st.success()\n",
        "if prediction_class == 3:\n",
        "    st.success()\n",
        "if prediction_class == 4:\n",
        "    st.success()"
      ],
      "execution_count": null,
      "outputs": []
    },
    {
      "cell_type": "code",
      "metadata": {
        "id": "OBA-YKHqQAu3"
      },
      "source": [
        ""
      ],
      "execution_count": null,
      "outputs": []
    },
    {
      "cell_type": "code",
      "metadata": {
        "id": "QrPDCr5NJVEF",
        "colab": {
          "base_uri": "https://localhost:8080/",
          "height": 881
        },
        "outputId": "b4cfd8f7-3557-4521-9bed-45bdf0a2d5e5"
      },
      "source": [
        "if __name__ == '__main__':\n",
        "    st.title('A simple streamlit mental health app')\n",
        "    st.write('Want to know if your tweets contain some depressive characteristics')\n",
        "    st.subheader('Key in or paste one of your tweets') \n",
        "    tweet=st.text_area('') \n",
        "    prediction_btn = st.button('predict')\n",
        "    model= Load_model()\n"
      ],
      "execution_count": null,
      "outputs": [
        {
          "output_type": "error",
          "ename": "InternalHashError",
          "evalue": "ignored",
          "traceback": [
            "\u001b[0;31m---------------------------------------------------------------------------\u001b[0m",
            "\u001b[0;31mAttributeError\u001b[0m                            Traceback (most recent call last)",
            "\u001b[0;32m/usr/local/lib/python3.7/dist-packages/streamlit/hashing.py\u001b[0m in \u001b[0;36mto_bytes\u001b[0;34m(self, obj, context)\u001b[0m\n\u001b[1;32m    351\u001b[0m             \u001b[0;31m# Hash the input\u001b[0m\u001b[0;34m\u001b[0m\u001b[0;34m\u001b[0m\u001b[0;34m\u001b[0m\u001b[0m\n\u001b[0;32m--> 352\u001b[0;31m             \u001b[0mb\u001b[0m \u001b[0;34m=\u001b[0m \u001b[0;34mb\"%s:%s\"\u001b[0m \u001b[0;34m%\u001b[0m \u001b[0;34m(\u001b[0m\u001b[0mtname\u001b[0m\u001b[0;34m,\u001b[0m \u001b[0mself\u001b[0m\u001b[0;34m.\u001b[0m\u001b[0m_to_bytes\u001b[0m\u001b[0;34m(\u001b[0m\u001b[0mobj\u001b[0m\u001b[0;34m,\u001b[0m \u001b[0mcontext\u001b[0m\u001b[0;34m)\u001b[0m\u001b[0;34m)\u001b[0m\u001b[0;34m\u001b[0m\u001b[0;34m\u001b[0m\u001b[0m\n\u001b[0m\u001b[1;32m    353\u001b[0m \u001b[0;34m\u001b[0m\u001b[0m\n",
            "\u001b[0;32m/usr/local/lib/python3.7/dist-packages/streamlit/hashing.py\u001b[0m in \u001b[0;36m_to_bytes\u001b[0;34m(self, obj, context)\u001b[0m\n\u001b[1;32m    607\u001b[0m \u001b[0;34m\u001b[0m\u001b[0m\n\u001b[0;32m--> 608\u001b[0;31m             \u001b[0;32mif\u001b[0m \u001b[0mself\u001b[0m\u001b[0;34m.\u001b[0m\u001b[0m_file_should_be_hashed\u001b[0m\u001b[0;34m(\u001b[0m\u001b[0mobj\u001b[0m\u001b[0;34m.\u001b[0m\u001b[0m__code__\u001b[0m\u001b[0;34m.\u001b[0m\u001b[0mco_filename\u001b[0m\u001b[0;34m)\u001b[0m\u001b[0;34m:\u001b[0m\u001b[0;34m\u001b[0m\u001b[0;34m\u001b[0m\u001b[0m\n\u001b[0m\u001b[1;32m    609\u001b[0m                 \u001b[0mcontext\u001b[0m \u001b[0;34m=\u001b[0m \u001b[0m_get_context\u001b[0m\u001b[0;34m(\u001b[0m\u001b[0mobj\u001b[0m\u001b[0;34m)\u001b[0m\u001b[0;34m\u001b[0m\u001b[0;34m\u001b[0m\u001b[0m\n",
            "\u001b[0;32m/usr/local/lib/python3.7/dist-packages/streamlit/hashing.py\u001b[0m in \u001b[0;36m_file_should_be_hashed\u001b[0;34m(self, filename)\u001b[0m\n\u001b[1;32m    386\u001b[0m         return file_util.file_is_in_folder_glob(\n\u001b[0;32m--> 387\u001b[0;31m             \u001b[0mfilepath\u001b[0m\u001b[0;34m,\u001b[0m \u001b[0mself\u001b[0m\u001b[0;34m.\u001b[0m\u001b[0m_get_main_script_directory\u001b[0m\u001b[0;34m(\u001b[0m\u001b[0;34m)\u001b[0m\u001b[0;34m\u001b[0m\u001b[0;34m\u001b[0m\u001b[0m\n\u001b[0m\u001b[1;32m    388\u001b[0m         ) or file_util.file_in_pythonpath(filepath)\n",
            "\u001b[0;32m/usr/local/lib/python3.7/dist-packages/streamlit/hashing.py\u001b[0m in \u001b[0;36m_get_main_script_directory\u001b[0;34m()\u001b[0m\n\u001b[1;32m    691\u001b[0m         \u001b[0;31m# script path in ScriptRunner.\u001b[0m\u001b[0;34m\u001b[0m\u001b[0;34m\u001b[0m\u001b[0;34m\u001b[0m\u001b[0m\n\u001b[0;32m--> 692\u001b[0;31m         \u001b[0mmain_path\u001b[0m \u001b[0;34m=\u001b[0m \u001b[0m__main__\u001b[0m\u001b[0;34m.\u001b[0m\u001b[0m__file__\u001b[0m\u001b[0;34m\u001b[0m\u001b[0;34m\u001b[0m\u001b[0m\n\u001b[0m\u001b[1;32m    693\u001b[0m         \u001b[0;32mreturn\u001b[0m \u001b[0mos\u001b[0m\u001b[0;34m.\u001b[0m\u001b[0mpath\u001b[0m\u001b[0;34m.\u001b[0m\u001b[0mdirname\u001b[0m\u001b[0;34m(\u001b[0m\u001b[0mmain_path\u001b[0m\u001b[0;34m)\u001b[0m\u001b[0;34m\u001b[0m\u001b[0;34m\u001b[0m\u001b[0m\n",
            "\u001b[0;31mAttributeError\u001b[0m: module '__main__' has no attribute '__file__'",
            "\nDuring handling of the above exception, another exception occurred:\n",
            "\u001b[0;31mInternalHashError\u001b[0m                         Traceback (most recent call last)",
            "\u001b[0;32m<ipython-input-25-54d7ba448079>\u001b[0m in \u001b[0;36m<module>\u001b[0;34m()\u001b[0m\n\u001b[1;32m      5\u001b[0m     \u001b[0mtweet\u001b[0m\u001b[0;34m=\u001b[0m\u001b[0mst\u001b[0m\u001b[0;34m.\u001b[0m\u001b[0mtext_area\u001b[0m\u001b[0;34m(\u001b[0m\u001b[0;34m''\u001b[0m\u001b[0;34m)\u001b[0m\u001b[0;34m\u001b[0m\u001b[0;34m\u001b[0m\u001b[0m\n\u001b[1;32m      6\u001b[0m     \u001b[0mprediction_btn\u001b[0m \u001b[0;34m=\u001b[0m \u001b[0mst\u001b[0m\u001b[0;34m.\u001b[0m\u001b[0mbutton\u001b[0m\u001b[0;34m(\u001b[0m\u001b[0;34m'predict'\u001b[0m\u001b[0;34m)\u001b[0m\u001b[0;34m\u001b[0m\u001b[0;34m\u001b[0m\u001b[0m\n\u001b[0;32m----> 7\u001b[0;31m     \u001b[0mmodel\u001b[0m\u001b[0;34m=\u001b[0m \u001b[0mLoad_model\u001b[0m\u001b[0;34m(\u001b[0m\u001b[0;34m)\u001b[0m\u001b[0;34m\u001b[0m\u001b[0;34m\u001b[0m\u001b[0m\n\u001b[0m",
            "\u001b[0;32m/usr/local/lib/python3.7/dist-packages/streamlit/caching.py\u001b[0m in \u001b[0;36mwrapped_func\u001b[0;34m(*args, **kwargs)\u001b[0m\n\u001b[1;32m    571\u001b[0m         \u001b[0;32mif\u001b[0m \u001b[0mshow_spinner\u001b[0m\u001b[0;34m:\u001b[0m\u001b[0;34m\u001b[0m\u001b[0;34m\u001b[0m\u001b[0m\n\u001b[1;32m    572\u001b[0m             \u001b[0;32mwith\u001b[0m \u001b[0mst\u001b[0m\u001b[0;34m.\u001b[0m\u001b[0mspinner\u001b[0m\u001b[0;34m(\u001b[0m\u001b[0mmessage\u001b[0m\u001b[0;34m)\u001b[0m\u001b[0;34m:\u001b[0m\u001b[0;34m\u001b[0m\u001b[0;34m\u001b[0m\u001b[0m\n\u001b[0;32m--> 573\u001b[0;31m                 \u001b[0;32mreturn\u001b[0m \u001b[0mget_or_create_cached_value\u001b[0m\u001b[0;34m(\u001b[0m\u001b[0;34m)\u001b[0m\u001b[0;34m\u001b[0m\u001b[0;34m\u001b[0m\u001b[0m\n\u001b[0m\u001b[1;32m    574\u001b[0m         \u001b[0;32melse\u001b[0m\u001b[0;34m:\u001b[0m\u001b[0;34m\u001b[0m\u001b[0;34m\u001b[0m\u001b[0m\n\u001b[1;32m    575\u001b[0m             \u001b[0;32mreturn\u001b[0m \u001b[0mget_or_create_cached_value\u001b[0m\u001b[0;34m(\u001b[0m\u001b[0;34m)\u001b[0m\u001b[0;34m\u001b[0m\u001b[0;34m\u001b[0m\u001b[0m\n",
            "\u001b[0;32m/usr/local/lib/python3.7/dist-packages/streamlit/caching.py\u001b[0m in \u001b[0;36mget_or_create_cached_value\u001b[0;34m()\u001b[0m\n\u001b[1;32m    496\u001b[0m                 \u001b[0;31m# If we generated the key earlier we would only hash those\u001b[0m\u001b[0;34m\u001b[0m\u001b[0;34m\u001b[0m\u001b[0;34m\u001b[0m\u001b[0m\n\u001b[1;32m    497\u001b[0m                 \u001b[0;31m# globals by name, and miss changes in their code or value.\u001b[0m\u001b[0;34m\u001b[0m\u001b[0;34m\u001b[0m\u001b[0;34m\u001b[0m\u001b[0m\n\u001b[0;32m--> 498\u001b[0;31m                 \u001b[0mcache_key\u001b[0m \u001b[0;34m=\u001b[0m \u001b[0m_hash_func\u001b[0m\u001b[0;34m(\u001b[0m\u001b[0mfunc\u001b[0m\u001b[0;34m,\u001b[0m \u001b[0mhash_funcs\u001b[0m\u001b[0;34m)\u001b[0m\u001b[0;34m\u001b[0m\u001b[0;34m\u001b[0m\u001b[0m\n\u001b[0m\u001b[1;32m    499\u001b[0m \u001b[0;34m\u001b[0m\u001b[0m\n\u001b[1;32m    500\u001b[0m             \u001b[0;31m# First, get the cache that's attached to this function.\u001b[0m\u001b[0;34m\u001b[0m\u001b[0;34m\u001b[0m\u001b[0;34m\u001b[0m\u001b[0m\n",
            "\u001b[0;32m/usr/local/lib/python3.7/dist-packages/streamlit/caching.py\u001b[0m in \u001b[0;36m_hash_func\u001b[0;34m(func, hash_funcs)\u001b[0m\n\u001b[1;32m    627\u001b[0m         \u001b[0mhash_funcs\u001b[0m\u001b[0;34m=\u001b[0m\u001b[0mhash_funcs\u001b[0m\u001b[0;34m,\u001b[0m\u001b[0;34m\u001b[0m\u001b[0;34m\u001b[0m\u001b[0m\n\u001b[1;32m    628\u001b[0m         \u001b[0mhash_reason\u001b[0m\u001b[0;34m=\u001b[0m\u001b[0mHashReason\u001b[0m\u001b[0;34m.\u001b[0m\u001b[0mCACHING_FUNC_BODY\u001b[0m\u001b[0;34m,\u001b[0m\u001b[0;34m\u001b[0m\u001b[0;34m\u001b[0m\u001b[0m\n\u001b[0;32m--> 629\u001b[0;31m         \u001b[0mhash_source\u001b[0m\u001b[0;34m=\u001b[0m\u001b[0mfunc\u001b[0m\u001b[0;34m,\u001b[0m\u001b[0;34m\u001b[0m\u001b[0;34m\u001b[0m\u001b[0m\n\u001b[0m\u001b[1;32m    630\u001b[0m     )\n\u001b[1;32m    631\u001b[0m     \u001b[0mcache_key\u001b[0m \u001b[0;34m=\u001b[0m \u001b[0mfunc_hasher\u001b[0m\u001b[0;34m.\u001b[0m\u001b[0mhexdigest\u001b[0m\u001b[0;34m(\u001b[0m\u001b[0;34m)\u001b[0m\u001b[0;34m\u001b[0m\u001b[0;34m\u001b[0m\u001b[0m\n",
            "\u001b[0;32m/usr/local/lib/python3.7/dist-packages/streamlit/hashing.py\u001b[0m in \u001b[0;36mupdate_hash\u001b[0;34m(val, hasher, hash_reason, hash_source, context, hash_funcs)\u001b[0m\n\u001b[1;32m     90\u001b[0m \u001b[0;34m\u001b[0m\u001b[0m\n\u001b[1;32m     91\u001b[0m     \u001b[0mch\u001b[0m \u001b[0;34m=\u001b[0m \u001b[0m_CodeHasher\u001b[0m\u001b[0;34m(\u001b[0m\u001b[0mhash_funcs\u001b[0m\u001b[0;34m)\u001b[0m\u001b[0;34m\u001b[0m\u001b[0;34m\u001b[0m\u001b[0m\n\u001b[0;32m---> 92\u001b[0;31m     \u001b[0mch\u001b[0m\u001b[0;34m.\u001b[0m\u001b[0mupdate\u001b[0m\u001b[0;34m(\u001b[0m\u001b[0mhasher\u001b[0m\u001b[0;34m,\u001b[0m \u001b[0mval\u001b[0m\u001b[0;34m,\u001b[0m \u001b[0mcontext\u001b[0m\u001b[0;34m)\u001b[0m\u001b[0;34m\u001b[0m\u001b[0;34m\u001b[0m\u001b[0m\n\u001b[0m\u001b[1;32m     93\u001b[0m \u001b[0;34m\u001b[0m\u001b[0m\n\u001b[1;32m     94\u001b[0m \u001b[0;34m\u001b[0m\u001b[0m\n",
            "\u001b[0;32m/usr/local/lib/python3.7/dist-packages/streamlit/hashing.py\u001b[0m in \u001b[0;36mupdate\u001b[0;34m(self, hasher, obj, context)\u001b[0m\n\u001b[1;32m    375\u001b[0m     \u001b[0;32mdef\u001b[0m \u001b[0mupdate\u001b[0m\u001b[0;34m(\u001b[0m\u001b[0mself\u001b[0m\u001b[0;34m,\u001b[0m \u001b[0mhasher\u001b[0m\u001b[0;34m,\u001b[0m \u001b[0mobj\u001b[0m\u001b[0;34m,\u001b[0m \u001b[0mcontext\u001b[0m\u001b[0;34m=\u001b[0m\u001b[0;32mNone\u001b[0m\u001b[0;34m)\u001b[0m\u001b[0;34m:\u001b[0m\u001b[0;34m\u001b[0m\u001b[0;34m\u001b[0m\u001b[0m\n\u001b[1;32m    376\u001b[0m         \u001b[0;34m\"\"\"Update the provided hasher with the hash of an object.\"\"\"\u001b[0m\u001b[0;34m\u001b[0m\u001b[0;34m\u001b[0m\u001b[0m\n\u001b[0;32m--> 377\u001b[0;31m         \u001b[0mb\u001b[0m \u001b[0;34m=\u001b[0m \u001b[0mself\u001b[0m\u001b[0;34m.\u001b[0m\u001b[0mto_bytes\u001b[0m\u001b[0;34m(\u001b[0m\u001b[0mobj\u001b[0m\u001b[0;34m,\u001b[0m \u001b[0mcontext\u001b[0m\u001b[0;34m)\u001b[0m\u001b[0;34m\u001b[0m\u001b[0;34m\u001b[0m\u001b[0m\n\u001b[0m\u001b[1;32m    378\u001b[0m         \u001b[0mhasher\u001b[0m\u001b[0;34m.\u001b[0m\u001b[0mupdate\u001b[0m\u001b[0;34m(\u001b[0m\u001b[0mb\u001b[0m\u001b[0;34m)\u001b[0m\u001b[0;34m\u001b[0m\u001b[0;34m\u001b[0m\u001b[0m\n\u001b[1;32m    379\u001b[0m \u001b[0;34m\u001b[0m\u001b[0m\n",
            "\u001b[0;32m/usr/local/lib/python3.7/dist-packages/streamlit/hashing.py\u001b[0m in \u001b[0;36mto_bytes\u001b[0;34m(self, obj, context)\u001b[0m\n\u001b[1;32m    364\u001b[0m \u001b[0;34m\u001b[0m\u001b[0m\n\u001b[1;32m    365\u001b[0m         \u001b[0;32mexcept\u001b[0m \u001b[0mBaseException\u001b[0m \u001b[0;32mas\u001b[0m \u001b[0me\u001b[0m\u001b[0;34m:\u001b[0m\u001b[0;34m\u001b[0m\u001b[0;34m\u001b[0m\u001b[0m\n\u001b[0;32m--> 366\u001b[0;31m             \u001b[0;32mraise\u001b[0m \u001b[0mInternalHashError\u001b[0m\u001b[0;34m(\u001b[0m\u001b[0me\u001b[0m\u001b[0;34m,\u001b[0m \u001b[0mobj\u001b[0m\u001b[0;34m)\u001b[0m\u001b[0;34m\u001b[0m\u001b[0;34m\u001b[0m\u001b[0m\n\u001b[0m\u001b[1;32m    367\u001b[0m \u001b[0;34m\u001b[0m\u001b[0m\n\u001b[1;32m    368\u001b[0m         \u001b[0;32mfinally\u001b[0m\u001b[0;34m:\u001b[0m\u001b[0;34m\u001b[0m\u001b[0;34m\u001b[0m\u001b[0m\n",
            "\u001b[0;32m/usr/local/lib/python3.7/dist-packages/streamlit/hashing.py\u001b[0m in \u001b[0;36mto_bytes\u001b[0;34m(self, obj, context)\u001b[0m\n\u001b[1;32m    350\u001b[0m         \u001b[0;32mtry\u001b[0m\u001b[0;34m:\u001b[0m\u001b[0;34m\u001b[0m\u001b[0;34m\u001b[0m\u001b[0m\n\u001b[1;32m    351\u001b[0m             \u001b[0;31m# Hash the input\u001b[0m\u001b[0;34m\u001b[0m\u001b[0;34m\u001b[0m\u001b[0;34m\u001b[0m\u001b[0m\n\u001b[0;32m--> 352\u001b[0;31m             \u001b[0mb\u001b[0m \u001b[0;34m=\u001b[0m \u001b[0;34mb\"%s:%s\"\u001b[0m \u001b[0;34m%\u001b[0m \u001b[0;34m(\u001b[0m\u001b[0mtname\u001b[0m\u001b[0;34m,\u001b[0m \u001b[0mself\u001b[0m\u001b[0;34m.\u001b[0m\u001b[0m_to_bytes\u001b[0m\u001b[0;34m(\u001b[0m\u001b[0mobj\u001b[0m\u001b[0;34m,\u001b[0m \u001b[0mcontext\u001b[0m\u001b[0;34m)\u001b[0m\u001b[0;34m)\u001b[0m\u001b[0;34m\u001b[0m\u001b[0;34m\u001b[0m\u001b[0m\n\u001b[0m\u001b[1;32m    353\u001b[0m \u001b[0;34m\u001b[0m\u001b[0m\n\u001b[1;32m    354\u001b[0m             \u001b[0;31m# Hmmm... It's possible that the size calculation is wrong. When we\u001b[0m\u001b[0;34m\u001b[0m\u001b[0;34m\u001b[0m\u001b[0;34m\u001b[0m\u001b[0m\n",
            "\u001b[0;32m/usr/local/lib/python3.7/dist-packages/streamlit/hashing.py\u001b[0m in \u001b[0;36m_to_bytes\u001b[0;34m(self, obj, context)\u001b[0m\n\u001b[1;32m    606\u001b[0m             \u001b[0mh\u001b[0m \u001b[0;34m=\u001b[0m \u001b[0mhashlib\u001b[0m\u001b[0;34m.\u001b[0m\u001b[0mnew\u001b[0m\u001b[0;34m(\u001b[0m\u001b[0;34m\"md5\"\u001b[0m\u001b[0;34m)\u001b[0m\u001b[0;34m\u001b[0m\u001b[0;34m\u001b[0m\u001b[0m\n\u001b[1;32m    607\u001b[0m \u001b[0;34m\u001b[0m\u001b[0m\n\u001b[0;32m--> 608\u001b[0;31m             \u001b[0;32mif\u001b[0m \u001b[0mself\u001b[0m\u001b[0;34m.\u001b[0m\u001b[0m_file_should_be_hashed\u001b[0m\u001b[0;34m(\u001b[0m\u001b[0mobj\u001b[0m\u001b[0;34m.\u001b[0m\u001b[0m__code__\u001b[0m\u001b[0;34m.\u001b[0m\u001b[0mco_filename\u001b[0m\u001b[0;34m)\u001b[0m\u001b[0;34m:\u001b[0m\u001b[0;34m\u001b[0m\u001b[0;34m\u001b[0m\u001b[0m\n\u001b[0m\u001b[1;32m    609\u001b[0m                 \u001b[0mcontext\u001b[0m \u001b[0;34m=\u001b[0m \u001b[0m_get_context\u001b[0m\u001b[0;34m(\u001b[0m\u001b[0mobj\u001b[0m\u001b[0;34m)\u001b[0m\u001b[0;34m\u001b[0m\u001b[0;34m\u001b[0m\u001b[0m\n\u001b[1;32m    610\u001b[0m                 \u001b[0;32mif\u001b[0m \u001b[0mobj\u001b[0m\u001b[0;34m.\u001b[0m\u001b[0m__defaults__\u001b[0m\u001b[0;34m:\u001b[0m\u001b[0;34m\u001b[0m\u001b[0;34m\u001b[0m\u001b[0m\n",
            "\u001b[0;32m/usr/local/lib/python3.7/dist-packages/streamlit/hashing.py\u001b[0m in \u001b[0;36m_file_should_be_hashed\u001b[0;34m(self, filename)\u001b[0m\n\u001b[1;32m    385\u001b[0m             \u001b[0;32mreturn\u001b[0m \u001b[0;32mFalse\u001b[0m\u001b[0;34m\u001b[0m\u001b[0;34m\u001b[0m\u001b[0m\n\u001b[1;32m    386\u001b[0m         return file_util.file_is_in_folder_glob(\n\u001b[0;32m--> 387\u001b[0;31m             \u001b[0mfilepath\u001b[0m\u001b[0;34m,\u001b[0m \u001b[0mself\u001b[0m\u001b[0;34m.\u001b[0m\u001b[0m_get_main_script_directory\u001b[0m\u001b[0;34m(\u001b[0m\u001b[0;34m)\u001b[0m\u001b[0;34m\u001b[0m\u001b[0;34m\u001b[0m\u001b[0m\n\u001b[0m\u001b[1;32m    388\u001b[0m         ) or file_util.file_in_pythonpath(filepath)\n\u001b[1;32m    389\u001b[0m \u001b[0;34m\u001b[0m\u001b[0m\n",
            "\u001b[0;32m/usr/local/lib/python3.7/dist-packages/streamlit/hashing.py\u001b[0m in \u001b[0;36m_get_main_script_directory\u001b[0;34m()\u001b[0m\n\u001b[1;32m    690\u001b[0m         \u001b[0;31m# This works because we set __main__.__file__ to the report\u001b[0m\u001b[0;34m\u001b[0m\u001b[0;34m\u001b[0m\u001b[0;34m\u001b[0m\u001b[0m\n\u001b[1;32m    691\u001b[0m         \u001b[0;31m# script path in ScriptRunner.\u001b[0m\u001b[0;34m\u001b[0m\u001b[0;34m\u001b[0m\u001b[0;34m\u001b[0m\u001b[0m\n\u001b[0;32m--> 692\u001b[0;31m         \u001b[0mmain_path\u001b[0m \u001b[0;34m=\u001b[0m \u001b[0m__main__\u001b[0m\u001b[0;34m.\u001b[0m\u001b[0m__file__\u001b[0m\u001b[0;34m\u001b[0m\u001b[0;34m\u001b[0m\u001b[0m\n\u001b[0m\u001b[1;32m    693\u001b[0m         \u001b[0;32mreturn\u001b[0m \u001b[0mos\u001b[0m\u001b[0;34m.\u001b[0m\u001b[0mpath\u001b[0m\u001b[0;34m.\u001b[0m\u001b[0mdirname\u001b[0m\u001b[0;34m(\u001b[0m\u001b[0mmain_path\u001b[0m\u001b[0;34m)\u001b[0m\u001b[0;34m\u001b[0m\u001b[0;34m\u001b[0m\u001b[0m\n\u001b[1;32m    694\u001b[0m \u001b[0;34m\u001b[0m\u001b[0m\n",
            "\u001b[0;31mInternalHashError\u001b[0m: module '__main__' has no attribute '__file__'\n\nWhile caching the body of `Load_model()`, Streamlit encountered an\nobject of type `builtins.function`, which it does not know how to hash.\n\n**In this specific case, it's very likely you found a Streamlit bug so please\n[file a bug report here.]\n(https://github.com/streamlit/streamlit/issues/new/choose)**\n\nIn the meantime, you can try bypassing this error by registering a custom\nhash function via the `hash_funcs` keyword in @st.cache(). For example:\n\n```\n@st.cache(hash_funcs={builtins.function: my_hash_func})\ndef my_func(...):\n    ...\n```\n\nIf you don't know where the object of type `builtins.function` is coming\nfrom, try looking at the hash chain below for an object that you do recognize,\nthen pass that to `hash_funcs` instead:\n\n```\nObject of type builtins.function: <function Load_model at 0x7f6cfcfd6830>\n```\n\nPlease see the `hash_funcs` [documentation]\n(https://docs.streamlit.io/en/stable/caching.html#the-hash-funcs-parameter)\nfor more details.\n            "
          ]
        }
      ]
    }
  ]
}