{
  "nbformat": 4,
  "nbformat_minor": 0,
  "metadata": {
    "colab": {
      "name": "lstm_MH_model.ipynb",
      "provenance": [],
      "authorship_tag": "ABX9TyPwrUjMDiTLz/raL/9CNZp9",
      "include_colab_link": true
    },
    "kernelspec": {
      "name": "python3",
      "display_name": "Python 3"
    }
  },
  "cells": [
    {
      "cell_type": "markdown",
      "metadata": {
        "id": "view-in-github",
        "colab_type": "text"
      },
      "source": [
        "<a href=\"https://colab.research.google.com/github/Gail529/Mental-health/blob/main/lstm_MH_model.ipynb\" target=\"_parent\"><img src=\"https://colab.research.google.com/assets/colab-badge.svg\" alt=\"Open In Colab\"/></a>"
      ]
    },
    {
      "cell_type": "code",
      "metadata": {
        "colab": {
          "base_uri": "https://localhost:8080/"
        },
        "id": "54bvoPIZgTGY",
        "outputId": "353acca4-9311-4c11-b9b3-da64a052b963"
      },
      "source": [
        "import pandas as pd \n",
        "import numpy as np\n",
        "import gensim\n",
        "import os\n",
        "import tweepy as tw\n",
        " \n",
        "#tweet preprocessing \n",
        "import nltk\n",
        "nltk.download('punkt')\n",
        "nltk.download('stopwords')\n",
        "nltk.download('wordnet')\n",
        "import string\n",
        "import re\n",
        "from keras import backend as K\n",
        "from tensorflow.keras.models import Model, load_model\n",
        "from nltk.tokenize import word_tokenize,sent_tokenize,TweetTokenizer\n",
        "from nltk.stem import WordNetLemmatizer\n",
        "from nltk.corpus import stopwords\n",
        "from nltk.stem import PorterStemmer\n",
        " \n",
        " \n",
        " \n",
        "from tensorflow.python.keras.preprocessing.text import Tokenizer\n",
        "from tensorflow.python.keras.preprocessing.sequence import pad_sequences\n",
        " \n",
        "\n",
        "import pickle \n",
        "import keras\n",
        "from keras.models import Sequential\n",
        "from keras.layers import Dense,Embedding,LSTM,GRU\n",
        "from keras.layers.embeddings import Embedding\n",
        "from keras.initializers import Constant\n",
        "import tensorflow as tf\n",
        "from tensorflow.keras.layers import Dense, Flatten, LSTM, Dropout, Activation, Embedding, Bidirectional"
      ],
      "execution_count": 1,
      "outputs": [
        {
          "output_type": "stream",
          "text": [
            "[nltk_data] Downloading package punkt to /root/nltk_data...\n",
            "[nltk_data]   Unzipping tokenizers/punkt.zip.\n",
            "[nltk_data] Downloading package stopwords to /root/nltk_data...\n",
            "[nltk_data]   Unzipping corpora/stopwords.zip.\n",
            "[nltk_data] Downloading package wordnet to /root/nltk_data...\n",
            "[nltk_data]   Unzipping corpora/wordnet.zip.\n"
          ],
          "name": "stdout"
        }
      ]
    },
    {
      "cell_type": "code",
      "metadata": {
        "id": "wW8CXhEhBaWl"
      },
      "source": [
        "data=pd.read_csv('/content/Mental_health.csv')"
      ],
      "execution_count": 2,
      "outputs": []
    },
    {
      "cell_type": "code",
      "metadata": {
        "id": "-SrqEWYCf2SE",
        "colab": {
          "base_uri": "https://localhost:8080/",
          "height": 450
        },
        "outputId": "06c2f5f8-a2a3-4ba9-fee9-9f95d28c1122"
      },
      "source": [
        "data.head(4)\n"
      ],
      "execution_count": 3,
      "outputs": [
        {
          "output_type": "execute_result",
          "data": {
            "text/html": [
              "<div>\n",
              "<style scoped>\n",
              "    .dataframe tbody tr th:only-of-type {\n",
              "        vertical-align: middle;\n",
              "    }\n",
              "\n",
              "    .dataframe tbody tr th {\n",
              "        vertical-align: top;\n",
              "    }\n",
              "\n",
              "    .dataframe thead th {\n",
              "        text-align: right;\n",
              "    }\n",
              "</style>\n",
              "<table border=\"1\" class=\"dataframe\">\n",
              "  <thead>\n",
              "    <tr style=\"text-align: right;\">\n",
              "      <th></th>\n",
              "      <th>Unnamed: 0</th>\n",
              "      <th>tweets</th>\n",
              "      <th>Positive</th>\n",
              "      <th>Negative</th>\n",
              "      <th>Anger</th>\n",
              "      <th>Anticipation</th>\n",
              "      <th>Disgust</th>\n",
              "      <th>Fear</th>\n",
              "      <th>Joy</th>\n",
              "      <th>Sadness</th>\n",
              "      <th>Surprise</th>\n",
              "      <th>Trust</th>\n",
              "      <th>afinn_score</th>\n",
              "      <th>positive_vader</th>\n",
              "      <th>negative_vader</th>\n",
              "      <th>neutral_vader</th>\n",
              "      <th>emotion_score</th>\n",
              "      <th>labels</th>\n",
              "    </tr>\n",
              "  </thead>\n",
              "  <tbody>\n",
              "    <tr>\n",
              "      <th>0</th>\n",
              "      <td>0</td>\n",
              "      <td>people can also take advantage of your phone a...</td>\n",
              "      <td>2</td>\n",
              "      <td>2</td>\n",
              "      <td>1</td>\n",
              "      <td>1</td>\n",
              "      <td>1</td>\n",
              "      <td>1</td>\n",
              "      <td>1</td>\n",
              "      <td>1</td>\n",
              "      <td>1</td>\n",
              "      <td>1</td>\n",
              "      <td>2.0</td>\n",
              "      <td>0.090</td>\n",
              "      <td>0.101</td>\n",
              "      <td>0.809</td>\n",
              "      <td>0.283441</td>\n",
              "      <td>2</td>\n",
              "    </tr>\n",
              "    <tr>\n",
              "      <th>1</th>\n",
              "      <td>1</td>\n",
              "      <td>christmas is a good time to start practicing g...</td>\n",
              "      <td>3</td>\n",
              "      <td>0</td>\n",
              "      <td>0</td>\n",
              "      <td>3</td>\n",
              "      <td>0</td>\n",
              "      <td>1</td>\n",
              "      <td>3</td>\n",
              "      <td>0</td>\n",
              "      <td>1</td>\n",
              "      <td>1</td>\n",
              "      <td>3.0</td>\n",
              "      <td>0.388</td>\n",
              "      <td>0.000</td>\n",
              "      <td>0.612</td>\n",
              "      <td>0.110710</td>\n",
              "      <td>1</td>\n",
              "    </tr>\n",
              "    <tr>\n",
              "      <th>2</th>\n",
              "      <td>2</td>\n",
              "      <td>driving in the midst of depression   mindwand...</td>\n",
              "      <td>1</td>\n",
              "      <td>2</td>\n",
              "      <td>0</td>\n",
              "      <td>1</td>\n",
              "      <td>0</td>\n",
              "      <td>1</td>\n",
              "      <td>0</td>\n",
              "      <td>1</td>\n",
              "      <td>0</td>\n",
              "      <td>0</td>\n",
              "      <td>0.0</td>\n",
              "      <td>0.087</td>\n",
              "      <td>0.315</td>\n",
              "      <td>0.598</td>\n",
              "      <td>0.171658</td>\n",
              "      <td>1</td>\n",
              "    </tr>\n",
              "    <tr>\n",
              "      <th>3</th>\n",
              "      <td>3</td>\n",
              "      <td>may the prince of peace give u all peace of ou...</td>\n",
              "      <td>4</td>\n",
              "      <td>0</td>\n",
              "      <td>0</td>\n",
              "      <td>2</td>\n",
              "      <td>0</td>\n",
              "      <td>0</td>\n",
              "      <td>2</td>\n",
              "      <td>0</td>\n",
              "      <td>0</td>\n",
              "      <td>2</td>\n",
              "      <td>4.0</td>\n",
              "      <td>0.292</td>\n",
              "      <td>0.000</td>\n",
              "      <td>0.708</td>\n",
              "      <td>0.075926</td>\n",
              "      <td>1</td>\n",
              "    </tr>\n",
              "  </tbody>\n",
              "</table>\n",
              "</div>"
            ],
            "text/plain": [
              "   Unnamed: 0  ... labels\n",
              "0           0  ...      2\n",
              "1           1  ...      1\n",
              "2           2  ...      1\n",
              "3           3  ...      1\n",
              "\n",
              "[4 rows x 18 columns]"
            ]
          },
          "metadata": {
            "tags": []
          },
          "execution_count": 3
        }
      ]
    },
    {
      "cell_type": "code",
      "metadata": {
        "id": "PTFtM_4wT1vi"
      },
      "source": [
        "#lowercasing and url,punctuations and numbers removal,\n",
        "def Lowercasing(words):\n",
        "    string=re.sub(\"([^0-9A-Za-z \\t])|(\\w+:\\/\\/\\S+)\", \"\",str(words))\n",
        "    word=string.lower()\n",
        "    return word\n",
        "\n",
        "#Tokenization and (@)handle extraction\n",
        "def Tokenization(tweet):\n",
        "    tokenizer=TweetTokenizer(strip_handles=True)\n",
        "    tokens = tokenizer.tokenize(tweet)\n",
        "    return tokens\n",
        "\n",
        "#punctuations\n",
        "def Punctuation_removal(tokens):\n",
        "    words=[ word for word in tokens if word.isalnum()]\n",
        "    return words\n",
        "\n",
        "#stemming\n",
        "def stemming(text):\n",
        "    stemmer=PorterStemmer()\n",
        "    for  word in text:\n",
        "        stemmed_words=stemmer.stem(word)\n",
        "        return stemmed_words\n",
        "\n",
        "#stopword_removal\n",
        "def remove_stopwords(words):\n",
        "    stop_words=set(stopwords.words(\"english\")) \n",
        "    result=[word for word in words if word not in stop_words ]\n",
        "    return result\n",
        "\n",
        "\n",
        "#lemmatization\n",
        "def lemmatization(text):\n",
        "    lemmatizer=WordNetLemmatizer()\n",
        "    lemmatized_phrase=[]\n",
        "    for word in text:\n",
        "        lemmatized_word=lemmatizer.lemmatize(word)\n",
        "        lemmatized_phrase.append(lemmatized_word)\n",
        "    return lemmatized_phrase\n",
        " "
      ],
      "execution_count": 4,
      "outputs": []
    },
    {
      "cell_type": "code",
      "metadata": {
        "id": "nhIHXQmbzZF4"
      },
      "source": [
        "#code for cleaning a simple tweet\n",
        "def clean_tweet(tweet):\n",
        "    tweet_tokens=Tokenization(tweet)\n",
        "    lemmatized_tweet=lemmatization(tweet_tokens)#lemmatization\n",
        "    lowercased_string=Lowercasing(lemmatized_tweet)#lowercasing and removing numbers\n",
        "    return lowercased_string\n"
      ],
      "execution_count": 49,
      "outputs": []
    },
    {
      "cell_type": "markdown",
      "metadata": {
        "id": "6xeOh9nt2VeM"
      },
      "source": [
        "Tokenizing the tweet"
      ]
    },
    {
      "cell_type": "code",
      "metadata": {
        "colab": {
          "base_uri": "https://localhost:8080/"
        },
        "id": "DMP7clmMgm6t",
        "outputId": "510bbe08-08e2-4dd4-924e-c88a5e073269"
      },
      "source": [
        "tweets=data['tweets'].values.tolist()\n",
        "len(tweets)"
      ],
      "execution_count": 5,
      "outputs": [
        {
          "output_type": "execute_result",
          "data": {
            "text/plain": [
              "1999"
            ]
          },
          "metadata": {
            "tags": []
          },
          "execution_count": 5
        }
      ]
    },
    {
      "cell_type": "code",
      "metadata": {
        "id": "pOc3IFfojdT8"
      },
      "source": [
        "tweet_list=[]\n",
        "for tweet in tweets:\n",
        "    tokens =  word_tokenize(tweet)\n",
        "    #stop_words=set(stopwords.words(\"english\")) \n",
        "    #word=[word for word in tokens if word not in stop_words]\n",
        "    tweet_list.append(tokens)\n",
        "\n",
        "    "
      ],
      "execution_count": 6,
      "outputs": []
    },
    {
      "cell_type": "markdown",
      "metadata": {
        "id": "7Xs9p4Xe2g1m"
      },
      "source": [
        "Training the word2vec Model"
      ]
    },
    {
      "cell_type": "code",
      "metadata": {
        "id": "B24DKlqYgpp4",
        "colab": {
          "base_uri": "https://localhost:8080/"
        },
        "outputId": "fc741eb8-5434-4248-89b3-5440899b1cf0"
      },
      "source": [
        "EMBEDDING_DIM=100\n",
        "model = gensim.models.Word2Vec(sentences=tweet_list,size=EMBEDDING_DIM,window=5,workers=4,min_count=1)\n",
        "words = list(model.wv.vocab)\n",
        "print('Vocabulary size: %d',len(words))\n",
        "print(words)"
      ],
      "execution_count": 7,
      "outputs": [
        {
          "output_type": "stream",
          "text": [
            "Vocabulary size: %d 4908\n",
            "['people', 'can', 'also', 'take', 'advantage', 'of', 'your', 'phone', 'addiction', 'before', 'you', 'dont', 'treat', 'it', 'right', 'away', 'download', 'our', 'app', 'now', 'christmas', 'is', 'a', 'good', 'time', 'to', 'start', 'practicing', 'gratitude', 'check', 'out', 'how', 'will', 'change', 'life', 'driving', 'in', 'the', 'midst', 'depression', 'mindwandering', 'cause', 'higher', 'risk', 'be', 'careful', 'pl', 'may', 'prince', 'peace', 'give', 'u', 'all', 'mind', 'body', 'soul', 'from', 'today', 'going', 'forward', 'prayerforlove', 'anyone', 'else', 'just', 'pretending', 'they', 're', 'ok', 'sadtweets', 'sad', 'at', 'this', 'point', 'ain', 't', 'no', 'need', 'friend', 'for', 'help', 'trend', 'therefore', 'wisdom', 'gods', 'word', 'bring', 'christ', 'jesus', 'heart', 'without', 'delay', 'adult', 'there', 'still', 'struggling', 'with', 'abandonment', 'issue', 'caused', 'by', 'parent', 'divorce', 'know', 'that', 'yourself', 'gift', 'self', 'love', 'holiday', 'season', 'more', 'than', 'ever', 'we', 'must', 'prioritize', 'wellbeing', 'w', 'see', 'their', 'free', 'healthy', 'minds', 'related', 'whats', 'up', 'new', '2019', 'conference', 'released', 'author', 'peterbreggin', 'psychiatric', 'drugs', 'are', 'neurotoxins', 'why', 'and', 'skype', 'therapy', 'overcoming', 'anxiety', 'effective', 'psychotherapy', 'home', 'email', 'me', 'schedule', 'sky', 'what', 'my', 'coffee', 'say', 'december', '23', 'drink', 'its', 'sparkle', 'shine', 'llamazing', 'one', 'coffeelovers', 'better', 'line', 'between', 'patient', 'loved', 'protect', 'poa', 'truly', 'adv', 'get', 'interactive', 'session', 'best', 'doctor', 'reach', 'mentalhealth', 'amazing', 'singleparents', 'widows', 'who', 'have', 'lost', '2020', 'into', '2021', 'i', 'hope', 'talked', 'about', 'feel', 'worth', 'reposting', 'rereading', 'an', 'endogenous', 'opioid', 'deficiency', 'expanded', 'suffocation', 'false', 'alarm', 'theory', 'model', 'employers', 'hr', 'department', 'should', 'consider', 'way', 'ease', 'stress', 'among', 'workforce', 'after', 'researchers', 'explain', 'maintaining', 'holidayrituals', 'important', 'especially', 'during', 'pandemic', 'ability', 'manage', 'proportional', 'adept', 'getting', 'others', 'do', 'want', 'them', 'conquering', 'issues', '15', 'hour', '595', 'student', '2017', 'release', 'link', 'such', 'chat', '18summerstribe', 'speaking', 'imperfectlyperfectcampaign', 'mindset', 'suffer', 'ocd', 'yes', 'these', 'struggle', 'tough', 'deal', 'but', 'never', 'hide', 'spe', 'compelling', 'story', 'clients', 'incorrect', 'diagnosis', 'neurofeedback', 'treatment', 'changed', 'her', 'watch', 'full', 'vi', 'mindfulness', 'matter', 'card', 'game', 'thats', 'gamechanger', 'calm', 'grateful', 'resource', 'been', 'useful', 'thankyou', 'being', 'voice', 'remember', 'discussing', 'terrorism', 'well', 'known', 'security', 'analyst', 'he', 'wa', 'critical', 'open', 'll', 'stop', 'advocating', 'prevention', 'necessary', 've', 'created', 'wellness', 'center', 'video', 'does', 'super', 'annoyed', 'shut', 'down', 'health', 'canada', 'warns', 'against', 'company', 'selling', 'unlicensed', 'healthcare', 'goodhealth', 'research', 'standard', 'quote', 'on', 'motivation', 'management', 'procrastination', 'apply', 'here', 'human', 'real', 'mvp', 'go', 'detail', 'suffice', 'lot', 'discussed', 'bottom', 'if', 'yo', 'black', 'child', 'selective', 'mutism', 'selectivemutism', 'sm', 'parentingtips', 'everyone', 'asking', 'mitochondrion', 'justice', 'mitochondria', 'online', 'depending', 'antidepressant', 'desperate', 'cancer', 'manual', 'isn', 'not', 'too', 'late', 'welcome', 'ebooks', 'offer', 'instant', 'freedelivery', 'virus', 'ending', 'business', 'standing', 'employee', 'back', 'work', 'excellent', 'credit', 'asset', 'journal', 'hope2healed', 'mental', 'therapist', 'threat', 'covid19', 'ourselves', 'community', 'lead', 'worry', 'fear', 'sadness', 'even', 'hopel', 'happy', 'holidays', 'rpsv', 'alone', 'join', 'special', 'zoom', 'celebration', '2', 'pm', 'est', 'rp', 'theres', 'perfect', 'begin', 'something', 'towards', 'perfection', 'selfcare', 'selflove', 'scamprevention101', 'scam', 'awareness', '12', 'days', 'summary', 'scams', 'am', 'reminder', 'safe', 'panic', 'counselling', 'surrey', 'middlesex', 'anxietydisorder', 'tip', '24', 'slow', 'society', 'constant', 'acceleration', 'set', 'own', 'pace', 'try', 'cooking', 'message', 'valued', 'member', 'cutest', 'baby', 'merry', 'yours', 'forgiveness', 'entry', 'ticket', 'healing', 'reflection', 'seasonal', 'affective', 'disorder', 'like', 'diet', 'exercise', 'professional', 'team', 'wish', 'lovely', 'stay', 'enjoy', 'youve', 'earne', 'head', 'present', 'moment', 'overthink', 'hoomans', 'mentalhealthmatters', 'prayerforhope', 'afraid', 'person', 'having', 'difficult', 'checkin', 'or', 'nothing', '1224', 'off', 'whilst', 'moon', 'taurus', 'harm', 'read', 'blog', 'avoid', 'gaining', 'unnecessary', 'weight', 'weightloss', 'very', 'minded', 'psychology', 'loveyourself', 'lets', 'roll', 'family', 'relationship', 'mentorship', 'mindfullness', 'drug', 'kid', 'merrychristmas', 'christmaslove', 'mindful', 'memory', 'often', 'transcends', 'experience', 'nn', 'aware', 'growth', 'lately', 'feeling', 'year', 'm', 'die', 'suicide', 'kind', 'l', 'through', 'roof', 'cant', 'anymore', 'im', 'nervous', 'breakdown', 'heard', 'xanthophobia', 'havent', 'then', 'bad', 'because', 'youre', 'xantho', 'r', '10', 'conditions', 'helped', 'massage', 'reflexologytherapy', 'reflexology', 'reflexologytreats', 'pathogenic', 'parenting', 'behavior', 'alienators', 'narcissisticabuse', 'childabuse', 'silence', 'while', 'dealing', 'stressor', 'arpan', 'pls', 'tell', 'making', 'decision', 'around', 'seems', 'think', 'wasting', 'deciding', 'many', 'bcers', 'adhd', 'other', 'condition', 'afford', 'counsellor', 'unless', 'e', 'talk', 'conversation', 'starter', 'okay', 'ask', 'question', 'mean', 'noticed', 'qu', '22', 'vet', 'commit', 'everyday', 'great', 'insight', 'face', 'please', 'share', 'mother', 'resented', 's', 'learned', 'myself', 'some', 'women', 'men', 'make', 'end', 'meet', 'travel', 'name', 'official', 'dut', 'harvard', 'psychiatrist', 'explains', 'choke', 'stressful', 'situation', 'stresstips', 'wrote', 'poem', 'husband', '33', 'passed', 'brings', 'comfort', 'sometimes', 'look', 'light', 'covid', '19', 'ha', 'reshaped', 'etpodcast', 'hosted', 'guests', 'ishita', 'pateria', 'hey', 'twitter', 'quiet', 'taken', 'nosedive', 'dark', 'cl', 'tricky', 'normally', 'so', 'f', 'major', 'abusethe', 'itself', 'shunned', 'b', 'used', 'series', 'belonging', 'gay', 'doe', 'create', 'within', 'sti', 'true', 'temporary', 'long', 'missed', 'grandchild', 'birthday', 'holid', 'affirm', 'tag', 'affirmyourself', 'informative', 'thread', 'toxic', 'positivity', 'different', 'positive', 'always', 'congress', 'doesn', 'content', 'attack', 'smriti', 'ji', 'taking', 'bribe', 'practice', 'shower', 'definitely', 'find', 'prac', 'oral', 'checkup', 'camp', 'rosalin', 'development', 'centre', 'lucknow', 'those', 'grinch', 'photo', 'keep', 'seeing', 'social', 'medium', 'quit', 'sharing', 'instead', 'trauma', 'becomes', 'peaceful', 'when', 'eliminate', 'habit', 'image', 'macrovector', 'via', 'his', 'final', 'stage', 'asked', 'funer', 'retweet', 'spread', 'daily', 'inspiration', 'quotes', 'quotesoftheday', 'twitch', 'click', 'mawenergy', 'wolvesrecruit', 'contact', 'learn', 'treatmen', 'care', 'wake', 'wave', 'door', 'place', 'knocking', 'opening', 'under', 'existing', 'accept', 'absorb', 'both', 'mentally', 'ill', 'teenage', 'girl', 'exhausting', 'relate', 'momlife', 'pain', 'yoga', 'nnnn', '0', 'challenging', 'as', 'usher', 'newyear', 'together', 'staysafe', 'stayhealthy', 'four', 'week', 'pranayama', 'breathing', 'reduces', 'linked', 'brain', 'speak', 'deprived', 'thinking', 'framework', 'day', 'easy', 'illness', 'doesnt', 'define', '17', 'connections', 'narcissist', 'victim', 'below', 'reason', 'uncomfortable', 'talking', 'subject', 'surrounding', 'most', 'normalising', 'fend', 'neg', 'last', 'minute', 'giving', 'someone', 'support', 'pin', 'careergoals', 'setting', 'marketing', 'clearance', 'nightware', 'first', 'prescription', 'therapeutic', 'nightmare', 'nightm', 'young', 'm4m', 'soulfulcorners', 'livenow', 'letter', 'statement', 'finished', 'certification', 'media', 'future', 'clinical', 'counselor', 'plan', 'use', 'matters', 'nohealthwithoutmentalhealth', 'cat', 'wage', 'insurgency', 'war', 'hummingbird', 'circle', 'tune', 'unfold', 'high', 'impact', 'across', 'migration', 'gender', 'guilt', 'powerful', 'influence', 'shames', 'destructive', 'shame', 'erodes', 'courage', 'morning', 'wide', 'awake', 'ridiculous', 'u0001f90d', 'forgottenservice', 'excited', 'information', 'sunday', 'fda', 'approved', 'li', 'practical', 'guide', 'achieving', 'mustread', 'searching', 'imp', 'using', 'dubious', 'terror', 'where', 'element', 'understan', 'haven', 'longer', 'earth', 'thought', 'practitioner', 'certificate', 'beginner', 'advanced', 'personcentred', 'couns', 'push', 'autism', 'assessment', 'becoming', 'volunteer', '30', 'training', 'commitment', '2m', 'which', 'isnt', 'followed', 'class', 'students', 'teacher', 'safety', '112', 'don', 'trigger', 'warning', 'discussion', 'hospitaliza', 'two', 'emotions', 'kids', 'might', 'parents', 'therapists', 'storybook', 'genius', 'much', 'veteranpeersupport', 'narcissisticabusesurvivor', 'journey', 'workout', 'allnatural', 'cleanse', 'focus', 'surrender', 'unclench', 'shoulder', 'reside', 'near', 'ear', 'soften', 'j', 'closer', 'hard', 'yall', 'mentals', 'wonderful', 'magical', 'merrychristmas2020', 'womenshealth', 'medical', 'literally', 'everything', 'hate', 'listen', 'melissamosher', 'savvyninja', 'supportsavvy', 'period', 'busymums', 'theemergingwomen', 'sleep', 'anxious', 'podcast', 'sponsor', '7', 'night', 'trial', 'reduce', 'woke', 'mighty', 'case', 'only', 'thing', 'cracked', 'particular', 'egg', 'had', 'wanted', 'actually', 'hit', 'wall', 'tabl', 'basic', 'regrets', 'worksheet', '3', 'worksheets', 'tracker', 'book', 'brave', 'control', 'scary', 'feelings', 'fears', 'stopthehybrid', 'th', 'would', 'number', 'suffering', 'increased', 'substantially', 'since', 'yet', 'mindfulnesswithaura', 'nnnnn', 'relaxation', 'disagree', 'disagreement', 'co', 'continue', 'highlight', 'importance', 'mass', 'along', 'tired', 'guess', 'antisocial', 'personality', 'sign', 'mentalillness', 'improved', 'anything', 'big', 'little', 'could', 'simple', 'come', 'soundhealing', 'parasites', 'eh', 'court', 'uk', 'limp', 'louisville', 'nfl', 'nba', 'clear', 'cut', 'democrats', 'identifying', 'gotcha4life', 'mate', 'characteristic', 'become', 'gotcha', '4life', 'pract', 'break', 'immersed', 'professionally', 'win', '4999', 'joy', 'selfhelp', 'short', 'bread', 'witch', 'ventart', 'ventfiction', 'freewrite', 'todays', 'medusas', 'gaze', 'binds', 'wattpad', 'wattpadundiscoveredgems', 'amwriting', 'poetry', 'value', 'extremely', 'contextual', 'complex', 'price', 'rarely', 'importantly', 'yep', 'alot', 'bit', 'processing', 'jeopardy', 'player', 'show', 'eve', 'poetrycommunity', 'poetryisnotdead', 'poetryslam', 'activity', 'kiddos', 'celebrate', 'ptsd', 'role', 'temperature', 'drop', 'deppressed', 'note', 'wouldnt', 'nice', 'cultural', 'competency', 'chapte', 'writing', 'writingcommunity', 'chapt', 'quick', 'coping', 'strategy', 'tension', 'suggestion', 'fantastic', 'advocate', 'cha', 'oz', 'xmas', 'valkyries', 'spirit', 'd', 'hang', 'beginning', 'theresidencerehab', 'rehab', 'follow', 'expect', 'miracle', 'dontquit', 'youmatter', 'ta', 'sure', 'count', 'v', 'greater', 'star', 'oak', 'dream', 'gentle', 'kiss', 'fierce', 'rain', 'thundering', 'peach', 'city', 'launch', 'screening', 'tumultuous', 'uturn', 'leading', 'cve', 'organization', 'holistic', 'perspective', 'pve', 'chronicloveclub', 'chronicillness', 'invisibleillness', 'disability', 'chronicpain', 'bekind', 'thank', 'currently', '147', 'sober', 'allow', 'gathering', 'temp', 'preach', 'goddess', 'mentalwellness', 'restful', 'reflect', 'overcome', 'mi', 'palliative', 'clean', 'sea', 'breeze', 'century', 'blowing', 'put', 'calendar', '0114', 'looking', 'technique', 'vent', 'suck', 'nojudgement', 'improve', 'executive', 'functioning', 'latest', 'kate', 'uplifting', 'post', 'artwork', 'each', 'younger', 'highly', 'dissociative', 'due', 'childhood', 'abuse', 'disassociation', 'later', 'led', 'grounding', 'hear', 'crap', 'emotionalabuse', 'physicalabuse', 'essential', 'ingredient', 'recovery', 'problem', 'therapynotes', 'eyes', 'survivor', 'let', 'claim', 'mentalhealthawareness', 'psychotherapist', 'rock', 'pink', 'teamcuesoul', 'cuesoul', 'autismawarenessindarts', 'dartwolf', 'jdcvirtual', 'toys', 'promote', 'physical', 'archive', 'mhblogger', 'goeasy', 'survivinglockdown', 'ah', 'scrubbysquad', 'scrubbysquadster', 'calscruby', 'fight', 'veteransunite', 'veteransawareness', 'military', 'veteranlivesmatter', 'veterans', 'homie', 'type', 'hormone', 'biohackersassemble', 'hackoflife', 'healthyliving', 'hackingtools', 'despite', 'evidence', 'serious', 'connected', 'violence', '11', 'woman', 'journalist', 'challenge', 'suicidehaters', 'depressionawareness', 'anxietyawareness', 'nami', 'nation', 'largest', 'grassroot', 'job', 'milieu', 'behavioral', 'manager', 'reduction', 'specialist', 'chapter', 'tribute', 'client', 'walked', '2nd', 'anniversary', 'ground', 'cov', 'scotty', 'miles', 'another', 'tweets', 'access', 'servic', 'ellen', 'anni', 'tested', 'vitamin', 'iron', 'deficient', 'supplement', 'eventually', 'le', 'exhaust', 'calcium', 'added', 'extra', 'blessings', 'prolia', 'shot', 'november', 'paul', 'did', 'remembering', 'pill', 'stabbing', 'side', 'again', '43300', 'goal', 'donated', 'shared', 'blessin', 'generous', 'donation', 'osteopenia', 'osteoarthritis', 'million', 'americans', 'facing', 'working', 'walk', 'throu', 'request', 'call', 'text', 'spending', 'shorts', 'wesaynotomazepin', 'academicsuccess', 'winterbreak', '12daysofwellness', 'reading', 'outlet', 'discovering', 'foreign', 'world', 'expanding', 'thinkin', 'losing', 'worst', 'happen', 'lose', 'living', 'jo', 'politely', 'calmly', 'father', 'said', 'ki', 'realize', 'dwayne', 'johnson', 'drds', 'gametherapy', 'live', 'mmowedday', 'catnipgames', 'shroudoftheavatar', 'pla', 'ponder', '200', 'h', 'coming', 'n', 'school', 'buy', 'tech', 'upgrade', 'hv', 'socialmediacleanse', 'digitaldetox', 'heres', '5', 'potential', 'sir', 'income', 'education', 'loan', 'pay', 'lo', 'ironically', 'mha', 'mag', 'ministry', 'smh', 'existence', 'bpd', 'however', 'calling', 'worker', 'trying', 'al', 'catch', 'once', 'relax', 'attempt', 'every', 'couple', 'informed', 'hurt', 'sta', 'virtualappointment', 'florida', 'miami', 'winterpark', 'orlando', 'jacksonville', 'tallahassee', 'mood', 'examine', 'anytime', 'emotional', 'response', 'intense', 'immensely', 'alyson', 'joined', 'discus', 'wednesday', 'already', '218', 'breathed', 'front', 'september', 'dead', 'wait', 'hell', 'kill', 'comic', 'selfesteem', 'anxietys', 'yinyang', 'balance', 'healthyplace', 'anxietyrelief', 'study', 'transdiagnostic', 'cognitivebehavioral', 'significantly', 'improves', 'sxs', 'effect', 'loneliness', 'particularly', 'based', 'yearend', 'questions', 'strategies', 'activat', 'haiku', 'haikuchallenge', 'writingcommnunity', 'compassion', 'nutmeglogic', 'rays', 'symbolise', 'eternal', 'interested', 'psychologist', 'singapore', 'reality', 'fulfill', 'activate', 'bare', 'planner', 'fresh', 'goalsetting', 'manifesting', 'understanding', 'oppositional', 'defiant', 'moved', 'grab', 'onto', 'falling', 'stick', 'got', 'math', 'wrong', 'found', 'enjoyed', 'anthony', 'manna', 'accomplisments', 'published', 'wildfire', 'burned', 'certainty', 'winter', 'appeared', 'collective', 'posi', 'simply', 'realistic', 'beautiful', 'portrayal', 'strug', 'examined', 'trump', 'insanity', 'gop', 'elections2020', 'yay', 'done', 'hiddenillness', 'incredibly', 'fabulous', 'fully', 'joylurking', 'cleaned', 'sliding', 'fly', 'screen', 'jam', 'toothbrush', 'hyperfocus', 'meantime', 'crashbandicoot', 'doodle', 'partial', 'hospitalization', 'program', 'folder', 'drawing', 'betwee', 'insomnia', 'affirmation', 'calming', 'guided', 'wife', 'manages', 'cbt', 'brief', 'india', 'sleeplessness', 'mobile', 'o', 'reaching', 'campaign', 'c', 'needs', 'children', 'ld', 'learningdisabilities', 'were', 'heading', 'next', '0800', '83', '85', '87', 'weekdays', 'mondaythursday', '6pm', '2am', 'weekend', 'friday', 'hurdles', 'combat', 'posttraumaticstress', 'veteran', 'history', 'career', 'held', 'grief', 'lonely', 'concern', 'everybody', 'instinct', 'action', 'chance', 'survival', 'basis', 'repost', 'years', 'usually', 'witc', 'ready', 'itsokaytonotbeokay', '2009', 'really', 'went', 'er', 'tha', 'admit', 'blue', 'soon', 'certain', 'arent', 'chart', 'remoteworking', 'buildbackstronger', 'happened', 'honestly', 'anger', 'treating', 'intrusive', 'visit', 'mates', '247', 'helpline', 'available', 'throughout', '1300', '642', '111', 'kidsnpajn', 'suicideprevention', 'joytrain', 'kindness', 'goldenhearts', 'iam', 'food', 'shopping', 'any', 'milk', 'ri', 'progressive', 'muscle', 'quality', 'perfecting', 'art', 'listening', 'healthymind', 'holistichealth', 'mentalhealthtips', 'recoveryispossible', 'shartzone', 'teeohgaming', '10pm', 'cst', 'vibes', 'warzone', 'streamer', 'nuketown', 'evaluate', 'level', 'test', 'main', 'uses', 'stimulant', 'energy', 'booster', 'anti', 'depressant', 'depressed', 'cheer', 'evening', 'notice', 'animal', 'experienced', 'hasnt', 'few', 'unhappy', 'veers', 'cbc', 'news', 'reminds', 'broken', 'bipolar', 'teen', 'confused', 'absolutely', 'eps', 'individuals', 'crisis', 'including', 'considering', 'urged', 'disaster', 'distress', 'navigating', 'lifes', 'emerge', 'emotionally', 'min', 'va', 'coach', 'concept', '25', 'bearing', 'brunt', 'toll', 'survey', 'low', 'key', 'starting', 'pretty', 'suffered', 'ed', 'age', '13', 'easier', 'popular', 'dramatic', 'tv', 'showcases', 'character', 'socialanxiety', 'felt', 'paranoia', 'month', 'strange', 'sickening', 'christmaseveeve', 'christmas2020', 'original', 'lexa', 'color', 'palette', 'she', 'nurse', 'gynoid', 'hospital', 'run', 'bubble', 'bath', 'facial', 'product', 'ways', 'current', 'episode', 'add', 'medication', 'step', 'bettering', 'wh', 'wont', 'dr', 'bonnie', 'henry', 'adrian', 'dix', 'cv', 'guideline', 'data', 'collection', 'president', 'insane', 'him', 'watching', 'terrifies', 'sociopath', 'danger', 'changeyourmindset', 'changeforthebetter', 'damn', 'asexuality', 'consent', 'gorilla', 'pretend', 'edchat', 'idwp', 'happiness', 'vitally', 'attention', 'nonprofits', 'workfromhome', 'finish', 'editing', 'memoir', 'edit', 'comprehensive', 'decline', 'overall', 'cognitive', 'function', 'sharedfacts', 'update', 'slept', 'cried', 'fuck', 'fuckchristmas', 'fuck2020', 'yeg', 'subah', 'jaldi', 'utho', 'sab', 'theek', 'ho', 'jayega', 'relation', 'betw', 'whatgoesupmustcomedown', 'almost', 'made', 'mistake', 'december25', 'hold', 'candle', 'lull', 'darkness', 'tonight', 'lie', 'abou', 'ultimately', 'craving', 'cravings', 'fault', 'natural', 'symptom', 'triggers', 'somebody', 'aint', 'surface', 'recommend', 'denver', 'bored', 'reducing', 'isolation', 'dea', 'screwed', 'over', 'belief', 'telling', 'robbe', 'selfhypnosis', 'prechristmas', 'rush', 'jesuscalling', 'dude', 'earned', 'belt', 'red', 'gi', 'committing', 'virtual', 'distancing', 'reduced', 'pleasurable', 'loss', 'financial', 'inse', 'rest', 'aloha', 'hawaii', 'keiki', 'families', 'ohana', 'though', 'pregnancy', 'supposed', 'happiest', 'anywhere', '1020', 'talktoatherapistonline', 'onlinetherapy', 'oh', 'finally', 'curfew', '4', 'group', 'feels', 'mom', 'wants', 'united', 'easterseals', 'ceo', 'depersonalization', 'highachieving', 'hardworkcanmakeithappen', 'blessing', 'disguise', 'amidst', 'descends', 'upon', 'household', 'sooth', 'spend', 'deserve', 'authenticity', 'chronic', 'diseases', 'htn', 'dm', 'affects', 'mantras', 'ordered', 'llama', 'curtain', 'started', 'cry', '283', 'extroverts', 'view', 'blah', 'humbug', 'fading', 'slowly', 'peripheral', 'artery', 'disease', 'room', 'unimportant', 'fe', 'pvcs', 'worse', 'motivated', 'generosity', 'lovingkindness', 'interdependence', 'zahar', 'smile', 'esp', 'darkest', 'pu', 'teaching', 'madman', 'truth', 'innovation', 'motivationalquotes', 'thursdaymorning', 'robbed', 'demonstrate', 'kings', 'queens', 'stand', 'chin', 'agap', 'explore', 'explorepage', 'agenda', 'until', 'jan', '4th', 'anyth', 'favourite', 'meme', 'crystalclear', 'chatting', 'iot', 'cryptocurrency', 'blockchain', 'kzsu', 'stanford', 'ipt', 'personal', 'stories', 'individual', 'affected', 'syringomyelia', 'chiarimalformation', 'rarediseases', 'enjoying', 'freedom', 'facebook', 'fit', 'fitnessmotivation', 'associated', 'fourfold', 'cardiovascular', 'death', 'treatable', 'rachel', 'hollis', 'didn', 'putting', 'smash', 'artist', 'hangxiety', 'avoided', 'hangover', 'glimpse', 'further', '2000', 'yearold', 'barcelona', 'greenspace', 'green', 'runnymede', 'phobia', 'consumerism', 'alienation', 'empowerment', 'transformation', '9', 'early', '18', 'continued', 'moderate', 'severe', 'volunteering', 'supporting', 'promoting', 'grieving', 'covid19sa', 'desired', 'inspirational', 'thebadbitchbibleblog', 'tips', 'separation', 'preschooler', 'scream', 'crippling', 'monster', 'oops', 'monsterenergy', 'economy', 'sociologist', 'alain', 'ehrenber', 'chap', 'watchingamistad', 'burn', 'fire', 'cell', 'emergency', 'exit', 'sayin', 'noticing', 'g', 'quite', 'beyond', 'keeping', 'expectation', 'path', 'thriving', 'grandpa', 'jim', 'clam', 'fog', 'whisperer', 'rank', '1', 'intothefog', 'igy6', 'sound', 'indulgent', 'priority', '2018', 'fword', 'oil', 'overwhelming', 'article', 'onlinecoaching', 'remains', 'presence', 'rather', 'prefer', 'hopeworld', 'january', '1st', 'bri', 'givers', 'limit', 'taker', 'wolchin', 'boundaries', 'machine', 'doing', 'aboriginal', 'torres', 'strait', 'islander', 'athletes', 'psychological', 'lean', 'studentathletes', 'thursday', 'namicoloradosprings', 'endthestigma', 'ive', 'failed', 'summer', 'tucked', 'aw', 'enough', 'sparked', 'ngl', 'stream', 'connect', 'humble', 'yourselves', 'god', 'hand', 'lift', 'cast', 'able', 'acknowledge', 'attacking', 'elliptical', 'outside', '876', 'fitness', 'nolimits', 'kick', 'relatively', 'letting', 'dan', 'millman', 'defunded', 'criminal', 'fraud', 'denying', 'service', 'enormous', 'solution', 'moreo', 'prepared', 'managing', 'dunk', 'twist', 'top', 'anthem', 'artistsontwitter', 'badmood', 'boo', 'sob', 'yell', 'space', 'authentic', 'bod', 'farm', 'kellys', 'refer', 'k', 'forget', 'tl', 'battling', 'laugh', 'p', 'seizures', 'brought', 'wearing', 'mask', 'socialising', 'looked', 'chocolate', 'cake', 'lunch', 'upsetting', 'entire', 'running', 'lol', 'waking', 'middle', 'suddenly', 'el', 'plea', 'second', 'opinion', 'unusannuschallenge', 'playitforward365days', 'thankmas2020', 'thankmas', 'affect', 'productivity', 'seek', 'specialized', 'pet', 'pic', 'party', 'comment', 'beloved', 'caregivers', 'postpartum', 'nor', 'relationshipadvice', 'youtuber', 'smallyoutuber', 'jeresspace', 'lifestyleyoutuber', 'date', '14', 'naseem', 'myth', 'liar', 'masks', 'anxietyisaliar', 'atl', 'atlanta', 'maskup', 'educator', 'requires', 'removed', 'inclusive', 'opportunity', 'recharge', 'rejuvenate', 'persistent', 'newage', 'spiritual', 'steeped', 'tox', 'burnout', 'twas', 'land', 'cursing', 'local', 'tar', 'charity', 'close', 'someway', 'animalitos', 'cbd', 'dog', 'tincture', '300mg', 'painrelief', 'pets', 'dogs', 'arthritis', 'prevent', 'helpful', 'friendly', 'loving', 'othe', 'partner', 'staff', 'thesanctuarycourse', 'y', 'assemblage', 'nature', 'stomping', 'significant', 'movie', 'fact', 'wrap', 'regard', 'trained', 'former', 'captain', 'rick', 'vaive', 'hockey', 'writer', 'scott', 'morrison', 'save', 'term', 'queero', 'queer', 'hero', 'insp', 'man', 'drama', 'cousin', 'wanting', 'college', 'eat', 'functional', 'ned', 'vizzini', 'mota', 'thc', '900mg', 'indica', 'corner', 'stressing', 'u0001f97a', 'stressed', 'ugh', 'iwanttocry', 'detrimental', 'envy', 'appears', 'lindsey', 'narrates', 'growing', 'abusive', 'brutal', 'beating', 'answer', 'recovering', 'addicts', 'ridden', 'indie', 'film', 'movin', 'groovin', 'music', 'ma', 'offering', 'african', 'heritage', 'referr', 'coursemates', 'computer', 'icon', 'university', 'tall', 'theyll', 'fall', 'drowned', 'beer', 'miss', 'valid', 'tomorrow', 'promo', 'code', 'called', 'chosen', 'performance', 'bio', 'unusual', 'sam', 'reminded', 'bright', 'bargain', 'store', 'regular', 'sat', 'sun', 'closed', 'ca', 'makingtime', '18years', 'wear', 'dinner', 'table', 'lockdown', 'hopeisreal', 'ruined', 'ya', 'sink', 'wan', 'na', 'hitting', 'toughest', 'escaped', 'celebrateyou', 'sports', 'physicalheath', '3pm', 'announcement', 'whippedsheabutter', 'whippedbodybutter', 'example', 'cmhas', 'lack', 'integrity', 'leadership', 'gett', 'throw', 'bomb', 'thankful', 'shift', 'perspecti', 'mindbodyspirit', 'bet', 'st', 'prepare', 'cmha', 'talks', 'michelle', 'allysa', 'unmotivated', 'headed', 'trouble', 'ann', 'greco', 'anxi', 'christian', 'ridsdale', 'jail', 'stopchildabuse', 'lower', 'hippoca', '6', 'road', 'trip', 'hotelmarketing', 'hotelnews', 'estrogen', 'cvd', 'ogbyn', 'daniel', 'bahnmiller', 'damaging', '52', 'frequent', 'smartwatch', 'developed', 'hackathon', 'frickin', 'overthinking', 'mylife', 'same', 'relatable', 'memes', 'helping', 'u200d', 'folk', 'whose', 'obsession', 'crossed', 'ashwagandha', 'effects', 'induced', 'nobody', 'dismissive', 'elses', 'sheet', 'carers', 'ebook', 'codependents', 'codependent', 'melodybeatty', 'stayhome', 'nye', 'discuss', 'changing', 'landscape', 'scho', 'past', 'enlarge', 'boose', 'course', 'feb', 'attachment', 'rocking', 'gon', 'sway', 'chevonna', 'gaylor', 'lmft', 'pas', 'owned', 'forced', 'businessnews', 'ignorance', 'america', 'ge', 'advice', 'provided', 'longstanding', 'obstacle', 'acceptance', 'boundar', 'youd', 'monthly', 'newsletter', 'hilarious', 'fun', 'vlog', 'vlogmas', 'harsher', 'tier', 'disconnect', 'resour', 'seegod', 'despair', 'hopelessness', 'annoyance', 'schizophrenia', 'investigational', 'streamers', 'exhaustion', 'tweet', 'dec', '24th', 'likely', 'scheduled', 'june', '40', 'reported', 'substance', 'typical', 'ppl', 'talented', 'troubleshooting', 'common', 'areas', 'asd', 'asperger', 'stfu', 'juicewrld', 'match', 'burning', 'destroys', 'dolly', 'ball', 'sacked', 'pajamas', 'stigmas', 'pose', 'proud', 'noon', 'ms', 'teams', 'meeting', 'coalition', 'normal', 'ten', 'ago', 'ignore', 'far', 'holidayseason', 'holidays2020', 'superpower', 'bemightier', 'mightier', 'bigfeelings', 'keepcool', 'address', 'edtpa', 'forcing', 'turn', 'awakening', 'pattern', 'emotion', 'reliving', 'feelin', 'hypersexuality', 'sex', 'newest', 'lifestyles', 'host', 'soberiety', 'measures', 'institution', 'provide', 'adequate', 'supply', 'educate', 'deadly', 'impacted', 'unemployment', 'puck', 'handle', 'interdisciplinary', 'festival', 'iarf', 'arts', 'creative', 'youll', 'taco', 'writerslife', 'quoteoftheday', 'strong', 'decrease', 'glad', 'supportive', 'likes', 'needed', 'asktwitter', 'crystal', 'singing', 'bowl', 'holi', 'oxford', 'relations', 'coordinator', 'john', 'keyes', 'recently', 'rise', 'result', 'jobs', 'yesterdays', 'tools', 'marshall', 'mcluhan', 'search', 'ch', 'showing', 'act', 'sooner', 'things', 'substanceabuse', 'psychotic', 'website', 'recommendation', 'harmed', 'seemingly', 'sucked', 'idea', 'struck', 'studies', 'petting', 'blood', 'lipstick', 'pig', 'pei', 'govt', 'realizes', 'youtube', 'channel', 'adiaryfromnoone', 'popping', '2012', 'bpdandchristmas', 'covidchristmas2020', 'santa', 'slip', 'stabilizer', 'tree', 'awful', 'hurry', 'eye', 'tea', '12th', 'pt', 'livestream', 'bringing', 'increase', 'happening', 'prevalent', 'bl', 'grantee', 'provides', 'counseling', 'rural', 'area', 'limited', 'tms', 'noninvasive', 'empathy', 'digital', 'coffees', 'continues', 'raven', 'warren', 'mo', 'cost', 'measure', 'amplifykindnes', 'estancia', 'nm', 'hello', 'fam', 'blessed', 'meetup', 'sh', 'option', 'spreading', 'yoursel', 'sits', 'expert', 'erin', 'cantor', 'song', 'play', 'services', 'embrace', 'possible', 'came', 'hardened', 'dissapointments', 'tool', 'wildly', 'active', 'emptiness', 'inner', 'peggy', 'omara', 'motherhood', 'donald', 'verifiably', 'unwell', 'sociopathic', 'spiral', 'trumpisnotwell', 'npd', 'hands', 'id', 'weve', 'frustration', 'journaling', 'clensing', 'appreciate', 'drive', 'critic', 'perused', 'thus', 'deemed', 'worthy', 'instagram', 'caption', 'afsporgnewjersey', 'illustration', 'lifestyle', 'hashtags', 'befearless', 'gingercookies', 'son', 'prouddad', 'double', 'ginger', 'yeah', 'promise', 'election', 'sister', 'preacher', 'stealing', 'tra', 'embarrassed', 'express', 'surround', 'genuinely', 'direct', 'anticipate', 'choice', 'cycle', 'state', 'apologize', 'salve', 'administration', 'method', 'benefit', 'cannabidiol', 'wellbeingunisusorguk', 'itsoktonottobeok', 'wise', 'prosperous', 'copy', 'uncertain', 'purpose', 'build', 'selfworth', 'selfconfidence', 'small', 'volu', 'wherever', 'positivethoughts', 'rethinking', 'ally', 'psychtwitter', 'thanks', 'writers', 'novel', 'makes', 'us', 'vegetarian', 'vegan', 'dance', 'seduce', 'manifest', 'thi', 'culture', 'country', 'wonder', 'wow', 'seriously', 'congratulations', 'negativity', 'failing', 'privilege', 'villain', 'dreambig', 'privatepractice', 'cornwall', 'took', 'weed', 'tear', 'exhaled', 'report', 'poor', 'overdoses', 'direction', 'uncertainty', 'fake', 'addictionrecovery', 'couldnt', 'goodnight', 'nowplaying', 'obbm', 'playl', 'shipment', 'couldn', 'shittyday', 'rootcanal', '60', 'dy', 'saving', 'inbox', 'shown', 'ibs', 'psoriasis', 'bei', 'yourfriendlyneighborhoodmexican', 'oneofthem', 'oils', 'lavender', 'naturaltherapy', 'power', 'copingwithcovid', 'autistic', 'ideal', 'negative', 'spac', 'nations', 'advocacy', 'association', 'hid', 'david', 'corecivic', 'hiring', 'olneysprings', 'missing', 'meds', 'sorry', 'bullied', 'nee', 'cope', 'settlement', 'ontario', 'language', 'pa', 'joe', 'jackson', 'llc', 'felicia', 'dope', 'inbetweeners', '1618', 'yr', 'disadvantage', 'seekin', 'turmoil', 'adventure', 'bucket', 'load', 'dysfunctional', 'splash', 'physically', 'touch', 'brainwashing', 'form', 'wash', 'independent', 'approve', 'disabled', 'chronically', 'neis', 'erase', 'interesting', 'unique', 'friends', '26', 'sunshine', 'kindle', 'psychedelic', 'industry', 'psychedelicstocks', 'trait', 'pisces', 'fml', 'single', 'hardest', 'txt', 'tho', 'defeated', 'inspiratio', 'u0001f9e0', 'melsminds', 'howsyourmental', 'transformative', 'thirdperson', 'imm', 'fuckin', 'cunt', 'peep', 'elevation', 'blimey', 'fatfitbogan', 'marathontraining', 'runner', 'luxury', 'slave', 'frui', 'daring', 'boundary', 'disappointing', 'recent', 'event', 'youth', 'nebraska', 'ondemand', 'ig', 'codependency', 'parentingadvice', 'surefire', 'ruin', 'engagin', '1435', 'hav', 'plainly', 'document', 'traci', 'shameful', 'financialcrises', 'introspective', 'expressing', 'inspir', 'sweet', 'info', 'science', 'scicomm', 'optimistic', 'convince', 'occupationaltherapy', 'whole', 'approach', 'serving', 'globe', '100', 'physicalhealth', 'conspiracy', 'dontgetcomplacent', 'knowledgeispower', 'nowyouknow', 'pharmacy', 'technician', 'band', 'applicat', 'disappointed', 'drove', 'tire', 'debi', 'sounds', 'x', 'asksaiqa', 'rid', 'thursdaythoughts', 'heal', 'move', 'block', 'built', 'tremendous', 'pressure', 'themselves', 'perform', 'balancing', 'cover', 'integrate', 'planning', 'exactly', 'sadlife', 'nofriends', 'nofeelings', 'anonymous', 'seem', 'disintegrating', 'nope', 'unfortunately', 'slot', 'transition', 'learning', 'ap', 'webinar', '1202', '21', 'organised', 'jointly', 'british', 'workers', 'values', 'foundationh', 'relaying', 'shieldingstories', 'reallife', 'lived', 'clinicallyvulnerable', 'unsupported', 'su', 'engagement', 'population', 'improving', 'outcomes', 'traumainformed', 'part', 'tr', 'hardly', 'owt', 'exhausted', 'bitch', 'planned', '3rd', 'timetable', 'icymi', 'yesterday', 'reflected', 'faced', 'highlighted', 'skip', 'decided', 'appointment', 'thrilled', 'acting', 'sharon', 'despondency', 'aiming', '930', 'connecting', 'deeper', 'connection', 'recognize', 'fragile', 'volume', 'occasion', 'pull', 'fourstep', 'sticker', 'funny', 'cutie', 'ohyouresotough', 'staying', 'older', 'include', 'socially', 'serve', 'domesticviolence', 'companionship', 'write', 'demon', 'burble', 'launched', 'innovative', 'links', 'weekly', 'oct', 'ediscovery', 'savior', 'lord', 'forever', 'ezek', '3626', 'ps', '4211', 'fwork', 'investt', 'abstractat', 'strikes', 'dive', 'sporttype', 'sportmotivation', 'mad', 'james', 'harden', 'paid', 'fatigued', 'humans', 'tel', 'picked', 'shop', 'floor', 'kiddy', 'toy', 'box', 'caught', 'testing', 'qt', 'border', 'whereisthescience', 'startup', 'youturn', 'works', 'expand', 'afternoon', '7km', 'lots', 'snow', 'probably', 'trail', 'shoe', 'revisiting', 'intentional', 'evolution', 'intention', 'process', 'philosophy', 'invest', 'strongly', 'charitable', 'organisation', 'enterprise', 'forgotten', 'liste', 'spring', 'slightly', 'stabby', 'wasnt', 'turning', 'blackboyjoy', 'gummy', 'finding', 'water', 'sing', 'loud', '7pm', 'tests', 'diagnosing', 'aspergers', 'scroll', 'blogpost', 'pcos', 'yogaathome', 'stretch', 'periods', 'carefully', 'observing', 'medal', 'honor', 'recipient', 'kyle', 'white', 'cutting', 'ourself', 'temporarily', 'relieve', 'deep', 'behavioralhealthcare', 'considered', 'general', 'specialty', 'remain', 'piece', 'campus', 'gettingthrough', 'whatever', 'tend', 'exchange', 'neighbour', 'autoimmune', 'immune', 'mediated', 'experiencing', 'harder', 'captive', 'meditation', 'busy', 'extreme', 'gifted', 'invited', '12mins', 'brexit', 'amd', 'teammates', 'understand', 'raw', 'kept', 'stolen', 'responsible', 'whenever', 'shake', 'funk', 'three', 'isparx', 'transformed', 'psych', 'pmhnp', 'graduate', 'brainhealth', 'olivia', 'was', 'taught', 'emotins', 'greg', 'choose', 'sicknotweak', 'dyk', 'sameday', 'sk', 'gave', 'opened', 'thurs', '1200', 'pst', 'guest', 'activist', 'actor', 'mariel', 'hemingway', 'funniesttweets', 'funnylines', 'funnyquotes', 'benzodiazepines', 'zdrugs', 'prescribed', 'indefinitely', 'sort', 'storm', 'factor', 'william', 'stoops', 'phd', 'professor', 'legitimize', 'wha', 'amanda', 'weewaaz', 'justdoit', 'avoiding', 'telehealth', 'telemedicine', 'beneficial', 'bill', 'options', 'mat', 'programs', 'attitude', 'ensure', 'mid', '20', 'dad', 'prayerforlife', 'dear', 'jolly', 'although', 'map', 'vacation', 'indulge', 'kruse', 'veterancommunity', 'awesome', 'reminding', 'track', 'checki', 'alotlikechristmas', 'eviction', 'hunger', 'challe', 'recording', 'alive', 'meaning', 'happyholidays', 'cook', 'rochdale', 'town', 'carry', 'imperfection', 'cuz', 'convos', 'dei', 'foot', 'warmer', 'mention', 'comfy', 'lidl', 'system', 'britain', 'governance', 'bullying', 'large', 'behavioralhealth', 'mild', 'mouth', 'guard', 'clenching', 'jaw', 'twice', 'beat', 'failure', 'success', 'unknown', 'inquiries', 'bollywood', 'clarify', 'behind', 'account', 'easing', 'hopefully', 'festive', 'festiveseason', 'source', 'prepandemic', 'nu', 'review', 'carol', 'aural', 'antidote', 'jesse', 'dynes', 'performs', 'hopefortheholidays', 'coaching', 'soca', 'dancing', 'public', 'totally', 'fine', 'adorable', 'relief', 'kit', 'pleasant', 'valley', 'aevidum', 'inspire', 'snapchat', 'crazy', 'u0001f970', 'tight', 'california', 'quickly', 'leaving', 'dust', 'corne', 'tackle', 'beforehand', 'soothing', 'botanical', 'ze', 'abo', 'arte', 'digitalart', 'artista', 'visualart', 'cool', 'instart', 'mh', 'meditations', 'rewire', 'neural', 'pathways', 'transform', 'consta', 'unprecedented', 'similar', 'grand', 'allowing', 'receive', 'damage', 'catalyzed', 'root', 'ba', 'amongus', 'figure', 'worked', 'shtwt', 'uwu', 'boys', 'residential', 'lane', 'appearances', 'programme', 'picture', 'random', 'shit', 'complete', 'asshole', 'sleeping', 'weighted', 'blanket', 'zopiclone', 'luck', 'haha', 'morgan', 'unit', 'worship', 'baptize', 'strongertogether', 'resist', 'resisters', 'savetheplanet', 'ragescreamed', 'gutteral', 'noise', 'lung', 'painted', 'rainbow', 'comedy', 'amreading', 'happens', 'television', 'cheaper', 'morrisons', 'fruit', 'aldi', 'profit', 'syso', 'foundation', 'google', 'jump', 'conclusion', 'horrible', 'di', 'mentalhealthcheckin', 'donate', 'suit', 'sorrowful', 'believe', 'lucky', 'mentor', 'none', 'erc', 'olmsted', 'county', 'conversion', 'banning', 'statewide', 'erika', '10000', 'served', 'law', 'attorney', 'employees', 'pick', 'bag', 'potato', 'carrot', 'sprout', 'foe', 'spendi', 'playwitheric', 'initiative', 'musician', 'rough', 'chill', 'worldofwarcraft', 'grinding', 'lvl', 'shadowlands', 'lov', '48', 'enjoylife', 'havefun', 'enjoythemoment', 'behappy', 'sheffield', 'dogwalker', 'carer', 'gut', 'probiotics', 'survived', 'shamble', 'habing', 'saod', 'scientific', 'nimh', 'curated', 'cyberpunk2077', 'playstation4', 'breed', 'unrealistic', 'nurture', 'harriet', 'dyer', 'guestpost', 'saved', 'fortune', 'workshop', 'encourage', 'identity', 'heritag', 'survive', 'danielles', 'borderlinepersonalitydisorder', 'prime', 'fictitious', 'mindjournal', 'mine', 'describe', 'parksandrec', 'april', 'andy', 'whether', 'stranger', 'hoping', 'amendment', 'takeover', 'doublebooked', 'usual', 'oped', 'u2066', 'u2069', 'curl', 'nasty', 'goals', 'med', 'grocery', 'ti', 'convenience', 'chip', 'dishes', 'cptsd', '43wks', 'counting', 'flashback', 'atomization', 'crawling', 'regulate', 'five', 'canadians', 'less', 'reserved', 'seat', '8', 'healthh', 'virtualhealth', 'discovered', 'refresh', 'tank', 'puddle', 'knee', 'arun', 'cassette', 'upstairs', 'hes', 'absolutel', 'thissssssss', 'wasn', 'diagnosed', 'un', 'whe', 'minsan', 'pinangarap', 'ko', 'talagang', 'makilala', 'ako', 'ng', 'iba', 'passion', 'hobby', 'talent', 'pero', 'drag', 'rq', 'pop', 'plus', 'antidepressan', 'generation', 'battled', 'sliver', 'grad', 'breaking', 'contract', 'soooo', 'ur', 'money', 'sought', 'cw', 'several', 'belittled', 'dismissed', 'yea', 'depressive', 'wit', 'screwing', 'apparently', 'selfdiagnosed', 'depres', 'misdiagnosed', 'didnt', 'dsm', 'requ', 'checked', 'tw', 'ment', 'remind', 'youlee', 'suho', 'webtoon', 'depressiondon', 'charac', 'daughter', 'hugs', 'depr', 'either', 'louis', 'lowest', 'diagnose', 'bc', 'shi', 'lmao', 'umm', 'insensitive', 'joke', 'mg', 'anxie', 'least', 'officially', 'befo', 'completely', 'aye', 'sexy', 'mf', 'old', 'incomplete', 'barely', 'understood', 'stuff', 'tonights', 'loser', 'vids', 'latel', 'spine', 'fibromyalgia', 'sucky', 'kicker', 'undiagnosed', 'schoo', 'ly', '45', 'french', 'korean', '165', 'cm', 'ana', 'mia', 'relapsing', 'rn', 'u0001f9cd', 'refuse', 'diff', 'tried', 'generalized', 'disordered', 'eating', 'entertain', 'depressio', 'tail', 'pinned', 'realized', 'drinking', 'capped', 'distinguish', 'recall', 'sickle', 'disturbed', 'scare', 'kelly', 'earlier', 'u0001f972', 'medically', 'chemical', 'imbalance', 'stil', 'field', 'hi', 'remission', 'diagn', 'kazakhstan', 'liver', 'de', 'dirty', 'blame', 'gad', 'slew', 'grandma', 'uncle', 'heya', 'strea', 'salary', 'house', 'hel', 'su1c1da', 'diagno', 'swear', 'knew', 'yknow', 'tht', 'bitches', 'positively', 'misgendered', 'shouldn', 'bother', 'transgender', 'cancelled', 'housing', 'semester', 'submitted', 'appe', 'formally', 'written', 'etc', 'semba', 'nonbinary', 'trans', 'guy', 'sculpting', 'global', 'car', 'accident', 'anorexia', 'um', 'legit', 'trendy', 'fucking', 'crashed', 'air', 'biopolar', 'swing', 'twt', 'socmed', 'worried', 'shes', 'teenagers', '66', 'premature', 'obser', 'agree', 'selfdiagnosing', 'insurance', 'won', 'sa', 'woop', 'degree', 'seasonally', 'ide', 'told', 'biological', 'vulnerable', 'dep', 'neurodivergence', 'catchall', 'rur', 'cosmetologist', 'seen', 'decent', 'answering', 'completed', 'master', 'biolog', 'advised', 'watchi', 'hat', 'gone', 'pinpoint', 'nintendo', 'saying', 'privileged', 'depresse', 'instea', 'argue', 'majority', 'helluva', 'reser', 'yazi', 'fix', 'cornerstone', 'clowning', 'robot', '2016', 'breathe', 'quell', 'versus', 'focusing', 'depresive', 'bila', 'unlike', '90', 'spent', 'facility', 'ofc', 'awhile', 'additional', 'context', 'asymptomatic', 'whi', 'voluntary', 'claptrap', 'gaslighting', 'ex', 'zealander', 'com', 'actual', 'idk', 'consequence', 'sushant', 'filled', 'diagnos', 'majorly', 'wth', 'seve', 'lovin', 'clinically', 'spa', 'clearly', 'downplay', 'anyones', 'imply', 'signif', 'theyre', 'terrible', 'nonsense', 'rigorous', 'wor', 'months', 'irl', 'wkth', 'audio', 'lmaoooo', 'normalizing', 'left', 'obesity', 'killed', 'untreated', 'psychiatry', 'freshly', 'thankfully', 'conclus', 'announcing', 'sensitive', 'topic', 'cus', 'pool', 'saturated', 'mess', '99', 'edgy', 'diag', '16', 'ironic', 'meal', 'idaho', 'slimjim', 'meatgang', 'offense', 'psychopath', 'buat', 'orang', 'rasa', 'stopped', 'prank', 'skeptical', 'surge', 'dysphor', 'backgrou', 'checker', 'holy', 'sent', 'suffers', 'involved', 'fascinating', 'indeed', 'stumbling', 'evaluated', 'maybe', '46', 'unsurprisingly', 'gp', 'spotify', 'ai', 'havi', 'seven', 'coordinating', 'began', 'subdrop', 'karen', 'cal', 'caregiving', 'caring', 'au', 'prompt', 'owe', 'transparent', 'crossover', 'sym', 'half', 'brother', 'tweeted', '63', 'downward', 'spawned', 'lik', 'scared', 'belen', 'marcus', 'grow', 'fi', 'bee', 'fullblown', 'adjustment', 'iv', 'gosh', '12kg', 'gained', 'crumb', 'whoeber', '725', '2530', 'kim', 'apnea', 'according', 'asaa', 'longterm', 'eff', 'lana', 'cn', 'dia', 'ure', 'born', 'nigeria', 'automatically', 'nepa', 'insecurity', 'interest', 'lefthanded', 'biggest', 'curse', 'delivers', 'given', 'businesses', 'rate', 'preventab', 'dsmiv', 'prohibit', 'ph', 'phase', 'mentioned', '37', 'twenty', 'fo', 'sushantsinghrajput', 'hed', 'doctors', 'sever', 'adderall', 'duper', 'ppd', 'definitel', 'galaxy', 'nearly', 'national', 'alliance', '64', 'condit', '1212', 'clue', 'borderline', 'dick', 'decade', 'titkok', 'voluntarily', 'participating', 'hygiene', 'suicidality', 'suicidal', 'extensive', 'cliftongrooms', 'eighteen', 'canadian', 'prorecovery', 'diso', 'shitty', 'countless', 'comp', 'lmaooo', 'rubbish', 'alright', 'dying', 'emo', 'thingz', 'nah', 'debilitating', 'met', 'insanely', 'constantly', 'hiding', 'embarassing', 'introduction', 'transboy', 'named', 'ashton', 'liam', 'mostly', 'ily', 'nowadays', 'enduring', 'schoolwork', 'perfectly', 'painting', 'lembro', 'wilbur', 'msica', 'faculty', 'veterinary', 'medicine', 'mu', 'showed', 'chroni', 'pathologize', 'wondering', 'thru', 'shoul', 'pjsekai', 'hug', 'miku', 'wouldn', 'cyber', 'specifically', 'depre', 'pre', 'diabetic', 'nev', 'died', 'bleed', '300k', 'suggested', 'meditatio', 'chooses', 'lasted', 'transparenc', 'honest', 'agoraphobic', 'riddled', 'exserviceman', 'chort', 'possibly', 'bout', 'seemed', 'cracker', 'preferred', 'talki', 'upheaval', 'ohh', 'yaaaaaay', 'smtg', 'probl', 'stigmatized', 'korea', 'sunmi', 'suggest', 'autisti', 'qondile', 'surely', 'otherwise', 'dysregulation', 'mfs', 'environment', 'u0001f92c', 'calibri', 'urself', 'smthing', 'doubt', 'kinda', 'allud', 'affecting', 'asthma', 'revea', 'aren', 'perhaps', 'wil', 'extent', 'thes', 'became', 'kpop', 'saw', 'ent', 'actress', 'deepika', 'padukone', 'noth', 'bi', 'streaming', 'atm', 'mystery', 'dumb', 'faking', 'technically', 'derealization', 'suspect', 'usa', 'exploration', 'microorganism', 'abused', 'implication', 'lil', 'ideation', 'quarantine', 'rlly', '1998', 'six', 'mix', 'kidney', 'stone', 'cyst', 'stuck', 'sunggyu', 'listened', 'intently', 'fan', 'july', 'kinky', 'boots', 'permit', 'empty', 'tim', 'undefined', 'mania', 'nicknamed', 'vampire', 'surprised', 'dawg', 'iknow', 'dipolar', 'afab', 'teenager', 'hm', 'apartment', 'onl', 'nd', 'preliminary', 'neurodivergent', 'dysmorphia', 'ste', 'grandkids', 'depressi', 'skin', 'outr', 'willing', 'send', 'threatened', 'sexuality', 'cide', '98', 'lesbian', 'ednos', 'harmer', 'dnf', 'dni', 'till', 'stigma', 'dismiss', 'label', 'menta', 'imagine', '22k', 'subscriber', 'upload', 'keratoconus', 'developing', 'u0001f92a', 'shitting', 'a8', 'roller', 'coaster', 'ups', 'downside', 'drsuess', 'aesthetic', 'round', 'fairly', 'allowed', 'tendency', 'besties', 'inactive', 'unresponsive', 'battle', 'osteoporosis', 'silent', 'bone', 'bec', 'alcoholism', 'sense', 'alcoholic', 'dpd', 'tie', 'crippled', 'immediate', 'delaying', 'inevitable', 'trichotillomania', 'tmt', 'whoever', 'momma', 'hoe', 'hiv', 'egirl', 'ps4', 'shocked', 'disorders', 'prolonged', 'stepsister', 'stepdad', 'bending', 'backwards', 'sto', 'adolescent', 'nafld', 'incidence', 'depress', 'negatively', 'gastrointestinal', 'yeonbin', 'barista', '452', 'includi', 'posting', 'combined', 'wi', 'stoner', 'beatachorzepa', 'kkwholiday', 'foreclosure', 'vise', 'versa', 'gianna', '1989', 'rhetorical', 'sarcastic', 'depersonnalisation', 'ahaha', 'sike', 'hearing', 'nerve', 'wrecking', 'thatll', 'stable', 'mr', 'topak', 'kasi', 'po', 'healed', 'beg', 'bro', 'ahhhh', 'imposter', 'syndrome', 'appt', 'ruthy', 'taylor', 'swift', 'thirteen', 'genuine', 'obsessing', 'bot', 'worrying', 'lifted', 'u0001f9b7', 'tooth', 'teeth', 'bisexy', 'addict', 'numerous', 'somatic', 'tmi', 'medicated', 'somehow', 'inspired', 'happ', 'moot', 'reece', 'str', 'users', 'labeled', 'anchor', 'satisfied', 'strict', 'appreciative', 'anxiet', 'inb', 'referred', 'waiting', 'list', 'bipolardepression', 'market', 'expected', 'cagr', '1669', '201730', 'managed', 'smoking', 'socialize', 'imprisoned', 'multiple', 'illnesss', 'invalidation', 'polit', 'liberal', 'following', 'rea', 'redoing', 'fyucki', 'fyu', 'pronoun', 'edtwt', 'sporadically', 'xem', 'idc', 'alw', 'hunny', 'regula', 'farahxleeuwenhof', 'deserves', 'pampering', 'rly', 'pissed', 'abt', 'ended', 'unfoll', 'stan', 'acc', 'commented', 'triggered', 'punched', 'hole', 'bedroom', 'nit', 'aggressive', 'order', 'sick', 'capacity', 'familys', 'ove', 'properly', 'seeker', 'doct', 'impossible', 'gm', 'susp', 'excuse', 'disclaimer', 'basically', 'traced', 'mdd', 'treated', 'differently', 'excluded', 'som', 'ooze', 'masc', 'deployment', 'strain', 'uhmh', 'suree', 'display', 'javent', 'sibling', 'u0001f971', 'fck', 'ailment', 'barney', 'february', 'grandfather', 'jul', 'eligible', 'pencil', 'understandable', 'professi', 'recorded', 'huh', 'except', 'su1c1dal', 'acti', 'specific', 'arachnoid', 'lobe', 'size', 'cleared', 'u1', 'eudicia', 'occasionally', '70000', 'ibd', 'tied', 'comorbid', 'awwww', 'ness', 'ik', 'und', 'hahaha', 'cue', 'frame', '28', 'granddaughter', 'woah', 'af', 'estimate', '570k', 'pushed', '3yrs', 'norm', 'allura', 'haru', 'surprise', 'span', 'xx', 'cybernova', 'fighti', 'sadly', 'selfharm', 'ineffective', 'gesture', 'wo', 'imo', 'omg', 'medicineeeeeeeeeeeee', 'inlaw', 'hill', 'sum', 'europea', 'absolute', '430', 'lifelong', 'annoying', 'internalize', 'ego', 'elite', 'bunch', '20092014', '70', 'male', 'si', 'confidence', 'lmaooooo', 'offends', 'hmu', 'sensory', 'allergy', 'blast', 'itching', 'niharika', 'pcod', 'healthier', 'sprea', 'difference', 'tellin', 'lexapro', 'weird', 'stupid', 'phrase', 'guilty', 'myselffeeling', 'concussion', 'neck', 'adrenal', 'btw', 'selft', 'agnosick', 'deseases', 'consistent', 'malar', 'rash', 'difficulty', 'tachycardia', 'indicative', 'mcas', 'lazy', 'proceed', 'sit', 'improv', 'kahit', 'binge', 'odaat', 'watched', 'penelop', 'emotionsafter', 'diabetes', 'blackout', 'attempted', 'lillyanas', 'mum', 'lee', 'witn', 'sen', 'heyo', 'names', 'emi', 'sitting', 'effort', 'politician', 'noone', 'sectioned', 'schizophrenic', 'doc', 'trash', 'medscape', 'conditio', 'substantial', 'sometim', 'replying', 'dms', 'humbly', 'pp', 'refused', 'toward', 'personally', 'gotten', 'smoker', 'various', 'uncured', 'tashigi', 'tfw', 'comorbidities', 'alongside', 'yeaaaa', 'gue', 'wellbutrin', 'pure', 'babeee', 'penis', 'heroine', 'addicted', 'cli', 'sons', 'combination', 'omegle', 'tysm', 'pr', 'badly', 'portray', 'zoey', 'traumatic', 'bcz', 'mome', 'survived2020', 'herself', 'frustrated', 'angry', 'catfishing', 'gaslig', 'antidepressants', 'shrink', 'craig', 'deen', 'plenty', 'hahahahhaha', 'therapi', 'controlling', '2014', 'fanfic', 'drained', 'atlas', 'evanna', 'lupin', 'attacked', 'werewolf', 'hooooly', 'anyway', '34', 'suicides', 'incorrectly', 'manic', 'hot', 'explanation', 'joking', 'depers', 'presentation', 'eupd', 'unemployed', 'copay', 'stare', 'nhs', 'overwhelmed', 'restriction', 'financ', 'ii', 'narcissism', 'scored', 'curious', 'sane', 'boy', 'amongst', 'outmuscled', 'freekick', 'lewa', 'invalidating', 'se', 'nyc', 'selfdiagnosis', 'dangerous', 'medicatio', 'suici', 'lock', 'normalized', 'texting', 'resistant', 'const', 'paranoid', 'rece', 'yikes', 'concerned', 'unde', 'grandas', 'frie', 'tak', 'akan', 'tahu', 'hadap', 'llllloooollllll', 'nur', 'middl', 'identified', 'oxygen', 'organ', 'surgery', 'worke', 'comparing', 'boyfriend', 'wreck', 'idrk', 'swag', 'prophet', 'yaqub', 'alaihisala', 'assoc', 'werent', 'rejected', 'questionnaire', 'committed', 'complicated', 'pfft', 'questioning', 'assume', 'freshman', 'prob', 'reaction', 'hysteria', 'teens', 'educational', 'achievement', 'terminal', 'fair', 'nursing', 'richard', 'moron', 'conscious', 'iceberg', 'goin', 'masculine', '3am', 'dissociation', 'oomfs', 'recommended', 'sincerely', 'stigm', 'drawingwithanxiety', 'drawingwithadhd', 'max', 'undi', 'bp2', 'immediately', 'besid', 'knowing', 'frightening', 'waz', 'bcos', 'epic', 'pogchamp', 'rejection', 'sensitivity', 'obvious', '52560', 'sc', 'chest', 'glass', 'lmaooooooooo', 'fee', 'poggers', 'decades', 'poison', 'progressively', 'dysthymia', 'disentangle', 'range', 'kalon', 'delayed', 'operation', 'cap', 'aka', 'livingalegacy', 'entertainment', 'hypomanic', 'saddest', 'hysterical', 'gir', 'fridaythoughts', 'fridaymood', 'snuck', 'received', 'bulimia', 'aga', 'generaliz', 'outburst', 'easily', 'mancave', 'cont', 'brushed', 'mar', 'square', 'saturn', 'pluto', 'orange', 'aunt', 'blaimed', 'commonly', 'generalize', 'deppression', 'doting', 'inc', 'anfield', 'redecorated', 'interior', 'psycologist', 'loosing', 'yup', 'traum', 'record', 'dollar', 'dropped', 'publicly', 'baseline', 'selfdx', 'evil', 'spouse', 'pointed', 'fandom', 'happend', 'foreve', 'frankincense', 'copaiba', 'bra', 'struggled', 'aspect', 'trashcan', 'shou', 'project', 'skill', 'covidrelated', 'textshe', 'dysfunction', 'rsd', 'regulation', 'impulsive', 'participate', 'hashtag', 'hypersensitive', 'hearin', 'western', 'apa', 'nyumbani', 'looooong', 'roman', 'tumblr', 'auntie', 'tumigil', 'ang', 'trabaho', 'depends', 'shanti', 'das', 'announce', 'fifa', 'ongoing', 'autis', 'untold', 'misery', 'economic', 'disproportionate', 'glorifie', 'welp', 'dunno', 'mark', 'turned', 'zoloft', 'dating', 'diagnostic', 'ev', 'equate', 'epilepsy', '2001', 'undercurrent', 'achieved', 'translating', 'publish', 'midget', 'returning', 'rewind', 'cu', 'todo', 'mal', 'fighting', 'neva', 'fourteen', 'slee', 'punch', 'sth', 'wiping', 'kaia', 'pat', 'siri', 'hispanic', 'turns', 'tying', 'hair', 'visiting', 'stomach', 'ache', 'admitting', 'overweight', 'inherent', 'bias', 'gro', 'mainly', 'discredit', 'dxers', 'anecdote', 'spam', 'reply', 'bump', 'vibe', 'beca', 'ima', 'mmmmm', 'dyspraxia', 'crohn', 'latin', 'wtf', 'encima', 'dice', 'queee', 'initially', 'disastrous', '65', 'percent', 'poverty', 'religious', 'hatred', 'bullimia', 'nervosa', 'closely', 'stated', 'initial', 'generally', 'score', 'neuroticism', 'amount', 'ham', 'everytime', 'sdxs', 'causing', 'develop', 'pist', 'october', 'internalised', 'apar', 'jeff', 'killer', 'randomly', 'asperges', 'izukus', 'tic', 'repressed', 'w33d', 'believed', 'newer', 'follower', 'owllie', 'oc', 'fatality', 'statistic', 'subtract', '27', 'fell', 'har', 'dose', 'bette', 'vertigo', 'fashionable', 'nigga', 'realise', 'minor', 'unt', 'woo', 'boi', 'soup', 'boiling', 'completing', 'somethin', 'mistook', 'newly', 'accurate', 'wanti', 'ext', 'australia', 'nsw', 'gambling', '201920', 'principal', 'disfunction', 'usi', 'has', 'uphill', 'lewy', 'dementia', 'prayed', 'pray', 'deel', 'asks', 'respect', 'selfharmed', 'dyslexia', 'smth', 'owns', 'raging', 'inferiority', 'compl', 'varies', 'chanel', 'factz', 'ab', 'bcs', 'sebastian', 'misunderstand', '2010', 'placed', 'cute', 'someones', 'heartwarming', 'rant', '2yrs', 'declined', 'bulb', 'anx', 'upset', 'blocked', 'dykes', 'lashed', 'neil', 'lennon', 'nida', 'rehman', 'kashmir', 'destigmatized', 'updated', 'addition', 'alreadydiagnosed', 'disea', 'interview', 'killing', 'trust', 'acute', 'paper', 'fucked', 'picky', 'iokparadiseinpain', '42', 'visited', 'reasons', 'teensplain', 'sweetie']\n"
          ],
          "name": "stdout"
        }
      ]
    },
    {
      "cell_type": "code",
      "metadata": {
        "id": "rmNXuyVliCI1",
        "colab": {
          "base_uri": "https://localhost:8080/"
        },
        "outputId": "a162777c-eb88-4e10-d57c-b2b2c736df10"
      },
      "source": [
        "model.wv.most_similar('depression')"
      ],
      "execution_count": 8,
      "outputs": [
        {
          "output_type": "execute_result",
          "data": {
            "text/plain": [
              "[('with', 0.9999233484268188),\n",
              " ('and', 0.9999186992645264),\n",
              " ('got', 0.9999186992645264),\n",
              " ('i', 0.9999152421951294),\n",
              " ('anxiety', 0.999906599521637),\n",
              " ('wa', 0.9998977780342102),\n",
              " ('just', 0.9998977184295654),\n",
              " ('my', 0.999895453453064),\n",
              " ('adhd', 0.9998945593833923),\n",
              " ('but', 0.9998913407325745)]"
            ]
          },
          "metadata": {
            "tags": []
          },
          "execution_count": 8
        }
      ]
    },
    {
      "cell_type": "markdown",
      "metadata": {
        "id": "_EBxCSIe2sxy"
      },
      "source": [
        "Saving the word2vec model"
      ]
    },
    {
      "cell_type": "code",
      "metadata": {
        "id": "PZnauC_OmInN"
      },
      "source": [
        "filename = 'tweets_embedding.txt'\n",
        "model.wv.save_word2vec_format(filename,binary=False)"
      ],
      "execution_count": 10,
      "outputs": []
    },
    {
      "cell_type": "markdown",
      "metadata": {
        "id": "b21TlBd_xzAo"
      },
      "source": [
        "Preparing Train and Test Data\n"
      ]
    },
    {
      "cell_type": "code",
      "metadata": {
        "id": "Vi9BjL-WczkS"
      },
      "source": [
        "def prep_tokenizer(tweet_list):\n",
        "    #instantiating the tokenizing object -creating a unique word dictionary ,where unique words are rep. as sentences\n",
        "    tokenizer = Tokenizer()\n",
        "    #fitting it into the text\n",
        "    tokenizer.fit_on_texts(tweet_list)\n",
        "    #saving the tokenizing object\n",
        "    with open('tokenizer.pickle', 'wb') as handle:\n",
        "        pickle.dump(tokenizer, handle, protocol=pickle.HIGHEST_PROTOCOL)\n",
        "        print('Tokeniser saved')\n",
        "    \n",
        "def prepare_data(tweet_list,tokenizer):\n",
        "   #creating a list of tokens for each tweet (A list of lists)\n",
        "   sequences = tokenizer.texts_to_sequences(tweet_list)\n",
        "   word_index = tokenizer.word_index\n",
        "   print('Vocabulary size:', len(word_index))\n",
        "   max_length = max([len(s.split()) for s in tweets])\n",
        "   tweet_pad =pad_sequences(sequences,maxlen=max_length)\n",
        "   return tweet_pad\n",
        "\n",
        " "
      ],
      "execution_count": 11,
      "outputs": []
    },
    {
      "cell_type": "code",
      "metadata": {
        "id": "Y618PXpIsd0n",
        "colab": {
          "base_uri": "https://localhost:8080/"
        },
        "outputId": "751b9c80-6e23-4c7d-af18-5331b58c5912"
      },
      "source": [
        "import pickle \n",
        "import os\n",
        "import re\n",
        "\n",
        "prep_tokenizer(tweet_list)\n",
        "with open('tokenizer.pickle', 'rb') as handle:\n",
        "   tokenizer = pickle.load(handle)\n",
        "\n",
        "tweet_pad = prepare_data(tweet_list,tokenizer)"
      ],
      "execution_count": 14,
      "outputs": [
        {
          "output_type": "stream",
          "text": [
            "Tokeniser saved\n",
            "Vocabulary size: 4908\n"
          ],
          "name": "stdout"
        }
      ]
    },
    {
      "cell_type": "code",
      "metadata": {
        "id": "XGNU4I1M50TW"
      },
      "source": [
        "sequences = tokenizer.texts_to_sequences(tweet_list)\n",
        "word_index = tokenizer.word_index"
      ],
      "execution_count": 15,
      "outputs": []
    },
    {
      "cell_type": "code",
      "metadata": {
        "id": "NwlO4vIYRyp3"
      },
      "source": [
        "emotion_score=data['emotion_score'].values\n",
        "VALIDATION_SPLIT = 0.2\n",
        "indices = np.arange(tweet_pad.shape[0])\n",
        "np.random.shuffle(indices)\n",
        "tweet_pad = tweet_pad[indices]\n",
        "emotion_score = emotion_score[indices]\n",
        "\n",
        "num_validation_samples = int(VALIDATION_SPLIT * tweet_pad.shape[0])\n",
        "\n",
        "x_train_pad = tweet_pad[:-num_validation_samples]\n",
        "y_train = emotion_score[:-num_validation_samples]\n",
        "x_test_pad = tweet_pad[-num_validation_samples:]\n",
        "y_test = emotion_score[-num_validation_samples:]"
      ],
      "execution_count": 19,
      "outputs": []
    },
    {
      "cell_type": "code",
      "metadata": {
        "id": "axq4niqswduR"
      },
      "source": [
        "emotion_score=data['label'].values\n",
        "\n",
        "VALIDATION_SPLIT = 0.2\n",
        "indices = np.arange(tweet_pad.shape[0])\n",
        "np.random.shuffle(indices)\n",
        "tweet_pad = tweet_pad[indices]\n",
        "emotion_score = emotion_score[indices]\n",
        "\n",
        "num_validation_samples = int(VALIDATION_SPLIT * tweet_pad.shape[0])\n",
        "\n",
        "x_train_pad = tweet_pad[:-num_validation_samples]\n",
        "y_train = emotion_score[:-num_validation_samples]\n",
        "x_test_pad = tweet_pad[-num_validation_samples:]\n",
        "y_test = emotion_score[-num_validation_samples:]"
      ],
      "execution_count": 18,
      "outputs": []
    },
    {
      "cell_type": "code",
      "metadata": {
        "id": "fMRmKnCb10T7",
        "colab": {
          "base_uri": "https://localhost:8080/"
        },
        "outputId": "a986c2ba-bf81-41d1-bc84-b6a1315a5541"
      },
      "source": [
        "x_train_pad = np.asarray(x_train_pad).astype(np.float32)\n",
        "y_train = np.asarray(y_train).astype(np.float32)\n",
        "x_test_pad = np.asarray(x_test_pad).astype(np.float32)\n",
        "y_test= np.asarray(y_test).astype(np.float32)\n",
        "\n",
        "\n",
        "print(len(x_test_pad))\n",
        "print(len(x_train_pad))\n",
        "print(len(y_train))\n",
        "print(len(y_test))"
      ],
      "execution_count": 20,
      "outputs": [
        {
          "output_type": "stream",
          "text": [
            "399\n",
            "1600\n",
            "1600\n",
            "399\n"
          ],
          "name": "stdout"
        }
      ]
    },
    {
      "cell_type": "code",
      "metadata": {
        "colab": {
          "base_uri": "https://localhost:8080/"
        },
        "id": "jKvQ4OIwTNZA",
        "outputId": "6c87be72-df82-4b97-836d-fb63b59e39e7"
      },
      "source": [
        "import collections, numpy\n",
        "print(collections.Counter(y_train))\n",
        "print(collections.Counter(y_test))\n"
      ],
      "execution_count": 54,
      "outputs": [
        {
          "output_type": "stream",
          "text": [
            "Counter({0.018638074: 42, 0.05447749: 10, 0.0318913: 8, 0.1225053: 8, 0.122406654: 8, 0.025926188: 8, 0.12231962: 7, 0.02095913: 6, 0.07588458: 6, 0.12388053: 6, 0.122981116: 5, 0.034212355: 5, 0.012835436: 5, 0.21580245: 5, 0.028247243: 4, 0.12324804: 4, 0.1429538: 4, 0.03024335: 4, 0.79257655: 4, 0.1222848: 4, 0.31215873: 4, 0.29320848: 4, 0.04567953: 4, 0.31197885: 3, 0.12310297: 3, 0.12687701: 3, 0.12236024: 3, 0.31239665: 3, 0.20869769: 3, 0.029245296: 3, 0.33930346: 3, 0.05452159: 3, 0.3277272: 3, 0.023280185: 3, 0.31303492: 3, 0.31287247: 3, 0.15188406: 3, 0.023605132: 3, 0.053430695: 3, 0.6312969: 3, 0.14411433: 3, 0.12245308: 3, 0.086703025: 2, 0.12451418: 2, 0.06498142: 2, 0.13124987: 2, 0.31212276: 2, 0.12362521: 2, 0.12373546: 2, 0.042671442: 2, 0.12494821: 2, 0.13595581: 2, 0.2931319: 2, 0.12270259: 2, 0.6363928: 2, 0.02269876: 2, 0.020395113: 2, 0.03224526: 2, 0.039179415: 2, 0.13603705: 2, 0.23412485: 2, 0.036108658: 2, 0.15150689: 2, 0.3120949: 2, 0.086598575: 2, 0.020506524: 2, 0.319325: 2, 0.3140272: 2, 0.13156322: 2, 0.3411487: 2, 0.12287667: 2, 0.12420547: 2, 0.29413575: 2, 0.31203687: 2, 0.20884275: 2, 0.04746558: 2, 0.063258044: 2, 0.23605946: 2, 0.31370804: 2, 0.22748083: 2, 0.12371225: 2, 0.32632297: 2, 0.14875643: 2, 0.2157978: 2, 0.3138241: 1, 0.1478814: 1, 0.06375359: 1, 0.2326742: 1, 0.03174275: 1, 0.3117421: 1, 0.12468245: 1, 0.06431761: 1, 0.13203439: 1, 0.19511023: 1, 0.021060096: 1, 0.021734362: 1, 0.030560175: 1, 0.052224904: 1, 0.043929454: 1, 0.12902166: 1, 0.13996428: 1, 0.020015622: 1, 0.28608748: 1, 0.24875562: 1, 0.024946703: 1, 0.35470948: 1, 0.23229238: 1, 0.22105151: 1, 0.30818972: 1, 0.14717115: 1, 0.19073969: 1, 0.05518193: 1, 0.041500468: 1, 0.22526771: 1, 0.029679334: 1, 0.18799388: 1, 0.34695137: 1, 0.030171398: 1, 0.1196388: 1, 0.025508398: 1, 0.03998134: 1, 0.37731075: 1, 0.022977287: 1, 0.05054562: 1, 0.14331125: 1, 0.028781086: 1, 0.06190603: 1, 0.34193903: 1, 0.34194946: 1, 0.4062787: 1, 0.43515727: 1, 0.12274321: 1, 0.15811725: 1, 0.19941579: 1, 0.017913906: 1, 0.13775115: 1, 0.5029901: 1, 0.33420062: 1, 0.21002069: 1, 0.8071795: 1, 0.02777375: 1, 0.15091154: 1, 0.27434292: 1, 0.29350325: 1, 0.05605697: 1, 0.12461746: 1, 0.13391097: 1, 0.030059988: 1, 0.3012962: 1, 0.050175413: 1, 0.4458701: 1, 0.32874268: 1, 0.4620989: 1, 0.07525442: 1, 0.03401971: 1, 0.1569486: 1, 0.06403792: 1, 0.07850041: 1, 0.3119324: 1, 0.3185834: 1, 0.23804279: 1, 0.3124953: 1, 0.048005227: 1, 0.08206439: 1, 0.1851738: 1, 0.23640645: 1, 0.17451435: 1, 0.015208715: 1, 0.025393507: 1, 0.43909726: 1, 0.2988173: 1, 0.02929288: 1, 0.1436037: 1, 0.02757994: 1, 0.16972136: 1, 0.06587039: 1, 0.03646494: 1, 0.370336: 1, 0.15924181: 1, 0.022021012: 1, 0.22888042: 1, 0.1496837: 1, 0.12551688: 1, 0.13021469: 1, 0.1935969: 1, 0.044479545: 1, 0.03158376: 1, 0.17381804: 1, 0.022952916: 1, 0.26273185: 1, 0.061964054: 1, 0.0660758: 1, 0.022925064: 1, 0.016641967: 1, 0.022869358: 1, 0.06099269: 1, 0.2233389: 1, 0.06364798: 1, 0.57366043: 1, 0.29021895: 1, 0.50313514: 1, 0.24558274: 1, 0.3080969: 1, 0.3044412: 1, 0.60101175: 1, 0.17251824: 1, 0.46052176: 1, 0.3620034: 1, 0.34434596: 1, 0.40142187: 1, 0.5576684: 1, 0.12213045: 1, 0.2783224: 1, 0.040718272: 1, 0.024859663: 1, 0.15284033: 1, 0.32960147: 1, 0.31047714: 1, 0.061090175: 1, 0.53045285: 1, 0.13091332: 1, 0.08529414: 1, 0.022607079: 1, 0.29069477: 1, 0.39319488: 1, 0.33541802: 1, 0.1509011: 1, 0.043821525: 1, 0.34104544: 1, 0.3189896: 1, 0.15319546: 1, 0.21254252: 1, 0.1265068: 1, 0.3201478: 1, 0.02443491: 1, 0.23418751: 1, 0.14063738: 1, 0.1841003: 1, 0.15494205: 1, 0.7723938: 1, 0.07293336: 1, 0.0668696: 1, 0.16174738: 1, 0.07263163: 1, 0.062275074: 1, 0.1207088: 1, 0.6658934: 1, 0.1346154: 1, 0.13756546: 1, 0.11542608: 1, 0.09727659: 1, 0.022681354: 1, 0.15171579: 1, 0.052049667: 1, 0.057485577: 1, 0.054359116: 1, 0.2971647: 1, 0.12939651: 1, 0.059698705: 1, 0.19028011: 1, 0.100743085: 1, 0.31205195: 1, 0.22402246: 1, 0.57890254: 1, 0.36763427: 1, 0.3169575: 1, 0.62534106: 1, 0.21992: 1, 0.12650216: 1, 0.022119658: 1, 0.34931302: 1, 0.5646733: 1, 0.23786175: 1, 0.1714169: 1, 0.013995964: 1, 0.032130368: 1, 0.20837274: 1, 0.13803317: 1, 0.018216804: 1, 0.054670136: 1, 0.13943739: 1, 0.020558748: 1, 0.04724508: 1, 0.42078993: 1, 0.3142291: 1, 0.055496432: 1, 0.046244707: 1, 0.11245397: 1, 0.24281721: 1, 0.4442523: 1, 0.13419181: 1, 0.29161972: 1, 0.046899244: 1, 0.3916955: 1, 0.1607737: 1, 0.2590054: 1, 0.16729587: 1, 0.029212803: 1, 0.22640154: 1, 0.03775777: 1, 0.054598186: 1, 0.15191424: 1, 0.07211519: 1, 0.3301063: 1, 0.12900193: 1, 0.057968356: 1, 0.13910665: 1, 0.33414492: 1, 0.190019: 1, 0.12190066: 1, 0.33332095: 1, 0.035437874: 1, 0.065411985: 1, 0.03371797: 1, 0.054558728: 1, 0.23901184: 1, 0.02067132: 1, 0.21680978: 1, 0.4794755: 1, 0.31927043: 1, 0.4308459: 1, 0.40687054: 1, 0.046722844: 1, 0.040257543: 1, 0.11741523: 1, 0.3726582: 1, 0.23780952: 1, 0.13142744: 1, 0.38523018: 1, 0.085679434: 1, 0.16200966: 1, 0.1365883: 1, 0.055221386: 1, 0.32396245: 1, 0.19352959: 1, 0.31264615: 1, 0.061368704: 1, 0.1325044: 1, 0.17166176: 1, 0.12794818: 1, 0.12660776: 1, 0.21833007: 1, 0.30826515: 1, 0.027027529: 1, 0.24228336: 1, 0.040985197: 1, 0.21604963: 1, 0.075814955: 1, 0.16192378: 1, 0.3184604: 1, 0.38875356: 1, 0.33376428: 1, 0.17773364: 1, 0.051360313: 1, 0.3497935: 1, 0.027093679: 1, 0.3338432: 1, 0.020048115: 1, 0.32300735: 1, 0.11030119: 1, 0.13027155: 1, 0.32731754: 1, 0.54337066: 1, 0.12243567: 1, 0.12970057: 1, 0.27303734: 1, 0.14619747: 1, 0.13208546: 1, 0.04473486: 1, 0.15538305: 1, 0.5733819: 1, 0.3428663: 1, 0.24694288: 1, 0.5258699: 1, 0.037601095: 1, 0.023918476: 1, 0.28344148: 1, 0.05206359: 1, 0.14128496: 1, 0.22026931: 1, 0.05775366: 1, 0.19654: 1, 0.04868762: 1, 0.071815774: 1, 0.041621163: 1, 0.018206358: 1, 0.1317431: 1, 0.3162786: 1, 0.16680264: 1, 0.12057302: 1, 0.6850873: 1, 0.13890472: 1, 0.084669776: 1, 0.23289469: 1, 0.31448096: 1, 0.1214028: 1, 0.17356735: 1, 0.26625985: 1, 0.04249852: 1, 0.043452475: 1, 0.057058502: 1, 0.16878134: 1, 0.23554882: 1, 0.13420342: 1, 0.16457559: 1, 0.36076975: 1, 0.32646224: 1, 0.31481054: 1, 0.29305065: 1, 0.31198466: 1, 0.36926714: 1, 0.3087375: 1, 0.089265466: 1, 0.050202105: 1, 0.23397282: 1, 0.032631718: 1, 0.07216161: 1, 0.036461458: 1, 0.16451408: 1, 0.101641335: 1, 0.13283747: 1, 0.12896131: 1, 0.11432938: 1, 0.49555925: 1, 0.51501316: 1, 0.02553625: 1, 0.028683601: 1, 0.15033823: 1, 0.047117423: 1, 0.18871921: 1, 0.23548847: 1, 0.25221747: 1, 0.19490598: 1, 0.14312324: 1, 0.2209749: 1, 0.27166444: 1, 0.3106779: 1, 0.5117463: 1, 0.05454132: 1, 0.0454393: 1, 0.1363794: 1, 0.26048508: 1, 0.16826491: 1, 0.13026923: 1, 0.056314606: 1, 0.29860377: 1, 0.13736005: 1, 0.029986875: 1, 0.34486705: 1, 0.1551846: 1, 0.3954208: 1, 0.8230984: 1, 0.112405226: 1, 0.31875634: 1, 0.122026004: 1, 0.31261367: 1, 0.057101443: 1, 0.2512647: 1, 0.13023442: 1, 0.016972717: 1, 0.32951906: 1, 0.50837725: 1, 0.17866904: 1, 0.038150027: 1, 0.13127309: 1, 0.23116551: 1, 0.027013602: 1, 0.03435742: 1, 0.3149266: 1, 0.044390183: 1, 0.04814681: 1, 0.05592931: 1, 0.4533172: 1, 0.3081665: 1, 0.057616718: 1, 0.05445776: 1, 0.075682655: 1, 0.07317127: 1, 0.16891596: 1, 0.04093413: 1, 0.24196886: 1, 0.22755046: 1, 0.17094341: 1, 0.4385808: 1, 0.029851092: 1, 0.13737166: 1, 0.3311589: 1, 0.28153473: 1, 0.08177658: 1, 0.3311055: 1, 0.13354191: 1, 0.4664625: 1, 0.30849728: 1, 0.13664053: 1, 0.046840057: 1, 0.31769446: 1, 0.04911353: 1, 0.30807367: 1, 0.13499606: 1, 0.1513595: 1, 0.32095206: 1, 0.119499534: 1, 0.12453391: 1, 0.41228327: 1, 0.031598847: 1, 0.039406877: 1, 0.12504338: 1, 0.21393166: 1, 0.22594893: 1, 0.14431858: 1, 0.33426097: 1, 0.2492941: 1, 0.02370726: 1, 0.21002534: 1, 0.062467724: 1, 0.41504765: 1, 0.26441464: 1, 0.12846693: 1, 0.30940017: 1, 0.37948674: 1, 0.09896516: 1, 0.06457176: 1, 0.10592136: 1, 0.33966324: 1, 0.06754271: 1, 0.03978869: 1, 0.31260553: 1, 0.22779533: 1, 0.13179068: 1, 0.08379706: 1, 0.13448195: 1, 0.20874295: 1, 0.3324494: 1, 0.5287526: 1, 0.27018824: 1, 0.53744036: 1, 0.23012336: 1, 0.122940496: 1, 0.12947659: 1, 0.29396746: 1, 0.033809654: 1, 0.06173195: 1, 0.03675391: 1, 0.38374007: 1, 0.06354121: 1, 0.2364459: 1, 0.034402683: 1, 0.3147177: 1, 0.020642305: 1, 0.3338896: 1, 0.39740297: 1, 0.15086164: 1, 0.24068764: 1, 0.087276325: 1, 0.13392954: 1, 0.3518662: 1, 0.051368438: 1, 0.038854465: 1, 0.017355692: 1, 0.038175557: 1, 0.022361048: 1, 0.1350274: 1, 0.32563594: 1, 0.070901275: 1, 0.35235825: 1, 0.2853099: 1, 0.023218676: 1, 0.4304107: 1, 0.018352585: 1, 0.06023951: 1, 0.39467224: 1, 0.23886909: 1, 0.18707938: 1, 0.546677: 1, 0.13438447: 1, 0.057328906: 1, 0.3991693: 1, 0.22134744: 1, 0.024452318: 1, 0.524779: 1, 0.18441945: 1, 0.024243424: 1, 0.06503597: 1, 0.05007909: 1, 0.27266714: 1, 0.19122595: 1, 0.15506738: 1, 0.12193084: 1, 0.48898137: 1, 0.27266017: 1, 0.30733675: 1, 0.3008262: 1, 0.066658385: 1, 0.24643224: 1, 0.07070399: 1, 0.12981082: 1, 0.02788864: 1, 0.2684939: 1, 0.12138539: 1, 0.12250066: 1, 0.5098697: 1, 0.16060543: 1, 0.21776141: 1, 0.05568676: 1, 0.028410878: 1, 0.023050401: 1, 0.13529432: 1, 0.15498267: 1, 0.031827472: 1, 0.02214867: 1, 0.22713847: 1, 0.1206531: 1, 0.038791798: 1, 0.5403649: 1, 0.12659617: 1, 0.34267944: 1, 0.2457661: 1, 0.11815912: 1, 0.30297315: 1, 0.34369606: 1, 0.016664017: 1, 0.19361316: 1, 0.12110338: 1, 0.028819384: 1, 0.13982037: 1, 0.13561927: 1, 0.29924205: 1, 0.0426227: 1, 0.44242796: 1, 0.30629227: 1, 0.086534746: 1, 0.18325545: 1, 0.14206484: 1, 0.37590072: 1, 0.2204225: 1, 0.1758478: 1, 0.3232708: 1, 0.1271242: 1, 0.15621398: 1, 0.1283033: 1, 0.2221192: 1, 0.1371941: 1, 0.19354236: 1, 0.039271098: 1, 0.4505331: 1, 0.11724231: 1, 0.3419924: 1, 0.28316876: 1, 0.335989: 1, 0.33073878: 1, 0.03653341: 1, 0.31223416: 1, 0.7994585: 1, 0.023321964: 1, 0.029931169: 1, 0.15785033: 1, 0.19563015: 1, 0.3671341: 1, 0.031349335: 1, 0.12589404: 1, 0.29398137: 1, 0.08521175: 1, 0.14611624: 1, 0.22290255: 1, 0.027810885: 1, 0.12753038: 1, 0.34831497: 1, 0.12892418: 1, 0.020590082: 1, 0.31612659: 1, 0.11807905: 1, 0.37114835: 1, 0.32575083: 1, 0.08601019: 1, 0.10893873: 1, 0.41249564: 1, 0.068428196: 1, 0.3709: 1, 0.27535376: 1, 0.37154874: 1, 0.07630585: 1, 0.29247501: 1, 0.055634536: 1, 0.27903378: 1, 0.21075763: 1, 0.38195285: 1, 0.39726952: 1, 0.030997694: 1, 0.3228321: 1, 0.40960243: 1, 0.22509594: 1, 0.3491169: 1, 0.12737952: 1, 0.02381983: 1, 0.025058113: 1, 0.15837257: 1, 0.2775634: 1, 0.08615061: 1, 0.046659015: 1, 0.07845864: 1, 0.3487908: 1, 0.30764428: 1, 0.11535645: 1, 0.3108903: 1, 0.039836273: 1, 0.44416758: 1, 0.22550562: 1, 0.1941261: 1, 0.09505882: 1, 0.03809316: 1, 0.31474322: 1, 0.13300924: 1, 0.35925642: 1, 0.1331752: 1, 0.03156635: 1, 0.17145635: 1, 0.053059325: 1, 0.13430555: 1, 0.19136521: 1, 0.09540698: 1, 0.6375881: 1, 0.33101732: 1, 0.14696923: 1, 0.36671978: 1, 0.05795443: 1, 0.5043607: 1, 0.32103097: 1, 0.23295271: 1, 0.32693806: 1, 0.09568783: 1, 0.046310857: 1, 0.24363421: 1, 0.020154884: 1, 0.017757233: 1, 0.032558605: 1, 0.31840816: 1, 0.70937836: 1, 0.126848: 1, 0.19443016: 1, 0.061716862: 1, 0.3195919: 1, 0.13170828: 1, 0.31885266: 1, 0.33833212: 1, 0.38670754: 1, 0.44990176: 1, 0.18562059: 1, 0.12141441: 1, 0.21464424: 1, 0.4085754: 1, 0.025904138: 1, 0.036430124: 1, 0.3516747: 1, 0.12683871: 1, 0.05281329: 1, 0.3463258: 1, 0.02546778: 1, 0.02716331: 1, 0.4071955: 1, 0.23608963: 1, 0.24573013: 1, 0.013212607: 1, 0.12407782: 1, 0.42253652: 1, 0.5396628: 1, 0.195499: 1, 0.12455943: 1, 0.16532297: 1, 0.15542367: 1, 0.017997462: 1, 0.37180755: 1, 0.11977806: 1, 0.14349924: 1, 0.020879053: 1, 0.025155598: 1, 0.03923164: 1, 0.12463139: 1, 0.038188323: 1, 0.0530013: 1, 0.093323834: 1, 0.1392111: 1, 0.12533699: 1, 0.41279736: 1, 0.21940587: 1, 0.6183326: 1, 0.3118976: 1, 0.3883787: 1, 0.054660853: 1, 0.2575733: 1, 0.015632307: 1, 0.5335538: 1, 0.122563325: 1, 0.42492837: 1, 0.3358683: 1, 0.22592108: 1, 0.017251244: 1, 0.3175726: 1, 0.031805422: 1, 0.04392017: 1, 0.04801103: 1, 0.2399066: 1, 0.07667606: 1, 0.16196905: 1, 0.6609901: 1, 0.03544948: 1, 0.14769919: 1, 0.0435047: 1, 0.39451674: 1, 0.03875466: 1, 0.04356621: 1, 0.04422887: 1, 0.12046857: 1, 0.024521949: 1, 0.07255967: 1, 0.23681147: 1, 0.040060256: 1, 0.12488438: 1, 0.01880519: 1, 0.12983403: 1, 0.12777062: 1, 0.33586717: 1, 0.11118087: 1, 0.0640414: 1, 0.33510932: 1, 0.50445235: 1, 0.11116114: 1, 0.36134654: 1, 0.2595404: 1, 0.21384463: 1, 0.13112918: 1, 0.13862503: 1, 0.39353493: 1, 0.09501008: 1, 0.19242013: 1, 0.44017074: 1, 0.072297394: 1, 0.44612077: 1, 0.1231726: 1, 0.032057256: 1, 0.31217846: 1, 0.37113094: 1, 0.039448656: 1, 0.3079112: 1, 0.058246884: 1, 0.022538608: 1, 0.01675802: 1, 0.43297547: 1, 0.13650706: 1, 0.3323287: 1, 0.2133398: 1, 0.054967232: 1, 0.2760373: 1, 0.028958647: 1, 0.1840597: 1, 0.32273114: 1, 0.14711778: 1, 0.07578478: 1, 0.29085377: 1, 0.15058659: 1, 0.061989587: 1, 0.032204643: 1, 0.16078414: 1, 0.13439491: 1, 0.48387852: 1, 0.31959772: 1, 0.1339655: 1, 0.25635475: 1, 0.03532066: 1, 0.15193628: 1, 0.368572: 1, 0.41541553: 1, 0.33122155: 1, 0.33546212: 1, 0.12636173: 1, 0.31533277: 1, 0.2522987: 1, 0.33150125: 1, 0.019026851: 1, 0.020843077: 1, 0.40654328: 1, 0.029764052: 1, 0.38307276: 1, 0.089626394: 1, 0.06271491: 1, 0.52438444: 1, 0.27760983: 1, 0.30408147: 1, 0.052205175: 1, 0.18488598: 1, 0.34348717: 1, 0.31895363: 1, 0.027357118: 1, 0.18786041: 1, 0.2285195: 1, 0.41720968: 1, 0.20399755: 1, 0.35448664: 1, 0.23841996: 1, 0.31834897: 1, 0.02428172: 1, 0.23043437: 1, 0.34671462: 1, 0.47601596: 1, 0.2418029: 1, 0.04282463: 1, 0.16164294: 1, 0.1107097: 1, 0.13224213: 1, 0.30099446: 1, 0.20777507: 1, 0.22615434: 1, 0.019039618: 1, 0.29913995: 1, 0.30375072: 1, 0.40777344: 1, 0.22738335: 1, 0.12974119: 1, 0.14027995: 1, 0.1294: 1, 0.035042133: 1, 0.21051972: 1, 0.13287346: 1, 0.2664235: 1, 0.3028281: 1, 0.12648359: 1, 0.10913022: 1, 0.023566835: 1, 0.018091466: 1, 0.025522325: 1, 0.15076995: 1, 0.13183594: 1, 0.14590155: 1, 0.37039402: 1, 0.15032895: 1, 0.25533348: 1, 0.5273426: 1, 0.047744107: 1, 0.38805377: 1, 0.027340872: 1, 0.17592902: 1, 0.03103251: 1, 0.14929956: 1, 0.031812385: 1, 0.3320792: 1, 0.24541447: 1, 0.025670871: 1, 0.123422116: 1, 0.25767893: 1, 0.48698062: 1, 0.5083982: 1, 0.21608329: 1, 0.05432894: 1, 0.33547375: 1, 0.17654528: 1, 0.033818938: 1, 0.13376242: 1, 0.2610108: 1, 0.11817073: 1, 0.13791247: 1, 0.060068913: 1, 0.29851905: 1, 0.026352102: 1, 0.12328286: 1, 0.12631184: 1, 0.0205866: 1, 0.12464067: 1, 0.746557: 1, 0.13300692: 1, 0.1351829: 1, 0.030234067: 1, 0.10132335: 1, 0.5630857: 1, 0.13650127: 1, 0.31936213: 1, 0.022639574: 1, 0.3819877: 1, 0.38611916: 1, 0.37617925: 1, 0.14417699: 1, 0.20841916: 1, 0.07000303: 1, 0.023882499: 1, 0.221778: 1, 0.22970209: 1, 0.03945794: 1, 0.047610648: 1, 0.310151: 1, 0.13433804: 1, 0.42125413: 1, 0.12510489: 1, 0.13368699: 1, 0.06837713: 1, 0.43324238: 1, 0.13223517: 1, 0.13201582: 1, 0.5259233: 1, 0.2225428: 1, 0.06379072: 1, 0.23647492: 1, 0.2700896: 1, 0.07212331: 1, 0.32741967: 1, 0.30126137: 1, 0.20713678: 1, 0.13620533: 1, 0.38112542: 1, 0.12661125: 1, 0.22891176: 1, 0.12747236: 1, 0.15718187: 1, 0.42727378: 1, 0.05146476: 1, 0.029297521: 1, 0.07043939: 1, 0.120477855: 1, 0.15028137: 1, 0.045927882: 1, 0.118878655: 1, 0.24392784: 1, 0.44148213: 1, 0.12278731: 1, 0.13663125: 1, 0.5339843: 1, 0.3134469: 1, 0.1454617: 1, 0.059309926: 1, 0.1417921: 1, 0.15852807: 1, 0.24360056: 1, 0.27202538: 1, 0.035512146: 1, 0.15623604: 1, 0.12518032: 1, 0.37727013: 1, 0.1576925: 1, 0.23840372: 1, 0.03547501: 1, 0.025019815: 1, 0.10453453: 1, 0.23945168: 1, 0.14212866: 1, 0.32345065: 1, 0.25295442: 1, 0.20746173: 1, 0.26654303: 1, 0.16005534: 1, 0.311886: 1, 0.058416322: 1, 0.12019933: 1, 0.3100013: 1, 0.017847756: 1, 0.054504182: 1, 0.035903245: 1, 0.23732443: 1, 0.2639678: 1, 0.19457059: 1, 0.07588807: 1, 0.20501302: 1, 0.12258654: 1, 0.0542802: 1, 0.36521804: 1, 0.3042068: 1, 0.22935508: 1, 0.020722382: 1, 0.035582937: 1, 0.35097837: 1, 0.014883768: 1, 0.020461263: 1, 0.15513353: 1, 0.024410538: 1, 0.25023413: 1, 0.014442767: 1, 0.5274099: 1, 0.14645278: 1, 0.05043073: 1, 0.07805825: 1, 0.4583504: 1, 0.24249226: 1, 0.065247186: 1, 0.13606606: 1, 0.30908334: 1, 0.022782318: 1, 0.39005336: 1, 0.42308196: 1, 0.14176425: 1, 0.022827579: 1, 0.13155742: 1, 0.14943883: 1, 0.29212803: 1, 0.27807054: 1, 0.3450655: 1, 0.33268848: 1, 0.03635701: 1, 0.1695914: 1, 0.20940445: 1, 0.20758474: 1, 0.30939087: 1, 0.011866395: 1, 0.16062863: 1, 0.19254082: 1, 0.12992108: 1, 0.13006614: 1, 0.32757634: 1, 0.21264116: 1, 0.09359075: 1, 0.14248379: 1, 0.40736493: 1, 0.39909965: 1, 0.33184707: 1, 0.19948542: 1, 0.2932746: 1, 0.03506534: 1, 0.041235868: 1, 0.20400451: 1, 0.5570324: 1, 0.24237852: 1, 0.039509002: 1, 0.13138914: 1, 0.060753625: 1, 0.20148268: 1, 0.37053213: 1, 0.026508773: 1, 0.118838035: 1, 0.25704062: 1, 0.119848855: 1, 0.055477865: 1, 0.4614815: 1, 0.122603945: 1, 0.36010593: 1, 0.047748752: 1, 0.035174433: 1, 0.20559213: 1, 0.32193038: 1, 0.044856716: 1, 0.020624898: 1, 0.33026412: 1, 0.040339943: 1, 0.22981465: 1, 0.28007016: 1, 0.2177266: 1, 0.14364547: 1, 0.39856583: 1, 0.036858357: 1, 0.033824738: 1, 0.12919343: 1, 0.24619666: 1, 0.12357298: 1, 0.55233574: 1, 0.22589903: 1, 0.34158972: 1, 0.55223244: 1, 0.03743282: 1, 0.4416063: 1, 0.06208243: 1, 0.18439972: 1, 0.34009263: 1, 0.05421405: 1, 0.019945988: 1, 0.60845304: 1, 0.22868778: 1, 0.022646537: 1, 0.3797351: 1, 0.29487267: 1, 0.22058149: 1, 0.26453763: 1, 0.23345174: 1, 0.11858272: 1, 0.31399468: 1, 0.115930915: 1, 0.09432537: 1, 0.029871982: 1, 0.024765661: 1, 0.2749905: 1, 0.11453596: 1, 0.15452425: 1, 0.12960774: 1, 0.16503865: 1, 0.02560124: 1, 0.018307324: 1, 0.44898495: 1, 0.42633143: 1, 0.3321848: 1, 0.3124779: 1, 0.32780844: 1, 0.06424333: 1, 0.058090214: 1, 0.31776989: 1, 0.03985252: 1, 0.13301969: 1, 0.020280221: 1, 0.16889739: 1, 0.17547758: 1, 0.21935946: 1, 0.31146473: 1, 0.22915316: 1, 0.03679569: 1, 0.15872885: 1, 0.054283682: 1, 0.118913464: 1, 0.07592636: 1, 0.14332516: 1, 0.20933482: 1, 0.16440035: 1, 0.06970129: 1, 0.23768768: 1, 0.12095832: 1, 0.13932715: 1, 0.25951138: 1, 0.3157784: 1, 0.03008784: 1, 0.29301468: 1, 0.6499407: 1, 0.406975: 1, 0.13111526: 1, 0.12222097: 1, 0.49594453: 1, 0.1357063: 1, 0.060036417: 1, 0.7166607: 1, 0.6049483: 1, 0.031547785: 1, 0.12636986: 1, 0.13510166: 1, 0.01631702: 1, 0.4020648: 1, 0.15568246: 1, 0.5399645: 1, 0.046159986: 1, 0.25335014: 1, 0.31307322: 1, 0.028279739: 1, 0.07817198: 1, 0.35909048: 1, 0.6442182: 1, 0.64553773: 1, 0.4895094: 1, 0.2540314: 1, 0.032216247: 1, 0.09135326: 1, 0.15800236: 1, 0.008924458: 1, 0.22197413: 1, 0.15493624: 1, 0.01882608: 1, 0.051550638: 1, 0.3364799: 1, 0.4836789: 1, 0.4004923: 1, 0.49830157: 1, 0.3728439: 1, 0.37488988: 1, 0.03228356: 1, 0.053698774: 1, 0.1797228: 1, 0.12745263: 1, 0.3393023: 1, 0.25195637: 1, 0.1352537: 1, 0.13003248: 1, 0.3886259: 1, 0.17584082: 1, 0.14023352: 1, 0.06947847: 1, 0.035733808: 1, 0.4046702: 1, 0.28136414: 1, 0.12252735: 1, 0.11384776: 1, 0.029968306: 1, 0.2622549: 1, 0.047914706: 1, 0.35322982: 1, 0.14903264: 1, 0.031322643: 1, 0.19972913: 1, 0.30432516: 1, 0.02142334: 1, 0.3417986: 1, 0.1679562: 1, 0.122783825: 1, 0.31985652: 1, 0.4252916: 1, 0.5269005: 1, 0.105555795: 1, 0.015667124: 1, 0.0382185: 1, 0.31578887: 1, 0.2983299: 1, 0.20535538: 1, 0.028765999: 1, 0.056487523: 1, 0.81672364: 1, 0.12261555: 1, 0.104243234: 1, 0.12917253: 1, 0.24972351: 1, 0.41890407: 1, 0.3184662: 1, 0.062366758: 1, 0.3021724: 1, 0.17541143: 1, 0.26339567: 1, 0.27278784: 1, 0.2517846: 1, 0.02971531: 1, 0.12798299: 1, 0.17517933: 1, 0.14036001: 1, 0.13527575: 1, 0.03982931: 1, 0.29229283: 1, 0.09575746: 1, 0.0668522: 1, 0.024769142: 1, 0.039839756: 1, 0.33007148: 1, 0.23064327: 1, 0.34884417: 1, 0.11426555: 1, 0.040546514: 1, 0.121705696: 1, 0.07160223: 1, 0.71713763: 1, 0.044308946: 1, 0.029638717: 1, 0.055769157: 1, 0.5295418: 1, 0.24250966: 1, 0.0332143: 1, 0.45466572: 1, 0.11706243: 1, 0.2784222: 1, 0.09744951: 1, 0.020746753: 1, 0.041401826: 1, 0.083221436: 1, 0.22218883: 1, 0.040235493: 1, 0.321342: 1, 0.1354092: 1, 0.22424528: 1, 0.15024191: 1, 0.31270766: 1, 0.027631003: 1, 0.26430088: 1, 0.28351343: 1, 0.049741376: 1, 0.14028458: 1, 0.21735522: 1, 0.32044026: 1, 0.13588038: 1, 0.04348265: 1, 0.09250102: 1, 0.124653436: 1, 0.22642475: 1, 0.32590285: 1, 0.3149962: 1, 0.10950043: 1, 0.1345098: 1, 0.32090214: 1, 0.40418857: 1, 0.35236174: 1, 0.06922664: 1, 0.07682577: 1, 0.13207966: 1, 0.1500191: 1, 0.119107276: 1, 0.22570522: 1, 0.25986883: 1, 0.0743817: 1, 0.40497193: 1, 0.11194102: 1, 0.2509641: 1, 0.18169801: 1, 0.12268518: 1, 0.4827621: 1, 0.33890888: 1, 0.3360215: 1})\n",
            "Counter({0.018638074: 13, 0.023605132: 3, 0.02095913: 3, 0.122406654: 2, 0.054359116: 2, 0.1684622: 2, 0.123422116: 2, 0.12362521: 2, 0.012835436: 2, 0.15517648: 1, 0.12244611: 1, 0.10871939: 1, 0.43323657: 1, 0.33846906: 1, 0.03024335: 1, 0.12245308: 1, 0.23883775: 1, 0.40536883: 1, 0.6183326: 1, 0.79257655: 1, 0.43954405: 1, 0.18681014: 1, 0.0311857: 1, 0.23939365: 1, 0.21246825: 1, 0.2197285: 1, 0.41923365: 1, 0.7708515: 1, 0.05447749: 1, 0.4718102: 1, 0.15923949: 1, 0.4150395: 1, 0.05027638: 1, 0.13575853: 1, 0.5089842: 1, 0.19645296: 1, 0.21570727: 1, 0.13567148: 1, 0.22030297: 1, 0.2210109: 1, 0.33539945: 1, 0.03822778: 1, 0.351901: 1, 0.32072112: 1, 0.33198634: 1, 0.3221915: 1, 0.110640064: 1, 0.099688165: 1, 0.23721185: 1, 0.16283132: 1, 0.13606027: 1, 0.25828123: 1, 0.31285504: 1, 0.20554802: 1, 0.20533448: 1, 0.17972396: 1, 0.12287667: 1, 0.14552204: 1, 0.02625694: 1, 0.41181093: 1, 0.31829095: 1, 0.063654944: 1, 0.11533904: 1, 0.42375508: 1, 0.35987964: 1, 1.0: 1, 0.31223416: 1, 0.049523197: 1, 0.0467124: 1, 0.2167123: 1, 0.08619471: 1, 0.04730659: 1, 0.12451418: 1, 0.07666214: 1, 0.027437195: 1, 0.5864912: 1, 0.21613087: 1, 0.23214616: 1, 0.040500093: 1, 0.19104026: 1, 0.12336409: 1, 0.054460082: 1, 0.25828588: 1, 0.32973492: 1, 0.033312947: 1, 0.12518612: 1, 0.3064234: 1, 0.31397265: 1, 0.17007533: 1, 0.04504472: 1, 0.2335794: 1, 0.34481597: 1, 0.2417321: 1, 0.17273061: 1, 0.059785742: 1, 0.33556077: 1, 0.058091372: 1, 0.056906473: 1, 0.14041689: 1, 0.084400535: 1, 0.20824392: 1, 0.17909147: 1, 0.13256127: 1, 0.1196388: 1, 0.43955564: 1, 0.12653813: 1, 0.3119324: 1, 0.182992: 1, 0.14792086: 1, 0.3226499: 1, 0.31195563: 1, 0.103971675: 1, 0.2530844: 1, 0.11396614: 1, 0.31749135: 1, 0.13578755: 1, 0.31227478: 1, 0.3472879: 1, 0.122981116: 1, 0.13124987: 1, 0.19011997: 1, 0.15953773: 1, 0.25730872: 1, 0.15508944: 1, 0.04887098: 1, 0.16813725: 1, 0.014547214: 1, 0.1715318: 1, 0.02813003: 1, 0.036359333: 1, 0.12807003: 1, 0.027507987: 1, 0.02713894: 1, 0.12388053: 1, 0.08661947: 1, 0.1538082: 1, 0.027313018: 1, 0.0: 1, 0.1328015: 1, 0.25058115: 1, 0.15546429: 1, 0.12811877: 1, 0.13596742: 1, 0.052035738: 1, 0.21346863: 1, 0.34547052: 1, 0.33808145: 1, 0.020590082: 1, 0.37883684: 1, 0.022416752: 1, 0.72819513: 1, 0.14027181: 1, 0.31251618: 1, 0.11968754: 1, 0.1440447: 1, 0.034212355: 1, 0.23873214: 1, 0.5178901: 1, 0.3253133: 1, 0.026210517: 1, 0.029104874: 1, 0.5524448: 1, 0.054487936: 1, 0.16732024: 1, 0.23913833: 1, 0.095325746: 1, 0.048376597: 1, 0.19490366: 1, 0.5664814: 1, 0.13312992: 1, 0.053580403: 1, 0.14835721: 1, 0.12947659: 1, 0.025393507: 1, 0.16307154: 1, 0.38176137: 1, 0.06627309: 1, 0.2691821: 1, 0.11593207: 1, 0.09672766: 1, 0.3023836: 1, 0.12717642: 1, 0.25228712: 1, 0.29027465: 1, 0.23710045: 1, 0.16260965: 1, 0.036569387: 1, 0.07905631: 1, 0.14604428: 1, 0.14098902: 1, 0.03740961: 1, 0.23518209: 1, 0.12200047: 1, 0.31217846: 1, 0.39726952: 1, 0.014584351: 1, 0.39893138: 1, 0.025920385: 1, 0.032988: 1, 0.1330278: 1, 0.12241826: 1, 0.05678694: 1, 0.2609342: 1, 0.15426314: 1, 0.12741666: 1, 0.13812949: 1, 0.24667828: 1, 0.076788634: 1, 0.014843149: 1, 0.42753026: 1, 0.14222498: 1, 0.31197885: 1, 0.15615132: 1, 0.26026922: 1, 0.20195502: 1, 0.1354858: 1, 0.10622774: 1, 0.05452159: 1, 0.07852711: 1, 0.33930695: 1, 0.033489347: 1, 0.04112446: 1, 0.025926188: 1, 0.054504182: 1, 0.21038161: 1, 0.102916755: 1, 0.19051223: 1, 0.054470528: 1, 0.13362896: 1, 0.030098286: 1, 0.25081673: 1, 0.6363928: 1, 0.24739432: 1, 0.32593536: 1, 0.043664854: 1, 0.13160267: 1, 0.2518113: 1, 0.5032164: 1, 0.307917: 1, 0.07529504: 1, 0.13211447: 1, 0.17182192: 1, 0.06505918: 1, 0.13786952: 1, 0.14168999: 1, 0.01830152: 1, 0.15024191: 1, 0.13257869: 1, 0.34610996: 1, 0.44752848: 1, 0.21175684: 1, 0.33080262: 1, 0.28378963: 1, 0.12910406: 1, 0.54140127: 1, 0.030032136: 1, 0.044455174: 1, 0.14495455: 1, 0.018985072: 1, 0.21477886: 1, 0.33314687: 1, 0.3175726: 1, 0.056401644: 1, 0.19239111: 1, 0.046480294: 1, 0.12257493: 1, 0.03463363: 1, 0.17613909: 1, 0.030642573: 1, 0.1295381: 1, 0.26836157: 1, 0.18944454: 1, 0.12631184: 1, 0.1357063: 1, 0.020617934: 1, 0.023060845: 1, 0.3187575: 1, 0.17165829: 1, 0.12431456: 1, 0.049127456: 1, 0.22522941: 1, 0.0147503065: 1, 0.2093093: 1, 0.24931036: 1, 0.30151206: 1, 0.053919274: 1, 0.25737834: 1, 0.036823545: 1, 0.23939829: 1, 0.1292619: 1, 0.06343212: 1, 0.02509641: 1, 0.13739488: 1, 0.31166318: 1, 0.27910691: 1, 0.0426227: 1, 0.2612348: 1, 0.0342669: 1, 0.19766687: 1, 0.02247594: 1, 0.0377392: 1, 0.03758137: 1, 0.39762464: 1, 0.16463245: 1, 0.11602027: 1, 0.24753708: 1, 0.5443281: 1, 0.12222097: 1, 0.3538913: 1, 0.02560124: 1, 0.04735533: 1, 0.15953426: 1, 0.35479537: 1, 0.034673084: 1, 0.056102227: 1, 0.028247243: 1, 0.124774136: 1, 0.4696876: 1, 0.5165915: 1, 0.39380187: 1, 0.04148074: 1, 0.13769081: 1, 0.065608114: 1, 0.68253535: 1, 0.04746558: 1, 0.22528163: 1, 0.14209385: 1, 0.07592636: 1, 0.07569542: 1, 0.020579638: 1, 0.06787927: 1, 0.21580245: 1, 0.29902735: 1, 0.02529138: 1, 0.11888445: 1, 0.012701975: 1, 0.15934625: 1, 0.09957328: 1, 0.2225277: 1, 0.34260634: 1, 0.023280185: 1, 0.023433374: 1, 0.11185049: 1, 0.02690103: 1, 0.22237335: 1, 0.24169497: 1, 0.20633833: 1, 0.06037065: 1, 0.15788166: 1, 0.2931319: 1, 0.3062969: 1, 0.20837274: 1, 0.13565989: 1, 0.24080485: 1, 0.41254088: 1, 0.2639678: 1, 0.31220978: 1, 0.24545972: 1, 0.16121818: 1, 0.58208007: 1, 0.36827722: 1, 0.4898796: 1, 0.11213018: 1, 0.040894672: 1, 0.027760983: 1, 0.094395: 1, 0.026320767: 1, 0.46613058: 1, 0.0811174: 1, 0.16440035: 1, 0.35232344: 1, 0.15564997: 1, 0.029131565: 1, 0.020099178: 1, 0.31650144: 1, 0.4102976: 1, 0.67655283: 1})\n"
          ],
          "name": "stdout"
        }
      ]
    },
    {
      "cell_type": "markdown",
      "metadata": {
        "id": "CKrf7_a23YOw"
      },
      "source": [
        "Creating the Embedding layer"
      ]
    },
    {
      "cell_type": "code",
      "metadata": {
        "id": "xOQDMEcHm49c"
      },
      "source": [
        "import os\n",
        "embeddings_index = {}\n",
        "f = open(os.path.join('','tweets_embedding.txt'),encoding=\"utf-8\")\n",
        "for line in f:\n",
        "    values = line.split()\n",
        "    word = values[0]\n",
        "    coefs = np.asarray(values[1:])\n",
        "    embeddings_index[word] = coefs\n",
        "f.close()    "
      ],
      "execution_count": 21,
      "outputs": []
    },
    {
      "cell_type": "markdown",
      "metadata": {
        "id": "HtBpNUfhpz3j"
      },
      "source": [
        "Embedding Matrix"
      ]
    },
    {
      "cell_type": "code",
      "metadata": {
        "id": "qxvwpIMPtGqi"
      },
      "source": [
        "num_words = len(word_index) + 1\n",
        "embedding_matrix = np.zeros((num_words,EMBEDDING_DIM))\n",
        "\n",
        "for word,i in word_index.items():\n",
        "    if i > num_words:\n",
        "        continue\n",
        "        embedding_vector = embeddings_index.get(word)\n",
        "        if embedding_vector is not None:\n",
        "            embedding_matrix[i] = embedding_vector"
      ],
      "execution_count": 22,
      "outputs": []
    },
    {
      "cell_type": "code",
      "metadata": {
        "colab": {
          "base_uri": "https://localhost:8080/"
        },
        "id": "KkjovhgDt7At",
        "outputId": "3e84a0d5-1b42-4e3a-ec8d-4407ce6a58b1"
      },
      "source": [
        "print(num_words)"
      ],
      "execution_count": null,
      "outputs": [
        {
          "output_type": "stream",
          "text": [
            "4909\n"
          ],
          "name": "stdout"
        }
      ]
    },
    {
      "cell_type": "code",
      "metadata": {
        "id": "fRxz_0qbHtGm"
      },
      "source": [
        "def get_class_model():\n",
        "    model = Sequential()\n",
        "    model.add(Embedding(num_words ,EMBEDDING_DIM))\n",
        "    model.add(LSTM(1, activation=\"relu\"))\n",
        "    model.add(Dropout(0.5))\n",
        "    model.add(Dense(1,activation='sigmoid'))\n",
        "    model.compile(loss='sparse_categorical_crossentropy',optimizer='adam' , metrics=['accuracy'])\n",
        "\n",
        "model=get_model2()\n"
      ],
      "execution_count": null,
      "outputs": []
    },
    {
      "cell_type": "code",
      "metadata": {
        "id": "gbUQsHcyEuic"
      },
      "source": [
        "def get_reg_model():\n",
        "    model = keras.Sequential()\n",
        "    model.add(Embedding(num_words ,EMBEDDING_DIM))\n",
        "    model.add(LSTM(1, recurrent_dropout=0.4))\n",
        "    model.add(Dropout(0.5))\n",
        "    model.add(Dense(1, activation='tanh'))\n",
        "    model.compile(loss='mean_squared_error', optimizer='adam', metrics=['mae'])\n",
        "    return model\n",
        "\n",
        "model=get_reg_model()\n"
      ],
      "execution_count": 40,
      "outputs": []
    },
    {
      "cell_type": "code",
      "metadata": {
        "id": "0mBQZUb9eB6e"
      },
      "source": [
        "import tensorflow as tf\n",
        "from tensorflow import keras"
      ],
      "execution_count": 39,
      "outputs": []
    },
    {
      "cell_type": "markdown",
      "metadata": {
        "id": "3i69J5WF4_DO"
      },
      "source": [
        "Model Training Finally...."
      ]
    },
    {
      "cell_type": "code",
      "metadata": {
        "colab": {
          "base_uri": "https://localhost:8080/"
        },
        "id": "QavzjDRzKNgc",
        "outputId": "5e5d5270-3181-4c4d-acf7-8cad1e23a34a"
      },
      "source": [
        "model2.fit(x_train_pad, y_train, batch_size=10, epochs=20,validation_data=(x_test_pad, y_test))\n"
      ],
      "execution_count": 71,
      "outputs": [
        {
          "output_type": "stream",
          "text": [
            "Epoch 1/20\n",
            "160/160 [==============================] - 2s 8ms/step - loss: 0.0236 - mae: 0.1225 - val_loss: 0.0240 - val_mae: 0.1171\n",
            "Epoch 2/20\n",
            "160/160 [==============================] - 1s 7ms/step - loss: 0.0225 - mae: 0.1199 - val_loss: 0.0254 - val_mae: 0.1291\n",
            "Epoch 3/20\n",
            "160/160 [==============================] - 1s 7ms/step - loss: 0.0221 - mae: 0.1181 - val_loss: 0.0245 - val_mae: 0.1234\n",
            "Epoch 4/20\n",
            "160/160 [==============================] - 1s 8ms/step - loss: 0.0220 - mae: 0.1177 - val_loss: 0.0242 - val_mae: 0.1202\n",
            "Epoch 5/20\n",
            "160/160 [==============================] - 1s 8ms/step - loss: 0.0215 - mae: 0.1167 - val_loss: 0.0245 - val_mae: 0.1181\n",
            "Epoch 6/20\n",
            "160/160 [==============================] - 1s 7ms/step - loss: 0.0214 - mae: 0.1157 - val_loss: 0.0247 - val_mae: 0.1231\n",
            "Epoch 7/20\n",
            "160/160 [==============================] - 1s 7ms/step - loss: 0.0213 - mae: 0.1155 - val_loss: 0.0246 - val_mae: 0.1183\n",
            "Epoch 8/20\n",
            "160/160 [==============================] - 1s 7ms/step - loss: 0.0212 - mae: 0.1146 - val_loss: 0.0248 - val_mae: 0.1193\n",
            "Epoch 9/20\n",
            "160/160 [==============================] - 1s 8ms/step - loss: 0.0210 - mae: 0.1143 - val_loss: 0.0247 - val_mae: 0.1223\n",
            "Epoch 10/20\n",
            "160/160 [==============================] - 1s 8ms/step - loss: 0.0210 - mae: 0.1144 - val_loss: 0.0246 - val_mae: 0.1191\n",
            "Epoch 11/20\n",
            "160/160 [==============================] - 1s 7ms/step - loss: 0.0209 - mae: 0.1143 - val_loss: 0.0246 - val_mae: 0.1205\n",
            "Epoch 12/20\n",
            "160/160 [==============================] - 1s 8ms/step - loss: 0.0211 - mae: 0.1143 - val_loss: 0.0248 - val_mae: 0.1185\n",
            "Epoch 13/20\n",
            "160/160 [==============================] - 1s 8ms/step - loss: 0.0209 - mae: 0.1143 - val_loss: 0.0250 - val_mae: 0.1234\n",
            "Epoch 14/20\n",
            "160/160 [==============================] - 1s 8ms/step - loss: 0.0210 - mae: 0.1144 - val_loss: 0.0248 - val_mae: 0.1210\n",
            "Epoch 15/20\n",
            "160/160 [==============================] - 1s 8ms/step - loss: 0.0208 - mae: 0.1134 - val_loss: 0.0251 - val_mae: 0.1241\n",
            "Epoch 16/20\n",
            "160/160 [==============================] - 1s 8ms/step - loss: 0.0208 - mae: 0.1137 - val_loss: 0.0250 - val_mae: 0.1239\n",
            "Epoch 17/20\n",
            "160/160 [==============================] - 1s 8ms/step - loss: 0.0208 - mae: 0.1135 - val_loss: 0.0253 - val_mae: 0.1258\n",
            "Epoch 18/20\n",
            "160/160 [==============================] - 1s 8ms/step - loss: 0.0209 - mae: 0.1140 - val_loss: 0.0253 - val_mae: 0.1262\n",
            "Epoch 19/20\n",
            "160/160 [==============================] - 1s 8ms/step - loss: 0.0208 - mae: 0.1142 - val_loss: 0.0247 - val_mae: 0.1216\n",
            "Epoch 20/20\n",
            "160/160 [==============================] - 1s 8ms/step - loss: 0.0207 - mae: 0.1133 - val_loss: 0.0258 - val_mae: 0.1286\n"
          ],
          "name": "stdout"
        },
        {
          "output_type": "execute_result",
          "data": {
            "text/plain": [
              "<tensorflow.python.keras.callbacks.History at 0x7fd75ce20150>"
            ]
          },
          "metadata": {
            "tags": []
          },
          "execution_count": 71
        }
      ]
    },
    {
      "cell_type": "code",
      "metadata": {
        "id": "6RrkQV0aergH"
      },
      "source": [
        "model.save('MH3_reg_model.h5')"
      ],
      "execution_count": 72,
      "outputs": []
    },
    {
      "cell_type": "code",
      "metadata": {
        "id": "ygw08JqLkU7b"
      },
      "source": [
        "reconstructed_model = keras.models.load_model('/content/MH3_reg_model.h5')"
      ],
      "execution_count": 73,
      "outputs": []
    },
    {
      "cell_type": "code",
      "metadata": {
        "id": "e4CLQO0ze7zd",
        "colab": {
          "base_uri": "https://localhost:8080/"
        },
        "outputId": "c26fa15a-6c55-4dbd-d18f-51d1e0767a5b"
      },
      "source": [
        "model=load_model('/content/MH3_reg_model.h5')\n",
        "with open('/content/tokenizer.pickle', 'rb') as handle:\n",
        "    tokenizer = pickle.load(handle)\n",
        "\n",
        "data = clean_tweet('scary days are the worst')\n",
        "seq=tokenizer.texts_to_sequences(data)\n",
        "data = pad_sequences(seq,maxlen=200)\n",
        "prediction=np.argmax(model.predict(data),axis=1)\n",
        "output=model.predict(data)\n",
        "prediction\n"
      ],
      "execution_count": 78,
      "outputs": [
        {
          "output_type": "execute_result",
          "data": {
            "text/plain": [
              "array([[  0],\n",
              "       [199],\n",
              "       [  0],\n",
              "       [  0],\n",
              "       [  0],\n",
              "       [  0],\n",
              "       [  0],\n",
              "       [  0],\n",
              "       [  0],\n",
              "       [  0],\n",
              "       [  0],\n",
              "       [  0],\n",
              "       [199],\n",
              "       [  0],\n",
              "       [  0],\n",
              "       [199],\n",
              "       [199],\n",
              "       [  0],\n",
              "       [  0],\n",
              "       [  0],\n",
              "       [  0],\n",
              "       [  0],\n",
              "       [  0]])"
            ]
          },
          "metadata": {
            "tags": []
          },
          "execution_count": 78
        }
      ]
    },
    {
      "cell_type": "code",
      "metadata": {
        "id": "3LMVt1XPM7uX"
      },
      "source": [
        "data=pd.read_csv('/content/Mental_health.csv')"
      ],
      "execution_count": null,
      "outputs": []
    },
    {
      "cell_type": "code",
      "metadata": {
        "colab": {
          "base_uri": "https://localhost:8080/",
          "height": 282
        },
        "id": "jjnXJ1l9NUsP",
        "outputId": "5275418e-8f44-44e8-919f-8edca42afe2b"
      },
      "source": [
        "data['labels'].value_counts().plot(kind='barh')"
      ],
      "execution_count": null,
      "outputs": [
        {
          "output_type": "execute_result",
          "data": {
            "text/plain": [
              "<matplotlib.axes._subplots.AxesSubplot at 0x7f3e6f9c1c10>"
            ]
          },
          "metadata": {
            "tags": []
          },
          "execution_count": 21
        },
        {
          "output_type": "display_data",
          "data": {
            "image/png": "[encoded data removed]",
            "text/plain": [
              "<Figure size 432x288 with 1 Axes>"
            ]
          },
          "metadata": {
            "tags": [],
            "needs_background": "light"
          }
        }
      ]
    },
    {
      "cell_type": "code",
      "metadata": {
        "colab": {
          "base_uri": "https://localhost:8080/"
        },
        "id": "xGUcoRa3iJ7v",
        "outputId": "1a71b214-f761-47dc-fb5d-e7de730cbcbc"
      },
      "source": [
        "\n",
        "prediction=model.predict(data)\n",
        "prediction_class = prediction.argmax(axis=-1)[0][0]\n",
        "print(prediction_class)"
      ],
      "execution_count": null,
      "outputs": [
        {
          "output_type": "stream",
          "text": [
            "1\n"
          ],
          "name": "stdout"
        }
      ]
    },
    {
      "cell_type": "markdown",
      "metadata": {
        "id": "v-UNdK-yCTLB"
      },
      "source": [
        "# Streamlit code\n"
      ]
    },
    {
      "cell_type": "code",
      "metadata": {
        "colab": {
          "base_uri": "https://localhost:8080/",
          "height": 1000
        },
        "id": "1Rl66cqiRQcl",
        "outputId": "5cb0a5c6-547c-4cfd-bdd7-6c7c6389f3af"
      },
      "source": [
        "!pip install streamlit"
      ],
      "execution_count": null,
      "outputs": [
        {
          "output_type": "stream",
          "text": [
            "Collecting streamlit\n",
            "\u001b[?25l  Downloading https://files.pythonhosted.org/packages/04/11/57097e14f72a2d1b2a1bbe86c2a8bc375661bfd5c30b5e8cee7c2fad9a44/streamlit-0.82.0-py2.py3-none-any.whl (8.2MB)\n",
            "\u001b[K     |████████████████████████████████| 8.2MB 5.2MB/s \n",
            "\u001b[?25hRequirement already satisfied: click<8.0,>=7.0 in /usr/local/lib/python3.7/dist-packages (from streamlit) (7.1.2)\n",
            "Requirement already satisfied: tzlocal in /usr/local/lib/python3.7/dist-packages (from streamlit) (1.5.1)\n",
            "Requirement already satisfied: protobuf!=3.11,>=3.6.0 in /usr/local/lib/python3.7/dist-packages (from streamlit) (3.12.4)\n",
            "Requirement already satisfied: pillow>=6.2.0 in /usr/local/lib/python3.7/dist-packages (from streamlit) (7.1.2)\n",
            "Requirement already satisfied: python-dateutil in /usr/local/lib/python3.7/dist-packages (from streamlit) (2.8.1)\n",
            "Requirement already satisfied: packaging in /usr/local/lib/python3.7/dist-packages (from streamlit) (20.9)\n",
            "Collecting watchdog; platform_system != \"Darwin\"\n",
            "\u001b[?25l  Downloading https://files.pythonhosted.org/packages/f2/5b/36b3b11e557830de6fc1dc06e9aa3ee274119b8cea9cc98175dbbf72cf87/watchdog-2.1.2-py3-none-manylinux2014_x86_64.whl (74kB)\n",
            "\u001b[K     |████████████████████████████████| 81kB 9.1MB/s \n",
            "\u001b[?25hRequirement already satisfied: cachetools>=4.0 in /usr/local/lib/python3.7/dist-packages (from streamlit) (4.2.2)\n",
            "Collecting blinker\n",
            "\u001b[?25l  Downloading https://files.pythonhosted.org/packages/1b/51/e2a9f3b757eb802f61dc1f2b09c8c99f6eb01cf06416c0671253536517b6/blinker-1.4.tar.gz (111kB)\n",
            "\u001b[K     |████████████████████████████████| 112kB 46.8MB/s \n",
            "\u001b[?25hRequirement already satisfied: astor in /usr/local/lib/python3.7/dist-packages (from streamlit) (0.8.1)\n",
            "Requirement already satisfied: altair>=3.2.0 in /usr/local/lib/python3.7/dist-packages (from streamlit) (4.1.0)\n",
            "Requirement already satisfied: pyarrow; python_version < \"3.9\" in /usr/local/lib/python3.7/dist-packages (from streamlit) (3.0.0)\n",
            "Requirement already satisfied: toml in /usr/local/lib/python3.7/dist-packages (from streamlit) (0.10.2)\n",
            "Collecting base58\n",
            "  Downloading https://files.pythonhosted.org/packages/b8/a1/d9f565e9910c09fd325dc638765e8843a19fa696275c16cc08cf3b0a3c25/base58-2.1.0-py3-none-any.whl\n",
            "Requirement already satisfied: pandas>=0.21.0 in /usr/local/lib/python3.7/dist-packages (from streamlit) (1.1.5)\n",
            "Collecting gitpython\n",
            "\u001b[?25l  Downloading https://files.pythonhosted.org/packages/27/da/6f6224fdfc47dab57881fe20c0d1bc3122be290198ba0bf26a953a045d92/GitPython-3.1.17-py3-none-any.whl (166kB)\n",
            "\u001b[K     |████████████████████████████████| 174kB 43.0MB/s \n",
            "\u001b[?25hRequirement already satisfied: numpy in /usr/local/lib/python3.7/dist-packages (from streamlit) (1.19.5)\n",
            "Collecting pydeck>=0.1.dev5\n",
            "\u001b[?25l  Downloading https://files.pythonhosted.org/packages/d6/bc/f0e44828e4290367c869591d50d3671a4d0ee94926da6cb734b7b200308c/pydeck-0.6.2-py2.py3-none-any.whl (4.2MB)\n",
            "\u001b[K     |████████████████████████████████| 4.2MB 34.1MB/s \n",
            "\u001b[?25hCollecting validators\n",
            "  Downloading https://files.pythonhosted.org/packages/db/2f/7fed3ee94ad665ad2c1de87f858f10a7785251ff75b4fd47987888d07ef1/validators-0.18.2-py3-none-any.whl\n",
            "Requirement already satisfied: tornado>=5.0 in /usr/local/lib/python3.7/dist-packages (from streamlit) (5.1.1)\n",
            "Requirement already satisfied: requests in /usr/local/lib/python3.7/dist-packages (from streamlit) (2.23.0)\n",
            "Requirement already satisfied: pytz in /usr/local/lib/python3.7/dist-packages (from tzlocal->streamlit) (2018.9)\n",
            "Requirement already satisfied: six>=1.9 in /usr/local/lib/python3.7/dist-packages (from protobuf!=3.11,>=3.6.0->streamlit) (1.15.0)\n",
            "Requirement already satisfied: setuptools in /usr/local/lib/python3.7/dist-packages (from protobuf!=3.11,>=3.6.0->streamlit) (57.0.0)\n",
            "Requirement already satisfied: pyparsing>=2.0.2 in /usr/local/lib/python3.7/dist-packages (from packaging->streamlit) (2.4.7)\n",
            "Requirement already satisfied: jsonschema in /usr/local/lib/python3.7/dist-packages (from altair>=3.2.0->streamlit) (2.6.0)\n",
            "Requirement already satisfied: entrypoints in /usr/local/lib/python3.7/dist-packages (from altair>=3.2.0->streamlit) (0.3)\n",
            "Requirement already satisfied: jinja2 in /usr/local/lib/python3.7/dist-packages (from altair>=3.2.0->streamlit) (2.11.3)\n",
            "Requirement already satisfied: toolz in /usr/local/lib/python3.7/dist-packages (from altair>=3.2.0->streamlit) (0.11.1)\n",
            "Requirement already satisfied: typing-extensions>=3.7.4.0; python_version < \"3.8\" in /usr/local/lib/python3.7/dist-packages (from gitpython->streamlit) (3.7.4.3)\n",
            "Collecting gitdb<5,>=4.0.1\n",
            "\u001b[?25l  Downloading https://files.pythonhosted.org/packages/ea/e8/f414d1a4f0bbc668ed441f74f44c116d9816833a48bf81d22b697090dba8/gitdb-4.0.7-py3-none-any.whl (63kB)\n",
            "\u001b[K     |████████████████████████████████| 71kB 7.7MB/s \n",
            "\u001b[?25hRequirement already satisfied: traitlets>=4.3.2 in /usr/local/lib/python3.7/dist-packages (from pydeck>=0.1.dev5->streamlit) (5.0.5)\n",
            "Requirement already satisfied: ipywidgets>=7.0.0 in /usr/local/lib/python3.7/dist-packages (from pydeck>=0.1.dev5->streamlit) (7.6.3)\n",
            "Collecting ipykernel>=5.1.2; python_version >= \"3.4\"\n",
            "\u001b[?25l  Downloading https://files.pythonhosted.org/packages/90/6d/6c8fe4b658f77947d4244ce81f60230c4c8d1dc1a21ae83e63b269339178/ipykernel-5.5.5-py3-none-any.whl (120kB)\n",
            "\u001b[K     |████████████████████████████████| 122kB 41.8MB/s \n",
            "\u001b[?25hRequirement already satisfied: decorator>=3.4.0 in /usr/local/lib/python3.7/dist-packages (from validators->streamlit) (4.4.2)\n",
            "Requirement already satisfied: idna<3,>=2.5 in /usr/local/lib/python3.7/dist-packages (from requests->streamlit) (2.10)\n",
            "Requirement already satisfied: urllib3!=1.25.0,!=1.25.1,<1.26,>=1.21.1 in /usr/local/lib/python3.7/dist-packages (from requests->streamlit) (1.24.3)\n",
            "Requirement already satisfied: certifi>=2017.4.17 in /usr/local/lib/python3.7/dist-packages (from requests->streamlit) (2020.12.5)\n",
            "Requirement already satisfied: chardet<4,>=3.0.2 in /usr/local/lib/python3.7/dist-packages (from requests->streamlit) (3.0.4)\n",
            "Requirement already satisfied: MarkupSafe>=0.23 in /usr/local/lib/python3.7/dist-packages (from jinja2->altair>=3.2.0->streamlit) (2.0.1)\n",
            "Collecting smmap<5,>=3.0.1\n",
            "  Downloading https://files.pythonhosted.org/packages/68/ee/d540eb5e5996eb81c26ceffac6ee49041d473bc5125f2aa995cf51ec1cf1/smmap-4.0.0-py2.py3-none-any.whl\n",
            "Requirement already satisfied: ipython-genutils in /usr/local/lib/python3.7/dist-packages (from traitlets>=4.3.2->pydeck>=0.1.dev5->streamlit) (0.2.0)\n",
            "Requirement already satisfied: nbformat>=4.2.0 in /usr/local/lib/python3.7/dist-packages (from ipywidgets>=7.0.0->pydeck>=0.1.dev5->streamlit) (5.1.3)\n",
            "Requirement already satisfied: ipython>=4.0.0; python_version >= \"3.3\" in /usr/local/lib/python3.7/dist-packages (from ipywidgets>=7.0.0->pydeck>=0.1.dev5->streamlit) (5.5.0)\n",
            "Requirement already satisfied: jupyterlab-widgets>=1.0.0; python_version >= \"3.6\" in /usr/local/lib/python3.7/dist-packages (from ipywidgets>=7.0.0->pydeck>=0.1.dev5->streamlit) (1.0.0)\n",
            "Requirement already satisfied: widgetsnbextension~=3.5.0 in /usr/local/lib/python3.7/dist-packages (from ipywidgets>=7.0.0->pydeck>=0.1.dev5->streamlit) (3.5.1)\n",
            "Requirement already satisfied: jupyter-client in /usr/local/lib/python3.7/dist-packages (from ipykernel>=5.1.2; python_version >= \"3.4\"->pydeck>=0.1.dev5->streamlit) (5.3.5)\n",
            "Requirement already satisfied: jupyter-core in /usr/local/lib/python3.7/dist-packages (from nbformat>=4.2.0->ipywidgets>=7.0.0->pydeck>=0.1.dev5->streamlit) (4.7.1)\n",
            "Requirement already satisfied: pexpect; sys_platform != \"win32\" in /usr/local/lib/python3.7/dist-packages (from ipython>=4.0.0; python_version >= \"3.3\"->ipywidgets>=7.0.0->pydeck>=0.1.dev5->streamlit) (4.8.0)\n",
            "Requirement already satisfied: pygments in /usr/local/lib/python3.7/dist-packages (from ipython>=4.0.0; python_version >= \"3.3\"->ipywidgets>=7.0.0->pydeck>=0.1.dev5->streamlit) (2.6.1)\n",
            "Requirement already satisfied: pickleshare in /usr/local/lib/python3.7/dist-packages (from ipython>=4.0.0; python_version >= \"3.3\"->ipywidgets>=7.0.0->pydeck>=0.1.dev5->streamlit) (0.7.5)\n",
            "Requirement already satisfied: simplegeneric>0.8 in /usr/local/lib/python3.7/dist-packages (from ipython>=4.0.0; python_version >= \"3.3\"->ipywidgets>=7.0.0->pydeck>=0.1.dev5->streamlit) (0.8.1)\n",
            "Requirement already satisfied: prompt-toolkit<2.0.0,>=1.0.4 in /usr/local/lib/python3.7/dist-packages (from ipython>=4.0.0; python_version >= \"3.3\"->ipywidgets>=7.0.0->pydeck>=0.1.dev5->streamlit) (1.0.18)\n",
            "Requirement already satisfied: notebook>=4.4.1 in /usr/local/lib/python3.7/dist-packages (from widgetsnbextension~=3.5.0->ipywidgets>=7.0.0->pydeck>=0.1.dev5->streamlit) (5.3.1)\n",
            "Requirement already satisfied: pyzmq>=13 in /usr/local/lib/python3.7/dist-packages (from jupyter-client->ipykernel>=5.1.2; python_version >= \"3.4\"->pydeck>=0.1.dev5->streamlit) (22.0.3)\n",
            "Requirement already satisfied: ptyprocess>=0.5 in /usr/local/lib/python3.7/dist-packages (from pexpect; sys_platform != \"win32\"->ipython>=4.0.0; python_version >= \"3.3\"->ipywidgets>=7.0.0->pydeck>=0.1.dev5->streamlit) (0.7.0)\n",
            "Requirement already satisfied: wcwidth in /usr/local/lib/python3.7/dist-packages (from prompt-toolkit<2.0.0,>=1.0.4->ipython>=4.0.0; python_version >= \"3.3\"->ipywidgets>=7.0.0->pydeck>=0.1.dev5->streamlit) (0.2.5)\n",
            "Requirement already satisfied: terminado>=0.8.1 in /usr/local/lib/python3.7/dist-packages (from notebook>=4.4.1->widgetsnbextension~=3.5.0->ipywidgets>=7.0.0->pydeck>=0.1.dev5->streamlit) (0.10.0)\n",
            "Requirement already satisfied: Send2Trash in /usr/local/lib/python3.7/dist-packages (from notebook>=4.4.1->widgetsnbextension~=3.5.0->ipywidgets>=7.0.0->pydeck>=0.1.dev5->streamlit) (1.5.0)\n",
            "Requirement already satisfied: nbconvert in /usr/local/lib/python3.7/dist-packages (from notebook>=4.4.1->widgetsnbextension~=3.5.0->ipywidgets>=7.0.0->pydeck>=0.1.dev5->streamlit) (5.6.1)\n",
            "Requirement already satisfied: testpath in /usr/local/lib/python3.7/dist-packages (from nbconvert->notebook>=4.4.1->widgetsnbextension~=3.5.0->ipywidgets>=7.0.0->pydeck>=0.1.dev5->streamlit) (0.5.0)\n",
            "Requirement already satisfied: bleach in /usr/local/lib/python3.7/dist-packages (from nbconvert->notebook>=4.4.1->widgetsnbextension~=3.5.0->ipywidgets>=7.0.0->pydeck>=0.1.dev5->streamlit) (3.3.0)\n",
            "Requirement already satisfied: pandocfilters>=1.4.1 in /usr/local/lib/python3.7/dist-packages (from nbconvert->notebook>=4.4.1->widgetsnbextension~=3.5.0->ipywidgets>=7.0.0->pydeck>=0.1.dev5->streamlit) (1.4.3)\n",
            "Requirement already satisfied: defusedxml in /usr/local/lib/python3.7/dist-packages (from nbconvert->notebook>=4.4.1->widgetsnbextension~=3.5.0->ipywidgets>=7.0.0->pydeck>=0.1.dev5->streamlit) (0.7.1)\n",
            "Requirement already satisfied: mistune<2,>=0.8.1 in /usr/local/lib/python3.7/dist-packages (from nbconvert->notebook>=4.4.1->widgetsnbextension~=3.5.0->ipywidgets>=7.0.0->pydeck>=0.1.dev5->streamlit) (0.8.4)\n",
            "Requirement already satisfied: webencodings in /usr/local/lib/python3.7/dist-packages (from bleach->nbconvert->notebook>=4.4.1->widgetsnbextension~=3.5.0->ipywidgets>=7.0.0->pydeck>=0.1.dev5->streamlit) (0.5.1)\n",
            "Building wheels for collected packages: blinker\n",
            "  Building wheel for blinker (setup.py) ... \u001b[?25l\u001b[?25hdone\n",
            "  Created wheel for blinker: filename=blinker-1.4-cp37-none-any.whl size=13476 sha256=bb79f392b6daa6f99c3850cdce7d385a35cce5488805dcccae40c84307375e91\n",
            "  Stored in directory: /root/.cache/pip/wheels/92/a0/00/8690a57883956a301d91cf4ec999cc0b258b01e3f548f86e89\n",
            "Successfully built blinker\n",
            "\u001b[31mERROR: google-colab 1.0.0 has requirement ipykernel~=4.10, but you'll have ipykernel 5.5.5 which is incompatible.\u001b[0m\n",
            "Installing collected packages: watchdog, blinker, base58, smmap, gitdb, gitpython, ipykernel, pydeck, validators, streamlit\n",
            "  Found existing installation: ipykernel 4.10.1\n",
            "    Uninstalling ipykernel-4.10.1:\n",
            "      Successfully uninstalled ipykernel-4.10.1\n",
            "Successfully installed base58-2.1.0 blinker-1.4 gitdb-4.0.7 gitpython-3.1.17 ipykernel-5.5.5 pydeck-0.6.2 smmap-4.0.0 streamlit-0.82.0 validators-0.18.2 watchdog-2.1.2\n"
          ],
          "name": "stdout"
        },
        {
          "output_type": "display_data",
          "data": {
            "application/vnd.colab-display-data+json": {
              "pip_warning": {
                "packages": [
                  "ipykernel"
                ]
              }
            }
          },
          "metadata": {
            "tags": []
          }
        }
      ]
    },
    {
      "cell_type": "code",
      "metadata": {
        "id": "f_1Tz-ZLjwAh"
      },
      "source": [
        "from keras import backend as K\n",
        "from tensorflow.keras.models import Model, load_model\n",
        "from nltk.tokenize import word_tokenize\n",
        "from tensorflow.keras.preprocessing.sequence import pad_sequences\n",
        "import pickle\n",
        "import re\n",
        "import string\n",
        "from nltk.corpus import stopwords\n",
        "from nltk.stem.wordnet import WordNetLemmatizer\n",
        "import streamlit as st\n",
        "import pandas as pd\n",
        "import numpy as np\n",
        "import seaborn as sns\n",
        "import matplotlib.pyplot as plt\n",
        "\n",
        "import plotly.express as px\n",
        "import plotly.graph_objects as go\n",
        "\n",
        "wordnet = WordNetLemmatizer()\n",
        "regex = re.compile('[%s]' % re.escape(string.punctuation))\n"
      ],
      "execution_count": null,
      "outputs": []
    },
    {
      "cell_type": "code",
      "metadata": {
        "id": "KKqPfmfQAWyE"
      },
      "source": [
        "MODEL_PATH = '/content/MH/saved_model.pb'\n",
        "MAX_NB_WORDS = 100000 # max no. of words for tokenizer\n",
        "MAX_SEQUENCE_LENGTH = 200 # max length of each entry (sentence), including padding\n",
        "VALIDATION_SPLIT = 0.2 # data for validation (not used in training)\n",
        "EMBEDDING_DIM = 100\n",
        "tokenizer_file = 'tokenizer.pickle'"
      ],
      "execution_count": null,
      "outputs": []
    },
    {
      "cell_type": "code",
      "metadata": {
        "id": "plfKV0oIB_8b"
      },
      "source": [
        "with open(tokenizer_file, 'rb') as handle:\n",
        "   tokenizer = pickle.load(handle)\n",
        "@st.cache(allow_output_mutation=True)\n",
        "def Load_model():\n",
        "   model = reconstructed_model\n",
        "   model.summary() # included to make it visible when model is reloaded\n",
        "   session = K.get_session()\n",
        "   return model, session\n",
        "\n",
        "   Load_model"
      ],
      "execution_count": null,
      "outputs": []
    },
    {
      "cell_type": "code",
      "metadata": {
        "id": "_JV1FqeRTCkl"
      },
      "source": [
        "#@st.cache\n",
        "#def load_my_model():\n",
        "model = reconstructed_model\n",
        " \n",
        "\n",
        "if __name__ == '__main__':\n",
        "    st.title('A simple streamlit mental health app')\n",
        "    st.write('Want to know if your tweets contain some depressive characteristics')\n",
        "    st.subheader('Key in or paste one of your tweets') \n",
        "    tweet=st.text_area('') \n",
        "    prediction_btn = st.button('predict')\n",
        "    if prediction_btn:\n",
        "        clean_text = []\n",
        "        #K.set_session(session)\n",
        "        i = clean_tweet(tweet)\n",
        "        clean_text.append(i)\n",
        "        sequences = tokenizer.texts_to_sequences(clean_text)\n",
        "        data = pad_sequences(sequences, maxlen = max_length)\n",
        "        prediction = model.predict(data)"
      ],
      "execution_count": null,
      "outputs": []
    },
    {
      "cell_type": "code",
      "metadata": {
        "id": "hsXUSSw_CG2y"
      },
      "source": [
        "if prediction_btn:\n",
        "   clean_text = []\n",
        "   K.set_session(session)\n",
        "   i = clean_tweet(tweet)\n",
        "   clean_text.append(i)\n",
        "   sequences = tokenizer.texts_to_sequences(clean_text)\n",
        "   data = pad_sequences(sequences, maxlen = max_length)\n",
        "   prediction = model.predict(data)"
      ],
      "execution_count": null,
      "outputs": []
    },
    {
      "cell_type": "code",
      "metadata": {
        "id": "J_KjZmvCOLYp"
      },
      "source": [
        "prediction_class = prediction.argmax(axis=-1)[0]\n",
        "\n",
        "\n",
        "st.header(\"Prediction using LSTM model\")\n",
        "if prediction_class == 0:\n",
        "    st.success()\n",
        "if prediction_class == 1:\n",
        "    st.success()\n",
        "if prediction_class == 2:\n",
        "    st.success()\n",
        "if prediction_class == 3:\n",
        "    st.success()\n",
        "if prediction_class == 4:\n",
        "    st.success()"
      ],
      "execution_count": null,
      "outputs": []
    },
    {
      "cell_type": "code",
      "metadata": {
        "id": "OBA-YKHqQAu3"
      },
      "source": [
        ""
      ],
      "execution_count": null,
      "outputs": []
    },
    {
      "cell_type": "code",
      "metadata": {
        "id": "QrPDCr5NJVEF",
        "colab": {
          "base_uri": "https://localhost:8080/",
          "height": 881
        },
        "outputId": "b4cfd8f7-3557-4521-9bed-45bdf0a2d5e5"
      },
      "source": [
        "if __name__ == '__main__':\n",
        "    st.title('A simple streamlit mental health app')\n",
        "    st.write('Want to know if your tweets contain some depressive characteristics')\n",
        "    st.subheader('Key in or paste one of your tweets') \n",
        "    tweet=st.text_area('') \n",
        "    prediction_btn = st.button('predict')\n",
        "    model= Load_model()\n"
      ],
      "execution_count": null,
      "outputs": [
        {
          "output_type": "error",
          "ename": "InternalHashError",
          "evalue": "ignored",
          "traceback": [
            "\u001b[0;31m---------------------------------------------------------------------------\u001b[0m",
            "\u001b[0;31mAttributeError\u001b[0m                            Traceback (most recent call last)",
            "\u001b[0;32m/usr/local/lib/python3.7/dist-packages/streamlit/hashing.py\u001b[0m in \u001b[0;36mto_bytes\u001b[0;34m(self, obj, context)\u001b[0m\n\u001b[1;32m    351\u001b[0m             \u001b[0;31m# Hash the input\u001b[0m\u001b[0;34m\u001b[0m\u001b[0;34m\u001b[0m\u001b[0;34m\u001b[0m\u001b[0m\n\u001b[0;32m--> 352\u001b[0;31m             \u001b[0mb\u001b[0m \u001b[0;34m=\u001b[0m \u001b[0;34mb\"%s:%s\"\u001b[0m \u001b[0;34m%\u001b[0m \u001b[0;34m(\u001b[0m\u001b[0mtname\u001b[0m\u001b[0;34m,\u001b[0m \u001b[0mself\u001b[0m\u001b[0;34m.\u001b[0m\u001b[0m_to_bytes\u001b[0m\u001b[0;34m(\u001b[0m\u001b[0mobj\u001b[0m\u001b[0;34m,\u001b[0m \u001b[0mcontext\u001b[0m\u001b[0;34m)\u001b[0m\u001b[0;34m)\u001b[0m\u001b[0;34m\u001b[0m\u001b[0;34m\u001b[0m\u001b[0m\n\u001b[0m\u001b[1;32m    353\u001b[0m \u001b[0;34m\u001b[0m\u001b[0m\n",
            "\u001b[0;32m/usr/local/lib/python3.7/dist-packages/streamlit/hashing.py\u001b[0m in \u001b[0;36m_to_bytes\u001b[0;34m(self, obj, context)\u001b[0m\n\u001b[1;32m    607\u001b[0m \u001b[0;34m\u001b[0m\u001b[0m\n\u001b[0;32m--> 608\u001b[0;31m             \u001b[0;32mif\u001b[0m \u001b[0mself\u001b[0m\u001b[0;34m.\u001b[0m\u001b[0m_file_should_be_hashed\u001b[0m\u001b[0;34m(\u001b[0m\u001b[0mobj\u001b[0m\u001b[0;34m.\u001b[0m\u001b[0m__code__\u001b[0m\u001b[0;34m.\u001b[0m\u001b[0mco_filename\u001b[0m\u001b[0;34m)\u001b[0m\u001b[0;34m:\u001b[0m\u001b[0;34m\u001b[0m\u001b[0;34m\u001b[0m\u001b[0m\n\u001b[0m\u001b[1;32m    609\u001b[0m                 \u001b[0mcontext\u001b[0m \u001b[0;34m=\u001b[0m \u001b[0m_get_context\u001b[0m\u001b[0;34m(\u001b[0m\u001b[0mobj\u001b[0m\u001b[0;34m)\u001b[0m\u001b[0;34m\u001b[0m\u001b[0;34m\u001b[0m\u001b[0m\n",
            "\u001b[0;32m/usr/local/lib/python3.7/dist-packages/streamlit/hashing.py\u001b[0m in \u001b[0;36m_file_should_be_hashed\u001b[0;34m(self, filename)\u001b[0m\n\u001b[1;32m    386\u001b[0m         return file_util.file_is_in_folder_glob(\n\u001b[0;32m--> 387\u001b[0;31m             \u001b[0mfilepath\u001b[0m\u001b[0;34m,\u001b[0m \u001b[0mself\u001b[0m\u001b[0;34m.\u001b[0m\u001b[0m_get_main_script_directory\u001b[0m\u001b[0;34m(\u001b[0m\u001b[0;34m)\u001b[0m\u001b[0;34m\u001b[0m\u001b[0;34m\u001b[0m\u001b[0m\n\u001b[0m\u001b[1;32m    388\u001b[0m         ) or file_util.file_in_pythonpath(filepath)\n",
            "\u001b[0;32m/usr/local/lib/python3.7/dist-packages/streamlit/hashing.py\u001b[0m in \u001b[0;36m_get_main_script_directory\u001b[0;34m()\u001b[0m\n\u001b[1;32m    691\u001b[0m         \u001b[0;31m# script path in ScriptRunner.\u001b[0m\u001b[0;34m\u001b[0m\u001b[0;34m\u001b[0m\u001b[0;34m\u001b[0m\u001b[0m\n\u001b[0;32m--> 692\u001b[0;31m         \u001b[0mmain_path\u001b[0m \u001b[0;34m=\u001b[0m \u001b[0m__main__\u001b[0m\u001b[0;34m.\u001b[0m\u001b[0m__file__\u001b[0m\u001b[0;34m\u001b[0m\u001b[0;34m\u001b[0m\u001b[0m\n\u001b[0m\u001b[1;32m    693\u001b[0m         \u001b[0;32mreturn\u001b[0m \u001b[0mos\u001b[0m\u001b[0;34m.\u001b[0m\u001b[0mpath\u001b[0m\u001b[0;34m.\u001b[0m\u001b[0mdirname\u001b[0m\u001b[0;34m(\u001b[0m\u001b[0mmain_path\u001b[0m\u001b[0;34m)\u001b[0m\u001b[0;34m\u001b[0m\u001b[0;34m\u001b[0m\u001b[0m\n",
            "\u001b[0;31mAttributeError\u001b[0m: module '__main__' has no attribute '__file__'",
            "\nDuring handling of the above exception, another exception occurred:\n",
            "\u001b[0;31mInternalHashError\u001b[0m                         Traceback (most recent call last)",
            "\u001b[0;32m<ipython-input-25-54d7ba448079>\u001b[0m in \u001b[0;36m<module>\u001b[0;34m()\u001b[0m\n\u001b[1;32m      5\u001b[0m     \u001b[0mtweet\u001b[0m\u001b[0;34m=\u001b[0m\u001b[0mst\u001b[0m\u001b[0;34m.\u001b[0m\u001b[0mtext_area\u001b[0m\u001b[0;34m(\u001b[0m\u001b[0;34m''\u001b[0m\u001b[0;34m)\u001b[0m\u001b[0;34m\u001b[0m\u001b[0;34m\u001b[0m\u001b[0m\n\u001b[1;32m      6\u001b[0m     \u001b[0mprediction_btn\u001b[0m \u001b[0;34m=\u001b[0m \u001b[0mst\u001b[0m\u001b[0;34m.\u001b[0m\u001b[0mbutton\u001b[0m\u001b[0;34m(\u001b[0m\u001b[0;34m'predict'\u001b[0m\u001b[0;34m)\u001b[0m\u001b[0;34m\u001b[0m\u001b[0;34m\u001b[0m\u001b[0m\n\u001b[0;32m----> 7\u001b[0;31m     \u001b[0mmodel\u001b[0m\u001b[0;34m=\u001b[0m \u001b[0mLoad_model\u001b[0m\u001b[0;34m(\u001b[0m\u001b[0;34m)\u001b[0m\u001b[0;34m\u001b[0m\u001b[0;34m\u001b[0m\u001b[0m\n\u001b[0m",
            "\u001b[0;32m/usr/local/lib/python3.7/dist-packages/streamlit/caching.py\u001b[0m in \u001b[0;36mwrapped_func\u001b[0;34m(*args, **kwargs)\u001b[0m\n\u001b[1;32m    571\u001b[0m         \u001b[0;32mif\u001b[0m \u001b[0mshow_spinner\u001b[0m\u001b[0;34m:\u001b[0m\u001b[0;34m\u001b[0m\u001b[0;34m\u001b[0m\u001b[0m\n\u001b[1;32m    572\u001b[0m             \u001b[0;32mwith\u001b[0m \u001b[0mst\u001b[0m\u001b[0;34m.\u001b[0m\u001b[0mspinner\u001b[0m\u001b[0;34m(\u001b[0m\u001b[0mmessage\u001b[0m\u001b[0;34m)\u001b[0m\u001b[0;34m:\u001b[0m\u001b[0;34m\u001b[0m\u001b[0;34m\u001b[0m\u001b[0m\n\u001b[0;32m--> 573\u001b[0;31m                 \u001b[0;32mreturn\u001b[0m \u001b[0mget_or_create_cached_value\u001b[0m\u001b[0;34m(\u001b[0m\u001b[0;34m)\u001b[0m\u001b[0;34m\u001b[0m\u001b[0;34m\u001b[0m\u001b[0m\n\u001b[0m\u001b[1;32m    574\u001b[0m         \u001b[0;32melse\u001b[0m\u001b[0;34m:\u001b[0m\u001b[0;34m\u001b[0m\u001b[0;34m\u001b[0m\u001b[0m\n\u001b[1;32m    575\u001b[0m             \u001b[0;32mreturn\u001b[0m \u001b[0mget_or_create_cached_value\u001b[0m\u001b[0;34m(\u001b[0m\u001b[0;34m)\u001b[0m\u001b[0;34m\u001b[0m\u001b[0;34m\u001b[0m\u001b[0m\n",
            "\u001b[0;32m/usr/local/lib/python3.7/dist-packages/streamlit/caching.py\u001b[0m in \u001b[0;36mget_or_create_cached_value\u001b[0;34m()\u001b[0m\n\u001b[1;32m    496\u001b[0m                 \u001b[0;31m# If we generated the key earlier we would only hash those\u001b[0m\u001b[0;34m\u001b[0m\u001b[0;34m\u001b[0m\u001b[0;34m\u001b[0m\u001b[0m\n\u001b[1;32m    497\u001b[0m                 \u001b[0;31m# globals by name, and miss changes in their code or value.\u001b[0m\u001b[0;34m\u001b[0m\u001b[0;34m\u001b[0m\u001b[0;34m\u001b[0m\u001b[0m\n\u001b[0;32m--> 498\u001b[0;31m                 \u001b[0mcache_key\u001b[0m \u001b[0;34m=\u001b[0m \u001b[0m_hash_func\u001b[0m\u001b[0;34m(\u001b[0m\u001b[0mfunc\u001b[0m\u001b[0;34m,\u001b[0m \u001b[0mhash_funcs\u001b[0m\u001b[0;34m)\u001b[0m\u001b[0;34m\u001b[0m\u001b[0;34m\u001b[0m\u001b[0m\n\u001b[0m\u001b[1;32m    499\u001b[0m \u001b[0;34m\u001b[0m\u001b[0m\n\u001b[1;32m    500\u001b[0m             \u001b[0;31m# First, get the cache that's attached to this function.\u001b[0m\u001b[0;34m\u001b[0m\u001b[0;34m\u001b[0m\u001b[0;34m\u001b[0m\u001b[0m\n",
            "\u001b[0;32m/usr/local/lib/python3.7/dist-packages/streamlit/caching.py\u001b[0m in \u001b[0;36m_hash_func\u001b[0;34m(func, hash_funcs)\u001b[0m\n\u001b[1;32m    627\u001b[0m         \u001b[0mhash_funcs\u001b[0m\u001b[0;34m=\u001b[0m\u001b[0mhash_funcs\u001b[0m\u001b[0;34m,\u001b[0m\u001b[0;34m\u001b[0m\u001b[0;34m\u001b[0m\u001b[0m\n\u001b[1;32m    628\u001b[0m         \u001b[0mhash_reason\u001b[0m\u001b[0;34m=\u001b[0m\u001b[0mHashReason\u001b[0m\u001b[0;34m.\u001b[0m\u001b[0mCACHING_FUNC_BODY\u001b[0m\u001b[0;34m,\u001b[0m\u001b[0;34m\u001b[0m\u001b[0;34m\u001b[0m\u001b[0m\n\u001b[0;32m--> 629\u001b[0;31m         \u001b[0mhash_source\u001b[0m\u001b[0;34m=\u001b[0m\u001b[0mfunc\u001b[0m\u001b[0;34m,\u001b[0m\u001b[0;34m\u001b[0m\u001b[0;34m\u001b[0m\u001b[0m\n\u001b[0m\u001b[1;32m    630\u001b[0m     )\n\u001b[1;32m    631\u001b[0m     \u001b[0mcache_key\u001b[0m \u001b[0;34m=\u001b[0m \u001b[0mfunc_hasher\u001b[0m\u001b[0;34m.\u001b[0m\u001b[0mhexdigest\u001b[0m\u001b[0;34m(\u001b[0m\u001b[0;34m)\u001b[0m\u001b[0;34m\u001b[0m\u001b[0;34m\u001b[0m\u001b[0m\n",
            "\u001b[0;32m/usr/local/lib/python3.7/dist-packages/streamlit/hashing.py\u001b[0m in \u001b[0;36mupdate_hash\u001b[0;34m(val, hasher, hash_reason, hash_source, context, hash_funcs)\u001b[0m\n\u001b[1;32m     90\u001b[0m \u001b[0;34m\u001b[0m\u001b[0m\n\u001b[1;32m     91\u001b[0m     \u001b[0mch\u001b[0m \u001b[0;34m=\u001b[0m \u001b[0m_CodeHasher\u001b[0m\u001b[0;34m(\u001b[0m\u001b[0mhash_funcs\u001b[0m\u001b[0;34m)\u001b[0m\u001b[0;34m\u001b[0m\u001b[0;34m\u001b[0m\u001b[0m\n\u001b[0;32m---> 92\u001b[0;31m     \u001b[0mch\u001b[0m\u001b[0;34m.\u001b[0m\u001b[0mupdate\u001b[0m\u001b[0;34m(\u001b[0m\u001b[0mhasher\u001b[0m\u001b[0;34m,\u001b[0m \u001b[0mval\u001b[0m\u001b[0;34m,\u001b[0m \u001b[0mcontext\u001b[0m\u001b[0;34m)\u001b[0m\u001b[0;34m\u001b[0m\u001b[0;34m\u001b[0m\u001b[0m\n\u001b[0m\u001b[1;32m     93\u001b[0m \u001b[0;34m\u001b[0m\u001b[0m\n\u001b[1;32m     94\u001b[0m \u001b[0;34m\u001b[0m\u001b[0m\n",
            "\u001b[0;32m/usr/local/lib/python3.7/dist-packages/streamlit/hashing.py\u001b[0m in \u001b[0;36mupdate\u001b[0;34m(self, hasher, obj, context)\u001b[0m\n\u001b[1;32m    375\u001b[0m     \u001b[0;32mdef\u001b[0m \u001b[0mupdate\u001b[0m\u001b[0;34m(\u001b[0m\u001b[0mself\u001b[0m\u001b[0;34m,\u001b[0m \u001b[0mhasher\u001b[0m\u001b[0;34m,\u001b[0m \u001b[0mobj\u001b[0m\u001b[0;34m,\u001b[0m \u001b[0mcontext\u001b[0m\u001b[0;34m=\u001b[0m\u001b[0;32mNone\u001b[0m\u001b[0;34m)\u001b[0m\u001b[0;34m:\u001b[0m\u001b[0;34m\u001b[0m\u001b[0;34m\u001b[0m\u001b[0m\n\u001b[1;32m    376\u001b[0m         \u001b[0;34m\"\"\"Update the provided hasher with the hash of an object.\"\"\"\u001b[0m\u001b[0;34m\u001b[0m\u001b[0;34m\u001b[0m\u001b[0m\n\u001b[0;32m--> 377\u001b[0;31m         \u001b[0mb\u001b[0m \u001b[0;34m=\u001b[0m \u001b[0mself\u001b[0m\u001b[0;34m.\u001b[0m\u001b[0mto_bytes\u001b[0m\u001b[0;34m(\u001b[0m\u001b[0mobj\u001b[0m\u001b[0;34m,\u001b[0m \u001b[0mcontext\u001b[0m\u001b[0;34m)\u001b[0m\u001b[0;34m\u001b[0m\u001b[0;34m\u001b[0m\u001b[0m\n\u001b[0m\u001b[1;32m    378\u001b[0m         \u001b[0mhasher\u001b[0m\u001b[0;34m.\u001b[0m\u001b[0mupdate\u001b[0m\u001b[0;34m(\u001b[0m\u001b[0mb\u001b[0m\u001b[0;34m)\u001b[0m\u001b[0;34m\u001b[0m\u001b[0;34m\u001b[0m\u001b[0m\n\u001b[1;32m    379\u001b[0m \u001b[0;34m\u001b[0m\u001b[0m\n",
            "\u001b[0;32m/usr/local/lib/python3.7/dist-packages/streamlit/hashing.py\u001b[0m in \u001b[0;36mto_bytes\u001b[0;34m(self, obj, context)\u001b[0m\n\u001b[1;32m    364\u001b[0m \u001b[0;34m\u001b[0m\u001b[0m\n\u001b[1;32m    365\u001b[0m         \u001b[0;32mexcept\u001b[0m \u001b[0mBaseException\u001b[0m \u001b[0;32mas\u001b[0m \u001b[0me\u001b[0m\u001b[0;34m:\u001b[0m\u001b[0;34m\u001b[0m\u001b[0;34m\u001b[0m\u001b[0m\n\u001b[0;32m--> 366\u001b[0;31m             \u001b[0;32mraise\u001b[0m \u001b[0mInternalHashError\u001b[0m\u001b[0;34m(\u001b[0m\u001b[0me\u001b[0m\u001b[0;34m,\u001b[0m \u001b[0mobj\u001b[0m\u001b[0;34m)\u001b[0m\u001b[0;34m\u001b[0m\u001b[0;34m\u001b[0m\u001b[0m\n\u001b[0m\u001b[1;32m    367\u001b[0m \u001b[0;34m\u001b[0m\u001b[0m\n\u001b[1;32m    368\u001b[0m         \u001b[0;32mfinally\u001b[0m\u001b[0;34m:\u001b[0m\u001b[0;34m\u001b[0m\u001b[0;34m\u001b[0m\u001b[0m\n",
            "\u001b[0;32m/usr/local/lib/python3.7/dist-packages/streamlit/hashing.py\u001b[0m in \u001b[0;36mto_bytes\u001b[0;34m(self, obj, context)\u001b[0m\n\u001b[1;32m    350\u001b[0m         \u001b[0;32mtry\u001b[0m\u001b[0;34m:\u001b[0m\u001b[0;34m\u001b[0m\u001b[0;34m\u001b[0m\u001b[0m\n\u001b[1;32m    351\u001b[0m             \u001b[0;31m# Hash the input\u001b[0m\u001b[0;34m\u001b[0m\u001b[0;34m\u001b[0m\u001b[0;34m\u001b[0m\u001b[0m\n\u001b[0;32m--> 352\u001b[0;31m             \u001b[0mb\u001b[0m \u001b[0;34m=\u001b[0m \u001b[0;34mb\"%s:%s\"\u001b[0m \u001b[0;34m%\u001b[0m \u001b[0;34m(\u001b[0m\u001b[0mtname\u001b[0m\u001b[0;34m,\u001b[0m \u001b[0mself\u001b[0m\u001b[0;34m.\u001b[0m\u001b[0m_to_bytes\u001b[0m\u001b[0;34m(\u001b[0m\u001b[0mobj\u001b[0m\u001b[0;34m,\u001b[0m \u001b[0mcontext\u001b[0m\u001b[0;34m)\u001b[0m\u001b[0;34m)\u001b[0m\u001b[0;34m\u001b[0m\u001b[0;34m\u001b[0m\u001b[0m\n\u001b[0m\u001b[1;32m    353\u001b[0m \u001b[0;34m\u001b[0m\u001b[0m\n\u001b[1;32m    354\u001b[0m             \u001b[0;31m# Hmmm... It's possible that the size calculation is wrong. When we\u001b[0m\u001b[0;34m\u001b[0m\u001b[0;34m\u001b[0m\u001b[0;34m\u001b[0m\u001b[0m\n",
            "\u001b[0;32m/usr/local/lib/python3.7/dist-packages/streamlit/hashing.py\u001b[0m in \u001b[0;36m_to_bytes\u001b[0;34m(self, obj, context)\u001b[0m\n\u001b[1;32m    606\u001b[0m             \u001b[0mh\u001b[0m \u001b[0;34m=\u001b[0m \u001b[0mhashlib\u001b[0m\u001b[0;34m.\u001b[0m\u001b[0mnew\u001b[0m\u001b[0;34m(\u001b[0m\u001b[0;34m\"md5\"\u001b[0m\u001b[0;34m)\u001b[0m\u001b[0;34m\u001b[0m\u001b[0;34m\u001b[0m\u001b[0m\n\u001b[1;32m    607\u001b[0m \u001b[0;34m\u001b[0m\u001b[0m\n\u001b[0;32m--> 608\u001b[0;31m             \u001b[0;32mif\u001b[0m \u001b[0mself\u001b[0m\u001b[0;34m.\u001b[0m\u001b[0m_file_should_be_hashed\u001b[0m\u001b[0;34m(\u001b[0m\u001b[0mobj\u001b[0m\u001b[0;34m.\u001b[0m\u001b[0m__code__\u001b[0m\u001b[0;34m.\u001b[0m\u001b[0mco_filename\u001b[0m\u001b[0;34m)\u001b[0m\u001b[0;34m:\u001b[0m\u001b[0;34m\u001b[0m\u001b[0;34m\u001b[0m\u001b[0m\n\u001b[0m\u001b[1;32m    609\u001b[0m                 \u001b[0mcontext\u001b[0m \u001b[0;34m=\u001b[0m \u001b[0m_get_context\u001b[0m\u001b[0;34m(\u001b[0m\u001b[0mobj\u001b[0m\u001b[0;34m)\u001b[0m\u001b[0;34m\u001b[0m\u001b[0;34m\u001b[0m\u001b[0m\n\u001b[1;32m    610\u001b[0m                 \u001b[0;32mif\u001b[0m \u001b[0mobj\u001b[0m\u001b[0;34m.\u001b[0m\u001b[0m__defaults__\u001b[0m\u001b[0;34m:\u001b[0m\u001b[0;34m\u001b[0m\u001b[0;34m\u001b[0m\u001b[0m\n",
            "\u001b[0;32m/usr/local/lib/python3.7/dist-packages/streamlit/hashing.py\u001b[0m in \u001b[0;36m_file_should_be_hashed\u001b[0;34m(self, filename)\u001b[0m\n\u001b[1;32m    385\u001b[0m             \u001b[0;32mreturn\u001b[0m \u001b[0;32mFalse\u001b[0m\u001b[0;34m\u001b[0m\u001b[0;34m\u001b[0m\u001b[0m\n\u001b[1;32m    386\u001b[0m         return file_util.file_is_in_folder_glob(\n\u001b[0;32m--> 387\u001b[0;31m             \u001b[0mfilepath\u001b[0m\u001b[0;34m,\u001b[0m \u001b[0mself\u001b[0m\u001b[0;34m.\u001b[0m\u001b[0m_get_main_script_directory\u001b[0m\u001b[0;34m(\u001b[0m\u001b[0;34m)\u001b[0m\u001b[0;34m\u001b[0m\u001b[0;34m\u001b[0m\u001b[0m\n\u001b[0m\u001b[1;32m    388\u001b[0m         ) or file_util.file_in_pythonpath(filepath)\n\u001b[1;32m    389\u001b[0m \u001b[0;34m\u001b[0m\u001b[0m\n",
            "\u001b[0;32m/usr/local/lib/python3.7/dist-packages/streamlit/hashing.py\u001b[0m in \u001b[0;36m_get_main_script_directory\u001b[0;34m()\u001b[0m\n\u001b[1;32m    690\u001b[0m         \u001b[0;31m# This works because we set __main__.__file__ to the report\u001b[0m\u001b[0;34m\u001b[0m\u001b[0;34m\u001b[0m\u001b[0;34m\u001b[0m\u001b[0m\n\u001b[1;32m    691\u001b[0m         \u001b[0;31m# script path in ScriptRunner.\u001b[0m\u001b[0;34m\u001b[0m\u001b[0;34m\u001b[0m\u001b[0;34m\u001b[0m\u001b[0m\n\u001b[0;32m--> 692\u001b[0;31m         \u001b[0mmain_path\u001b[0m \u001b[0;34m=\u001b[0m \u001b[0m__main__\u001b[0m\u001b[0;34m.\u001b[0m\u001b[0m__file__\u001b[0m\u001b[0;34m\u001b[0m\u001b[0;34m\u001b[0m\u001b[0m\n\u001b[0m\u001b[1;32m    693\u001b[0m         \u001b[0;32mreturn\u001b[0m \u001b[0mos\u001b[0m\u001b[0;34m.\u001b[0m\u001b[0mpath\u001b[0m\u001b[0;34m.\u001b[0m\u001b[0mdirname\u001b[0m\u001b[0;34m(\u001b[0m\u001b[0mmain_path\u001b[0m\u001b[0;34m)\u001b[0m\u001b[0;34m\u001b[0m\u001b[0;34m\u001b[0m\u001b[0m\n\u001b[1;32m    694\u001b[0m \u001b[0;34m\u001b[0m\u001b[0m\n",
            "\u001b[0;31mInternalHashError\u001b[0m: module '__main__' has no attribute '__file__'\n\nWhile caching the body of `Load_model()`, Streamlit encountered an\nobject of type `builtins.function`, which it does not know how to hash.\n\n**In this specific case, it's very likely you found a Streamlit bug so please\n[file a bug report here.]\n(https://github.com/streamlit/streamlit/issues/new/choose)**\n\nIn the meantime, you can try bypassing this error by registering a custom\nhash function via the `hash_funcs` keyword in @st.cache(). For example:\n\n```\n@st.cache(hash_funcs={builtins.function: my_hash_func})\ndef my_func(...):\n    ...\n```\n\nIf you don't know where the object of type `builtins.function` is coming\nfrom, try looking at the hash chain below for an object that you do recognize,\nthen pass that to `hash_funcs` instead:\n\n```\nObject of type builtins.function: <function Load_model at 0x7f6cfcfd6830>\n```\n\nPlease see the `hash_funcs` [documentation]\n(https://docs.streamlit.io/en/stable/caching.html#the-hash-funcs-parameter)\nfor more details.\n            "
          ]
        }
      ]
    }
  ]
}