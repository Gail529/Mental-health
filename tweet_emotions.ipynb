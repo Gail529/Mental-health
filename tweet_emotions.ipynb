{
  "nbformat": 4,
  "nbformat_minor": 0,
  "metadata": {
    "colab": {
      "name": "tweet_emotions.ipynb",
      "provenance": [],
      "authorship_tag": "ABX9TyP5DMjrIJcSonVHJhJSaC30",
      "include_colab_link": true
    },
    "kernelspec": {
      "name": "python3",
      "display_name": "Python 3"
    },
    "widgets": {
      "application/vnd.jupyter.widget-state+json": {
        "d705c3e52b0d4dfea0bcb2a714639bbe": {
          "model_module": "@jupyter-widgets/controls",
          "model_name": "HBoxModel",
          "state": {
            "_view_name": "HBoxView",
            "_dom_classes": [],
            "_model_name": "HBoxModel",
            "_view_module": "@jupyter-widgets/controls",
            "_model_module_version": "1.5.0",
            "_view_count": null,
            "_view_module_version": "1.5.0",
            "box_style": "",
            "layout": "IPY_MODEL_9c3af2564c5a418fb4f4f2d58f4e3b6c",
            "_model_module": "@jupyter-widgets/controls",
            "children": [
              "IPY_MODEL_9d3ea9fbb095443cab3ef52f1c140866",
              "IPY_MODEL_e5655cfd2bac42d2ae308bc96d19a0db"
            ]
          }
        },
        "9c3af2564c5a418fb4f4f2d58f4e3b6c": {
          "model_module": "@jupyter-widgets/base",
          "model_name": "LayoutModel",
          "state": {
            "_view_name": "LayoutView",
            "grid_template_rows": null,
            "right": null,
            "justify_content": null,
            "_view_module": "@jupyter-widgets/base",
            "overflow": null,
            "_model_module_version": "1.2.0",
            "_view_count": null,
            "flex_flow": null,
            "width": null,
            "min_width": null,
            "border": null,
            "align_items": null,
            "bottom": null,
            "_model_module": "@jupyter-widgets/base",
            "top": null,
            "grid_column": null,
            "overflow_y": null,
            "overflow_x": null,
            "grid_auto_flow": null,
            "grid_area": null,
            "grid_template_columns": null,
            "flex": null,
            "_model_name": "LayoutModel",
            "justify_items": null,
            "grid_row": null,
            "max_height": null,
            "align_content": null,
            "visibility": null,
            "align_self": null,
            "height": null,
            "min_height": null,
            "padding": null,
            "grid_auto_rows": null,
            "grid_gap": null,
            "max_width": null,
            "order": null,
            "_view_module_version": "1.2.0",
            "grid_template_areas": null,
            "object_position": null,
            "object_fit": null,
            "grid_auto_columns": null,
            "margin": null,
            "display": null,
            "left": null
          }
        },
        "9d3ea9fbb095443cab3ef52f1c140866": {
          "model_module": "@jupyter-widgets/controls",
          "model_name": "FloatProgressModel",
          "state": {
            "_view_name": "ProgressView",
            "style": "IPY_MODEL_5b64c45d3d24449abbbe7bd5a448c57e",
            "_dom_classes": [],
            "description": "100%",
            "_model_name": "FloatProgressModel",
            "bar_style": "success",
            "max": 1000,
            "_view_module": "@jupyter-widgets/controls",
            "_model_module_version": "1.5.0",
            "value": 1000,
            "_view_count": null,
            "_view_module_version": "1.5.0",
            "orientation": "horizontal",
            "min": 0,
            "description_tooltip": null,
            "_model_module": "@jupyter-widgets/controls",
            "layout": "IPY_MODEL_cf6708b710684a308e64f58e4a828850"
          }
        },
        "e5655cfd2bac42d2ae308bc96d19a0db": {
          "model_module": "@jupyter-widgets/controls",
          "model_name": "HTMLModel",
          "state": {
            "_view_name": "HTMLView",
            "style": "IPY_MODEL_906c97d5518c4c308816f667412b01f7",
            "_dom_classes": [],
            "description": "",
            "_model_name": "HTMLModel",
            "placeholder": "​",
            "_view_module": "@jupyter-widgets/controls",
            "_model_module_version": "1.5.0",
            "value": " 1000/1000 [01:07&lt;00:00, 14.88it/s]",
            "_view_count": null,
            "_view_module_version": "1.5.0",
            "description_tooltip": null,
            "_model_module": "@jupyter-widgets/controls",
            "layout": "IPY_MODEL_8a6ff9d1ad7245a3a3d663a824ac902e"
          }
        },
        "5b64c45d3d24449abbbe7bd5a448c57e": {
          "model_module": "@jupyter-widgets/controls",
          "model_name": "ProgressStyleModel",
          "state": {
            "_view_name": "StyleView",
            "_model_name": "ProgressStyleModel",
            "description_width": "initial",
            "_view_module": "@jupyter-widgets/base",
            "_model_module_version": "1.5.0",
            "_view_count": null,
            "_view_module_version": "1.2.0",
            "bar_color": null,
            "_model_module": "@jupyter-widgets/controls"
          }
        },
        "cf6708b710684a308e64f58e4a828850": {
          "model_module": "@jupyter-widgets/base",
          "model_name": "LayoutModel",
          "state": {
            "_view_name": "LayoutView",
            "grid_template_rows": null,
            "right": null,
            "justify_content": null,
            "_view_module": "@jupyter-widgets/base",
            "overflow": null,
            "_model_module_version": "1.2.0",
            "_view_count": null,
            "flex_flow": null,
            "width": null,
            "min_width": null,
            "border": null,
            "align_items": null,
            "bottom": null,
            "_model_module": "@jupyter-widgets/base",
            "top": null,
            "grid_column": null,
            "overflow_y": null,
            "overflow_x": null,
            "grid_auto_flow": null,
            "grid_area": null,
            "grid_template_columns": null,
            "flex": null,
            "_model_name": "LayoutModel",
            "justify_items": null,
            "grid_row": null,
            "max_height": null,
            "align_content": null,
            "visibility": null,
            "align_self": null,
            "height": null,
            "min_height": null,
            "padding": null,
            "grid_auto_rows": null,
            "grid_gap": null,
            "max_width": null,
            "order": null,
            "_view_module_version": "1.2.0",
            "grid_template_areas": null,
            "object_position": null,
            "object_fit": null,
            "grid_auto_columns": null,
            "margin": null,
            "display": null,
            "left": null
          }
        },
        "906c97d5518c4c308816f667412b01f7": {
          "model_module": "@jupyter-widgets/controls",
          "model_name": "DescriptionStyleModel",
          "state": {
            "_view_name": "StyleView",
            "_model_name": "DescriptionStyleModel",
            "description_width": "",
            "_view_module": "@jupyter-widgets/base",
            "_model_module_version": "1.5.0",
            "_view_count": null,
            "_view_module_version": "1.2.0",
            "_model_module": "@jupyter-widgets/controls"
          }
        },
        "8a6ff9d1ad7245a3a3d663a824ac902e": {
          "model_module": "@jupyter-widgets/base",
          "model_name": "LayoutModel",
          "state": {
            "_view_name": "LayoutView",
            "grid_template_rows": null,
            "right": null,
            "justify_content": null,
            "_view_module": "@jupyter-widgets/base",
            "overflow": null,
            "_model_module_version": "1.2.0",
            "_view_count": null,
            "flex_flow": null,
            "width": null,
            "min_width": null,
            "border": null,
            "align_items": null,
            "bottom": null,
            "_model_module": "@jupyter-widgets/base",
            "top": null,
            "grid_column": null,
            "overflow_y": null,
            "overflow_x": null,
            "grid_auto_flow": null,
            "grid_area": null,
            "grid_template_columns": null,
            "flex": null,
            "_model_name": "LayoutModel",
            "justify_items": null,
            "grid_row": null,
            "max_height": null,
            "align_content": null,
            "visibility": null,
            "align_self": null,
            "height": null,
            "min_height": null,
            "padding": null,
            "grid_auto_rows": null,
            "grid_gap": null,
            "max_width": null,
            "order": null,
            "_view_module_version": "1.2.0",
            "grid_template_areas": null,
            "object_position": null,
            "object_fit": null,
            "grid_auto_columns": null,
            "margin": null,
            "display": null,
            "left": null
          }
        },
        "9a7ed21436db4c76bc97fefed756b709": {
          "model_module": "@jupyter-widgets/controls",
          "model_name": "HBoxModel",
          "state": {
            "_view_name": "HBoxView",
            "_dom_classes": [],
            "_model_name": "HBoxModel",
            "_view_module": "@jupyter-widgets/controls",
            "_model_module_version": "1.5.0",
            "_view_count": null,
            "_view_module_version": "1.5.0",
            "box_style": "",
            "layout": "IPY_MODEL_797f0024c92443ecb29c9071daaaae88",
            "_model_module": "@jupyter-widgets/controls",
            "children": [
              "IPY_MODEL_607682da6a6e4e33a72bfb33cb892b25",
              "IPY_MODEL_78e4848528cc4fd883c3e88ce2529ea3"
            ]
          }
        },
        "797f0024c92443ecb29c9071daaaae88": {
          "model_module": "@jupyter-widgets/base",
          "model_name": "LayoutModel",
          "state": {
            "_view_name": "LayoutView",
            "grid_template_rows": null,
            "right": null,
            "justify_content": null,
            "_view_module": "@jupyter-widgets/base",
            "overflow": null,
            "_model_module_version": "1.2.0",
            "_view_count": null,
            "flex_flow": null,
            "width": null,
            "min_width": null,
            "border": null,
            "align_items": null,
            "bottom": null,
            "_model_module": "@jupyter-widgets/base",
            "top": null,
            "grid_column": null,
            "overflow_y": null,
            "overflow_x": null,
            "grid_auto_flow": null,
            "grid_area": null,
            "grid_template_columns": null,
            "flex": null,
            "_model_name": "LayoutModel",
            "justify_items": null,
            "grid_row": null,
            "max_height": null,
            "align_content": null,
            "visibility": null,
            "align_self": null,
            "height": null,
            "min_height": null,
            "padding": null,
            "grid_auto_rows": null,
            "grid_gap": null,
            "max_width": null,
            "order": null,
            "_view_module_version": "1.2.0",
            "grid_template_areas": null,
            "object_position": null,
            "object_fit": null,
            "grid_auto_columns": null,
            "margin": null,
            "display": null,
            "left": null
          }
        },
        "607682da6a6e4e33a72bfb33cb892b25": {
          "model_module": "@jupyter-widgets/controls",
          "model_name": "FloatProgressModel",
          "state": {
            "_view_name": "ProgressView",
            "style": "IPY_MODEL_47d0b56834eb41cda219a1fc91ec3d86",
            "_dom_classes": [],
            "description": "100%",
            "_model_name": "FloatProgressModel",
            "bar_style": "success",
            "max": 904,
            "_view_module": "@jupyter-widgets/controls",
            "_model_module_version": "1.5.0",
            "value": 904,
            "_view_count": null,
            "_view_module_version": "1.5.0",
            "orientation": "horizontal",
            "min": 0,
            "description_tooltip": null,
            "_model_module": "@jupyter-widgets/controls",
            "layout": "IPY_MODEL_7b01a3e28d7e4d41ad62d335c08ef195"
          }
        },
        "78e4848528cc4fd883c3e88ce2529ea3": {
          "model_module": "@jupyter-widgets/controls",
          "model_name": "HTMLModel",
          "state": {
            "_view_name": "HTMLView",
            "style": "IPY_MODEL_fbc4cca447e048d4b15c3c04c7a7177a",
            "_dom_classes": [],
            "description": "",
            "_model_name": "HTMLModel",
            "placeholder": "​",
            "_view_module": "@jupyter-widgets/controls",
            "_model_module_version": "1.5.0",
            "value": " 904/904 [07:43&lt;00:00,  1.95it/s]",
            "_view_count": null,
            "_view_module_version": "1.5.0",
            "description_tooltip": null,
            "_model_module": "@jupyter-widgets/controls",
            "layout": "IPY_MODEL_4791bdbbf95b4fef8226f5aa7bc37f49"
          }
        },
        "47d0b56834eb41cda219a1fc91ec3d86": {
          "model_module": "@jupyter-widgets/controls",
          "model_name": "ProgressStyleModel",
          "state": {
            "_view_name": "StyleView",
            "_model_name": "ProgressStyleModel",
            "description_width": "initial",
            "_view_module": "@jupyter-widgets/base",
            "_model_module_version": "1.5.0",
            "_view_count": null,
            "_view_module_version": "1.2.0",
            "bar_color": null,
            "_model_module": "@jupyter-widgets/controls"
          }
        },
        "7b01a3e28d7e4d41ad62d335c08ef195": {
          "model_module": "@jupyter-widgets/base",
          "model_name": "LayoutModel",
          "state": {
            "_view_name": "LayoutView",
            "grid_template_rows": null,
            "right": null,
            "justify_content": null,
            "_view_module": "@jupyter-widgets/base",
            "overflow": null,
            "_model_module_version": "1.2.0",
            "_view_count": null,
            "flex_flow": null,
            "width": null,
            "min_width": null,
            "border": null,
            "align_items": null,
            "bottom": null,
            "_model_module": "@jupyter-widgets/base",
            "top": null,
            "grid_column": null,
            "overflow_y": null,
            "overflow_x": null,
            "grid_auto_flow": null,
            "grid_area": null,
            "grid_template_columns": null,
            "flex": null,
            "_model_name": "LayoutModel",
            "justify_items": null,
            "grid_row": null,
            "max_height": null,
            "align_content": null,
            "visibility": null,
            "align_self": null,
            "height": null,
            "min_height": null,
            "padding": null,
            "grid_auto_rows": null,
            "grid_gap": null,
            "max_width": null,
            "order": null,
            "_view_module_version": "1.2.0",
            "grid_template_areas": null,
            "object_position": null,
            "object_fit": null,
            "grid_auto_columns": null,
            "margin": null,
            "display": null,
            "left": null
          }
        },
        "fbc4cca447e048d4b15c3c04c7a7177a": {
          "model_module": "@jupyter-widgets/controls",
          "model_name": "DescriptionStyleModel",
          "state": {
            "_view_name": "StyleView",
            "_model_name": "DescriptionStyleModel",
            "description_width": "",
            "_view_module": "@jupyter-widgets/base",
            "_model_module_version": "1.5.0",
            "_view_count": null,
            "_view_module_version": "1.2.0",
            "_model_module": "@jupyter-widgets/controls"
          }
        },
        "4791bdbbf95b4fef8226f5aa7bc37f49": {
          "model_module": "@jupyter-widgets/base",
          "model_name": "LayoutModel",
          "state": {
            "_view_name": "LayoutView",
            "grid_template_rows": null,
            "right": null,
            "justify_content": null,
            "_view_module": "@jupyter-widgets/base",
            "overflow": null,
            "_model_module_version": "1.2.0",
            "_view_count": null,
            "flex_flow": null,
            "width": null,
            "min_width": null,
            "border": null,
            "align_items": null,
            "bottom": null,
            "_model_module": "@jupyter-widgets/base",
            "top": null,
            "grid_column": null,
            "overflow_y": null,
            "overflow_x": null,
            "grid_auto_flow": null,
            "grid_area": null,
            "grid_template_columns": null,
            "flex": null,
            "_model_name": "LayoutModel",
            "justify_items": null,
            "grid_row": null,
            "max_height": null,
            "align_content": null,
            "visibility": null,
            "align_self": null,
            "height": null,
            "min_height": null,
            "padding": null,
            "grid_auto_rows": null,
            "grid_gap": null,
            "max_width": null,
            "order": null,
            "_view_module_version": "1.2.0",
            "grid_template_areas": null,
            "object_position": null,
            "object_fit": null,
            "grid_auto_columns": null,
            "margin": null,
            "display": null,
            "left": null
          }
        }
      }
    }
  },
  "cells": [
    {
      "cell_type": "markdown",
      "metadata": {
        "id": "view-in-github",
        "colab_type": "text"
      },
      "source": [
        "<a href=\"https://colab.research.google.com/github/Gail529/Mental-health/blob/main/tweet_emotions.ipynb\" target=\"_parent\"><img src=\"https://colab.research.google.com/assets/colab-badge.svg\" alt=\"Open In Colab\"/></a>"
      ]
    },
    {
      "cell_type": "code",
      "metadata": {
        "colab": {
          "base_uri": "https://localhost:8080/"
        },
        "id": "-JC7elV-gwds",
        "outputId": "756e501e-37dc-431f-90f9-8e7d033c6f91"
      },
      "source": [
        "!pip install afinn"
      ],
      "execution_count": 1,
      "outputs": [
        {
          "output_type": "stream",
          "text": [
            "Collecting afinn\n",
            "\u001b[?25l  Downloading https://files.pythonhosted.org/packages/86/e5/ffbb7ee3cca21ac6d310ac01944fb163c20030b45bda25421d725d8a859a/afinn-0.1.tar.gz (52kB)\n",
            "\r\u001b[K     |██████▎                         | 10kB 12.8MB/s eta 0:00:01\r\u001b[K     |████████████▌                   | 20kB 18.7MB/s eta 0:00:01\r\u001b[K     |██████████████████▊             | 30kB 12.3MB/s eta 0:00:01\r\u001b[K     |█████████████████████████       | 40kB 9.4MB/s eta 0:00:01\r\u001b[K     |███████████████████████████████▏| 51kB 5.0MB/s eta 0:00:01\r\u001b[K     |████████████████████████████████| 61kB 3.4MB/s \n",
            "\u001b[?25hBuilding wheels for collected packages: afinn\n",
            "  Building wheel for afinn (setup.py) ... \u001b[?25l\u001b[?25hdone\n",
            "  Created wheel for afinn: filename=afinn-0.1-cp37-none-any.whl size=53452 sha256=ea1b4eb9f5aa2ceec47e917389fa9f266b6ac3f6d5542ae8cb485a7cb5f40d2f\n",
            "  Stored in directory: /root/.cache/pip/wheels/b5/1c/de/428301f3333ca509dcf20ff358690eb23a1388fbcbbde008b2\n",
            "Successfully built afinn\n",
            "Installing collected packages: afinn\n",
            "Successfully installed afinn-0.1\n"
          ],
          "name": "stdout"
        }
      ]
    },
    {
      "cell_type": "code",
      "metadata": {
        "colab": {
          "base_uri": "https://localhost:8080/"
        },
        "id": "OtTyMUWVkKTS",
        "outputId": "89434343-5be1-4412-e552-70590078575e"
      },
      "source": [
        "!pip install vaderSentiment\n"
      ],
      "execution_count": 2,
      "outputs": [
        {
          "output_type": "stream",
          "text": [
            "Collecting vaderSentiment\n",
            "\u001b[?25l  Downloading https://files.pythonhosted.org/packages/76/fc/310e16254683c1ed35eeb97386986d6c00bc29df17ce280aed64d55537e9/vaderSentiment-3.3.2-py2.py3-none-any.whl (125kB)\n",
            "\r\u001b[K     |██▋                             | 10kB 13.3MB/s eta 0:00:01\r\u001b[K     |█████▏                          | 20kB 18.7MB/s eta 0:00:01\r\u001b[K     |███████▉                        | 30kB 12.3MB/s eta 0:00:01\r\u001b[K     |██████████▍                     | 40kB 9.3MB/s eta 0:00:01\r\u001b[K     |█████████████                   | 51kB 5.0MB/s eta 0:00:01\r\u001b[K     |███████████████▋                | 61kB 5.8MB/s eta 0:00:01\r\u001b[K     |██████████████████▏             | 71kB 6.1MB/s eta 0:00:01\r\u001b[K     |████████████████████▉           | 81kB 6.4MB/s eta 0:00:01\r\u001b[K     |███████████████████████▍        | 92kB 6.3MB/s eta 0:00:01\r\u001b[K     |██████████████████████████      | 102kB 5.4MB/s eta 0:00:01\r\u001b[K     |████████████████████████████▋   | 112kB 5.4MB/s eta 0:00:01\r\u001b[K     |███████████████████████████████▏| 122kB 5.4MB/s eta 0:00:01\r\u001b[K     |████████████████████████████████| 133kB 5.4MB/s \n",
            "\u001b[?25hRequirement already satisfied: requests in /usr/local/lib/python3.7/dist-packages (from vaderSentiment) (2.23.0)\n",
            "Requirement already satisfied: idna<3,>=2.5 in /usr/local/lib/python3.7/dist-packages (from requests->vaderSentiment) (2.10)\n",
            "Requirement already satisfied: certifi>=2017.4.17 in /usr/local/lib/python3.7/dist-packages (from requests->vaderSentiment) (2021.5.30)\n",
            "Requirement already satisfied: urllib3!=1.25.0,!=1.25.1,<1.26,>=1.21.1 in /usr/local/lib/python3.7/dist-packages (from requests->vaderSentiment) (1.24.3)\n",
            "Requirement already satisfied: chardet<4,>=3.0.2 in /usr/local/lib/python3.7/dist-packages (from requests->vaderSentiment) (3.0.4)\n",
            "Installing collected packages: vaderSentiment\n",
            "Successfully installed vaderSentiment-3.3.2\n"
          ],
          "name": "stdout"
        }
      ]
    },
    {
      "cell_type": "code",
      "metadata": {
        "colab": {
          "base_uri": "https://localhost:8080/"
        },
        "id": "iw80Hf6TmgxE",
        "outputId": "8fa9a852-028f-4013-cadf-2e0f91647b7c"
      },
      "source": [
        "import pandas as pd \n",
        "import numpy as np\n",
        "from tqdm import tqdm_notebook as tqdm \n",
        "from tqdm import trange\n",
        "import nltk\n",
        "nltk.download('punkt')\n",
        "nltk.download('wordnet')\n",
        "from nltk import word_tokenize\n",
        "from nltk.stem import WordNetLemmatizer\n",
        "from nltk.stem import PorterStemmer"
      ],
      "execution_count": 3,
      "outputs": [
        {
          "output_type": "stream",
          "text": [
            "[nltk_data] Downloading package punkt to /root/nltk_data...\n",
            "[nltk_data]   Unzipping tokenizers/punkt.zip.\n",
            "[nltk_data] Downloading package wordnet to /root/nltk_data...\n",
            "[nltk_data]   Unzipping corpora/wordnet.zip.\n"
          ],
          "name": "stdout"
        }
      ]
    },
    {
      "cell_type": "code",
      "metadata": {
        "id": "aUUw1KC2tQyQ"
      },
      "source": [
        "emo_lex=pd.read_excel('/content/NRC-Emotion-Lexicon-v0.92-In105Languages-Nov2017Translations.xlsx') # emotion lexicon "
      ],
      "execution_count": 4,
      "outputs": []
    },
    {
      "cell_type": "code",
      "metadata": {
        "colab": {
          "base_uri": "https://localhost:8080/",
          "height": 429
        },
        "id": "MAe540mrwOJL",
        "outputId": "d80403d3-4784-4fb8-e81e-e3a8d99a01e1"
      },
      "source": [
        "emo_lex.head(5)"
      ],
      "execution_count": 5,
      "outputs": [
        {
          "output_type": "execute_result",
          "data": {
            "text/html": [
              "<div>\n",
              "<style scoped>\n",
              "    .dataframe tbody tr th:only-of-type {\n",
              "        vertical-align: middle;\n",
              "    }\n",
              "\n",
              "    .dataframe tbody tr th {\n",
              "        vertical-align: top;\n",
              "    }\n",
              "\n",
              "    .dataframe thead th {\n",
              "        text-align: right;\n",
              "    }\n",
              "</style>\n",
              "<table border=\"1\" class=\"dataframe\">\n",
              "  <thead>\n",
              "    <tr style=\"text-align: right;\">\n",
              "      <th></th>\n",
              "      <th>English (en)</th>\n",
              "      <th>Afrikaans (af)</th>\n",
              "      <th>Albanian (sq)</th>\n",
              "      <th>Amharic (am)</th>\n",
              "      <th>Arabic (ar)</th>\n",
              "      <th>Armenian (hy)</th>\n",
              "      <th>Azeerbaijani (az)</th>\n",
              "      <th>Basque (eu)</th>\n",
              "      <th>Belarusian (be)</th>\n",
              "      <th>Bengali (bn)</th>\n",
              "      <th>Bosnian (bs)</th>\n",
              "      <th>Bulgarian (bg)</th>\n",
              "      <th>Catalan (ca)</th>\n",
              "      <th>Cebuano (ceb)</th>\n",
              "      <th>Chinese (Simplified) (zh-CN)</th>\n",
              "      <th>Chinese (Traditional) (zh-TW)</th>\n",
              "      <th>Corsican (co)</th>\n",
              "      <th>Croatian (hr)</th>\n",
              "      <th>Czech (cs)</th>\n",
              "      <th>Danish (da)</th>\n",
              "      <th>Dutch (nl)</th>\n",
              "      <th>English (en).1</th>\n",
              "      <th>Esperanto (eo)</th>\n",
              "      <th>Estonian (et)</th>\n",
              "      <th>Finnish (fi)</th>\n",
              "      <th>French (fr)</th>\n",
              "      <th>Frisian (fy)</th>\n",
              "      <th>Galician (gl)</th>\n",
              "      <th>Georgian (ka)</th>\n",
              "      <th>German (de)</th>\n",
              "      <th>Greek (el)</th>\n",
              "      <th>Gujarati (gu)</th>\n",
              "      <th>Haitian Creole (ht)</th>\n",
              "      <th>Hausa (ha)</th>\n",
              "      <th>Hawaiian (haw)</th>\n",
              "      <th>Hebrew (iw)</th>\n",
              "      <th>Hindi (hi)</th>\n",
              "      <th>Hmong (hmn)</th>\n",
              "      <th>Hungarian (hu)</th>\n",
              "      <th>Icelandic (is)</th>\n",
              "      <th>...</th>\n",
              "      <th>Russian (ru)</th>\n",
              "      <th>Samoan (sm)</th>\n",
              "      <th>Scots Gaelic (gd)</th>\n",
              "      <th>Serbian (sr)</th>\n",
              "      <th>Sesotho (st)</th>\n",
              "      <th>Shona (sn)</th>\n",
              "      <th>Sindhi (sd)</th>\n",
              "      <th>Sinhala (Sinhalese) (si)</th>\n",
              "      <th>Slovak (sk)</th>\n",
              "      <th>Slovenian (sl)</th>\n",
              "      <th>Somali (so)</th>\n",
              "      <th>Spanish (es)</th>\n",
              "      <th>Sundanese (su)</th>\n",
              "      <th>Swahili (sw)</th>\n",
              "      <th>Swedish (sv)</th>\n",
              "      <th>Tagalog (Filipino) (tl)</th>\n",
              "      <th>Tajik (tg)</th>\n",
              "      <th>Tamil (ta)</th>\n",
              "      <th>Telugu (te)</th>\n",
              "      <th>Thai (th)</th>\n",
              "      <th>Turkish (tr)</th>\n",
              "      <th>Ukrainian (uk)</th>\n",
              "      <th>Urdu (ur)</th>\n",
              "      <th>Uzbek (uz)</th>\n",
              "      <th>Vietnamese (vi)</th>\n",
              "      <th>Welsh (cy)</th>\n",
              "      <th>Xhosa (xh)</th>\n",
              "      <th>Yiddish (yi)</th>\n",
              "      <th>Yoruba (yo)</th>\n",
              "      <th>Zulu (zu)</th>\n",
              "      <th>Positive</th>\n",
              "      <th>Negative</th>\n",
              "      <th>Anger</th>\n",
              "      <th>Anticipation</th>\n",
              "      <th>Disgust</th>\n",
              "      <th>Fear</th>\n",
              "      <th>Joy</th>\n",
              "      <th>Sadness</th>\n",
              "      <th>Surprise</th>\n",
              "      <th>Trust</th>\n",
              "    </tr>\n",
              "  </thead>\n",
              "  <tbody>\n",
              "    <tr>\n",
              "      <th>0</th>\n",
              "      <td>aback</td>\n",
              "      <td>uit die veld geslaan</td>\n",
              "      <td>prapa</td>\n",
              "      <td>ተጭኗል</td>\n",
              "      <td>الى الوراء</td>\n",
              "      <td>շեղում</td>\n",
              "      <td>sanki</td>\n",
              "      <td>aback</td>\n",
              "      <td>ззаду</td>\n",
              "      <td>পশ্চাতে</td>\n",
              "      <td>aback</td>\n",
              "      <td>изненадан</td>\n",
              "      <td>sorpresa</td>\n",
              "      <td>aback</td>\n",
              "      <td>吓了一跳</td>\n",
              "      <td>嚇了一跳</td>\n",
              "      <td>aback</td>\n",
              "      <td>po krmi</td>\n",
              "      <td>překvapení</td>\n",
              "      <td>overrasket</td>\n",
              "      <td>verrast</td>\n",
              "      <td>aback</td>\n",
              "      <td>abako</td>\n",
              "      <td>kummitus</td>\n",
              "      <td>taaksepäin</td>\n",
              "      <td>abasourdi</td>\n",
              "      <td>ôfbrekke</td>\n",
              "      <td>aback</td>\n",
              "      <td>aback</td>\n",
              "      <td>zurück</td>\n",
              "      <td>προς τα πίσω</td>\n",
              "      <td>અચાનક</td>\n",
              "      <td>aback</td>\n",
              "      <td>aback</td>\n",
              "      <td>a hope</td>\n",
              "      <td>נבוך</td>\n",
              "      <td>अचंभे</td>\n",
              "      <td>aback</td>\n",
              "      <td>hátra</td>\n",
              "      <td>óvart</td>\n",
              "      <td>...</td>\n",
              "      <td>сзади</td>\n",
              "      <td>o se mea e leai</td>\n",
              "      <td>s an Iar-</td>\n",
              "      <td>абацк</td>\n",
              "      <td>back</td>\n",
              "      <td>aback</td>\n",
              "      <td>بي پناهه</td>\n",
              "      <td>අවාසනාවන්ත මෙන්ය</td>\n",
              "      <td>prekvapený</td>\n",
              "      <td>Nadaljuj</td>\n",
              "      <td>aback</td>\n",
              "      <td>detrás</td>\n",
              "      <td>aback</td>\n",
              "      <td>tamaa</td>\n",
              "      <td>en rygg</td>\n",
              "      <td>aback</td>\n",
              "      <td>бесабаб нест</td>\n",
              "      <td>அதிர்ச்சி</td>\n",
              "      <td>వెనక్కి</td>\n",
              "      <td>ผงะ</td>\n",
              "      <td>pupada</td>\n",
              "      <td>огидно</td>\n",
              "      <td>aback</td>\n",
              "      <td>shafqatsiz</td>\n",
              "      <td>buồn</td>\n",
              "      <td>aback</td>\n",
              "      <td>ukuphazamiseka</td>\n",
              "      <td>אַבאַק</td>\n",
              "      <td>aback</td>\n",
              "      <td>back</td>\n",
              "      <td>0</td>\n",
              "      <td>0</td>\n",
              "      <td>0</td>\n",
              "      <td>0</td>\n",
              "      <td>0</td>\n",
              "      <td>0</td>\n",
              "      <td>0</td>\n",
              "      <td>0</td>\n",
              "      <td>0</td>\n",
              "      <td>0</td>\n",
              "    </tr>\n",
              "    <tr>\n",
              "      <th>1</th>\n",
              "      <td>abacus</td>\n",
              "      <td>abakus</td>\n",
              "      <td>numërator</td>\n",
              "      <td>abacus</td>\n",
              "      <td>طبلية تاج</td>\n",
              "      <td>անբավարարություն</td>\n",
              "      <td>abacus</td>\n",
              "      <td>abako</td>\n",
              "      <td>абака</td>\n",
              "      <td>গণনা-যন্ত্রবিশেষ</td>\n",
              "      <td>abakus</td>\n",
              "      <td>Абак</td>\n",
              "      <td>àbac</td>\n",
              "      <td>abako</td>\n",
              "      <td>算盘</td>\n",
              "      <td>算盤</td>\n",
              "      <td>abacus</td>\n",
              "      <td>računaljka</td>\n",
              "      <td>počitadlo</td>\n",
              "      <td>abacus</td>\n",
              "      <td>telraam</td>\n",
              "      <td>abacus</td>\n",
              "      <td>abako</td>\n",
              "      <td>abacus</td>\n",
              "      <td>abacus</td>\n",
              "      <td>abaque</td>\n",
              "      <td>abacus</td>\n",
              "      <td>ábaco</td>\n",
              "      <td>აბაკუსი</td>\n",
              "      <td>Abakus</td>\n",
              "      <td>άβακας</td>\n",
              "      <td>એબાસ</td>\n",
              "      <td>abacus</td>\n",
              "      <td>ƙaura</td>\n",
              "      <td>ke kumu</td>\n",
              "      <td>אַבַּקוּס</td>\n",
              "      <td>अबेकस</td>\n",
              "      <td>abacus</td>\n",
              "      <td>golyós számológép</td>\n",
              "      <td>abacus</td>\n",
              "      <td>...</td>\n",
              "      <td>счеты</td>\n",
              "      <td>faʻailoga</td>\n",
              "      <td>abacus</td>\n",
              "      <td>абакус</td>\n",
              "      <td>abacus</td>\n",
              "      <td>abacus</td>\n",
              "      <td>عباسي</td>\n",
              "      <td>අවපීඩනය</td>\n",
              "      <td>počítadlo</td>\n",
              "      <td>abakus</td>\n",
              "      <td>abacus</td>\n",
              "      <td>ábaco</td>\n",
              "      <td>abacus</td>\n",
              "      <td>Abacus</td>\n",
              "      <td>kulram</td>\n",
              "      <td>abako</td>\n",
              "      <td>abacus</td>\n",
              "      <td>அபாகஸ்</td>\n",
              "      <td>అబాకస్</td>\n",
              "      <td>ลูกคิด</td>\n",
              "      <td>abaküs</td>\n",
              "      <td>абак</td>\n",
              "      <td>abacus</td>\n",
              "      <td>abakus</td>\n",
              "      <td>bàn tính</td>\n",
              "      <td>abacus</td>\n",
              "      <td>abacus</td>\n",
              "      <td>אַבאַקוס</td>\n",
              "      <td>abacus</td>\n",
              "      <td>Abacus</td>\n",
              "      <td>0</td>\n",
              "      <td>0</td>\n",
              "      <td>0</td>\n",
              "      <td>0</td>\n",
              "      <td>0</td>\n",
              "      <td>0</td>\n",
              "      <td>0</td>\n",
              "      <td>0</td>\n",
              "      <td>0</td>\n",
              "      <td>1</td>\n",
              "    </tr>\n",
              "    <tr>\n",
              "      <th>2</th>\n",
              "      <td>abandon</td>\n",
              "      <td>verlaat</td>\n",
              "      <td>braktis</td>\n",
              "      <td>ውጣ</td>\n",
              "      <td>تخلى</td>\n",
              "      <td>լքել</td>\n",
              "      <td>tərk et</td>\n",
              "      <td>bertan behera</td>\n",
              "      <td>адмовіцца ад</td>\n",
              "      <td>বর্জিত করা</td>\n",
              "      <td>napuštanje</td>\n",
              "      <td>изоставят</td>\n",
              "      <td>abandonar</td>\n",
              "      <td>biyaan</td>\n",
              "      <td>放弃</td>\n",
              "      <td>放棄</td>\n",
              "      <td>abbandunà</td>\n",
              "      <td>napustiti</td>\n",
              "      <td>opustit</td>\n",
              "      <td>opgive</td>\n",
              "      <td>in de steek laten</td>\n",
              "      <td>abandon</td>\n",
              "      <td>forlasi</td>\n",
              "      <td>loobuma</td>\n",
              "      <td>luopua</td>\n",
              "      <td>abandonner</td>\n",
              "      <td>fergees</td>\n",
              "      <td>abandonar</td>\n",
              "      <td>უარი თქე</td>\n",
              "      <td>verlassen</td>\n",
              "      <td>εγκαταλείπω</td>\n",
              "      <td>છોડી દો</td>\n",
              "      <td>abandone</td>\n",
              "      <td>watsi</td>\n",
              "      <td>haʻalele</td>\n",
              "      <td>לִנְטוֹשׁ</td>\n",
              "      <td>छोड़ देना</td>\n",
              "      <td>tso tseg</td>\n",
              "      <td>elhagyott</td>\n",
              "      <td>yfirgefa</td>\n",
              "      <td>...</td>\n",
              "      <td>отказаться от</td>\n",
              "      <td>lafoaia</td>\n",
              "      <td>thrèig</td>\n",
              "      <td>напустити</td>\n",
              "      <td>tlohela</td>\n",
              "      <td>siya</td>\n",
              "      <td>کلون</td>\n",
              "      <td>අතහැර දමන්න</td>\n",
              "      <td>opustiť</td>\n",
              "      <td>opusti</td>\n",
              "      <td>iska dhaaf</td>\n",
              "      <td>abandonar</td>\n",
              "      <td>ninggalkeun</td>\n",
              "      <td>kuacha</td>\n",
              "      <td>överge</td>\n",
              "      <td>abandunahin</td>\n",
              "      <td>тарк кунед</td>\n",
              "      <td>கைவிட</td>\n",
              "      <td>పరిత్యజించిన</td>\n",
              "      <td>ละทิ้ง</td>\n",
              "      <td>terketmek</td>\n",
              "      <td>відмовитися</td>\n",
              "      <td>چھوڑ دو</td>\n",
              "      <td>tark eting</td>\n",
              "      <td>từ bỏ</td>\n",
              "      <td>gadael</td>\n",
              "      <td>ukushiya</td>\n",
              "      <td>פאַרלאָזן</td>\n",
              "      <td>kọ silẹ</td>\n",
              "      <td>shiya</td>\n",
              "      <td>0</td>\n",
              "      <td>1</td>\n",
              "      <td>0</td>\n",
              "      <td>0</td>\n",
              "      <td>0</td>\n",
              "      <td>1</td>\n",
              "      <td>0</td>\n",
              "      <td>1</td>\n",
              "      <td>0</td>\n",
              "      <td>0</td>\n",
              "    </tr>\n",
              "    <tr>\n",
              "      <th>3</th>\n",
              "      <td>abandoned</td>\n",
              "      <td>verlate</td>\n",
              "      <td>braktisur</td>\n",
              "      <td>ተትቷል</td>\n",
              "      <td>مهجور</td>\n",
              "      <td>լքված</td>\n",
              "      <td>tərk etdi</td>\n",
              "      <td>abandonatutako</td>\n",
              "      <td>закінуты</td>\n",
              "      <td>পরিত্যক্ত</td>\n",
              "      <td>napušteno</td>\n",
              "      <td>изоставен</td>\n",
              "      <td>abandonat</td>\n",
              "      <td>gibiyaan</td>\n",
              "      <td>弃</td>\n",
              "      <td>棄</td>\n",
              "      <td>abbandunata</td>\n",
              "      <td>napušten</td>\n",
              "      <td>opuštěný</td>\n",
              "      <td>forladt</td>\n",
              "      <td>verlaten</td>\n",
              "      <td>abandoned</td>\n",
              "      <td>forlasita</td>\n",
              "      <td>mahajäetud</td>\n",
              "      <td>hylätty</td>\n",
              "      <td>abandonné</td>\n",
              "      <td>ferlitten</td>\n",
              "      <td>abandonado</td>\n",
              "      <td>მიტოვებული</td>\n",
              "      <td>verlassen</td>\n",
              "      <td>εγκαταλειμμένος</td>\n",
              "      <td>ત્યજી</td>\n",
              "      <td>abandone</td>\n",
              "      <td>watsi</td>\n",
              "      <td>haʻaleleʻia</td>\n",
              "      <td>נָטוּשׁ</td>\n",
              "      <td>त्यागा हुआ</td>\n",
              "      <td>tso tseg</td>\n",
              "      <td>elhagyatott</td>\n",
              "      <td>yfirgefinn</td>\n",
              "      <td>...</td>\n",
              "      <td>заброшенный</td>\n",
              "      <td>tuulafoaiina</td>\n",
              "      <td>thrèigte</td>\n",
              "      <td>напуштен</td>\n",
              "      <td>e tlohetsoe</td>\n",
              "      <td>asiyiwa</td>\n",
              "      <td>ڇڏيو ويو</td>\n",
              "      <td>අත්හැර දමා ඇත</td>\n",
              "      <td>opustený</td>\n",
              "      <td>opuščeni</td>\n",
              "      <td>ka tagay</td>\n",
              "      <td>abandonado</td>\n",
              "      <td>ditinggalkeun</td>\n",
              "      <td>kutelekezwa</td>\n",
              "      <td>övergiven</td>\n",
              "      <td>inabandunang</td>\n",
              "      <td>партофташуда</td>\n",
              "      <td>கைவிடப்பட்ட</td>\n",
              "      <td>రద్దు</td>\n",
              "      <td>ถูกปล่อยปละละเลย</td>\n",
              "      <td>terkedilmiş</td>\n",
              "      <td>покинутий</td>\n",
              "      <td>ترک کر دیا</td>\n",
              "      <td>tark etildi</td>\n",
              "      <td>bị bỏ rơi</td>\n",
              "      <td>wedi'u gadael</td>\n",
              "      <td>lahliwe</td>\n",
              "      <td>פארלאזן</td>\n",
              "      <td>abandoned</td>\n",
              "      <td>ishiyiwe</td>\n",
              "      <td>0</td>\n",
              "      <td>1</td>\n",
              "      <td>1</td>\n",
              "      <td>0</td>\n",
              "      <td>0</td>\n",
              "      <td>1</td>\n",
              "      <td>0</td>\n",
              "      <td>1</td>\n",
              "      <td>0</td>\n",
              "      <td>0</td>\n",
              "    </tr>\n",
              "    <tr>\n",
              "      <th>4</th>\n",
              "      <td>abandonment</td>\n",
              "      <td>verlating</td>\n",
              "      <td>braktisje</td>\n",
              "      <td>ማቋረጥ</td>\n",
              "      <td>التخلي عن</td>\n",
              "      <td>հրաժարվելով</td>\n",
              "      <td>ləğv</td>\n",
              "      <td>abandono</td>\n",
              "      <td>пакіданне</td>\n",
              "      <td>বিসর্জন</td>\n",
              "      <td>napuštanje</td>\n",
              "      <td>изоставяне</td>\n",
              "      <td>abandó</td>\n",
              "      <td>abandonment</td>\n",
              "      <td>放弃</td>\n",
              "      <td>放棄</td>\n",
              "      <td>abbandunamentu</td>\n",
              "      <td>napuštanje</td>\n",
              "      <td>opuštění</td>\n",
              "      <td>opgivelse</td>\n",
              "      <td>verlatenheid</td>\n",
              "      <td>abandonment</td>\n",
              "      <td>forlaso</td>\n",
              "      <td>loobumine</td>\n",
              "      <td>hylkääminen</td>\n",
              "      <td>abandon</td>\n",
              "      <td>ferplichting</td>\n",
              "      <td>abandono</td>\n",
              "      <td>მიტოვება</td>\n",
              "      <td>Aufgabe</td>\n",
              "      <td>εγκατάλειψη</td>\n",
              "      <td>પરિત્યાગ</td>\n",
              "      <td>abandon</td>\n",
              "      <td>watsi</td>\n",
              "      <td>ka haʻalele</td>\n",
              "      <td>נְטִישָׁה</td>\n",
              "      <td>संन्यास</td>\n",
              "      <td>kev nrauj</td>\n",
              "      <td>lemondás</td>\n",
              "      <td>yfirgefa</td>\n",
              "      <td>...</td>\n",
              "      <td>оставление</td>\n",
              "      <td>lafoaia</td>\n",
              "      <td>thrèigsinn</td>\n",
              "      <td>напуштање</td>\n",
              "      <td>ho lahla</td>\n",
              "      <td>kusiya</td>\n",
              "      <td>ڇڏيل</td>\n",
              "      <td>අත්හැර දැමීම</td>\n",
              "      <td>opustenie</td>\n",
              "      <td>opustitev</td>\n",
              "      <td>ka tagid</td>\n",
              "      <td>abandono</td>\n",
              "      <td>abandonment</td>\n",
              "      <td>kuacha</td>\n",
              "      <td>övergivenhet</td>\n",
              "      <td>pag-abanduna</td>\n",
              "      <td>тарк кардан</td>\n",
              "      <td>கைவிட்டதை</td>\n",
              "      <td>పరిత్యాగం</td>\n",
              "      <td>การละทิ้ง</td>\n",
              "      <td>terk</td>\n",
              "      <td>залишення</td>\n",
              "      <td>دستبرداری</td>\n",
              "      <td>tark etish</td>\n",
              "      <td>bỏ rơi</td>\n",
              "      <td>rhoi'r gorau iddi</td>\n",
              "      <td>ukushiya</td>\n",
              "      <td>פארלאנגט</td>\n",
              "      <td>abandonment</td>\n",
              "      <td>ukushiya</td>\n",
              "      <td>0</td>\n",
              "      <td>1</td>\n",
              "      <td>1</td>\n",
              "      <td>0</td>\n",
              "      <td>0</td>\n",
              "      <td>1</td>\n",
              "      <td>0</td>\n",
              "      <td>1</td>\n",
              "      <td>1</td>\n",
              "      <td>0</td>\n",
              "    </tr>\n",
              "  </tbody>\n",
              "</table>\n",
              "<p>5 rows × 115 columns</p>\n",
              "</div>"
            ],
            "text/plain": [
              "  English (en)        Afrikaans (af) Albanian (sq)  ... Sadness Surprise Trust\n",
              "0        aback  uit die veld geslaan         prapa  ...       0        0     0\n",
              "1       abacus                abakus     numërator  ...       0        0     1\n",
              "2      abandon               verlaat       braktis  ...       1        0     0\n",
              "3    abandoned               verlate     braktisur  ...       1        0     0\n",
              "4  abandonment             verlating     braktisje  ...       1        1     0\n",
              "\n",
              "[5 rows x 115 columns]"
            ]
          },
          "metadata": {
            "tags": []
          },
          "execution_count": 5
        }
      ]
    },
    {
      "cell_type": "code",
      "metadata": {
        "colab": {
          "base_uri": "https://localhost:8080/"
        },
        "id": "s_zHNdckwjCC",
        "outputId": "9293ad24-35b9-40e1-c1a6-843b1bf4b490"
      },
      "source": [
        "emolex_df=emo_lex[['English (en)','Positive','Negative','Anger','Anticipation','Disgust','Fear','Joy','Sadness','Surprise','Trust']]\n",
        "emotions=emolex_df.columns.drop('English (en)')\n",
        "emolex_df.rename(columns={'English (en)':'word'},inplace=True)"
      ],
      "execution_count": 6,
      "outputs": [
        {
          "output_type": "stream",
          "text": [
            "/usr/local/lib/python3.7/dist-packages/pandas/core/frame.py:4308: SettingWithCopyWarning: \n",
            "A value is trying to be set on a copy of a slice from a DataFrame\n",
            "\n",
            "See the caveats in the documentation: https://pandas.pydata.org/pandas-docs/stable/user_guide/indexing.html#returning-a-view-versus-a-copy\n",
            "  errors=errors,\n"
          ],
          "name": "stderr"
        }
      ]
    },
    {
      "cell_type": "code",
      "metadata": {
        "id": "iIE6OR5KwawE"
      },
      "source": [
        "del data[\"neutrality\"]"
      ],
      "execution_count": null,
      "outputs": []
    },
    {
      "cell_type": "code",
      "metadata": {
        "id": "z1Mpjz2WxlcP"
      },
      "source": [
        "tweets=pd.read_csv('/content/final_tweets2.csv')"
      ],
      "execution_count": 10,
      "outputs": []
    },
    {
      "cell_type": "code",
      "metadata": {
        "colab": {
          "base_uri": "https://localhost:8080/",
          "height": 112
        },
        "id": "gjoW_CJM3tKj",
        "outputId": "76e1395e-8772-4998-dd6d-489e474ace58"
      },
      "source": [
        "emolex_df.head(2)"
      ],
      "execution_count": 12,
      "outputs": [
        {
          "output_type": "execute_result",
          "data": {
            "text/html": [
              "<div>\n",
              "<style scoped>\n",
              "    .dataframe tbody tr th:only-of-type {\n",
              "        vertical-align: middle;\n",
              "    }\n",
              "\n",
              "    .dataframe tbody tr th {\n",
              "        vertical-align: top;\n",
              "    }\n",
              "\n",
              "    .dataframe thead th {\n",
              "        text-align: right;\n",
              "    }\n",
              "</style>\n",
              "<table border=\"1\" class=\"dataframe\">\n",
              "  <thead>\n",
              "    <tr style=\"text-align: right;\">\n",
              "      <th></th>\n",
              "      <th>word</th>\n",
              "      <th>Positive</th>\n",
              "      <th>Negative</th>\n",
              "      <th>Anger</th>\n",
              "      <th>Anticipation</th>\n",
              "      <th>Disgust</th>\n",
              "      <th>Fear</th>\n",
              "      <th>Joy</th>\n",
              "      <th>Sadness</th>\n",
              "      <th>Surprise</th>\n",
              "      <th>Trust</th>\n",
              "    </tr>\n",
              "  </thead>\n",
              "  <tbody>\n",
              "    <tr>\n",
              "      <th>0</th>\n",
              "      <td>aback</td>\n",
              "      <td>0</td>\n",
              "      <td>0</td>\n",
              "      <td>0</td>\n",
              "      <td>0</td>\n",
              "      <td>0</td>\n",
              "      <td>0</td>\n",
              "      <td>0</td>\n",
              "      <td>0</td>\n",
              "      <td>0</td>\n",
              "      <td>0</td>\n",
              "    </tr>\n",
              "    <tr>\n",
              "      <th>1</th>\n",
              "      <td>abacus</td>\n",
              "      <td>0</td>\n",
              "      <td>0</td>\n",
              "      <td>0</td>\n",
              "      <td>0</td>\n",
              "      <td>0</td>\n",
              "      <td>0</td>\n",
              "      <td>0</td>\n",
              "      <td>0</td>\n",
              "      <td>0</td>\n",
              "      <td>1</td>\n",
              "    </tr>\n",
              "  </tbody>\n",
              "</table>\n",
              "</div>"
            ],
            "text/plain": [
              "     word  Positive  Negative  Anger  ...  Joy  Sadness  Surprise  Trust\n",
              "0   aback         0         0      0  ...    0        0         0      0\n",
              "1  abacus         0         0      0  ...    0        0         0      1\n",
              "\n",
              "[2 rows x 11 columns]"
            ]
          },
          "metadata": {
            "tags": []
          },
          "execution_count": 12
        }
      ]
    },
    {
      "cell_type": "code",
      "metadata": {
        "id": "qnA45VujyZdk",
        "colab": {
          "base_uri": "https://localhost:8080/",
          "height": 112
        },
        "outputId": "55601bf0-98c6-40b3-98fc-2555468bbd49"
      },
      "source": [
        "tweets.head(2)\n"
      ],
      "execution_count": 13,
      "outputs": [
        {
          "output_type": "execute_result",
          "data": {
            "text/html": [
              "<div>\n",
              "<style scoped>\n",
              "    .dataframe tbody tr th:only-of-type {\n",
              "        vertical-align: middle;\n",
              "    }\n",
              "\n",
              "    .dataframe tbody tr th {\n",
              "        vertical-align: top;\n",
              "    }\n",
              "\n",
              "    .dataframe thead th {\n",
              "        text-align: right;\n",
              "    }\n",
              "</style>\n",
              "<table border=\"1\" class=\"dataframe\">\n",
              "  <thead>\n",
              "    <tr style=\"text-align: right;\">\n",
              "      <th></th>\n",
              "      <th>Unnamed: 0</th>\n",
              "      <th>user</th>\n",
              "      <th>location</th>\n",
              "      <th>text</th>\n",
              "      <th>tweets</th>\n",
              "    </tr>\n",
              "  </thead>\n",
              "  <tbody>\n",
              "    <tr>\n",
              "      <th>0</th>\n",
              "      <td>0</td>\n",
              "      <td>AmirahStyles_</td>\n",
              "      <td>Las Vegas , NV</td>\n",
              "      <td>I love my family. I love my life. \\nHappiness.</td>\n",
              "      <td>i love my family  i love my life  happiness</td>\n",
              "    </tr>\n",
              "    <tr>\n",
              "      <th>1</th>\n",
              "      <td>1</td>\n",
              "      <td>seejhay_</td>\n",
              "      <td>I couldn't care less</td>\n",
              "      <td>\"HoMOSexUal wILl nOT iNhEriT tHE kiNGdom Of gO...</td>\n",
              "      <td>homosexual will not inherit the kingdom of go...</td>\n",
              "    </tr>\n",
              "  </tbody>\n",
              "</table>\n",
              "</div>"
            ],
            "text/plain": [
              "   Unnamed: 0  ...                                             tweets\n",
              "0           0  ...       i love my family  i love my life  happiness \n",
              "1           1  ...   homosexual will not inherit the kingdom of go...\n",
              "\n",
              "[2 rows x 5 columns]"
            ]
          },
          "metadata": {
            "tags": []
          },
          "execution_count": 13
        }
      ]
    },
    {
      "cell_type": "code",
      "metadata": {
        "id": "BFaFbCY1ybNN"
      },
      "source": [
        "del tweets['Unnamed: 0']\n"
      ],
      "execution_count": 14,
      "outputs": []
    },
    {
      "cell_type": "code",
      "metadata": {
        "id": "ZMQ0y3PhuRxg"
      },
      "source": [
        "def tweet_emotion(tweet_df,col):\n",
        "  new_tweet_df=tweet_df.copy()\n",
        "  #new  dataframe that will store the emotion scores\n",
        "  emo_df=pd.DataFrame(0,index=new_tweet_df.index, columns=emotions)\n",
        "  lemmatizer=WordNetLemmatizer()\n",
        "\n",
        "  \n",
        "  with tqdm(total=len(list(new_tweet_df.iterrows()))) as pbar:\n",
        "    for i ,row in new_tweet_df.iterrows(): \n",
        "        pbar.update(1) #update the progress bar\n",
        "        tweet=word_tokenize(new_tweet_df.loc[i][col]) #the body of text for each individual tweet(row)\n",
        "\n",
        "        for word in tweet:\n",
        "            new=lemmatizer.lemmatize(word)#lemmatizing the words\n",
        "            emo_score=emolex_df[emolex_df.word == new]     \n",
        "            if not emo_score.empty:\n",
        "                for emotion in list(emotions):\n",
        "                    emo_df.at[i,emotion] += emo_score[emotion]\n",
        "\n",
        "\n",
        "    new_tweet_df=pd.concat([new_tweet_df,emo_df] ,axis=1)\n",
        "    return new_tweet_df"
      ],
      "execution_count": 15,
      "outputs": []
    },
    {
      "cell_type": "code",
      "metadata": {
        "id": "KBZt4ZrTyHsC"
      },
      "source": [
        "# splitting dataframe by row index \n",
        "tweet_df_1 = tweets.iloc[:1000,:] \n",
        "tweet_df_1"
      ],
      "execution_count": null,
      "outputs": []
    },
    {
      "cell_type": "code",
      "metadata": {
        "colab": {
          "base_uri": "https://localhost:8080/",
          "height": 118,
          "referenced_widgets": [
            "d705c3e52b0d4dfea0bcb2a714639bbe",
            "9c3af2564c5a418fb4f4f2d58f4e3b6c",
            "9d3ea9fbb095443cab3ef52f1c140866",
            "e5655cfd2bac42d2ae308bc96d19a0db",
            "5b64c45d3d24449abbbe7bd5a448c57e",
            "cf6708b710684a308e64f58e4a828850",
            "906c97d5518c4c308816f667412b01f7",
            "8a6ff9d1ad7245a3a3d663a824ac902e"
          ]
        },
        "id": "lDzUiIxWzeiy",
        "outputId": "aac38467-e00a-4174-963d-c69633b1f3c5"
      },
      "source": [
        "final_df=tweet_emotion(tweet_df_1,'tweets')"
      ],
      "execution_count": 17,
      "outputs": [
        {
          "output_type": "stream",
          "text": [
            "/usr/local/lib/python3.7/dist-packages/ipykernel_launcher.py:8: TqdmDeprecationWarning: This function will be removed in tqdm==5.0.0\n",
            "Please use `tqdm.notebook.tqdm` instead of `tqdm.tqdm_notebook`\n",
            "  \n"
          ],
          "name": "stderr"
        },
        {
          "output_type": "display_data",
          "data": {
            "application/vnd.jupyter.widget-view+json": {
              "model_id": "d705c3e52b0d4dfea0bcb2a714639bbe",
              "version_minor": 0,
              "version_major": 2
            },
            "text/plain": [
              "HBox(children=(FloatProgress(value=0.0, max=1000.0), HTML(value='')))"
            ]
          },
          "metadata": {
            "tags": []
          }
        },
        {
          "output_type": "stream",
          "text": [
            "\n"
          ],
          "name": "stdout"
        }
      ]
    },
    {
      "cell_type": "code",
      "metadata": {
        "colab": {
          "base_uri": "https://localhost:8080/",
          "height": 300
        },
        "id": "Zij8FFbj0JLp",
        "outputId": "b5c2d1fd-a996-4917-9080-6ad7e1432706"
      },
      "source": [
        "final_df.describe()"
      ],
      "execution_count": 18,
      "outputs": [
        {
          "output_type": "execute_result",
          "data": {
            "text/html": [
              "<div>\n",
              "<style scoped>\n",
              "    .dataframe tbody tr th:only-of-type {\n",
              "        vertical-align: middle;\n",
              "    }\n",
              "\n",
              "    .dataframe tbody tr th {\n",
              "        vertical-align: top;\n",
              "    }\n",
              "\n",
              "    .dataframe thead th {\n",
              "        text-align: right;\n",
              "    }\n",
              "</style>\n",
              "<table border=\"1\" class=\"dataframe\">\n",
              "  <thead>\n",
              "    <tr style=\"text-align: right;\">\n",
              "      <th></th>\n",
              "      <th>Positive</th>\n",
              "      <th>Negative</th>\n",
              "      <th>Anger</th>\n",
              "      <th>Anticipation</th>\n",
              "      <th>Disgust</th>\n",
              "      <th>Fear</th>\n",
              "      <th>Joy</th>\n",
              "      <th>Sadness</th>\n",
              "      <th>Surprise</th>\n",
              "      <th>Trust</th>\n",
              "    </tr>\n",
              "  </thead>\n",
              "  <tbody>\n",
              "    <tr>\n",
              "      <th>count</th>\n",
              "      <td>1000.000000</td>\n",
              "      <td>1000.000000</td>\n",
              "      <td>1000.000000</td>\n",
              "      <td>1000.000000</td>\n",
              "      <td>1000.000000</td>\n",
              "      <td>1000.000000</td>\n",
              "      <td>1000.00000</td>\n",
              "      <td>1000.000000</td>\n",
              "      <td>1000.000000</td>\n",
              "      <td>1000.000000</td>\n",
              "    </tr>\n",
              "    <tr>\n",
              "      <th>mean</th>\n",
              "      <td>3.056000</td>\n",
              "      <td>0.265000</td>\n",
              "      <td>0.129000</td>\n",
              "      <td>1.656000</td>\n",
              "      <td>0.103000</td>\n",
              "      <td>0.229000</td>\n",
              "      <td>2.58300</td>\n",
              "      <td>0.163000</td>\n",
              "      <td>0.455000</td>\n",
              "      <td>1.630000</td>\n",
              "    </tr>\n",
              "    <tr>\n",
              "      <th>std</th>\n",
              "      <td>1.776519</td>\n",
              "      <td>0.610859</td>\n",
              "      <td>0.390527</td>\n",
              "      <td>1.290476</td>\n",
              "      <td>0.332418</td>\n",
              "      <td>0.488669</td>\n",
              "      <td>1.65404</td>\n",
              "      <td>0.476086</td>\n",
              "      <td>0.703185</td>\n",
              "      <td>1.331493</td>\n",
              "    </tr>\n",
              "    <tr>\n",
              "      <th>min</th>\n",
              "      <td>0.000000</td>\n",
              "      <td>0.000000</td>\n",
              "      <td>0.000000</td>\n",
              "      <td>0.000000</td>\n",
              "      <td>0.000000</td>\n",
              "      <td>0.000000</td>\n",
              "      <td>0.00000</td>\n",
              "      <td>0.000000</td>\n",
              "      <td>0.000000</td>\n",
              "      <td>0.000000</td>\n",
              "    </tr>\n",
              "    <tr>\n",
              "      <th>25%</th>\n",
              "      <td>2.000000</td>\n",
              "      <td>0.000000</td>\n",
              "      <td>0.000000</td>\n",
              "      <td>1.000000</td>\n",
              "      <td>0.000000</td>\n",
              "      <td>0.000000</td>\n",
              "      <td>1.00000</td>\n",
              "      <td>0.000000</td>\n",
              "      <td>0.000000</td>\n",
              "      <td>1.000000</td>\n",
              "    </tr>\n",
              "    <tr>\n",
              "      <th>50%</th>\n",
              "      <td>3.000000</td>\n",
              "      <td>0.000000</td>\n",
              "      <td>0.000000</td>\n",
              "      <td>1.000000</td>\n",
              "      <td>0.000000</td>\n",
              "      <td>0.000000</td>\n",
              "      <td>3.00000</td>\n",
              "      <td>0.000000</td>\n",
              "      <td>0.000000</td>\n",
              "      <td>1.000000</td>\n",
              "    </tr>\n",
              "    <tr>\n",
              "      <th>75%</th>\n",
              "      <td>4.000000</td>\n",
              "      <td>0.000000</td>\n",
              "      <td>0.000000</td>\n",
              "      <td>2.250000</td>\n",
              "      <td>0.000000</td>\n",
              "      <td>0.000000</td>\n",
              "      <td>4.00000</td>\n",
              "      <td>0.000000</td>\n",
              "      <td>1.000000</td>\n",
              "      <td>3.000000</td>\n",
              "    </tr>\n",
              "    <tr>\n",
              "      <th>max</th>\n",
              "      <td>10.000000</td>\n",
              "      <td>5.000000</td>\n",
              "      <td>3.000000</td>\n",
              "      <td>8.000000</td>\n",
              "      <td>3.000000</td>\n",
              "      <td>4.000000</td>\n",
              "      <td>9.00000</td>\n",
              "      <td>4.000000</td>\n",
              "      <td>5.000000</td>\n",
              "      <td>7.000000</td>\n",
              "    </tr>\n",
              "  </tbody>\n",
              "</table>\n",
              "</div>"
            ],
            "text/plain": [
              "          Positive     Negative  ...     Surprise        Trust\n",
              "count  1000.000000  1000.000000  ...  1000.000000  1000.000000\n",
              "mean      3.056000     0.265000  ...     0.455000     1.630000\n",
              "std       1.776519     0.610859  ...     0.703185     1.331493\n",
              "min       0.000000     0.000000  ...     0.000000     0.000000\n",
              "25%       2.000000     0.000000  ...     0.000000     1.000000\n",
              "50%       3.000000     0.000000  ...     0.000000     1.000000\n",
              "75%       4.000000     0.000000  ...     1.000000     3.000000\n",
              "max      10.000000     5.000000  ...     5.000000     7.000000\n",
              "\n",
              "[8 rows x 10 columns]"
            ]
          },
          "metadata": {
            "tags": []
          },
          "execution_count": 18
        }
      ]
    },
    {
      "cell_type": "code",
      "metadata": {
        "id": "i7hXs3SOAe1S"
      },
      "source": [
        "tweet_df_2 = tweets.iloc[1001:,:] \n"
      ],
      "execution_count": 19,
      "outputs": []
    },
    {
      "cell_type": "code",
      "metadata": {
        "colab": {
          "base_uri": "https://localhost:8080/",
          "height": 118,
          "referenced_widgets": [
            "9a7ed21436db4c76bc97fefed756b709",
            "797f0024c92443ecb29c9071daaaae88",
            "607682da6a6e4e33a72bfb33cb892b25",
            "78e4848528cc4fd883c3e88ce2529ea3",
            "47d0b56834eb41cda219a1fc91ec3d86",
            "7b01a3e28d7e4d41ad62d335c08ef195",
            "fbc4cca447e048d4b15c3c04c7a7177a",
            "4791bdbbf95b4fef8226f5aa7bc37f49"
          ]
        },
        "id": "9f0h7E2mB20N",
        "outputId": "ba328e30-aae7-4f80-e5f4-6bfdebc46a19"
      },
      "source": [
        "final_df_2=tweet_emotion(tweet_df_2,'tweets')"
      ],
      "execution_count": 20,
      "outputs": [
        {
          "output_type": "stream",
          "text": [
            "/usr/local/lib/python3.7/dist-packages/ipykernel_launcher.py:8: TqdmDeprecationWarning: This function will be removed in tqdm==5.0.0\n",
            "Please use `tqdm.notebook.tqdm` instead of `tqdm.tqdm_notebook`\n",
            "  \n"
          ],
          "name": "stderr"
        },
        {
          "output_type": "display_data",
          "data": {
            "application/vnd.jupyter.widget-view+json": {
              "model_id": "9a7ed21436db4c76bc97fefed756b709",
              "version_minor": 0,
              "version_major": 2
            },
            "text/plain": [
              "HBox(children=(FloatProgress(value=0.0, max=904.0), HTML(value='')))"
            ]
          },
          "metadata": {
            "tags": []
          }
        },
        {
          "output_type": "stream",
          "text": [
            "\n"
          ],
          "name": "stdout"
        }
      ]
    },
    {
      "cell_type": "code",
      "metadata": {
        "colab": {
          "base_uri": "https://localhost:8080/",
          "height": 300
        },
        "id": "Wifv3v1BCRYj",
        "outputId": "00a804b1-271a-47d1-b026-45cace0a3366"
      },
      "source": [
        "final_df_2.describe()"
      ],
      "execution_count": 21,
      "outputs": [
        {
          "output_type": "execute_result",
          "data": {
            "text/html": [
              "<div>\n",
              "<style scoped>\n",
              "    .dataframe tbody tr th:only-of-type {\n",
              "        vertical-align: middle;\n",
              "    }\n",
              "\n",
              "    .dataframe tbody tr th {\n",
              "        vertical-align: top;\n",
              "    }\n",
              "\n",
              "    .dataframe thead th {\n",
              "        text-align: right;\n",
              "    }\n",
              "</style>\n",
              "<table border=\"1\" class=\"dataframe\">\n",
              "  <thead>\n",
              "    <tr style=\"text-align: right;\">\n",
              "      <th></th>\n",
              "      <th>Positive</th>\n",
              "      <th>Negative</th>\n",
              "      <th>Anger</th>\n",
              "      <th>Anticipation</th>\n",
              "      <th>Disgust</th>\n",
              "      <th>Fear</th>\n",
              "      <th>Joy</th>\n",
              "      <th>Sadness</th>\n",
              "      <th>Surprise</th>\n",
              "      <th>Trust</th>\n",
              "    </tr>\n",
              "  </thead>\n",
              "  <tbody>\n",
              "    <tr>\n",
              "      <th>count</th>\n",
              "      <td>904.000000</td>\n",
              "      <td>904.000000</td>\n",
              "      <td>904.000000</td>\n",
              "      <td>904.000000</td>\n",
              "      <td>904.000000</td>\n",
              "      <td>904.000000</td>\n",
              "      <td>904.000000</td>\n",
              "      <td>904.000000</td>\n",
              "      <td>904.000000</td>\n",
              "      <td>904.000000</td>\n",
              "    </tr>\n",
              "    <tr>\n",
              "      <th>mean</th>\n",
              "      <td>0.546460</td>\n",
              "      <td>1.597345</td>\n",
              "      <td>0.477876</td>\n",
              "      <td>0.533186</td>\n",
              "      <td>0.146018</td>\n",
              "      <td>0.672566</td>\n",
              "      <td>0.196903</td>\n",
              "      <td>1.284292</td>\n",
              "      <td>0.118363</td>\n",
              "      <td>0.383850</td>\n",
              "    </tr>\n",
              "    <tr>\n",
              "      <th>std</th>\n",
              "      <td>0.760347</td>\n",
              "      <td>1.152509</td>\n",
              "      <td>0.666853</td>\n",
              "      <td>0.708284</td>\n",
              "      <td>0.394769</td>\n",
              "      <td>0.888639</td>\n",
              "      <td>0.459851</td>\n",
              "      <td>0.941205</td>\n",
              "      <td>0.349553</td>\n",
              "      <td>0.641672</td>\n",
              "    </tr>\n",
              "    <tr>\n",
              "      <th>min</th>\n",
              "      <td>0.000000</td>\n",
              "      <td>0.000000</td>\n",
              "      <td>0.000000</td>\n",
              "      <td>0.000000</td>\n",
              "      <td>0.000000</td>\n",
              "      <td>0.000000</td>\n",
              "      <td>0.000000</td>\n",
              "      <td>0.000000</td>\n",
              "      <td>0.000000</td>\n",
              "      <td>0.000000</td>\n",
              "    </tr>\n",
              "    <tr>\n",
              "      <th>25%</th>\n",
              "      <td>0.000000</td>\n",
              "      <td>1.000000</td>\n",
              "      <td>0.000000</td>\n",
              "      <td>0.000000</td>\n",
              "      <td>0.000000</td>\n",
              "      <td>0.000000</td>\n",
              "      <td>0.000000</td>\n",
              "      <td>1.000000</td>\n",
              "      <td>0.000000</td>\n",
              "      <td>0.000000</td>\n",
              "    </tr>\n",
              "    <tr>\n",
              "      <th>50%</th>\n",
              "      <td>0.000000</td>\n",
              "      <td>1.000000</td>\n",
              "      <td>0.000000</td>\n",
              "      <td>0.000000</td>\n",
              "      <td>0.000000</td>\n",
              "      <td>0.000000</td>\n",
              "      <td>0.000000</td>\n",
              "      <td>1.000000</td>\n",
              "      <td>0.000000</td>\n",
              "      <td>0.000000</td>\n",
              "    </tr>\n",
              "    <tr>\n",
              "      <th>75%</th>\n",
              "      <td>1.000000</td>\n",
              "      <td>2.000000</td>\n",
              "      <td>1.000000</td>\n",
              "      <td>1.000000</td>\n",
              "      <td>0.000000</td>\n",
              "      <td>1.000000</td>\n",
              "      <td>0.000000</td>\n",
              "      <td>2.000000</td>\n",
              "      <td>0.000000</td>\n",
              "      <td>1.000000</td>\n",
              "    </tr>\n",
              "    <tr>\n",
              "      <th>max</th>\n",
              "      <td>5.000000</td>\n",
              "      <td>6.000000</td>\n",
              "      <td>4.000000</td>\n",
              "      <td>4.000000</td>\n",
              "      <td>3.000000</td>\n",
              "      <td>5.000000</td>\n",
              "      <td>4.000000</td>\n",
              "      <td>5.000000</td>\n",
              "      <td>2.000000</td>\n",
              "      <td>4.000000</td>\n",
              "    </tr>\n",
              "  </tbody>\n",
              "</table>\n",
              "</div>"
            ],
            "text/plain": [
              "         Positive    Negative       Anger  ...     Sadness    Surprise       Trust\n",
              "count  904.000000  904.000000  904.000000  ...  904.000000  904.000000  904.000000\n",
              "mean     0.546460    1.597345    0.477876  ...    1.284292    0.118363    0.383850\n",
              "std      0.760347    1.152509    0.666853  ...    0.941205    0.349553    0.641672\n",
              "min      0.000000    0.000000    0.000000  ...    0.000000    0.000000    0.000000\n",
              "25%      0.000000    1.000000    0.000000  ...    1.000000    0.000000    0.000000\n",
              "50%      0.000000    1.000000    0.000000  ...    1.000000    0.000000    0.000000\n",
              "75%      1.000000    2.000000    1.000000  ...    2.000000    0.000000    1.000000\n",
              "max      5.000000    6.000000    4.000000  ...    5.000000    2.000000    4.000000\n",
              "\n",
              "[8 rows x 10 columns]"
            ]
          },
          "metadata": {
            "tags": []
          },
          "execution_count": 21
        }
      ]
    },
    {
      "cell_type": "code",
      "metadata": {
        "id": "9iFUHGU7ClC2"
      },
      "source": [
        "tweet_emotions_df2=final_df.append(final_df_2, ignore_index=True, sort=False)"
      ],
      "execution_count": 23,
      "outputs": []
    },
    {
      "cell_type": "code",
      "metadata": {
        "colab": {
          "base_uri": "https://localhost:8080/"
        },
        "id": "9otdLj21DN3x",
        "outputId": "d7656773-e85c-4bfc-c225-2aabefd634f4"
      },
      "source": [
        "tweet_emotions_df.info()"
      ],
      "execution_count": 24,
      "outputs": [
        {
          "output_type": "stream",
          "text": [
            "<class 'pandas.core.frame.DataFrame'>\n",
            "RangeIndex: 1904 entries, 0 to 1903\n",
            "Data columns (total 14 columns):\n",
            " #   Column        Non-Null Count  Dtype \n",
            "---  ------        --------------  ----- \n",
            " 0   user          1904 non-null   object\n",
            " 1   location      1375 non-null   object\n",
            " 2   text          1904 non-null   object\n",
            " 3   tweets        1904 non-null   object\n",
            " 4   Positive      1904 non-null   int64 \n",
            " 5   Negative      1904 non-null   int64 \n",
            " 6   Anger         1904 non-null   int64 \n",
            " 7   Anticipation  1904 non-null   int64 \n",
            " 8   Disgust       1904 non-null   int64 \n",
            " 9   Fear          1904 non-null   int64 \n",
            " 10  Joy           1904 non-null   int64 \n",
            " 11  Sadness       1904 non-null   int64 \n",
            " 12  Surprise      1904 non-null   int64 \n",
            " 13  Trust         1904 non-null   int64 \n",
            "dtypes: int64(10), object(4)\n",
            "memory usage: 208.4+ KB\n"
          ],
          "name": "stdout"
        }
      ]
    },
    {
      "cell_type": "code",
      "metadata": {
        "id": "N7nL3b39Da8_"
      },
      "source": [
        "tweet_emotions_df.to_csv('tweet_emotion_scores2.csv')"
      ],
      "execution_count": 25,
      "outputs": []
    },
    {
      "cell_type": "code",
      "metadata": {
        "id": "7lvL9FFSHs1d"
      },
      "source": [
        "data=pd.read_csv('/content/tweet_emotion_scores2.csv')"
      ],
      "execution_count": 26,
      "outputs": []
    },
    {
      "cell_type": "code",
      "metadata": {
        "id": "vv4uH5nnHrsJ",
        "colab": {
          "base_uri": "https://localhost:8080/",
          "height": 310
        },
        "outputId": "5303ed8e-5129-425d-d6a8-f7b3908a079f"
      },
      "source": [
        "data.head()"
      ],
      "execution_count": 27,
      "outputs": [
        {
          "output_type": "execute_result",
          "data": {
            "text/html": [
              "<div>\n",
              "<style scoped>\n",
              "    .dataframe tbody tr th:only-of-type {\n",
              "        vertical-align: middle;\n",
              "    }\n",
              "\n",
              "    .dataframe tbody tr th {\n",
              "        vertical-align: top;\n",
              "    }\n",
              "\n",
              "    .dataframe thead th {\n",
              "        text-align: right;\n",
              "    }\n",
              "</style>\n",
              "<table border=\"1\" class=\"dataframe\">\n",
              "  <thead>\n",
              "    <tr style=\"text-align: right;\">\n",
              "      <th></th>\n",
              "      <th>Unnamed: 0</th>\n",
              "      <th>user</th>\n",
              "      <th>location</th>\n",
              "      <th>text</th>\n",
              "      <th>tweets</th>\n",
              "      <th>Positive</th>\n",
              "      <th>Negative</th>\n",
              "      <th>Anger</th>\n",
              "      <th>Anticipation</th>\n",
              "      <th>Disgust</th>\n",
              "      <th>Fear</th>\n",
              "      <th>Joy</th>\n",
              "      <th>Sadness</th>\n",
              "      <th>Surprise</th>\n",
              "      <th>Trust</th>\n",
              "    </tr>\n",
              "  </thead>\n",
              "  <tbody>\n",
              "    <tr>\n",
              "      <th>0</th>\n",
              "      <td>0</td>\n",
              "      <td>AmirahStyles_</td>\n",
              "      <td>Las Vegas , NV</td>\n",
              "      <td>I love my family. I love my life. \\nHappiness.</td>\n",
              "      <td>i love my family  i love my life  happiness</td>\n",
              "      <td>3</td>\n",
              "      <td>0</td>\n",
              "      <td>0</td>\n",
              "      <td>1</td>\n",
              "      <td>0</td>\n",
              "      <td>0</td>\n",
              "      <td>3</td>\n",
              "      <td>0</td>\n",
              "      <td>0</td>\n",
              "      <td>0</td>\n",
              "    </tr>\n",
              "    <tr>\n",
              "      <th>1</th>\n",
              "      <td>1</td>\n",
              "      <td>seejhay_</td>\n",
              "      <td>I couldn't care less</td>\n",
              "      <td>\"HoMOSexUal wILl nOT iNhEriT tHE kiNGdom Of gO...</td>\n",
              "      <td>homosexual will not inherit the kingdom of go...</td>\n",
              "      <td>1</td>\n",
              "      <td>0</td>\n",
              "      <td>0</td>\n",
              "      <td>1</td>\n",
              "      <td>0</td>\n",
              "      <td>1</td>\n",
              "      <td>1</td>\n",
              "      <td>0</td>\n",
              "      <td>1</td>\n",
              "      <td>1</td>\n",
              "    </tr>\n",
              "    <tr>\n",
              "      <th>2</th>\n",
              "      <td>2</td>\n",
              "      <td>AKpuresoul</td>\n",
              "      <td>NaN</td>\n",
              "      <td>We r here to shower our unconditional love \\nN...</td>\n",
              "      <td>we r here to shower our unconditional love n w...</td>\n",
              "      <td>1</td>\n",
              "      <td>0</td>\n",
              "      <td>0</td>\n",
              "      <td>0</td>\n",
              "      <td>0</td>\n",
              "      <td>0</td>\n",
              "      <td>1</td>\n",
              "      <td>0</td>\n",
              "      <td>0</td>\n",
              "      <td>0</td>\n",
              "    </tr>\n",
              "    <tr>\n",
              "      <th>3</th>\n",
              "      <td>3</td>\n",
              "      <td>_itspjmluv</td>\n",
              "      <td>방탄소년단 ‹3</td>\n",
              "      <td>you are and always be my happiness and my fami...</td>\n",
              "      <td>you are and always be my happiness and my fami...</td>\n",
              "      <td>2</td>\n",
              "      <td>0</td>\n",
              "      <td>0</td>\n",
              "      <td>1</td>\n",
              "      <td>0</td>\n",
              "      <td>0</td>\n",
              "      <td>2</td>\n",
              "      <td>0</td>\n",
              "      <td>0</td>\n",
              "      <td>0</td>\n",
              "    </tr>\n",
              "    <tr>\n",
              "      <th>4</th>\n",
              "      <td>4</td>\n",
              "      <td>Smile57383709</td>\n",
              "      <td>NaN</td>\n",
              "      <td>Praying the Almighty God showers you with good...</td>\n",
              "      <td>praying the almighty god shower you with good ...</td>\n",
              "      <td>8</td>\n",
              "      <td>0</td>\n",
              "      <td>0</td>\n",
              "      <td>6</td>\n",
              "      <td>0</td>\n",
              "      <td>1</td>\n",
              "      <td>6</td>\n",
              "      <td>0</td>\n",
              "      <td>1</td>\n",
              "      <td>4</td>\n",
              "    </tr>\n",
              "  </tbody>\n",
              "</table>\n",
              "</div>"
            ],
            "text/plain": [
              "   Unnamed: 0           user              location  ... Sadness Surprise  Trust\n",
              "0           0  AmirahStyles_        Las Vegas , NV  ...       0        0      0\n",
              "1           1       seejhay_  I couldn't care less  ...       0        1      1\n",
              "2           2     AKpuresoul                   NaN  ...       0        0      0\n",
              "3           3     _itspjmluv              방탄소년단 ‹3  ...       0        0      0\n",
              "4           4  Smile57383709                   NaN  ...       0        1      4\n",
              "\n",
              "[5 rows x 15 columns]"
            ]
          },
          "metadata": {
            "tags": []
          },
          "execution_count": 27
        }
      ]
    },
    {
      "cell_type": "code",
      "metadata": {
        "colab": {
          "base_uri": "https://localhost:8080/",
          "height": 206
        },
        "id": "fQH_iGcuh54M",
        "outputId": "a37e8830-d550-4b91-8c63-6343f7b2a1ce"
      },
      "source": [
        "del data['Unnamed: 0']\n",
        "del data['user']\n",
        "del data['location']\n",
        "del data['text']\n",
        "data.head()"
      ],
      "execution_count": 28,
      "outputs": [
        {
          "output_type": "execute_result",
          "data": {
            "text/html": [
              "<div>\n",
              "<style scoped>\n",
              "    .dataframe tbody tr th:only-of-type {\n",
              "        vertical-align: middle;\n",
              "    }\n",
              "\n",
              "    .dataframe tbody tr th {\n",
              "        vertical-align: top;\n",
              "    }\n",
              "\n",
              "    .dataframe thead th {\n",
              "        text-align: right;\n",
              "    }\n",
              "</style>\n",
              "<table border=\"1\" class=\"dataframe\">\n",
              "  <thead>\n",
              "    <tr style=\"text-align: right;\">\n",
              "      <th></th>\n",
              "      <th>tweets</th>\n",
              "      <th>Positive</th>\n",
              "      <th>Negative</th>\n",
              "      <th>Anger</th>\n",
              "      <th>Anticipation</th>\n",
              "      <th>Disgust</th>\n",
              "      <th>Fear</th>\n",
              "      <th>Joy</th>\n",
              "      <th>Sadness</th>\n",
              "      <th>Surprise</th>\n",
              "      <th>Trust</th>\n",
              "    </tr>\n",
              "  </thead>\n",
              "  <tbody>\n",
              "    <tr>\n",
              "      <th>0</th>\n",
              "      <td>i love my family  i love my life  happiness</td>\n",
              "      <td>3</td>\n",
              "      <td>0</td>\n",
              "      <td>0</td>\n",
              "      <td>1</td>\n",
              "      <td>0</td>\n",
              "      <td>0</td>\n",
              "      <td>3</td>\n",
              "      <td>0</td>\n",
              "      <td>0</td>\n",
              "      <td>0</td>\n",
              "    </tr>\n",
              "    <tr>\n",
              "      <th>1</th>\n",
              "      <td>homosexual will not inherit the kingdom of go...</td>\n",
              "      <td>1</td>\n",
              "      <td>0</td>\n",
              "      <td>0</td>\n",
              "      <td>1</td>\n",
              "      <td>0</td>\n",
              "      <td>1</td>\n",
              "      <td>1</td>\n",
              "      <td>0</td>\n",
              "      <td>1</td>\n",
              "      <td>1</td>\n",
              "    </tr>\n",
              "    <tr>\n",
              "      <th>2</th>\n",
              "      <td>we r here to shower our unconditional love n w...</td>\n",
              "      <td>1</td>\n",
              "      <td>0</td>\n",
              "      <td>0</td>\n",
              "      <td>0</td>\n",
              "      <td>0</td>\n",
              "      <td>0</td>\n",
              "      <td>1</td>\n",
              "      <td>0</td>\n",
              "      <td>0</td>\n",
              "      <td>0</td>\n",
              "    </tr>\n",
              "    <tr>\n",
              "      <th>3</th>\n",
              "      <td>you are and always be my happiness and my fami...</td>\n",
              "      <td>2</td>\n",
              "      <td>0</td>\n",
              "      <td>0</td>\n",
              "      <td>1</td>\n",
              "      <td>0</td>\n",
              "      <td>0</td>\n",
              "      <td>2</td>\n",
              "      <td>0</td>\n",
              "      <td>0</td>\n",
              "      <td>0</td>\n",
              "    </tr>\n",
              "    <tr>\n",
              "      <th>4</th>\n",
              "      <td>praying the almighty god shower you with good ...</td>\n",
              "      <td>8</td>\n",
              "      <td>0</td>\n",
              "      <td>0</td>\n",
              "      <td>6</td>\n",
              "      <td>0</td>\n",
              "      <td>1</td>\n",
              "      <td>6</td>\n",
              "      <td>0</td>\n",
              "      <td>1</td>\n",
              "      <td>4</td>\n",
              "    </tr>\n",
              "  </tbody>\n",
              "</table>\n",
              "</div>"
            ],
            "text/plain": [
              "                                              tweets  Positive  ...  Surprise  Trust\n",
              "0       i love my family  i love my life  happiness          3  ...         0      0\n",
              "1   homosexual will not inherit the kingdom of go...         1  ...         1      1\n",
              "2  we r here to shower our unconditional love n w...         1  ...         0      0\n",
              "3  you are and always be my happiness and my fami...         2  ...         0      0\n",
              "4  praying the almighty god shower you with good ...         8  ...         1      4\n",
              "\n",
              "[5 rows x 11 columns]"
            ]
          },
          "metadata": {
            "tags": []
          },
          "execution_count": 28
        }
      ]
    },
    {
      "cell_type": "code",
      "metadata": {
        "colab": {
          "base_uri": "https://localhost:8080/"
        },
        "id": "PJyHr36Sn5VW",
        "outputId": "296dcf7c-388c-4b08-e340-c9091ad8a95d"
      },
      "source": [
        "tweets=data['tweets'].values\n",
        "print(len(tweets))\n",
        "from afinn import Afinn\n",
        "afinn = Afinn(language='en')\n",
        "data['afinn_score'] = data['tweets'].apply(afinn.score)\n",
        "data['afinn_score'].describe()\n"
      ],
      "execution_count": 29,
      "outputs": [
        {
          "output_type": "stream",
          "text": [
            "1904\n"
          ],
          "name": "stdout"
        },
        {
          "output_type": "execute_result",
          "data": {
            "text/plain": [
              "count    1904.000000\n",
              "mean        3.226366\n",
              "std         5.541865\n",
              "min       -17.000000\n",
              "25%        -0.250000\n",
              "50%         2.000000\n",
              "75%         7.000000\n",
              "max        20.000000\n",
              "Name: afinn_score, dtype: float64"
            ]
          },
          "metadata": {
            "tags": []
          },
          "execution_count": 29
        }
      ]
    },
    {
      "cell_type": "code",
      "metadata": {
        "id": "_03ASu1UflwV"
      },
      "source": [
        "from vaderSentiment.vaderSentiment import SentimentIntensityAnalyzer \n",
        "sia = SentimentIntensityAnalyzer() \n",
        "\n",
        "vader_negative=[]\n",
        "vader_positive=[]\n",
        "vader_neutral=[]\n",
        "\n",
        "for tweet in tweets:  \n",
        "    sentiment_dict = sia.polarity_scores(tweet)\n",
        "    vader_negative.append(sentiment_dict['neg'])\n",
        "    vader_positive.append(sentiment_dict['pos'])\n",
        "    vader_neutral.append(sentiment_dict['neu'])\n",
        " "
      ],
      "execution_count": 30,
      "outputs": []
    },
    {
      "cell_type": "code",
      "metadata": {
        "id": "kFyyQTQclfKb",
        "colab": {
          "base_uri": "https://localhost:8080/",
          "height": 233
        },
        "outputId": "1b97e940-688c-4085-a2c1-f8fb9b54d807"
      },
      "source": [
        "data['positive_vader']=vader_positive\n",
        "data['negative_vader']=vader_negative\n",
        "data['neutral_vader']=vader_neutral\n",
        "data.head(2)"
      ],
      "execution_count": 40,
      "outputs": [
        {
          "output_type": "execute_result",
          "data": {
            "text/html": [
              "<div>\n",
              "<style scoped>\n",
              "    .dataframe tbody tr th:only-of-type {\n",
              "        vertical-align: middle;\n",
              "    }\n",
              "\n",
              "    .dataframe tbody tr th {\n",
              "        vertical-align: top;\n",
              "    }\n",
              "\n",
              "    .dataframe thead th {\n",
              "        text-align: right;\n",
              "    }\n",
              "</style>\n",
              "<table border=\"1\" class=\"dataframe\">\n",
              "  <thead>\n",
              "    <tr style=\"text-align: right;\">\n",
              "      <th></th>\n",
              "      <th>tweets</th>\n",
              "      <th>Positive</th>\n",
              "      <th>Negative</th>\n",
              "      <th>Anger</th>\n",
              "      <th>Anticipation</th>\n",
              "      <th>Disgust</th>\n",
              "      <th>Fear</th>\n",
              "      <th>Joy</th>\n",
              "      <th>Sadness</th>\n",
              "      <th>Surprise</th>\n",
              "      <th>Trust</th>\n",
              "      <th>afinn_score</th>\n",
              "      <th>positive_vader</th>\n",
              "      <th>negative_vader</th>\n",
              "      <th>neutral_vader</th>\n",
              "      <th>emotion_score</th>\n",
              "      <th>labels</th>\n",
              "    </tr>\n",
              "  </thead>\n",
              "  <tbody>\n",
              "    <tr>\n",
              "      <th>0</th>\n",
              "      <td>i love my family  i love my life  happiness</td>\n",
              "      <td>3</td>\n",
              "      <td>0</td>\n",
              "      <td>0</td>\n",
              "      <td>1</td>\n",
              "      <td>0</td>\n",
              "      <td>0</td>\n",
              "      <td>3</td>\n",
              "      <td>0</td>\n",
              "      <td>0</td>\n",
              "      <td>0</td>\n",
              "      <td>9.0</td>\n",
              "      <td>0.667</td>\n",
              "      <td>0.0</td>\n",
              "      <td>0.333</td>\n",
              "      <td>0.059540</td>\n",
              "      <td>1</td>\n",
              "    </tr>\n",
              "    <tr>\n",
              "      <th>1</th>\n",
              "      <td>homosexual will not inherit the kingdom of go...</td>\n",
              "      <td>1</td>\n",
              "      <td>0</td>\n",
              "      <td>0</td>\n",
              "      <td>1</td>\n",
              "      <td>0</td>\n",
              "      <td>1</td>\n",
              "      <td>1</td>\n",
              "      <td>0</td>\n",
              "      <td>1</td>\n",
              "      <td>1</td>\n",
              "      <td>1.0</td>\n",
              "      <td>0.104</td>\n",
              "      <td>0.0</td>\n",
              "      <td>0.896</td>\n",
              "      <td>0.071237</td>\n",
              "      <td>1</td>\n",
              "    </tr>\n",
              "  </tbody>\n",
              "</table>\n",
              "</div>"
            ],
            "text/plain": [
              "                                              tweets  ...  labels\n",
              "0       i love my family  i love my life  happiness   ...       1\n",
              "1   homosexual will not inherit the kingdom of go...  ...       1\n",
              "\n",
              "[2 rows x 17 columns]"
            ]
          },
          "metadata": {
            "tags": []
          },
          "execution_count": 40
        }
      ]
    },
    {
      "cell_type": "code",
      "metadata": {
        "id": "v-0OotETs74S",
        "colab": {
          "base_uri": "https://localhost:8080/"
        },
        "outputId": "3c031ef4-ed66-4b41-e1b7-cf0c45fe5466"
      },
      "source": [
        "import numpy as np \n",
        "# Original array \n",
        "array = np.arange(5) \n",
        "print(array) \n",
        "\n",
        "weights = np.arange(10, 15) \n",
        "print(weights) \n",
        "\n",
        "# Weighted average of the given array \n",
        "res1 = np.average(array, weights=weights) \n",
        "print(res1) \n",
        "\n",
        "np.dot(array,weights)"
      ],
      "execution_count": 41,
      "outputs": [
        {
          "output_type": "stream",
          "text": [
            "[0 1 2 3 4]\n",
            "[10 11 12 13 14]\n",
            "2.1666666666666665\n"
          ],
          "name": "stdout"
        },
        {
          "output_type": "execute_result",
          "data": {
            "text/plain": [
              "130"
            ]
          },
          "metadata": {
            "tags": []
          },
          "execution_count": 41
        }
      ]
    },
    {
      "cell_type": "code",
      "metadata": {
        "colab": {
          "base_uri": "https://localhost:8080/"
        },
        "id": "Mwk6N4qG6Hoc",
        "outputId": "98ea47ef-08a6-4e91-9372-94dbc336af09"
      },
      "source": [
        "from numpy import average\n",
        "\n",
        "weight_list=[1,5,24.28,5.71,15,9.28,0.71,39.28,3.57,2.14,1,1,5,2.5]\n",
        "weight_list= [float(item) for item in weight_list]\n",
        "\n",
        "\n",
        "avg_emotions=[]\n",
        "for s in range(len(tweets)):\n",
        "    song=data.iloc[s,1:15].values\n",
        "    final_val = np.dot(song,weight_list)\n",
        "    avg_emotions.append(final_val)\n",
        "\n",
        "data['depression_score']=avg_emotions\n",
        "data['depression_score'].describe()\n"
      ],
      "execution_count": 47,
      "outputs": [
        {
          "output_type": "execute_result",
          "data": {
            "text/plain": [
              "count    1904.000000\n",
              "mean       63.106308\n",
              "std        55.414191\n",
              "min        -1.132500\n",
              "25%        24.183125\n",
              "50%        47.982500\n",
              "75%        88.028375\n",
              "max       376.292500\n",
              "Name: depression_score, dtype: float64"
            ]
          },
          "metadata": {
            "tags": []
          },
          "execution_count": 47
        }
      ]
    },
    {
      "cell_type": "code",
      "metadata": {
        "colab": {
          "base_uri": "https://localhost:8080/"
        },
        "id": "gppUeLa4Kd1V",
        "outputId": "dc1f0be0-c69d-49ba-8b02-e59020527d8c"
      },
      "source": [
        "from sklearn.preprocessing import MinMaxScaler\n",
        "scaler = MinMaxScaler()\n",
        "scaled = scaler.fit_transform(data[['emotion_score']])\n",
        "data['emotion_score']=scaled\n",
        "data['emotion_score'].describe()\n"
      ],
      "execution_count": 43,
      "outputs": [
        {
          "output_type": "execute_result",
          "data": {
            "text/plain": [
              "count    1904.000000\n",
              "mean        0.271053\n",
              "std         0.153578\n",
              "min         0.000000\n",
              "25%         0.150024\n",
              "50%         0.224851\n",
              "75%         0.368202\n",
              "max         1.000000\n",
              "Name: emotion_score, dtype: float64"
            ]
          },
          "metadata": {
            "tags": []
          },
          "execution_count": 43
        }
      ]
    },
    {
      "cell_type": "code",
      "metadata": {
        "colab": {
          "base_uri": "https://localhost:8080/"
        },
        "id": "3HFD7BapNaF0",
        "outputId": "76282563-05a6-4d24-ed36-c77b0af19431"
      },
      "source": [
        "emotion_scores=data['emotion_score'].values\n",
        "emo_labels=[]\n",
        "for x in range(len(emotion_scores)):\n",
        "    score = emotion_scores[x]\n",
        "    if score <= 0.2:\n",
        "        label=\"1\"\n",
        "    elif score <= 0.4:\n",
        "        label=\"2\"\n",
        "    elif score <= 0.6:\n",
        "        label=\"3\"\n",
        "    elif score <= 0.8:\n",
        "        label=\"4\"\n",
        "    else:\n",
        "        label =\"5\"\n",
        "    \n",
        "    emo_labels.append(label)\n",
        "\n",
        "data['labels']=emo_labels\n",
        "data['labels'].describe()\n"
      ],
      "execution_count": null,
      "outputs": [
        {
          "output_type": "execute_result",
          "data": {
            "text/plain": [
              "count     1999\n",
              "unique       5\n",
              "top          1\n",
              "freq      1231\n",
              "Name: labels, dtype: object"
            ]
          },
          "metadata": {
            "tags": []
          },
          "execution_count": 45
        }
      ]
    },
    {
      "cell_type": "code",
      "metadata": {
        "id": "ZRP-D6XOub3H"
      },
      "source": [
        "import pandas as pd\n",
        "MH_data=pd.read_csv('/content/Mental_health.csv')"
      ],
      "execution_count": null,
      "outputs": []
    },
    {
      "cell_type": "code",
      "metadata": {
        "colab": {
          "base_uri": "https://localhost:8080/"
        },
        "id": "RRijmAslviUO",
        "outputId": "def305a9-039d-418d-ea0b-a3d2d34c03be"
      },
      "source": [
        "emotion_scores=data['emotion_score'].values\n",
        "emo_labels_2=[]\n",
        "for x in range(len(emotion_scores)):\n",
        "    score = emotion_scores[x]\n",
        "    if score <= 0.5:\n",
        "        label = 1\n",
        "    else:\n",
        "        label = 2\n",
        "    \n",
        "    emo_labels_2.append(label)\n",
        "\n",
        "data['labels']=emo_labels_2\n",
        "data['labels'].describe()\n"
      ],
      "execution_count": 37,
      "outputs": [
        {
          "output_type": "execute_result",
          "data": {
            "text/plain": [
              "count    1904.000000\n",
              "mean        1.032038\n",
              "std         0.176147\n",
              "min         1.000000\n",
              "25%         1.000000\n",
              "50%         1.000000\n",
              "75%         1.000000\n",
              "max         2.000000\n",
              "Name: labels, dtype: float64"
            ]
          },
          "metadata": {
            "tags": []
          },
          "execution_count": 37
        }
      ]
    },
    {
      "cell_type": "code",
      "metadata": {
        "colab": {
          "base_uri": "https://localhost:8080/",
          "height": 481
        },
        "id": "Go-8HUHmTYM7",
        "outputId": "b65695f3-58db-40b8-de50-0067f58fcd66"
      },
      "source": [
        "data['labels'].value_counts().plot(kind='barh')\n",
        "data.head(2)\n"
      ],
      "execution_count": 39,
      "outputs": [
        {
          "output_type": "execute_result",
          "data": {
            "text/html": [
              "<div>\n",
              "<style scoped>\n",
              "    .dataframe tbody tr th:only-of-type {\n",
              "        vertical-align: middle;\n",
              "    }\n",
              "\n",
              "    .dataframe tbody tr th {\n",
              "        vertical-align: top;\n",
              "    }\n",
              "\n",
              "    .dataframe thead th {\n",
              "        text-align: right;\n",
              "    }\n",
              "</style>\n",
              "<table border=\"1\" class=\"dataframe\">\n",
              "  <thead>\n",
              "    <tr style=\"text-align: right;\">\n",
              "      <th></th>\n",
              "      <th>tweets</th>\n",
              "      <th>Positive</th>\n",
              "      <th>Negative</th>\n",
              "      <th>Anger</th>\n",
              "      <th>Anticipation</th>\n",
              "      <th>Disgust</th>\n",
              "      <th>Fear</th>\n",
              "      <th>Joy</th>\n",
              "      <th>Sadness</th>\n",
              "      <th>Surprise</th>\n",
              "      <th>Trust</th>\n",
              "      <th>afinn_score</th>\n",
              "      <th>positive_vader</th>\n",
              "      <th>negative_vader</th>\n",
              "      <th>neutral_vader</th>\n",
              "      <th>emotion_score</th>\n",
              "      <th>labels</th>\n",
              "    </tr>\n",
              "  </thead>\n",
              "  <tbody>\n",
              "    <tr>\n",
              "      <th>0</th>\n",
              "      <td>i love my family  i love my life  happiness</td>\n",
              "      <td>3</td>\n",
              "      <td>0</td>\n",
              "      <td>0</td>\n",
              "      <td>1</td>\n",
              "      <td>0</td>\n",
              "      <td>0</td>\n",
              "      <td>3</td>\n",
              "      <td>0</td>\n",
              "      <td>0</td>\n",
              "      <td>0</td>\n",
              "      <td>9.0</td>\n",
              "      <td>0.667</td>\n",
              "      <td>0.0</td>\n",
              "      <td>0.333</td>\n",
              "      <td>0.059540</td>\n",
              "      <td>1</td>\n",
              "    </tr>\n",
              "    <tr>\n",
              "      <th>1</th>\n",
              "      <td>homosexual will not inherit the kingdom of go...</td>\n",
              "      <td>1</td>\n",
              "      <td>0</td>\n",
              "      <td>0</td>\n",
              "      <td>1</td>\n",
              "      <td>0</td>\n",
              "      <td>1</td>\n",
              "      <td>1</td>\n",
              "      <td>0</td>\n",
              "      <td>1</td>\n",
              "      <td>1</td>\n",
              "      <td>1.0</td>\n",
              "      <td>0.104</td>\n",
              "      <td>0.0</td>\n",
              "      <td>0.896</td>\n",
              "      <td>0.071237</td>\n",
              "      <td>1</td>\n",
              "    </tr>\n",
              "  </tbody>\n",
              "</table>\n",
              "</div>"
            ],
            "text/plain": [
              "                                              tweets  ...  labels\n",
              "0       i love my family  i love my life  happiness   ...       1\n",
              "1   homosexual will not inherit the kingdom of go...  ...       1\n",
              "\n",
              "[2 rows x 17 columns]"
            ]
          },
          "metadata": {
            "tags": []
          },
          "execution_count": 39
        },
        {
          "output_type": "display_data",
          "data": {
            "image/png": "[encoded data removed]",
            "text/plain": [
              "<Figure size 432x288 with 1 Axes>"
            ]
          },
          "metadata": {
            "tags": [],
            "needs_background": "light"
          }
        }
      ]
    },
    {
      "cell_type": "code",
      "metadata": {
        "id": "a6gdRKV6TslR"
      },
      "source": [
        "data.to_csv('Mental_health.csv')"
      ],
      "execution_count": null,
      "outputs": []
    }
  ]
}