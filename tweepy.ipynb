{
  "nbformat": 4,
  "nbformat_minor": 0,
  "metadata": {
    "colab": {
      "name": "tweepy.ipynb",
      "provenance": [],
      "collapsed_sections": [],
      "authorship_tag": "ABX9TyOtXkZc1wvPzH3zgGT+kI+5",
      "include_colab_link": true
    },
    "kernelspec": {
      "name": "python3",
      "display_name": "Python 3"
    }
  },
  "cells": [
    {
      "cell_type": "markdown",
      "metadata": {
        "id": "view-in-github",
        "colab_type": "text"
      },
      "source": [
        "<a href=\"https://colab.research.google.com/github/Gail529/Mental-health/blob/main/tweepy.ipynb\" target=\"_parent\"><img src=\"https://colab.research.google.com/assets/colab-badge.svg\" alt=\"Open In Colab\"/></a>"
      ]
    },
    {
      "cell_type": "code",
      "metadata": {
        "id": "z6fzp4e5gd43",
        "colab": {
          "base_uri": "https://localhost:8080/"
        },
        "outputId": "185b102c-c54a-4b38-b1fe-dfda79710c56"
      },
      "source": [
        "import os\n",
        "import tweepy as tw\n",
        "import pandas as pd\n",
        "\n",
        "\n",
        "#tweet preprocessing \n",
        "import nltk\n",
        "nltk.download('punkt')\n",
        "nltk.download('stopwords')\n",
        "nltk.download('wordnet')\n",
        "import string\n",
        "import re\n",
        "from nltk.tokenize import word_tokenize,sent_tokenize,TweetTokenizer\n",
        "from nltk.stem import WordNetLemmatizer\n",
        "from nltk.corpus import stopwords\n",
        "from nltk.stem import PorterStemmer\n",
        " \n"
      ],
      "execution_count": 13,
      "outputs": [
        {
          "output_type": "stream",
          "text": [
            "[nltk_data] Downloading package punkt to /root/nltk_data...\n",
            "[nltk_data]   Package punkt is already up-to-date!\n",
            "[nltk_data] Downloading package stopwords to /root/nltk_data...\n",
            "[nltk_data]   Package stopwords is already up-to-date!\n",
            "[nltk_data] Downloading package wordnet to /root/nltk_data...\n",
            "[nltk_data]   Package wordnet is already up-to-date!\n"
          ],
          "name": "stdout"
        }
      ]
    },
    {
      "cell_type": "code",
      "metadata": {
        "id": "gLb_WyU1gkiq"
      },
      "source": [
        "ACCESS_TOKEN=\"1118886346054090753-Vfsmdr6V8bKfKZS0uztpSzM3XR8LX0\"\n",
        "ACCESS_SECRET=\"8nyqL6bXe5yNd7kph55abUaaXn7qkEncrXxyi2ZcmOQPi\"\n",
        "CONSUMER_KEY=\"LpqLxpB3zzC8VZ3xPUmT75uU9\"\n",
        "CONSUMER_SECRET=\"qExPJvsm5VO4PLm1gmWQDyq7U6bjIuS7jT1aTpRdXQ3mWHCyn8\"\n",
        "\n",
        "\n",
        "\n",
        "def connect_to_twitter_OAuth():\n",
        "    auth = tw.OAuthHandler(CONSUMER_KEY, CONSUMER_SECRET)\n",
        "    auth.set_access_token(ACCESS_TOKEN, ACCESS_SECRET)\n",
        "    api = tw.API(auth, wait_on_rate_limit=True)\n",
        "    return api\n",
        " \n",
        " \n",
        "api = connect_to_twitter_OAuth()"
      ],
      "execution_count": 14,
      "outputs": []
    },
    {
      "cell_type": "code",
      "metadata": {
        "id": "5Vu-RpeDhyIq"
      },
      "source": [
        "search_words = 'happiness+love+family'\n",
        "search_terms = search_words + \" -filter:retweets\"\n",
        "date_since = \"2010-03-01\"\n",
        " \n",
        "tweets = tw.Cursor(api.search,q=search_terms,lang=\"en\",since=date_since).items(1000)"
      ],
      "execution_count": 44,
      "outputs": []
    },
    {
      "cell_type": "code",
      "metadata": {
        "id": "bDOEd32uiUw1"
      },
      "source": [
        "users_tweets = [[tweet.user.screen_name, tweet.user.location, tweet.text] for tweet in tweets]\n",
        "tweet_df1 = pd.DataFrame(data=users_tweets,columns=['user', \"location\",\"text\"])"
      ],
      "execution_count": 45,
      "outputs": []
    },
    {
      "cell_type": "code",
      "metadata": {
        "colab": {
          "base_uri": "https://localhost:8080/",
          "height": 676
        },
        "id": "3jnyekzxyJxH",
        "outputId": "a3052f4e-4455-494a-e574-cd3b127ce541"
      },
      "source": [
        "tweet_df1.head(20)"
      ],
      "execution_count": 46,
      "outputs": [
        {
          "output_type": "execute_result",
          "data": {
            "text/html": [
              "<div>\n",
              "<style scoped>\n",
              "    .dataframe tbody tr th:only-of-type {\n",
              "        vertical-align: middle;\n",
              "    }\n",
              "\n",
              "    .dataframe tbody tr th {\n",
              "        vertical-align: top;\n",
              "    }\n",
              "\n",
              "    .dataframe thead th {\n",
              "        text-align: right;\n",
              "    }\n",
              "</style>\n",
              "<table border=\"1\" class=\"dataframe\">\n",
              "  <thead>\n",
              "    <tr style=\"text-align: right;\">\n",
              "      <th></th>\n",
              "      <th>user</th>\n",
              "      <th>location</th>\n",
              "      <th>text</th>\n",
              "    </tr>\n",
              "  </thead>\n",
              "  <tbody>\n",
              "    <tr>\n",
              "      <th>0</th>\n",
              "      <td>AmirahStyles_</td>\n",
              "      <td>Las Vegas , NV</td>\n",
              "      <td>I love my family. I love my life. \\nHappiness.</td>\n",
              "    </tr>\n",
              "    <tr>\n",
              "      <th>1</th>\n",
              "      <td>seejhay_</td>\n",
              "      <td>I couldn't care less</td>\n",
              "      <td>\"HoMOSexUal wILl nOT iNhEriT tHE kiNGdom Of gO...</td>\n",
              "    </tr>\n",
              "    <tr>\n",
              "      <th>2</th>\n",
              "      <td>AKpuresoul</td>\n",
              "      <td></td>\n",
              "      <td>We r here to shower our unconditional love \\nN...</td>\n",
              "    </tr>\n",
              "    <tr>\n",
              "      <th>3</th>\n",
              "      <td>_itspjmluv</td>\n",
              "      <td>방탄소년단 ‹3</td>\n",
              "      <td>you are and always be my happiness and my fami...</td>\n",
              "    </tr>\n",
              "    <tr>\n",
              "      <th>4</th>\n",
              "      <td>Smile57383709</td>\n",
              "      <td></td>\n",
              "      <td>Praying the Almighty God showers you with good...</td>\n",
              "    </tr>\n",
              "    <tr>\n",
              "      <th>5</th>\n",
              "      <td>VJMiraX</td>\n",
              "      <td>Philippines</td>\n",
              "      <td>worked hard to improve on or correct entirely....</td>\n",
              "    </tr>\n",
              "    <tr>\n",
              "      <th>6</th>\n",
              "      <td>sairungs146gma2</td>\n",
              "      <td></td>\n",
              "      <td>True me and true make  it happen for my heart ...</td>\n",
              "    </tr>\n",
              "    <tr>\n",
              "      <th>7</th>\n",
              "      <td>imlifealtering</td>\n",
              "      <td>Jonesboro, GA</td>\n",
              "      <td>I want a queen who isn’t trying to live her li...</td>\n",
              "    </tr>\n",
              "    <tr>\n",
              "      <th>8</th>\n",
              "      <td>uptownatadvant</td>\n",
              "      <td>Advant Navis Park Sec-14 Noida</td>\n",
              "      <td>Good times are back again! It’s time to get to...</td>\n",
              "    </tr>\n",
              "    <tr>\n",
              "      <th>9</th>\n",
              "      <td>123josnow</td>\n",
              "      <td>Cape Breton, Nova Scotia</td>\n",
              "      <td>They know where they do you believe in the hap...</td>\n",
              "    </tr>\n",
              "    <tr>\n",
              "      <th>10</th>\n",
              "      <td>RoshBeingRosh</td>\n",
              "      <td>India</td>\n",
              "      <td>@sidharth_shukla @Sid_ShuklaFC Take care @sidh...</td>\n",
              "    </tr>\n",
              "    <tr>\n",
              "      <th>11</th>\n",
              "      <td>carmimartin8</td>\n",
              "      <td>Makati City</td>\n",
              "      <td>I wish you love, hope and everlasting joy and ...</td>\n",
              "    </tr>\n",
              "    <tr>\n",
              "      <th>12</th>\n",
              "      <td>waifujade</td>\n",
              "      <td>sydney</td>\n",
              "      <td>11:11 to love and be loved, health, happiness,...</td>\n",
              "    </tr>\n",
              "    <tr>\n",
              "      <th>13</th>\n",
              "      <td>PhantomUFCfan</td>\n",
              "      <td></td>\n",
              "      <td>No #The5in5 tomorrow - have been feeling a lit...</td>\n",
              "    </tr>\n",
              "    <tr>\n",
              "      <th>14</th>\n",
              "      <td>yeshdayesh</td>\n",
              "      <td>Quezon City, National Capital</td>\n",
              "      <td>Remove three thing in your life\\n\\nhttps://t.c...</td>\n",
              "    </tr>\n",
              "    <tr>\n",
              "      <th>15</th>\n",
              "      <td>miketse</td>\n",
              "      <td>Staten Island, NY</td>\n",
              "      <td>school mates - step up #love #girldad #happine...</td>\n",
              "    </tr>\n",
              "    <tr>\n",
              "      <th>16</th>\n",
              "      <td>miketse</td>\n",
              "      <td>Staten Island, NY</td>\n",
              "      <td>stepping up pre-k4 #love #girldad #happiness #...</td>\n",
              "    </tr>\n",
              "    <tr>\n",
              "      <th>17</th>\n",
              "      <td>NicolasFallsmy1</td>\n",
              "      <td>Southern Hemisphere</td>\n",
              "      <td>@Maggie60310325 \\nGood morning Maggie &amp;amp; fa...</td>\n",
              "    </tr>\n",
              "    <tr>\n",
              "      <th>18</th>\n",
              "      <td>michelleegordon</td>\n",
              "      <td>NY</td>\n",
              "      <td>What is the most important thing in our life? ...</td>\n",
              "    </tr>\n",
              "    <tr>\n",
              "      <th>19</th>\n",
              "      <td>Honor_Grace</td>\n",
              "      <td>Pittsburgh, PA</td>\n",
              "      <td>Promote happiness in your family by engaging i...</td>\n",
              "    </tr>\n",
              "  </tbody>\n",
              "</table>\n",
              "</div>"
            ],
            "text/plain": [
              "               user  ...                                               text\n",
              "0     AmirahStyles_  ...     I love my family. I love my life. \\nHappiness.\n",
              "1          seejhay_  ...  \"HoMOSexUal wILl nOT iNhEriT tHE kiNGdom Of gO...\n",
              "2        AKpuresoul  ...  We r here to shower our unconditional love \\nN...\n",
              "3        _itspjmluv  ...  you are and always be my happiness and my fami...\n",
              "4     Smile57383709  ...  Praying the Almighty God showers you with good...\n",
              "5           VJMiraX  ...  worked hard to improve on or correct entirely....\n",
              "6   sairungs146gma2  ...  True me and true make  it happen for my heart ...\n",
              "7    imlifealtering  ...  I want a queen who isn’t trying to live her li...\n",
              "8    uptownatadvant  ...  Good times are back again! It’s time to get to...\n",
              "9         123josnow  ...  They know where they do you believe in the hap...\n",
              "10    RoshBeingRosh  ...  @sidharth_shukla @Sid_ShuklaFC Take care @sidh...\n",
              "11     carmimartin8  ...  I wish you love, hope and everlasting joy and ...\n",
              "12        waifujade  ...  11:11 to love and be loved, health, happiness,...\n",
              "13    PhantomUFCfan  ...  No #The5in5 tomorrow - have been feeling a lit...\n",
              "14       yeshdayesh  ...  Remove three thing in your life\\n\\nhttps://t.c...\n",
              "15          miketse  ...  school mates - step up #love #girldad #happine...\n",
              "16          miketse  ...  stepping up pre-k4 #love #girldad #happiness #...\n",
              "17  NicolasFallsmy1  ...  @Maggie60310325 \\nGood morning Maggie &amp; fa...\n",
              "18  michelleegordon  ...  What is the most important thing in our life? ...\n",
              "19      Honor_Grace  ...  Promote happiness in your family by engaging i...\n",
              "\n",
              "[20 rows x 3 columns]"
            ]
          },
          "metadata": {
            "tags": []
          },
          "execution_count": 46
        }
      ]
    },
    {
      "cell_type": "code",
      "metadata": {
        "id": "UheOMo-1s9d0"
      },
      "source": [
        "search_words = \"diagnosed+depression\"\n",
        "search_terms = search_words + \" -filter:retweets\"\n",
        "date_since = \"2020-03-01\"\n",
        " \n",
        " \n",
        "tweets = tw.Cursor(api.search,\n",
        "              q=search_terms,\n",
        "              lang=\"en\",\n",
        "              since=date_since).items(1000)"
      ],
      "execution_count": 16,
      "outputs": []
    },
    {
      "cell_type": "code",
      "metadata": {
        "id": "UC5new78ttD9"
      },
      "source": [
        "users_tweets = [[tweet.user.screen_name, tweet.user.location, tweet.text] for tweet in tweets]\n",
        "tweet_df = pd.DataFrame(data=users_tweets,columns=['user', \"location\",\"text\"])"
      ],
      "execution_count": 17,
      "outputs": []
    },
    {
      "cell_type": "code",
      "metadata": {
        "id": "EbCq-bXat4sK",
        "colab": {
          "base_uri": "https://localhost:8080/",
          "height": 424
        },
        "outputId": "2f2e75ee-94fb-40f4-e4bf-fd80b10843ac"
      },
      "source": [
        "tweet_df2=tweet_df\n",
        "tweet_df2"
      ],
      "execution_count": 18,
      "outputs": [
        {
          "output_type": "execute_result",
          "data": {
            "text/html": [
              "<div>\n",
              "<style scoped>\n",
              "    .dataframe tbody tr th:only-of-type {\n",
              "        vertical-align: middle;\n",
              "    }\n",
              "\n",
              "    .dataframe tbody tr th {\n",
              "        vertical-align: top;\n",
              "    }\n",
              "\n",
              "    .dataframe thead th {\n",
              "        text-align: right;\n",
              "    }\n",
              "</style>\n",
              "<table border=\"1\" class=\"dataframe\">\n",
              "  <thead>\n",
              "    <tr style=\"text-align: right;\">\n",
              "      <th></th>\n",
              "      <th>user</th>\n",
              "      <th>location</th>\n",
              "      <th>text</th>\n",
              "    </tr>\n",
              "  </thead>\n",
              "  <tbody>\n",
              "    <tr>\n",
              "      <th>0</th>\n",
              "      <td>Itsamanda_liz</td>\n",
              "      <td>Probably at Hollister</td>\n",
              "      <td>@gothspiderbitch also I don’t mean to be like ...</td>\n",
              "    </tr>\n",
              "    <tr>\n",
              "      <th>1</th>\n",
              "      <td>Michael88093613</td>\n",
              "      <td></td>\n",
              "      <td>@starsmitten_ Patch 3.0 on valorant didn’t fix...</td>\n",
              "    </tr>\n",
              "    <tr>\n",
              "      <th>2</th>\n",
              "      <td>WeComics_Office</td>\n",
              "      <td>United States</td>\n",
              "      <td>🆕NEW ARRIVAL!🆕 His mother was diagnosed with d...</td>\n",
              "    </tr>\n",
              "    <tr>\n",
              "      <th>3</th>\n",
              "      <td>rotswamp</td>\n",
              "      <td>21, manchester, she/they</td>\n",
              "      <td>Got diagnosed with depression after feeling so...</td>\n",
              "    </tr>\n",
              "    <tr>\n",
              "      <th>4</th>\n",
              "      <td>bjornlikesboys</td>\n",
              "      <td>heart taken 3x</td>\n",
              "      <td>also remembering the time my psychiatrist pers...</td>\n",
              "    </tr>\n",
              "    <tr>\n",
              "      <th>...</th>\n",
              "      <td>...</td>\n",
              "      <td>...</td>\n",
              "      <td>...</td>\n",
              "    </tr>\n",
              "    <tr>\n",
              "      <th>900</th>\n",
              "      <td>JingusFlorpus</td>\n",
              "      <td>I'm a Christian ✝</td>\n",
              "      <td>@KingdomKlannad when you get diagnosed with se...</td>\n",
              "    </tr>\n",
              "    <tr>\n",
              "      <th>901</th>\n",
              "      <td>HazelKLarkin</td>\n",
              "      <td></td>\n",
              "      <td>All addictive behaviours have their roots in t...</td>\n",
              "    </tr>\n",
              "    <tr>\n",
              "      <th>902</th>\n",
              "      <td>Autist_Writer</td>\n",
              "      <td>Humanity</td>\n",
              "      <td>Thanks to decades of being diagnosed with depr...</td>\n",
              "    </tr>\n",
              "    <tr>\n",
              "      <th>903</th>\n",
              "      <td>MicheleZanini</td>\n",
              "      <td>Boston, MA</td>\n",
              "      <td>@work_matters Interesting to note that the con...</td>\n",
              "    </tr>\n",
              "    <tr>\n",
              "      <th>904</th>\n",
              "      <td>uxinblack</td>\n",
              "      <td>join my email list ✨👉🏽</td>\n",
              "      <td>Dec 2020 I got diagnosed with Dysthmia aka Per...</td>\n",
              "    </tr>\n",
              "  </tbody>\n",
              "</table>\n",
              "<p>905 rows × 3 columns</p>\n",
              "</div>"
            ],
            "text/plain": [
              "                user  ...                                               text\n",
              "0      Itsamanda_liz  ...  @gothspiderbitch also I don’t mean to be like ...\n",
              "1    Michael88093613  ...  @starsmitten_ Patch 3.0 on valorant didn’t fix...\n",
              "2    WeComics_Office  ...  🆕NEW ARRIVAL!🆕 His mother was diagnosed with d...\n",
              "3           rotswamp  ...  Got diagnosed with depression after feeling so...\n",
              "4     bjornlikesboys  ...  also remembering the time my psychiatrist pers...\n",
              "..               ...  ...                                                ...\n",
              "900    JingusFlorpus  ...  @KingdomKlannad when you get diagnosed with se...\n",
              "901     HazelKLarkin  ...  All addictive behaviours have their roots in t...\n",
              "902    Autist_Writer  ...  Thanks to decades of being diagnosed with depr...\n",
              "903    MicheleZanini  ...  @work_matters Interesting to note that the con...\n",
              "904        uxinblack  ...  Dec 2020 I got diagnosed with Dysthmia aka Per...\n",
              "\n",
              "[905 rows x 3 columns]"
            ]
          },
          "metadata": {
            "tags": []
          },
          "execution_count": 18
        }
      ]
    },
    {
      "cell_type": "code",
      "metadata": {
        "id": "huclp_wNP2WI"
      },
      "source": [
        "#dfs = [tweet_df1,tweet_df2]\n",
        "#tweet_df = pd.concat(dfs)\n",
        "tweet_df=tweet_df1.append(tweet_df2, ignore_index=True, sort=False)\n"
      ],
      "execution_count": 48,
      "outputs": []
    },
    {
      "cell_type": "code",
      "metadata": {
        "id": "Q3B0ER8L6vYR"
      },
      "source": [
        "user_tweets = api.user_timeline('specific_user')\n",
        "for tweet in user_tweets:\n",
        "    print(tweet.text)\n"
      ],
      "execution_count": null,
      "outputs": []
    },
    {
      "cell_type": "code",
      "metadata": {
        "id": "83IoPb9GfOFB"
      },
      "source": [
        "tweet_df=pd.read_csv('/content/tweet_df.csv')"
      ],
      "execution_count": null,
      "outputs": []
    },
    {
      "cell_type": "code",
      "metadata": {
        "colab": {
          "base_uri": "https://localhost:8080/",
          "height": 424
        },
        "id": "AK69oSecKXFQ",
        "outputId": "b7e27ce4-f4cd-48c9-daa9-40d5264c99dd"
      },
      "source": [
        "tweet_df"
      ],
      "execution_count": 49,
      "outputs": [
        {
          "output_type": "execute_result",
          "data": {
            "text/html": [
              "<div>\n",
              "<style scoped>\n",
              "    .dataframe tbody tr th:only-of-type {\n",
              "        vertical-align: middle;\n",
              "    }\n",
              "\n",
              "    .dataframe tbody tr th {\n",
              "        vertical-align: top;\n",
              "    }\n",
              "\n",
              "    .dataframe thead th {\n",
              "        text-align: right;\n",
              "    }\n",
              "</style>\n",
              "<table border=\"1\" class=\"dataframe\">\n",
              "  <thead>\n",
              "    <tr style=\"text-align: right;\">\n",
              "      <th></th>\n",
              "      <th>user</th>\n",
              "      <th>location</th>\n",
              "      <th>text</th>\n",
              "    </tr>\n",
              "  </thead>\n",
              "  <tbody>\n",
              "    <tr>\n",
              "      <th>0</th>\n",
              "      <td>AmirahStyles_</td>\n",
              "      <td>Las Vegas , NV</td>\n",
              "      <td>I love my family. I love my life. \\nHappiness.</td>\n",
              "    </tr>\n",
              "    <tr>\n",
              "      <th>1</th>\n",
              "      <td>seejhay_</td>\n",
              "      <td>I couldn't care less</td>\n",
              "      <td>\"HoMOSexUal wILl nOT iNhEriT tHE kiNGdom Of gO...</td>\n",
              "    </tr>\n",
              "    <tr>\n",
              "      <th>2</th>\n",
              "      <td>AKpuresoul</td>\n",
              "      <td></td>\n",
              "      <td>We r here to shower our unconditional love \\nN...</td>\n",
              "    </tr>\n",
              "    <tr>\n",
              "      <th>3</th>\n",
              "      <td>_itspjmluv</td>\n",
              "      <td>방탄소년단 ‹3</td>\n",
              "      <td>you are and always be my happiness and my fami...</td>\n",
              "    </tr>\n",
              "    <tr>\n",
              "      <th>4</th>\n",
              "      <td>Smile57383709</td>\n",
              "      <td></td>\n",
              "      <td>Praying the Almighty God showers you with good...</td>\n",
              "    </tr>\n",
              "    <tr>\n",
              "      <th>...</th>\n",
              "      <td>...</td>\n",
              "      <td>...</td>\n",
              "      <td>...</td>\n",
              "    </tr>\n",
              "    <tr>\n",
              "      <th>1900</th>\n",
              "      <td>JingusFlorpus</td>\n",
              "      <td>I'm a Christian ✝</td>\n",
              "      <td>@KingdomKlannad when you get diagnosed with se...</td>\n",
              "    </tr>\n",
              "    <tr>\n",
              "      <th>1901</th>\n",
              "      <td>HazelKLarkin</td>\n",
              "      <td></td>\n",
              "      <td>All addictive behaviours have their roots in t...</td>\n",
              "    </tr>\n",
              "    <tr>\n",
              "      <th>1902</th>\n",
              "      <td>Autist_Writer</td>\n",
              "      <td>Humanity</td>\n",
              "      <td>Thanks to decades of being diagnosed with depr...</td>\n",
              "    </tr>\n",
              "    <tr>\n",
              "      <th>1903</th>\n",
              "      <td>MicheleZanini</td>\n",
              "      <td>Boston, MA</td>\n",
              "      <td>@work_matters Interesting to note that the con...</td>\n",
              "    </tr>\n",
              "    <tr>\n",
              "      <th>1904</th>\n",
              "      <td>uxinblack</td>\n",
              "      <td>join my email list ✨👉🏽</td>\n",
              "      <td>Dec 2020 I got diagnosed with Dysthmia aka Per...</td>\n",
              "    </tr>\n",
              "  </tbody>\n",
              "</table>\n",
              "<p>1905 rows × 3 columns</p>\n",
              "</div>"
            ],
            "text/plain": [
              "               user  ...                                               text\n",
              "0     AmirahStyles_  ...     I love my family. I love my life. \\nHappiness.\n",
              "1          seejhay_  ...  \"HoMOSexUal wILl nOT iNhEriT tHE kiNGdom Of gO...\n",
              "2        AKpuresoul  ...  We r here to shower our unconditional love \\nN...\n",
              "3        _itspjmluv  ...  you are and always be my happiness and my fami...\n",
              "4     Smile57383709  ...  Praying the Almighty God showers you with good...\n",
              "...             ...  ...                                                ...\n",
              "1900  JingusFlorpus  ...  @KingdomKlannad when you get diagnosed with se...\n",
              "1901   HazelKLarkin  ...  All addictive behaviours have their roots in t...\n",
              "1902  Autist_Writer  ...  Thanks to decades of being diagnosed with depr...\n",
              "1903  MicheleZanini  ...  @work_matters Interesting to note that the con...\n",
              "1904      uxinblack  ...  Dec 2020 I got diagnosed with Dysthmia aka Per...\n",
              "\n",
              "[1905 rows x 3 columns]"
            ]
          },
          "metadata": {
            "tags": []
          },
          "execution_count": 49
        }
      ]
    },
    {
      "cell_type": "code",
      "metadata": {
        "colab": {
          "base_uri": "https://localhost:8080/"
        },
        "id": "3vIaxBe_EM1O",
        "outputId": "f28d64e4-986b-469b-9421-14421be69ad7"
      },
      "source": [
        "tweets=tweet_df['text']\n",
        "tweets"
      ],
      "execution_count": 50,
      "outputs": [
        {
          "output_type": "execute_result",
          "data": {
            "text/plain": [
              "0          I love my family. I love my life. \\nHappiness.\n",
              "1       \"HoMOSexUal wILl nOT iNhEriT tHE kiNGdom Of gO...\n",
              "2       We r here to shower our unconditional love \\nN...\n",
              "3       you are and always be my happiness and my fami...\n",
              "4       Praying the Almighty God showers you with good...\n",
              "                              ...                        \n",
              "1900    @KingdomKlannad when you get diagnosed with se...\n",
              "1901    All addictive behaviours have their roots in t...\n",
              "1902    Thanks to decades of being diagnosed with depr...\n",
              "1903    @work_matters Interesting to note that the con...\n",
              "1904    Dec 2020 I got diagnosed with Dysthmia aka Per...\n",
              "Name: text, Length: 1905, dtype: object"
            ]
          },
          "metadata": {
            "tags": []
          },
          "execution_count": 50
        }
      ]
    },
    {
      "cell_type": "code",
      "metadata": {
        "colab": {
          "base_uri": "https://localhost:8080/",
          "height": 34
        },
        "id": "66KCKy0Ib0km",
        "outputId": "2bae7441-b1a8-4fb8-beeb-3efe0a48ac8d"
      },
      "source": [
        "tweets[1]"
      ],
      "execution_count": 52,
      "outputs": [
        {
          "output_type": "execute_result",
          "data": {
            "application/vnd.google.colaboratory.intrinsic+json": {
              "type": "string"
            },
            "text/plain": [
              "'\"HoMOSexUal wILl nOT iNhEriT tHE kiNGdom Of gOD\"\\n\\nright,,,, so i guess your homphobic mom will iNhErIt tHe KiNgDoM… https://t.co/NePH9wpmQj'"
            ]
          },
          "metadata": {
            "tags": []
          },
          "execution_count": 52
        }
      ]
    },
    {
      "cell_type": "code",
      "metadata": {
        "id": "O6NDikbVSdwf"
      },
      "source": [
        "tweet_df.to_csv('tweet_df.csv')"
      ],
      "execution_count": null,
      "outputs": []
    },
    {
      "cell_type": "code",
      "metadata": {
        "id": "aALdVyWTS44B"
      },
      "source": [
        "dummy_df=tweet_df"
      ],
      "execution_count": null,
      "outputs": []
    },
    {
      "cell_type": "code",
      "metadata": {
        "id": "VWOgRcC8F160"
      },
      "source": [
        "#lowercasing and url,punctuations and numbers removal,\n",
        "def Lowercasing(words):\n",
        "    string=re.sub(\"([^0-9A-Za-z \\t])|(\\w+:\\/\\/\\S+)\", \"\",str(words))\n",
        "    word=string.lower()\n",
        "    return word\n",
        "\n",
        "#Tokenization and (@)handle extraction\n",
        "def Tokenization(tweet):\n",
        "    tokenizer=TweetTokenizer(strip_handles=True)\n",
        "    tokens = tokenizer.tokenize(tweet)\n",
        "    return tokens\n",
        "\n",
        "#punctuations\n",
        "def Punctuation_removal(tokens):\n",
        "    words=[ word for word in tokens if word.isalnum()]\n",
        "    return words\n",
        "\n",
        "#stemming\n",
        "def stemming(text):\n",
        "    stemmer=PorterStemmer()\n",
        "    for  word in text:\n",
        "        stemmed_words=stemmer.stem(word)\n",
        "        return stemmed_words\n",
        "\n",
        "#stopword_removal\n",
        "def remove_stopwords(words):\n",
        "    stop_words=set(stopwords.words(\"english\")) \n",
        "    result=[word for word in words if word not in stop_words ]\n",
        "    return result\n",
        "\n",
        "\n",
        "#lemmatization\n",
        "def lemmatization(text):\n",
        "    lemmatizer=WordNetLemmatizer()\n",
        "    lemmatized_phrase=[]\n",
        "    for word in text:\n",
        "        lemmatized_word=lemmatizer.lemmatize(word)\n",
        "        lemmatized_phrase.append(lemmatized_word)\n",
        "    return lemmatized_phrase\n",
        " "
      ],
      "execution_count": 53,
      "outputs": []
    },
    {
      "cell_type": "code",
      "metadata": {
        "id": "NmWDcBkmaYxa"
      },
      "source": [
        "tokenized_tweets=[]\n",
        "final_tweet=[]\n",
        "\n",
        "\n",
        "#tokenization , (@)handle removal and lemmatization\n",
        "for i in range(0,1905):\n",
        "    tweet=tweets[i]\n",
        "    tweet_tokens=Tokenization(tweet)\n",
        "    lemmatized_tweet=lemmatization(tweet_tokens)#lemmatization\n",
        "    tokenized_tweets.append(lemmatized_tweet)\n",
        "\n",
        "#lowercasing url extraction and punctuation removal\n",
        "for i in tokenized_tweets:\n",
        "    lowercased_string=Lowercasing(i)#lowercasing and removing numbers\n",
        "    final_tweet.append(lowercased_string)\n",
        "\n",
        "\n",
        "\n",
        "\n"
      ],
      "execution_count": 59,
      "outputs": []
    },
    {
      "cell_type": "code",
      "metadata": {
        "colab": {
          "base_uri": "https://localhost:8080/",
          "height": 52
        },
        "id": "6v-f52IqgygY",
        "outputId": "467a08d3-8000-4470-8536-8c1412d7b498"
      },
      "source": [
        "print(len(final_tweet))\n",
        "final_tweet[45]"
      ],
      "execution_count": 61,
      "outputs": [
        {
          "output_type": "stream",
          "text": [
            "1905\n"
          ],
          "name": "stdout"
        },
        {
          "output_type": "execute_result",
          "data": {
            "application/vnd.google.colaboratory.intrinsic+json": {
              "type": "string"
            },
            "text/plain": [
              "'money gone come  success is love  family and happiness '"
            ]
          },
          "metadata": {
            "tags": []
          },
          "execution_count": 61
        }
      ]
    },
    {
      "cell_type": "code",
      "metadata": {
        "id": "VVRQKGhtr3L6"
      },
      "source": [
        "tweet_df.iat[]"
      ],
      "execution_count": null,
      "outputs": []
    },
    {
      "cell_type": "code",
      "metadata": {
        "id": "MIUaQ_GSrkAX"
      },
      "source": [
        "tweet_df['tweets']=final_tweet"
      ],
      "execution_count": 62,
      "outputs": []
    },
    {
      "cell_type": "code",
      "metadata": {
        "id": "1i6Qao2Qtrtr"
      },
      "source": [
        "tweet_df.to_csv('final_tweets2.csv')"
      ],
      "execution_count": 63,
      "outputs": []
    },
    {
      "cell_type": "code",
      "metadata": {
        "id": "v1YSiv7EVE9u"
      },
      "source": [
        ""
      ],
      "execution_count": null,
      "outputs": []
    }
  ]
}