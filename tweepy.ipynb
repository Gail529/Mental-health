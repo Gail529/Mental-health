{
  "nbformat": 4,
  "nbformat_minor": 0,
  "metadata": {
    "colab": {
      "name": "tweepy.ipynb",
      "provenance": [],
      "collapsed_sections": [],
      "authorship_tag": "ABX9TyOJeAluPbhZC/YPa3YaRt7p",
      "include_colab_link": true
    },
    "kernelspec": {
      "name": "python3",
      "display_name": "Python 3"
    }
  },
  "cells": [
    {
      "cell_type": "markdown",
      "metadata": {
        "id": "view-in-github",
        "colab_type": "text"
      },
      "source": [
        "<a href=\"https://colab.research.google.com/github/Gail529/Mental-health/blob/main/tweepy.ipynb\" target=\"_parent\"><img src=\"https://colab.research.google.com/assets/colab-badge.svg\" alt=\"Open In Colab\"/></a>"
      ]
    },
    {
      "cell_type": "code",
      "metadata": {
        "id": "z6fzp4e5gd43",
        "colab": {
          "base_uri": "https://localhost:8080/"
        },
        "outputId": "5a0df522-83e1-4a8a-e9d7-d3585d262f55"
      },
      "source": [
        "import os\n",
        "import tweepy as tw\n",
        "import pandas as pd\n",
        "\n",
        "\n",
        "#tweet preprocessing \n",
        "import nltk\n",
        "nltk.download('punkt')\n",
        "nltk.download('stopwords')\n",
        "nltk.download('wordnet')\n",
        "import string\n",
        "import re\n",
        "from nltk.tokenize import word_tokenize,sent_tokenize,TweetTokenizer\n",
        "from nltk.stem import WordNetLemmatizer\n",
        "from nltk.corpus import stopwords\n",
        "from nltk.stem import PorterStemmer\n",
        " \n"
      ],
      "execution_count": 3,
      "outputs": [
        {
          "output_type": "stream",
          "text": [
            "[nltk_data] Downloading package punkt to /root/nltk_data...\n",
            "[nltk_data]   Unzipping tokenizers/punkt.zip.\n",
            "[nltk_data] Downloading package stopwords to /root/nltk_data...\n",
            "[nltk_data]   Unzipping corpora/stopwords.zip.\n",
            "[nltk_data] Downloading package wordnet to /root/nltk_data...\n",
            "[nltk_data]   Unzipping corpora/wordnet.zip.\n"
          ],
          "name": "stdout"
        }
      ]
    },
    {
      "cell_type": "code",
      "metadata": {
        "id": "IBcoWsz5eoCX"
      },
      "source": [
        "ACCESS_TOKEN = '1118886346054090753-Vfsmdr6V8bKfKZS0uztpSzM3XR8LX0'\n",
        "ACCESS_SECRET = '8nyqL6bXe5yNd7kph55abUaaXn7qkEncrXxyi2ZcmOQPi'\n",
        "CONSUMER_KEY = 'LpqLxpB3zzC8VZ3xPUmT75uU9'\n",
        "CONSUMER_SECRET = 'qExPJvsm5VO4PLm1gmWQDyq7U6bjIuS7jT1aTpRdXQ3mWHCyn8'"
      ],
      "execution_count": null,
      "outputs": []
    },
    {
      "cell_type": "code",
      "metadata": {
        "id": "gLb_WyU1gkiq"
      },
      "source": [
        " \n",
        "def connect_to_twitter_OAuth():\n",
        "    auth = tw.OAuthHandler(CONSUMER_KEY, CONSUMER_SECRET)\n",
        "    auth.set_access_token(ACCESS_TOKEN, ACCESS_SECRET)\n",
        " \n",
        "    api = tw.API(auth, wait_on_rate_limit=True)\n",
        "    return api\n",
        " \n",
        " \n",
        "api = connect_to_twitter_OAuth()"
      ],
      "execution_count": null,
      "outputs": []
    },
    {
      "cell_type": "code",
      "metadata": {
        "id": "JgBLXgXzkP4m"
      },
      "source": [
        ""
      ],
      "execution_count": null,
      "outputs": []
    },
    {
      "cell_type": "code",
      "metadata": {
        "id": "5Vu-RpeDhyIq"
      },
      "source": [
        "search_words = \"#depression OR #mentalhealth OR  #anxiety \"\n",
        "search_terms = search_words + \" -filter:retweets\"\n",
        "date_since = \"2020-03-01\"\n",
        " \n",
        " \n",
        "tweets = tw.Cursor(api.search,\n",
        "              q=search_terms,\n",
        "              lang=\"en\",\n",
        "              since=date_since).items(1000)"
      ],
      "execution_count": null,
      "outputs": []
    },
    {
      "cell_type": "code",
      "metadata": {
        "id": "bDOEd32uiUw1"
      },
      "source": [
        "users_tweets = [[tweet.user.screen_name, tweet.user.location, tweet.text] for tweet in tweets]\n",
        "tweet_df1 = pd.DataFrame(data=users_tweets, \n",
        "                    columns=['user', \"location\",\"text\"])"
      ],
      "execution_count": null,
      "outputs": []
    },
    {
      "cell_type": "code",
      "metadata": {
        "colab": {
          "base_uri": "https://localhost:8080/",
          "height": 391
        },
        "id": "3jnyekzxyJxH",
        "outputId": "8604a4e8-0dd0-478a-b357-188528e62a4c"
      },
      "source": [
        "tweet_df1"
      ],
      "execution_count": null,
      "outputs": [
        {
          "output_type": "execute_result",
          "data": {
            "text/html": [
              "<div>\n",
              "<style scoped>\n",
              "    .dataframe tbody tr th:only-of-type {\n",
              "        vertical-align: middle;\n",
              "    }\n",
              "\n",
              "    .dataframe tbody tr th {\n",
              "        vertical-align: top;\n",
              "    }\n",
              "\n",
              "    .dataframe thead th {\n",
              "        text-align: right;\n",
              "    }\n",
              "</style>\n",
              "<table border=\"1\" class=\"dataframe\">\n",
              "  <thead>\n",
              "    <tr style=\"text-align: right;\">\n",
              "      <th></th>\n",
              "      <th>user</th>\n",
              "      <th>location</th>\n",
              "      <th>text</th>\n",
              "    </tr>\n",
              "  </thead>\n",
              "  <tbody>\n",
              "    <tr>\n",
              "      <th>0</th>\n",
              "      <td>app_stayaway</td>\n",
              "      <td>Mumbai</td>\n",
              "      <td>People can also take advantage of your phone a...</td>\n",
              "    </tr>\n",
              "    <tr>\n",
              "      <th>1</th>\n",
              "      <td>rykorua</td>\n",
              "      <td>Italia</td>\n",
              "      <td>Christmas is a good time to start practicing g...</td>\n",
              "    </tr>\n",
              "    <tr>\n",
              "      <th>2</th>\n",
              "      <td>allevin18</td>\n",
              "      <td>Minneapolis, MN</td>\n",
              "      <td>\"Driving in the Midst of #Depression\" https://...</td>\n",
              "    </tr>\n",
              "    <tr>\n",
              "      <th>3</th>\n",
              "      <td>DulleyTopBooks</td>\n",
              "      <td>North Vancouver, B.C. Canada</td>\n",
              "      <td>@BCGovNews May the Prince of Peace give us ALL...</td>\n",
              "    </tr>\n",
              "    <tr>\n",
              "      <th>4</th>\n",
              "      <td>sadvibes43ver</td>\n",
              "      <td></td>\n",
              "      <td>Anyone else just pretending they’re ok?\\n#sadt...</td>\n",
              "    </tr>\n",
              "    <tr>\n",
              "      <th>...</th>\n",
              "      <td>...</td>\n",
              "      <td>...</td>\n",
              "      <td>...</td>\n",
              "    </tr>\n",
              "    <tr>\n",
              "      <th>995</th>\n",
              "      <td>ImanBenChaibah</td>\n",
              "      <td>Dubai, United Arab Emirates</td>\n",
              "      <td>“I often thought of it as standing in a water ...</td>\n",
              "    </tr>\n",
              "    <tr>\n",
              "      <th>996</th>\n",
              "      <td>ChooseTherapy</td>\n",
              "      <td>New York City</td>\n",
              "      <td>@verv_inc sits down with mental health expert,...</td>\n",
              "    </tr>\n",
              "    <tr>\n",
              "      <th>997</th>\n",
              "      <td>NevilleSouthall</td>\n",
              "      <td>wales</td>\n",
              "      <td>Arun! \\n\\nGreat to see you're back to your wri...</td>\n",
              "    </tr>\n",
              "    <tr>\n",
              "      <th>998</th>\n",
              "      <td>NevilleSouthall</td>\n",
              "      <td>wales</td>\n",
              "      <td>Dad thinks we've got the cassettes upstairs. M...</td>\n",
              "    </tr>\n",
              "    <tr>\n",
              "      <th>999</th>\n",
              "      <td>elsbpdvent</td>\n",
              "      <td>United Kingdom</td>\n",
              "      <td>Anyone else with bpd one minute be like “oh I’...</td>\n",
              "    </tr>\n",
              "  </tbody>\n",
              "</table>\n",
              "<p>1000 rows × 3 columns</p>\n",
              "</div>"
            ],
            "text/plain": [
              "                user  ...                                               text\n",
              "0       app_stayaway  ...  People can also take advantage of your phone a...\n",
              "1            rykorua  ...  Christmas is a good time to start practicing g...\n",
              "2          allevin18  ...  \"Driving in the Midst of #Depression\" https://...\n",
              "3     DulleyTopBooks  ...  @BCGovNews May the Prince of Peace give us ALL...\n",
              "4      sadvibes43ver  ...  Anyone else just pretending they’re ok?\\n#sadt...\n",
              "..               ...  ...                                                ...\n",
              "995   ImanBenChaibah  ...  “I often thought of it as standing in a water ...\n",
              "996    ChooseTherapy  ...  @verv_inc sits down with mental health expert,...\n",
              "997  NevilleSouthall  ...  Arun! \\n\\nGreat to see you're back to your wri...\n",
              "998  NevilleSouthall  ...  Dad thinks we've got the cassettes upstairs. M...\n",
              "999       elsbpdvent  ...  Anyone else with bpd one minute be like “oh I’...\n",
              "\n",
              "[1000 rows x 3 columns]"
            ]
          },
          "metadata": {
            "tags": []
          },
          "execution_count": 35
        }
      ]
    },
    {
      "cell_type": "code",
      "metadata": {
        "id": "UheOMo-1s9d0"
      },
      "source": [
        "search_words = \"diagnosed+depression\"\n",
        "search_terms = search_words + \" -filter:retweets\"\n",
        "date_since = \"2020-03-01\"\n",
        " \n",
        " \n",
        "tweets = tw.Cursor(api.search,\n",
        "              q=search_terms,\n",
        "              lang=\"en\",\n",
        "              since=date_since).items(1000)"
      ],
      "execution_count": null,
      "outputs": []
    },
    {
      "cell_type": "code",
      "metadata": {
        "id": "UC5new78ttD9"
      },
      "source": [
        "users_tweets = [[tweet.user.screen_name, tweet.user.location, tweet.text] for tweet in tweets]\n",
        "tweet_df = pd.DataFrame(data=users_tweets, \n",
        "                    columns=['user', \"location\",\"text\"])"
      ],
      "execution_count": null,
      "outputs": []
    },
    {
      "cell_type": "code",
      "metadata": {
        "id": "EbCq-bXat4sK"
      },
      "source": [
        "tweet_df2=tweet_df\n",
        "tweet_df2\n",
        "\n"
      ],
      "execution_count": null,
      "outputs": []
    },
    {
      "cell_type": "code",
      "metadata": {
        "id": "huclp_wNP2WI"
      },
      "source": [
        "#dfs = [tweet_df1,tweet_df2]\n",
        "#tweet_df = pd.concat(dfs)\n",
        "tweet_df=tweet_df1.append(tweet_df2, ignore_index=True, sort=False)\n"
      ],
      "execution_count": null,
      "outputs": []
    },
    {
      "cell_type": "code",
      "metadata": {
        "id": "Q3B0ER8L6vYR"
      },
      "source": [
        "user_tweets = api.user_timeline('specific_user')\n",
        "for tweet in user_tweets:\n",
        "    print(tweet.text)\n"
      ],
      "execution_count": null,
      "outputs": []
    },
    {
      "cell_type": "code",
      "metadata": {
        "id": "83IoPb9GfOFB"
      },
      "source": [
        "tweet_df=pd.read_csv('/content/tweet_df.csv')"
      ],
      "execution_count": 4,
      "outputs": []
    },
    {
      "cell_type": "code",
      "metadata": {
        "colab": {
          "base_uri": "https://localhost:8080/",
          "height": 391
        },
        "id": "AK69oSecKXFQ",
        "outputId": "ed46b331-7c1c-4559-e036-1d68c616a989"
      },
      "source": [
        "tweet_df"
      ],
      "execution_count": 5,
      "outputs": [
        {
          "output_type": "execute_result",
          "data": {
            "text/html": [
              "<div>\n",
              "<style scoped>\n",
              "    .dataframe tbody tr th:only-of-type {\n",
              "        vertical-align: middle;\n",
              "    }\n",
              "\n",
              "    .dataframe tbody tr th {\n",
              "        vertical-align: top;\n",
              "    }\n",
              "\n",
              "    .dataframe thead th {\n",
              "        text-align: right;\n",
              "    }\n",
              "</style>\n",
              "<table border=\"1\" class=\"dataframe\">\n",
              "  <thead>\n",
              "    <tr style=\"text-align: right;\">\n",
              "      <th></th>\n",
              "      <th>Unnamed: 0</th>\n",
              "      <th>user</th>\n",
              "      <th>location</th>\n",
              "      <th>text</th>\n",
              "    </tr>\n",
              "  </thead>\n",
              "  <tbody>\n",
              "    <tr>\n",
              "      <th>0</th>\n",
              "      <td>0</td>\n",
              "      <td>app_stayaway</td>\n",
              "      <td>Mumbai</td>\n",
              "      <td>People can also take advantage of your phone a...</td>\n",
              "    </tr>\n",
              "    <tr>\n",
              "      <th>1</th>\n",
              "      <td>1</td>\n",
              "      <td>rykorua</td>\n",
              "      <td>Italia</td>\n",
              "      <td>Christmas is a good time to start practicing g...</td>\n",
              "    </tr>\n",
              "    <tr>\n",
              "      <th>2</th>\n",
              "      <td>2</td>\n",
              "      <td>allevin18</td>\n",
              "      <td>Minneapolis, MN</td>\n",
              "      <td>\"Driving in the Midst of #Depression\" https://...</td>\n",
              "    </tr>\n",
              "    <tr>\n",
              "      <th>3</th>\n",
              "      <td>3</td>\n",
              "      <td>DulleyTopBooks</td>\n",
              "      <td>North Vancouver, B.C. Canada</td>\n",
              "      <td>@BCGovNews May the Prince of Peace give us ALL...</td>\n",
              "    </tr>\n",
              "    <tr>\n",
              "      <th>4</th>\n",
              "      <td>4</td>\n",
              "      <td>sadvibes43ver</td>\n",
              "      <td>NaN</td>\n",
              "      <td>Anyone else just pretending they’re ok?\\n#sadt...</td>\n",
              "    </tr>\n",
              "    <tr>\n",
              "      <th>...</th>\n",
              "      <td>...</td>\n",
              "      <td>...</td>\n",
              "      <td>...</td>\n",
              "      <td>...</td>\n",
              "    </tr>\n",
              "    <tr>\n",
              "      <th>1995</th>\n",
              "      <td>1995</td>\n",
              "      <td>Nem_RL</td>\n",
              "      <td>Tennessee</td>\n",
              "      <td>well looks like i am more fucked up than i tho...</td>\n",
              "    </tr>\n",
              "    <tr>\n",
              "      <th>1996</th>\n",
              "      <td>1996</td>\n",
              "      <td>Saru_Faja</td>\n",
              "      <td>Karachi,Pakistan</td>\n",
              "      <td>#IOK_ParadiseInPain\\n42- Last year, Ms. Rehman...</td>\n",
              "    </tr>\n",
              "    <tr>\n",
              "      <th>1997</th>\n",
              "      <td>1997</td>\n",
              "      <td>PeteThornberg</td>\n",
              "      <td>Cleveland, OH</td>\n",
              "      <td>@BillBindc Don’t forget newly diagnosed depres...</td>\n",
              "    </tr>\n",
              "    <tr>\n",
              "      <th>1998</th>\n",
              "      <td>1998</td>\n",
              "      <td>BentsenElin</td>\n",
              "      <td>NaN</td>\n",
              "      <td>@sojac60 @ThatEricAlper I think he was diagnos...</td>\n",
              "    </tr>\n",
              "    <tr>\n",
              "      <th>1999</th>\n",
              "      <td>1999</td>\n",
              "      <td>daibakusasshin</td>\n",
              "      <td>they/she | NY | jpn-us</td>\n",
              "      <td>Also before someone tries to go all “THERES SO...</td>\n",
              "    </tr>\n",
              "  </tbody>\n",
              "</table>\n",
              "<p>2000 rows × 4 columns</p>\n",
              "</div>"
            ],
            "text/plain": [
              "      Unnamed: 0  ...                                               text\n",
              "0              0  ...  People can also take advantage of your phone a...\n",
              "1              1  ...  Christmas is a good time to start practicing g...\n",
              "2              2  ...  \"Driving in the Midst of #Depression\" https://...\n",
              "3              3  ...  @BCGovNews May the Prince of Peace give us ALL...\n",
              "4              4  ...  Anyone else just pretending they’re ok?\\n#sadt...\n",
              "...          ...  ...                                                ...\n",
              "1995        1995  ...  well looks like i am more fucked up than i tho...\n",
              "1996        1996  ...  #IOK_ParadiseInPain\\n42- Last year, Ms. Rehman...\n",
              "1997        1997  ...  @BillBindc Don’t forget newly diagnosed depres...\n",
              "1998        1998  ...  @sojac60 @ThatEricAlper I think he was diagnos...\n",
              "1999        1999  ...  Also before someone tries to go all “THERES SO...\n",
              "\n",
              "[2000 rows x 4 columns]"
            ]
          },
          "metadata": {
            "tags": []
          },
          "execution_count": 5
        }
      ]
    },
    {
      "cell_type": "code",
      "metadata": {
        "colab": {
          "base_uri": "https://localhost:8080/"
        },
        "id": "3vIaxBe_EM1O",
        "outputId": "3ec86650-d7d6-4b17-fb1e-bf53e86b538b"
      },
      "source": [
        "tweets=tweet_df['text']\n",
        "tweets"
      ],
      "execution_count": 13,
      "outputs": [
        {
          "output_type": "execute_result",
          "data": {
            "text/plain": [
              "0       People can also take advantage of your phone a...\n",
              "1       Christmas is a good time to start practicing g...\n",
              "2       \"Driving in the Midst of #Depression\" https://...\n",
              "3       @BCGovNews May the Prince of Peace give us ALL...\n",
              "4       Anyone else just pretending they’re ok?\\n#sadt...\n",
              "                              ...                        \n",
              "1995    well looks like i am more fucked up than i tho...\n",
              "1996    #IOK_ParadiseInPain\\n42- Last year, Ms. Rehman...\n",
              "1997    @BillBindc Don’t forget newly diagnosed depres...\n",
              "1998    @sojac60 @ThatEricAlper I think he was diagnos...\n",
              "1999    Also before someone tries to go all “THERES SO...\n",
              "Name: text, Length: 2000, dtype: object"
            ]
          },
          "metadata": {
            "tags": []
          },
          "execution_count": 13
        }
      ]
    },
    {
      "cell_type": "code",
      "metadata": {
        "colab": {
          "base_uri": "https://localhost:8080/",
          "height": 35
        },
        "id": "66KCKy0Ib0km",
        "outputId": "0bac859f-ce01-4c51-eb78-e12573a56247"
      },
      "source": [
        "tweets[2]"
      ],
      "execution_count": null,
      "outputs": [
        {
          "output_type": "execute_result",
          "data": {
            "application/vnd.google.colaboratory.intrinsic+json": {
              "type": "string"
            },
            "text/plain": [
              "'\"Driving in the Midst of #Depression\" https://t.co/2lK738K9no Mind-wandering can cause higher risks. Be careful! Pl… https://t.co/6DUyzRoboS'"
            ]
          },
          "metadata": {
            "tags": []
          },
          "execution_count": 83
        }
      ]
    },
    {
      "cell_type": "code",
      "metadata": {
        "id": "O6NDikbVSdwf"
      },
      "source": [
        "tweet_df.to_csv('tweet_df.csv')"
      ],
      "execution_count": null,
      "outputs": []
    },
    {
      "cell_type": "code",
      "metadata": {
        "id": "aALdVyWTS44B"
      },
      "source": [
        "dummy_df=tweet_df"
      ],
      "execution_count": null,
      "outputs": []
    },
    {
      "cell_type": "code",
      "metadata": {
        "id": "VWOgRcC8F160"
      },
      "source": [
        "#lowercasing and url,punctuations and numbers removal,\n",
        "def Lowercasing(words):\n",
        "    string=re.sub(\"([^0-9A-Za-z \\t])|(\\w+:\\/\\/\\S+)\", \"\",str(words))\n",
        "    word=string.lower()\n",
        "    return word\n",
        "\n",
        "#Tokenization and (@)handle extraction\n",
        "def Tokenization(tweet):\n",
        "    tokenizer=TweetTokenizer(strip_handles=True)\n",
        "    tokens = tokenizer.tokenize(tweet)\n",
        "    return tokens\n",
        "\n",
        "#punctuations\n",
        "def Punctuation_removal(tokens):\n",
        "    words=[ word for word in tokens if word.isalnum()]\n",
        "    return words\n",
        "\n",
        "#stemming\n",
        "def stemming(text):\n",
        "    stemmer=PorterStemmer()\n",
        "    for  word in text:\n",
        "        stemmed_words=stemmer.stem(word)\n",
        "        return stemmed_words\n",
        "\n",
        "#stopword_removal\n",
        "def remove_stopwords(words):\n",
        "    stop_words=set(stopwords.words(\"english\")) \n",
        "    result=[word for word in words if word not in stop_words ]\n",
        "    return result\n",
        "\n",
        "\n",
        "#lemmatization\n",
        "def lemmatization(text):\n",
        "    lemmatizer=WordNetLemmatizer()\n",
        "    lemmatized_phrase=[]\n",
        "    for word in text:\n",
        "        lemmatized_word=lemmatizer.lemmatize(word)\n",
        "        lemmatized_phrase.append(lemmatized_word)\n",
        "    return lemmatized_phrase\n",
        " "
      ],
      "execution_count": 12,
      "outputs": []
    },
    {
      "cell_type": "code",
      "metadata": {
        "id": "NmWDcBkmaYxa"
      },
      "source": [
        "tokenized_tweets=[]\n",
        "final_tweet=[]\n",
        "\n",
        "\n",
        "#tokenization , (@)handle removal and lemmatization\n",
        "for i in range(0,2000):\n",
        "    tweet=tweets[i]\n",
        "    tweet_tokens=Tokenization(tweet)\n",
        "    lemmatized_tweet=lemmatization(tweet_tokens)#lemmatization\n",
        "    tokenized_tweets.append(lemmatized_tweet)\n",
        "\n",
        "#lowercasing url extraction and punctuation removal\n",
        "for i in tokenized_tweets:\n",
        "    lowercased_string=Lowercasing(i)#lowercasing and removing numbers\n",
        "    final_tweet.append(lowercased_string)\n",
        "\n",
        "\n",
        "\n",
        "\n"
      ],
      "execution_count": 26,
      "outputs": []
    },
    {
      "cell_type": "code",
      "metadata": {
        "colab": {
          "base_uri": "https://localhost:8080/"
        },
        "id": "6v-f52IqgygY",
        "outputId": "7230998b-470d-4f6c-cf06-8a9b5c492812"
      },
      "source": [
        "len(final_tweet)"
      ],
      "execution_count": 29,
      "outputs": [
        {
          "output_type": "execute_result",
          "data": {
            "text/plain": [
              "2000"
            ]
          },
          "metadata": {
            "tags": []
          },
          "execution_count": 29
        }
      ]
    },
    {
      "cell_type": "code",
      "metadata": {
        "id": "VVRQKGhtr3L6"
      },
      "source": [
        "tweet_df.iat[]"
      ],
      "execution_count": null,
      "outputs": []
    },
    {
      "cell_type": "code",
      "metadata": {
        "id": "MIUaQ_GSrkAX"
      },
      "source": [
        "tweet_df['tweets']=final_tweet"
      ],
      "execution_count": 31,
      "outputs": []
    },
    {
      "cell_type": "code",
      "metadata": {
        "id": "1i6Qao2Qtrtr"
      },
      "source": [
        "tweet_df.to_csv('final_tweets.csv')"
      ],
      "execution_count": 34,
      "outputs": []
    },
    {
      "cell_type": "code",
      "metadata": {
        "id": "v1YSiv7EVE9u"
      },
      "source": [
        ""
      ],
      "execution_count": null,
      "outputs": []
    }
  ]
}