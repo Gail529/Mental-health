{
  "nbformat": 4,
  "nbformat_minor": 0,
  "metadata": {
    "colab": {
      "name": "lstm_model_streamlit.ipynb",
      "provenance": [],
      "authorship_tag": "ABX9TyOjXNTpVWR0jiPvOz1zDzn+",
      "include_colab_link": true
    },
    "kernelspec": {
      "name": "python3",
      "display_name": "Python 3"
    }
  },
  "cells": [
    {
      "cell_type": "markdown",
      "metadata": {
        "id": "view-in-github",
        "colab_type": "text"
      },
      "source": [
        "<a href=\"https://colab.research.google.com/github/Gail529/Mental-health/blob/main/lstm_model_streamlit.ipynb\" target=\"_parent\"><img src=\"https://colab.research.google.com/assets/colab-badge.svg\" alt=\"Open In Colab\"/></a>"
      ]
    },
    {
      "cell_type": "code",
      "metadata": {
        "colab": {
          "base_uri": "https://localhost:8080/"
        },
        "id": "54bvoPIZgTGY",
        "outputId": "4105734d-437e-4835-a81c-b477f7722364"
      },
      "source": [
        "import pandas as pd \n",
        "import numpy as np\n",
        "import gensim\n",
        "import os\n",
        "import tweepy as tw\n",
        "import streamlit as st\n",
        " \n",
        " \n",
        " \n",
        "#tweet preprocessing \n",
        "import nltk\n",
        "nltk.download('punkt')\n",
        "nltk.download('stopwords')\n",
        "nltk.download('wordnet')\n",
        "import string\n",
        "import re\n",
        "from keras import backend as K\n",
        "from tensorflow.keras.models import Model, load_model\n",
        "from nltk.tokenize import word_tokenize,sent_tokenize,TweetTokenizer\n",
        "from nltk.stem import WordNetLemmatizer\n",
        "from nltk.corpus import stopwords\n",
        "from nltk.stem import PorterStemmer\n",
        " \n",
        " \n",
        " \n",
        "from tensorflow.python.keras.preprocessing.text import Tokenizer\n",
        "from tensorflow.python.keras.preprocessing.sequence import pad_sequences\n",
        " \n",
        "from keras.models import Sequential\n",
        "from keras.layers import Dense,Embedding,LSTM,GRU\n",
        "from keras.layers.embeddings import Embedding\n",
        "from keras.initializers import Constant\n",
        "import tensorflow as tf\n",
        "from tensorflow.keras.layers import Dense, Flatten, LSTM, Dropout, Activation, Embedding, Bidirectional"
      ],
      "execution_count": null,
      "outputs": [
        {
          "output_type": "stream",
          "text": [
            "[nltk_data] Downloading package punkt to /root/nltk_data...\n",
            "[nltk_data]   Unzipping tokenizers/punkt.zip.\n",
            "[nltk_data] Downloading package stopwords to /root/nltk_data...\n",
            "[nltk_data]   Unzipping corpora/stopwords.zip.\n",
            "[nltk_data] Downloading package wordnet to /root/nltk_data...\n",
            "[nltk_data]   Unzipping corpora/wordnet.zip.\n"
          ],
          "name": "stdout"
        }
      ]
    },
    {
      "cell_type": "code",
      "metadata": {
        "id": "65NL0CQGdfY3"
      },
      "source": [
        "data=pd.read_csv('/content/tweet_emotion_scores.csv')"
      ],
      "execution_count": null,
      "outputs": []
    },
    {
      "cell_type": "code",
      "metadata": {
        "id": "wW8CXhEhBaWl"
      },
      "source": [
        "data=pd.read_csv('/content/Mental_health.csv')"
      ],
      "execution_count": null,
      "outputs": []
    },
    {
      "cell_type": "code",
      "metadata": {
        "colab": {
          "base_uri": "https://localhost:8080/",
          "height": 536
        },
        "id": "-SrqEWYCf2SE",
        "outputId": "d7b81928-49b6-4f42-9a1c-a1d89c976c66"
      },
      "source": [
        "data.head()\n"
      ],
      "execution_count": null,
      "outputs": [
        {
          "output_type": "execute_result",
          "data": {
            "text/html": [
              "<div>\n",
              "<style scoped>\n",
              "    .dataframe tbody tr th:only-of-type {\n",
              "        vertical-align: middle;\n",
              "    }\n",
              "\n",
              "    .dataframe tbody tr th {\n",
              "        vertical-align: top;\n",
              "    }\n",
              "\n",
              "    .dataframe thead th {\n",
              "        text-align: right;\n",
              "    }\n",
              "</style>\n",
              "<table border=\"1\" class=\"dataframe\">\n",
              "  <thead>\n",
              "    <tr style=\"text-align: right;\">\n",
              "      <th></th>\n",
              "      <th>Unnamed: 0</th>\n",
              "      <th>tweets</th>\n",
              "      <th>Positive</th>\n",
              "      <th>Negative</th>\n",
              "      <th>Anger</th>\n",
              "      <th>Anticipation</th>\n",
              "      <th>Disgust</th>\n",
              "      <th>Fear</th>\n",
              "      <th>Joy</th>\n",
              "      <th>Sadness</th>\n",
              "      <th>Surprise</th>\n",
              "      <th>Trust</th>\n",
              "      <th>afinn_score</th>\n",
              "      <th>positive_vader</th>\n",
              "      <th>negative_vader</th>\n",
              "      <th>neutral_vader</th>\n",
              "      <th>emotion_score</th>\n",
              "      <th>labels</th>\n",
              "    </tr>\n",
              "  </thead>\n",
              "  <tbody>\n",
              "    <tr>\n",
              "      <th>0</th>\n",
              "      <td>0</td>\n",
              "      <td>people can also take advantage of your phone a...</td>\n",
              "      <td>2</td>\n",
              "      <td>2</td>\n",
              "      <td>1</td>\n",
              "      <td>1</td>\n",
              "      <td>1</td>\n",
              "      <td>1</td>\n",
              "      <td>1</td>\n",
              "      <td>1</td>\n",
              "      <td>1</td>\n",
              "      <td>1</td>\n",
              "      <td>2.0</td>\n",
              "      <td>0.090</td>\n",
              "      <td>0.101</td>\n",
              "      <td>0.809</td>\n",
              "      <td>0.283441</td>\n",
              "      <td>2</td>\n",
              "    </tr>\n",
              "    <tr>\n",
              "      <th>1</th>\n",
              "      <td>1</td>\n",
              "      <td>christmas is a good time to start practicing g...</td>\n",
              "      <td>3</td>\n",
              "      <td>0</td>\n",
              "      <td>0</td>\n",
              "      <td>3</td>\n",
              "      <td>0</td>\n",
              "      <td>1</td>\n",
              "      <td>3</td>\n",
              "      <td>0</td>\n",
              "      <td>1</td>\n",
              "      <td>1</td>\n",
              "      <td>3.0</td>\n",
              "      <td>0.388</td>\n",
              "      <td>0.000</td>\n",
              "      <td>0.612</td>\n",
              "      <td>0.110710</td>\n",
              "      <td>1</td>\n",
              "    </tr>\n",
              "    <tr>\n",
              "      <th>2</th>\n",
              "      <td>2</td>\n",
              "      <td>driving in the midst of depression   mindwand...</td>\n",
              "      <td>1</td>\n",
              "      <td>2</td>\n",
              "      <td>0</td>\n",
              "      <td>1</td>\n",
              "      <td>0</td>\n",
              "      <td>1</td>\n",
              "      <td>0</td>\n",
              "      <td>1</td>\n",
              "      <td>0</td>\n",
              "      <td>0</td>\n",
              "      <td>0.0</td>\n",
              "      <td>0.087</td>\n",
              "      <td>0.315</td>\n",
              "      <td>0.598</td>\n",
              "      <td>0.171658</td>\n",
              "      <td>1</td>\n",
              "    </tr>\n",
              "    <tr>\n",
              "      <th>3</th>\n",
              "      <td>3</td>\n",
              "      <td>may the prince of peace give u all peace of ou...</td>\n",
              "      <td>4</td>\n",
              "      <td>0</td>\n",
              "      <td>0</td>\n",
              "      <td>2</td>\n",
              "      <td>0</td>\n",
              "      <td>0</td>\n",
              "      <td>2</td>\n",
              "      <td>0</td>\n",
              "      <td>0</td>\n",
              "      <td>2</td>\n",
              "      <td>4.0</td>\n",
              "      <td>0.292</td>\n",
              "      <td>0.000</td>\n",
              "      <td>0.708</td>\n",
              "      <td>0.075926</td>\n",
              "      <td>1</td>\n",
              "    </tr>\n",
              "    <tr>\n",
              "      <th>4</th>\n",
              "      <td>4</td>\n",
              "      <td>anyone else just pretending they  re ok  sadtw...</td>\n",
              "      <td>0</td>\n",
              "      <td>2</td>\n",
              "      <td>1</td>\n",
              "      <td>0</td>\n",
              "      <td>0</td>\n",
              "      <td>0</td>\n",
              "      <td>0</td>\n",
              "      <td>1</td>\n",
              "      <td>0</td>\n",
              "      <td>0</td>\n",
              "      <td>-3.0</td>\n",
              "      <td>0.220</td>\n",
              "      <td>0.415</td>\n",
              "      <td>0.366</td>\n",
              "      <td>0.184060</td>\n",
              "      <td>1</td>\n",
              "    </tr>\n",
              "  </tbody>\n",
              "</table>\n",
              "</div>"
            ],
            "text/plain": [
              "   Unnamed: 0  ... labels\n",
              "0           0  ...      2\n",
              "1           1  ...      1\n",
              "2           2  ...      1\n",
              "3           3  ...      1\n",
              "4           4  ...      1\n",
              "\n",
              "[5 rows x 18 columns]"
            ]
          },
          "metadata": {
            "tags": []
          },
          "execution_count": 3
        }
      ]
    },
    {
      "cell_type": "code",
      "metadata": {
        "id": "cN3w-L0vf_HO"
      },
      "source": [
        "data.loc[(data['Positive'] < data['Negative']) & (data['Sadness'] >= 1) , 'score']= '1'\n"
      ],
      "execution_count": null,
      "outputs": []
    },
    {
      "cell_type": "code",
      "metadata": {
        "id": "PTFtM_4wT1vi"
      },
      "source": [
        "#lowercasing and url,punctuations and numbers removal,\n",
        "def Lowercasing(words):\n",
        "    string=re.sub(\"([^0-9A-Za-z \\t])|(\\w+:\\/\\/\\S+)\", \"\",str(words))\n",
        "    word=string.lower()\n",
        "    return word\n",
        "\n",
        "#Tokenization and (@)handle extraction\n",
        "def Tokenization(tweet):\n",
        "    tokenizer=TweetTokenizer(strip_handles=True)\n",
        "    tokens = tokenizer.tokenize(tweet)\n",
        "    return tokens\n",
        "\n",
        "#punctuations\n",
        "def Punctuation_removal(tokens):\n",
        "    words=[ word for word in tokens if word.isalnum()]\n",
        "    return words\n",
        "\n",
        "#stemming\n",
        "def stemming(text):\n",
        "    stemmer=PorterStemmer()\n",
        "    for  word in text:\n",
        "        stemmed_words=stemmer.stem(word)\n",
        "        return stemmed_words\n",
        "\n",
        "#stopword_removal\n",
        "def remove_stopwords(words):\n",
        "    stop_words=set(stopwords.words(\"english\")) \n",
        "    result=[word for word in words if word not in stop_words ]\n",
        "    return result\n",
        "\n",
        "\n",
        "#lemmatization\n",
        "def lemmatization(text):\n",
        "    lemmatizer=WordNetLemmatizer()\n",
        "    lemmatized_phrase=[]\n",
        "    for word in text:\n",
        "        lemmatized_word=lemmatizer.lemmatize(word)\n",
        "        lemmatized_phrase.append(lemmatized_word)\n",
        "    return lemmatized_phrase\n",
        " "
      ],
      "execution_count": null,
      "outputs": []
    },
    {
      "cell_type": "code",
      "metadata": {
        "id": "cFkijgjjT6_u"
      },
      "source": [
        "tokenized_tweets=[]\n",
        "final_tweet=[]\n",
        "\n",
        "#tokenization , (@)handle removal and lemmatization\n",
        "for i in range(0,2000):\n",
        "    tweet=tweets[i]\n",
        "    tweet_tokens=Tokenization(tweet)\n",
        "    lemmatized_tweet=lemmatization(tweet_tokens)#lemmatization\n",
        "    tokenized_tweets.append(lemmatized_tweet)\n",
        "\n",
        "#lowercasing url extraction and punctuation removal\n",
        "for i in tokenized_tweets:\n",
        "    lowercased_string=Lowercasing(i)#lowercasing and removing numbers\n",
        "    final_tweet.append(lowercased_string)"
      ],
      "execution_count": null,
      "outputs": []
    },
    {
      "cell_type": "code",
      "metadata": {
        "colab": {
          "base_uri": "https://localhost:8080/",
          "height": 191
        },
        "id": "-mGXZ60ngFSZ",
        "outputId": "3705c6c8-9921-4ab7-dee8-6a81f82eeaa4"
      },
      "source": [
        "del data['Unnamed: 0']\n",
        "del data['user']\n",
        "del data['location']\n",
        "del data['text']\n",
        "data.head()"
      ],
      "execution_count": null,
      "outputs": [
        {
          "output_type": "execute_result",
          "data": {
            "text/html": [
              "<div>\n",
              "<style scoped>\n",
              "    .dataframe tbody tr th:only-of-type {\n",
              "        vertical-align: middle;\n",
              "    }\n",
              "\n",
              "    .dataframe tbody tr th {\n",
              "        vertical-align: top;\n",
              "    }\n",
              "\n",
              "    .dataframe thead th {\n",
              "        text-align: right;\n",
              "    }\n",
              "</style>\n",
              "<table border=\"1\" class=\"dataframe\">\n",
              "  <thead>\n",
              "    <tr style=\"text-align: right;\">\n",
              "      <th></th>\n",
              "      <th>tweets</th>\n",
              "      <th>Positive</th>\n",
              "      <th>Negative</th>\n",
              "      <th>Anger</th>\n",
              "      <th>Anticipation</th>\n",
              "      <th>Disgust</th>\n",
              "      <th>Fear</th>\n",
              "      <th>Joy</th>\n",
              "      <th>Sadness</th>\n",
              "      <th>Surprise</th>\n",
              "      <th>Trust</th>\n",
              "      <th>score</th>\n",
              "    </tr>\n",
              "  </thead>\n",
              "  <tbody>\n",
              "    <tr>\n",
              "      <th>0</th>\n",
              "      <td>people can also take advantage of your phone a...</td>\n",
              "      <td>2</td>\n",
              "      <td>2</td>\n",
              "      <td>1</td>\n",
              "      <td>1</td>\n",
              "      <td>1</td>\n",
              "      <td>1</td>\n",
              "      <td>1</td>\n",
              "      <td>1</td>\n",
              "      <td>1</td>\n",
              "      <td>1</td>\n",
              "      <td>0</td>\n",
              "    </tr>\n",
              "    <tr>\n",
              "      <th>1</th>\n",
              "      <td>christmas is a good time to start practicing g...</td>\n",
              "      <td>3</td>\n",
              "      <td>0</td>\n",
              "      <td>0</td>\n",
              "      <td>3</td>\n",
              "      <td>0</td>\n",
              "      <td>1</td>\n",
              "      <td>3</td>\n",
              "      <td>0</td>\n",
              "      <td>1</td>\n",
              "      <td>1</td>\n",
              "      <td>0</td>\n",
              "    </tr>\n",
              "    <tr>\n",
              "      <th>2</th>\n",
              "      <td>driving in the midst of depression   mindwand...</td>\n",
              "      <td>1</td>\n",
              "      <td>2</td>\n",
              "      <td>0</td>\n",
              "      <td>1</td>\n",
              "      <td>0</td>\n",
              "      <td>1</td>\n",
              "      <td>0</td>\n",
              "      <td>1</td>\n",
              "      <td>0</td>\n",
              "      <td>0</td>\n",
              "      <td>1</td>\n",
              "    </tr>\n",
              "    <tr>\n",
              "      <th>3</th>\n",
              "      <td>may the prince of peace give u all peace of ou...</td>\n",
              "      <td>4</td>\n",
              "      <td>0</td>\n",
              "      <td>0</td>\n",
              "      <td>2</td>\n",
              "      <td>0</td>\n",
              "      <td>0</td>\n",
              "      <td>2</td>\n",
              "      <td>0</td>\n",
              "      <td>0</td>\n",
              "      <td>2</td>\n",
              "      <td>0</td>\n",
              "    </tr>\n",
              "    <tr>\n",
              "      <th>4</th>\n",
              "      <td>anyone else just pretending they  re ok  sadtw...</td>\n",
              "      <td>0</td>\n",
              "      <td>2</td>\n",
              "      <td>1</td>\n",
              "      <td>0</td>\n",
              "      <td>0</td>\n",
              "      <td>0</td>\n",
              "      <td>0</td>\n",
              "      <td>1</td>\n",
              "      <td>0</td>\n",
              "      <td>0</td>\n",
              "      <td>1</td>\n",
              "    </tr>\n",
              "  </tbody>\n",
              "</table>\n",
              "</div>"
            ],
            "text/plain": [
              "                                              tweets  Positive  ...  Trust  score\n",
              "0  people can also take advantage of your phone a...         2  ...      1      0\n",
              "1  christmas is a good time to start practicing g...         3  ...      1      0\n",
              "2   driving in the midst of depression   mindwand...         1  ...      0      1\n",
              "3  may the prince of peace give u all peace of ou...         4  ...      2      0\n",
              "4  anyone else just pretending they  re ok  sadtw...         0  ...      0      1\n",
              "\n",
              "[5 rows x 12 columns]"
            ]
          },
          "metadata": {
            "tags": []
          },
          "execution_count": 5
        }
      ]
    },
    {
      "cell_type": "code",
      "metadata": {
        "colab": {
          "base_uri": "https://localhost:8080/"
        },
        "id": "DMP7clmMgm6t",
        "outputId": "ac0a8084-7fe8-4282-af3e-e7143c60e79d"
      },
      "source": [
        "tweets=data['tweets'].values.tolist()\n",
        "len(tweets)"
      ],
      "execution_count": null,
      "outputs": [
        {
          "output_type": "execute_result",
          "data": {
            "text/plain": [
              "1999"
            ]
          },
          "metadata": {
            "tags": []
          },
          "execution_count": 4
        }
      ]
    },
    {
      "cell_type": "markdown",
      "metadata": {
        "id": "6xeOh9nt2VeM"
      },
      "source": [
        "Tokenizing the tweet"
      ]
    },
    {
      "cell_type": "code",
      "metadata": {
        "id": "pOc3IFfojdT8"
      },
      "source": [
        "tweet_list=[]\n",
        "for tweet in tweets:\n",
        "    tokens =  word_tokenize(tweet)\n",
        "    #stop_words=set(stopwords.words(\"english\")) \n",
        "    #word=[word for word in tokens if word not in stop_words]\n",
        "    tweet_list.append(tokens)\n",
        "\n",
        "    "
      ],
      "execution_count": null,
      "outputs": []
    },
    {
      "cell_type": "markdown",
      "metadata": {
        "id": "7Xs9p4Xe2g1m"
      },
      "source": [
        "Training the word2vec Model"
      ]
    },
    {
      "cell_type": "code",
      "metadata": {
        "id": "B24DKlqYgpp4",
        "colab": {
          "base_uri": "https://localhost:8080/"
        },
        "outputId": "f45f5e20-e248-4d7d-b63d-3d00886e067e"
      },
      "source": [
        "EMBEDDING_DIM=100\n",
        "model = gensim.models.Word2Vec(sentences=tweet_list,size=EMBEDDING_DIM,window=5,workers=4,min_count=1)\n",
        "words = list(model.wv.vocab)\n",
        "print('Vocabulary size: %d',len(words))\n",
        "print(words)"
      ],
      "execution_count": null,
      "outputs": [
        {
          "output_type": "stream",
          "text": [
            "Vocabulary size: %d 4908\n",
            "['people', 'can', 'also', 'take', 'advantage', 'of', 'your', 'phone', 'addiction', 'before', 'you', 'dont', 'treat', 'it', 'right', 'away', 'download', 'our', 'app', 'now', 'christmas', 'is', 'a', 'good', 'time', 'to', 'start', 'practicing', 'gratitude', 'check', 'out', 'how', 'will', 'change', 'life', 'driving', 'in', 'the', 'midst', 'depression', 'mindwandering', 'cause', 'higher', 'risk', 'be', 'careful', 'pl', 'may', 'prince', 'peace', 'give', 'u', 'all', 'mind', 'body', 'soul', 'from', 'today', 'going', 'forward', 'prayerforlove', 'anyone', 'else', 'just', 'pretending', 'they', 're', 'ok', 'sadtweets', 'sad', 'at', 'this', 'point', 'ain', 't', 'no', 'need', 'friend', 'for', 'help', 'trend', 'therefore', 'wisdom', 'gods', 'word', 'bring', 'christ', 'jesus', 'heart', 'without', 'delay', 'adult', 'there', 'still', 'struggling', 'with', 'abandonment', 'issue', 'caused', 'by', 'parent', 'divorce', 'know', 'that', 'yourself', 'gift', 'self', 'love', 'holiday', 'season', 'more', 'than', 'ever', 'we', 'must', 'prioritize', 'wellbeing', 'w', 'see', 'their', 'free', 'healthy', 'minds', 'related', 'whats', 'up', 'new', '2019', 'conference', 'released', 'author', 'peterbreggin', 'psychiatric', 'drugs', 'are', 'neurotoxins', 'why', 'and', 'skype', 'therapy', 'overcoming', 'anxiety', 'effective', 'psychotherapy', 'home', 'email', 'me', 'schedule', 'sky', 'what', 'my', 'coffee', 'say', 'december', '23', 'drink', 'its', 'sparkle', 'shine', 'llamazing', 'one', 'coffeelovers', 'better', 'line', 'between', 'patient', 'loved', 'protect', 'poa', 'truly', 'adv', 'get', 'interactive', 'session', 'best', 'doctor', 'reach', 'mentalhealth', 'amazing', 'singleparents', 'widows', 'who', 'have', 'lost', '2020', 'into', '2021', 'i', 'hope', 'talked', 'about', 'feel', 'worth', 'reposting', 'rereading', 'an', 'endogenous', 'opioid', 'deficiency', 'expanded', 'suffocation', 'false', 'alarm', 'theory', 'model', 'employers', 'hr', 'department', 'should', 'consider', 'way', 'ease', 'stress', 'among', 'workforce', 'after', 'researchers', 'explain', 'maintaining', 'holidayrituals', 'important', 'especially', 'during', 'pandemic', 'ability', 'manage', 'proportional', 'adept', 'getting', 'others', 'do', 'want', 'them', 'conquering', 'issues', '15', 'hour', '595', 'student', '2017', 'release', 'link', 'such', 'chat', '18summerstribe', 'speaking', 'imperfectlyperfectcampaign', 'mindset', 'suffer', 'ocd', 'yes', 'these', 'struggle', 'tough', 'deal', 'but', 'never', 'hide', 'spe', 'compelling', 'story', 'clients', 'incorrect', 'diagnosis', 'neurofeedback', 'treatment', 'changed', 'her', 'watch', 'full', 'vi', 'mindfulness', 'matter', 'card', 'game', 'thats', 'gamechanger', 'calm', 'grateful', 'resource', 'been', 'useful', 'thankyou', 'being', 'voice', 'remember', 'discussing', 'terrorism', 'well', 'known', 'security', 'analyst', 'he', 'wa', 'critical', 'open', 'll', 'stop', 'advocating', 'prevention', 'necessary', 've', 'created', 'wellness', 'center', 'video', 'does', 'super', 'annoyed', 'shut', 'down', 'health', 'canada', 'warns', 'against', 'company', 'selling', 'unlicensed', 'healthcare', 'goodhealth', 'research', 'standard', 'quote', 'on', 'motivation', 'management', 'procrastination', 'apply', 'here', 'human', 'real', 'mvp', 'go', 'detail', 'suffice', 'lot', 'discussed', 'bottom', 'if', 'yo', 'black', 'child', 'selective', 'mutism', 'selectivemutism', 'sm', 'parentingtips', 'everyone', 'asking', 'mitochondrion', 'justice', 'mitochondria', 'online', 'depending', 'antidepressant', 'desperate', 'cancer', 'manual', 'isn', 'not', 'too', 'late', 'welcome', 'ebooks', 'offer', 'instant', 'freedelivery', 'virus', 'ending', 'business', 'standing', 'employee', 'back', 'work', 'excellent', 'credit', 'asset', 'journal', 'hope2healed', 'mental', 'therapist', 'threat', 'covid19', 'ourselves', 'community', 'lead', 'worry', 'fear', 'sadness', 'even', 'hopel', 'happy', 'holidays', 'rpsv', 'alone', 'join', 'special', 'zoom', 'celebration', '2', 'pm', 'est', 'rp', 'theres', 'perfect', 'begin', 'something', 'towards', 'perfection', 'selfcare', 'selflove', 'scamprevention101', 'scam', 'awareness', '12', 'days', 'summary', 'scams', 'am', 'reminder', 'safe', 'panic', 'counselling', 'surrey', 'middlesex', 'anxietydisorder', 'tip', '24', 'slow', 'society', 'constant', 'acceleration', 'set', 'own', 'pace', 'try', 'cooking', 'message', 'valued', 'member', 'cutest', 'baby', 'merry', 'yours', 'forgiveness', 'entry', 'ticket', 'healing', 'reflection', 'seasonal', 'affective', 'disorder', 'like', 'diet', 'exercise', 'professional', 'team', 'wish', 'lovely', 'stay', 'enjoy', 'youve', 'earne', 'head', 'present', 'moment', 'overthink', 'hoomans', 'mentalhealthmatters', 'prayerforhope', 'afraid', 'person', 'having', 'difficult', 'checkin', 'or', 'nothing', '1224', 'off', 'whilst', 'moon', 'taurus', 'harm', 'read', 'blog', 'avoid', 'gaining', 'unnecessary', 'weight', 'weightloss', 'very', 'minded', 'psychology', 'loveyourself', 'lets', 'roll', 'family', 'relationship', 'mentorship', 'mindfullness', 'drug', 'kid', 'merrychristmas', 'christmaslove', 'mindful', 'memory', 'often', 'transcends', 'experience', 'nn', 'aware', 'growth', 'lately', 'feeling', 'year', 'm', 'die', 'suicide', 'kind', 'l', 'through', 'roof', 'cant', 'anymore', 'im', 'nervous', 'breakdown', 'heard', 'xanthophobia', 'havent', 'then', 'bad', 'because', 'youre', 'xantho', 'r', '10', 'conditions', 'helped', 'massage', 'reflexologytherapy', 'reflexology', 'reflexologytreats', 'pathogenic', 'parenting', 'behavior', 'alienators', 'narcissisticabuse', 'childabuse', 'silence', 'while', 'dealing', 'stressor', 'arpan', 'pls', 'tell', 'making', 'decision', 'around', 'seems', 'think', 'wasting', 'deciding', 'many', 'bcers', 'adhd', 'other', 'condition', 'afford', 'counsellor', 'unless', 'e', 'talk', 'conversation', 'starter', 'okay', 'ask', 'question', 'mean', 'noticed', 'qu', '22', 'vet', 'commit', 'everyday', 'great', 'insight', 'face', 'please', 'share', 'mother', 'resented', 's', 'learned', 'myself', 'some', 'women', 'men', 'make', 'end', 'meet', 'travel', 'name', 'official', 'dut', 'harvard', 'psychiatrist', 'explains', 'choke', 'stressful', 'situation', 'stresstips', 'wrote', 'poem', 'husband', '33', 'passed', 'brings', 'comfort', 'sometimes', 'look', 'light', 'covid', '19', 'ha', 'reshaped', 'etpodcast', 'hosted', 'guests', 'ishita', 'pateria', 'hey', 'twitter', 'quiet', 'taken', 'nosedive', 'dark', 'cl', 'tricky', 'normally', 'so', 'f', 'major', 'abusethe', 'itself', 'shunned', 'b', 'used', 'series', 'belonging', 'gay', 'doe', 'create', 'within', 'sti', 'true', 'temporary', 'long', 'missed', 'grandchild', 'birthday', 'holid', 'affirm', 'tag', 'affirmyourself', 'informative', 'thread', 'toxic', 'positivity', 'different', 'positive', 'always', 'congress', 'doesn', 'content', 'attack', 'smriti', 'ji', 'taking', 'bribe', 'practice', 'shower', 'definitely', 'find', 'prac', 'oral', 'checkup', 'camp', 'rosalin', 'development', 'centre', 'lucknow', 'those', 'grinch', 'photo', 'keep', 'seeing', 'social', 'medium', 'quit', 'sharing', 'instead', 'trauma', 'becomes', 'peaceful', 'when', 'eliminate', 'habit', 'image', 'macrovector', 'via', 'his', 'final', 'stage', 'asked', 'funer', 'retweet', 'spread', 'daily', 'inspiration', 'quotes', 'quotesoftheday', 'twitch', 'click', 'mawenergy', 'wolvesrecruit', 'contact', 'learn', 'treatmen', 'care', 'wake', 'wave', 'door', 'place', 'knocking', 'opening', 'under', 'existing', 'accept', 'absorb', 'both', 'mentally', 'ill', 'teenage', 'girl', 'exhausting', 'relate', 'momlife', 'pain', 'yoga', 'nnnn', '0', 'challenging', 'as', 'usher', 'newyear', 'together', 'staysafe', 'stayhealthy', 'four', 'week', 'pranayama', 'breathing', 'reduces', 'linked', 'brain', 'speak', 'deprived', 'thinking', 'framework', 'day', 'easy', 'illness', 'doesnt', 'define', '17', 'connections', 'narcissist', 'victim', 'below', 'reason', 'uncomfortable', 'talking', 'subject', 'surrounding', 'most', 'normalising', 'fend', 'neg', 'last', 'minute', 'giving', 'someone', 'support', 'pin', 'careergoals', 'setting', 'marketing', 'clearance', 'nightware', 'first', 'prescription', 'therapeutic', 'nightmare', 'nightm', 'young', 'm4m', 'soulfulcorners', 'livenow', 'letter', 'statement', 'finished', 'certification', 'media', 'future', 'clinical', 'counselor', 'plan', 'use', 'matters', 'nohealthwithoutmentalhealth', 'cat', 'wage', 'insurgency', 'war', 'hummingbird', 'circle', 'tune', 'unfold', 'high', 'impact', 'across', 'migration', 'gender', 'guilt', 'powerful', 'influence', 'shames', 'destructive', 'shame', 'erodes', 'courage', 'morning', 'wide', 'awake', 'ridiculous', 'u0001f90d', 'forgottenservice', 'excited', 'information', 'sunday', 'fda', 'approved', 'li', 'practical', 'guide', 'achieving', 'mustread', 'searching', 'imp', 'using', 'dubious', 'terror', 'where', 'element', 'understan', 'haven', 'longer', 'earth', 'thought', 'practitioner', 'certificate', 'beginner', 'advanced', 'personcentred', 'couns', 'push', 'autism', 'assessment', 'becoming', 'volunteer', '30', 'training', 'commitment', '2m', 'which', 'isnt', 'followed', 'class', 'students', 'teacher', 'safety', '112', 'don', 'trigger', 'warning', 'discussion', 'hospitaliza', 'two', 'emotions', 'kids', 'might', 'parents', 'therapists', 'storybook', 'genius', 'much', 'veteranpeersupport', 'narcissisticabusesurvivor', 'journey', 'workout', 'allnatural', 'cleanse', 'focus', 'surrender', 'unclench', 'shoulder', 'reside', 'near', 'ear', 'soften', 'j', 'closer', 'hard', 'yall', 'mentals', 'wonderful', 'magical', 'merrychristmas2020', 'womenshealth', 'medical', 'literally', 'everything', 'hate', 'listen', 'melissamosher', 'savvyninja', 'supportsavvy', 'period', 'busymums', 'theemergingwomen', 'sleep', 'anxious', 'podcast', 'sponsor', '7', 'night', 'trial', 'reduce', 'woke', 'mighty', 'case', 'only', 'thing', 'cracked', 'particular', 'egg', 'had', 'wanted', 'actually', 'hit', 'wall', 'tabl', 'basic', 'regrets', 'worksheet', '3', 'worksheets', 'tracker', 'book', 'brave', 'control', 'scary', 'feelings', 'fears', 'stopthehybrid', 'th', 'would', 'number', 'suffering', 'increased', 'substantially', 'since', 'yet', 'mindfulnesswithaura', 'nnnnn', 'relaxation', 'disagree', 'disagreement', 'co', 'continue', 'highlight', 'importance', 'mass', 'along', 'tired', 'guess', 'antisocial', 'personality', 'sign', 'mentalillness', 'improved', 'anything', 'big', 'little', 'could', 'simple', 'come', 'soundhealing', 'parasites', 'eh', 'court', 'uk', 'limp', 'louisville', 'nfl', 'nba', 'clear', 'cut', 'democrats', 'identifying', 'gotcha4life', 'mate', 'characteristic', 'become', 'gotcha', '4life', 'pract', 'break', 'immersed', 'professionally', 'win', '4999', 'joy', 'selfhelp', 'short', 'bread', 'witch', 'ventart', 'ventfiction', 'freewrite', 'todays', 'medusas', 'gaze', 'binds', 'wattpad', 'wattpadundiscoveredgems', 'amwriting', 'poetry', 'value', 'extremely', 'contextual', 'complex', 'price', 'rarely', 'importantly', 'yep', 'alot', 'bit', 'processing', 'jeopardy', 'player', 'show', 'eve', 'poetrycommunity', 'poetryisnotdead', 'poetryslam', 'activity', 'kiddos', 'celebrate', 'ptsd', 'role', 'temperature', 'drop', 'deppressed', 'note', 'wouldnt', 'nice', 'cultural', 'competency', 'chapte', 'writing', 'writingcommunity', 'chapt', 'quick', 'coping', 'strategy', 'tension', 'suggestion', 'fantastic', 'advocate', 'cha', 'oz', 'xmas', 'valkyries', 'spirit', 'd', 'hang', 'beginning', 'theresidencerehab', 'rehab', 'follow', 'expect', 'miracle', 'dontquit', 'youmatter', 'ta', 'sure', 'count', 'v', 'greater', 'star', 'oak', 'dream', 'gentle', 'kiss', 'fierce', 'rain', 'thundering', 'peach', 'city', 'launch', 'screening', 'tumultuous', 'uturn', 'leading', 'cve', 'organization', 'holistic', 'perspective', 'pve', 'chronicloveclub', 'chronicillness', 'invisibleillness', 'disability', 'chronicpain', 'bekind', 'thank', 'currently', '147', 'sober', 'allow', 'gathering', 'temp', 'preach', 'goddess', 'mentalwellness', 'restful', 'reflect', 'overcome', 'mi', 'palliative', 'clean', 'sea', 'breeze', 'century', 'blowing', 'put', 'calendar', '0114', 'looking', 'technique', 'vent', 'suck', 'nojudgement', 'improve', 'executive', 'functioning', 'latest', 'kate', 'uplifting', 'post', 'artwork', 'each', 'younger', 'highly', 'dissociative', 'due', 'childhood', 'abuse', 'disassociation', 'later', 'led', 'grounding', 'hear', 'crap', 'emotionalabuse', 'physicalabuse', 'essential', 'ingredient', 'recovery', 'problem', 'therapynotes', 'eyes', 'survivor', 'let', 'claim', 'mentalhealthawareness', 'psychotherapist', 'rock', 'pink', 'teamcuesoul', 'cuesoul', 'autismawarenessindarts', 'dartwolf', 'jdcvirtual', 'toys', 'promote', 'physical', 'archive', 'mhblogger', 'goeasy', 'survivinglockdown', 'ah', 'scrubbysquad', 'scrubbysquadster', 'calscruby', 'fight', 'veteransunite', 'veteransawareness', 'military', 'veteranlivesmatter', 'veterans', 'homie', 'type', 'hormone', 'biohackersassemble', 'hackoflife', 'healthyliving', 'hackingtools', 'despite', 'evidence', 'serious', 'connected', 'violence', '11', 'woman', 'journalist', 'challenge', 'suicidehaters', 'depressionawareness', 'anxietyawareness', 'nami', 'nation', 'largest', 'grassroot', 'job', 'milieu', 'behavioral', 'manager', 'reduction', 'specialist', 'chapter', 'tribute', 'client', 'walked', '2nd', 'anniversary', 'ground', 'cov', 'scotty', 'miles', 'another', 'tweets', 'access', 'servic', 'ellen', 'anni', 'tested', 'vitamin', 'iron', 'deficient', 'supplement', 'eventually', 'le', 'exhaust', 'calcium', 'added', 'extra', 'blessings', 'prolia', 'shot', 'november', 'paul', 'did', 'remembering', 'pill', 'stabbing', 'side', 'again', '43300', 'goal', 'donated', 'shared', 'blessin', 'generous', 'donation', 'osteopenia', 'osteoarthritis', 'million', 'americans', 'facing', 'working', 'walk', 'throu', 'request', 'call', 'text', 'spending', 'shorts', 'wesaynotomazepin', 'academicsuccess', 'winterbreak', '12daysofwellness', 'reading', 'outlet', 'discovering', 'foreign', 'world', 'expanding', 'thinkin', 'losing', 'worst', 'happen', 'lose', 'living', 'jo', 'politely', 'calmly', 'father', 'said', 'ki', 'realize', 'dwayne', 'johnson', 'drds', 'gametherapy', 'live', 'mmowedday', 'catnipgames', 'shroudoftheavatar', 'pla', 'ponder', '200', 'h', 'coming', 'n', 'school', 'buy', 'tech', 'upgrade', 'hv', 'socialmediacleanse', 'digitaldetox', 'heres', '5', 'potential', 'sir', 'income', 'education', 'loan', 'pay', 'lo', 'ironically', 'mha', 'mag', 'ministry', 'smh', 'existence', 'bpd', 'however', 'calling', 'worker', 'trying', 'al', 'catch', 'once', 'relax', 'attempt', 'every', 'couple', 'informed', 'hurt', 'sta', 'virtualappointment', 'florida', 'miami', 'winterpark', 'orlando', 'jacksonville', 'tallahassee', 'mood', 'examine', 'anytime', 'emotional', 'response', 'intense', 'immensely', 'alyson', 'joined', 'discus', 'wednesday', 'already', '218', 'breathed', 'front', 'september', 'dead', 'wait', 'hell', 'kill', 'comic', 'selfesteem', 'anxietys', 'yinyang', 'balance', 'healthyplace', 'anxietyrelief', 'study', 'transdiagnostic', 'cognitivebehavioral', 'significantly', 'improves', 'sxs', 'effect', 'loneliness', 'particularly', 'based', 'yearend', 'questions', 'strategies', 'activat', 'haiku', 'haikuchallenge', 'writingcommnunity', 'compassion', 'nutmeglogic', 'rays', 'symbolise', 'eternal', 'interested', 'psychologist', 'singapore', 'reality', 'fulfill', 'activate', 'bare', 'planner', 'fresh', 'goalsetting', 'manifesting', 'understanding', 'oppositional', 'defiant', 'moved', 'grab', 'onto', 'falling', 'stick', 'got', 'math', 'wrong', 'found', 'enjoyed', 'anthony', 'manna', 'accomplisments', 'published', 'wildfire', 'burned', 'certainty', 'winter', 'appeared', 'collective', 'posi', 'simply', 'realistic', 'beautiful', 'portrayal', 'strug', 'examined', 'trump', 'insanity', 'gop', 'elections2020', 'yay', 'done', 'hiddenillness', 'incredibly', 'fabulous', 'fully', 'joylurking', 'cleaned', 'sliding', 'fly', 'screen', 'jam', 'toothbrush', 'hyperfocus', 'meantime', 'crashbandicoot', 'doodle', 'partial', 'hospitalization', 'program', 'folder', 'drawing', 'betwee', 'insomnia', 'affirmation', 'calming', 'guided', 'wife', 'manages', 'cbt', 'brief', 'india', 'sleeplessness', 'mobile', 'o', 'reaching', 'campaign', 'c', 'needs', 'children', 'ld', 'learningdisabilities', 'were', 'heading', 'next', '0800', '83', '85', '87', 'weekdays', 'mondaythursday', '6pm', '2am', 'weekend', 'friday', 'hurdles', 'combat', 'posttraumaticstress', 'veteran', 'history', 'career', 'held', 'grief', 'lonely', 'concern', 'everybody', 'instinct', 'action', 'chance', 'survival', 'basis', 'repost', 'years', 'usually', 'witc', 'ready', 'itsokaytonotbeokay', '2009', 'really', 'went', 'er', 'tha', 'admit', 'blue', 'soon', 'certain', 'arent', 'chart', 'remoteworking', 'buildbackstronger', 'happened', 'honestly', 'anger', 'treating', 'intrusive', 'visit', 'mates', '247', 'helpline', 'available', 'throughout', '1300', '642', '111', 'kidsnpajn', 'suicideprevention', 'joytrain', 'kindness', 'goldenhearts', 'iam', 'food', 'shopping', 'any', 'milk', 'ri', 'progressive', 'muscle', 'quality', 'perfecting', 'art', 'listening', 'healthymind', 'holistichealth', 'mentalhealthtips', 'recoveryispossible', 'shartzone', 'teeohgaming', '10pm', 'cst', 'vibes', 'warzone', 'streamer', 'nuketown', 'evaluate', 'level', 'test', 'main', 'uses', 'stimulant', 'energy', 'booster', 'anti', 'depressant', 'depressed', 'cheer', 'evening', 'notice', 'animal', 'experienced', 'hasnt', 'few', 'unhappy', 'veers', 'cbc', 'news', 'reminds', 'broken', 'bipolar', 'teen', 'confused', 'absolutely', 'eps', 'individuals', 'crisis', 'including', 'considering', 'urged', 'disaster', 'distress', 'navigating', 'lifes', 'emerge', 'emotionally', 'min', 'va', 'coach', 'concept', '25', 'bearing', 'brunt', 'toll', 'survey', 'low', 'key', 'starting', 'pretty', 'suffered', 'ed', 'age', '13', 'easier', 'popular', 'dramatic', 'tv', 'showcases', 'character', 'socialanxiety', 'felt', 'paranoia', 'month', 'strange', 'sickening', 'christmaseveeve', 'christmas2020', 'original', 'lexa', 'color', 'palette', 'she', 'nurse', 'gynoid', 'hospital', 'run', 'bubble', 'bath', 'facial', 'product', 'ways', 'current', 'episode', 'add', 'medication', 'step', 'bettering', 'wh', 'wont', 'dr', 'bonnie', 'henry', 'adrian', 'dix', 'cv', 'guideline', 'data', 'collection', 'president', 'insane', 'him', 'watching', 'terrifies', 'sociopath', 'danger', 'changeyourmindset', 'changeforthebetter', 'damn', 'asexuality', 'consent', 'gorilla', 'pretend', 'edchat', 'idwp', 'happiness', 'vitally', 'attention', 'nonprofits', 'workfromhome', 'finish', 'editing', 'memoir', 'edit', 'comprehensive', 'decline', 'overall', 'cognitive', 'function', 'sharedfacts', 'update', 'slept', 'cried', 'fuck', 'fuckchristmas', 'fuck2020', 'yeg', 'subah', 'jaldi', 'utho', 'sab', 'theek', 'ho', 'jayega', 'relation', 'betw', 'whatgoesupmustcomedown', 'almost', 'made', 'mistake', 'december25', 'hold', 'candle', 'lull', 'darkness', 'tonight', 'lie', 'abou', 'ultimately', 'craving', 'cravings', 'fault', 'natural', 'symptom', 'triggers', 'somebody', 'aint', 'surface', 'recommend', 'denver', 'bored', 'reducing', 'isolation', 'dea', 'screwed', 'over', 'belief', 'telling', 'robbe', 'selfhypnosis', 'prechristmas', 'rush', 'jesuscalling', 'dude', 'earned', 'belt', 'red', 'gi', 'committing', 'virtual', 'distancing', 'reduced', 'pleasurable', 'loss', 'financial', 'inse', 'rest', 'aloha', 'hawaii', 'keiki', 'families', 'ohana', 'though', 'pregnancy', 'supposed', 'happiest', 'anywhere', '1020', 'talktoatherapistonline', 'onlinetherapy', 'oh', 'finally', 'curfew', '4', 'group', 'feels', 'mom', 'wants', 'united', 'easterseals', 'ceo', 'depersonalization', 'highachieving', 'hardworkcanmakeithappen', 'blessing', 'disguise', 'amidst', 'descends', 'upon', 'household', 'sooth', 'spend', 'deserve', 'authenticity', 'chronic', 'diseases', 'htn', 'dm', 'affects', 'mantras', 'ordered', 'llama', 'curtain', 'started', 'cry', '283', 'extroverts', 'view', 'blah', 'humbug', 'fading', 'slowly', 'peripheral', 'artery', 'disease', 'room', 'unimportant', 'fe', 'pvcs', 'worse', 'motivated', 'generosity', 'lovingkindness', 'interdependence', 'zahar', 'smile', 'esp', 'darkest', 'pu', 'teaching', 'madman', 'truth', 'innovation', 'motivationalquotes', 'thursdaymorning', 'robbed', 'demonstrate', 'kings', 'queens', 'stand', 'chin', 'agap', 'explore', 'explorepage', 'agenda', 'until', 'jan', '4th', 'anyth', 'favourite', 'meme', 'crystalclear', 'chatting', 'iot', 'cryptocurrency', 'blockchain', 'kzsu', 'stanford', 'ipt', 'personal', 'stories', 'individual', 'affected', 'syringomyelia', 'chiarimalformation', 'rarediseases', 'enjoying', 'freedom', 'facebook', 'fit', 'fitnessmotivation', 'associated', 'fourfold', 'cardiovascular', 'death', 'treatable', 'rachel', 'hollis', 'didn', 'putting', 'smash', 'artist', 'hangxiety', 'avoided', 'hangover', 'glimpse', 'further', '2000', 'yearold', 'barcelona', 'greenspace', 'green', 'runnymede', 'phobia', 'consumerism', 'alienation', 'empowerment', 'transformation', '9', 'early', '18', 'continued', 'moderate', 'severe', 'volunteering', 'supporting', 'promoting', 'grieving', 'covid19sa', 'desired', 'inspirational', 'thebadbitchbibleblog', 'tips', 'separation', 'preschooler', 'scream', 'crippling', 'monster', 'oops', 'monsterenergy', 'economy', 'sociologist', 'alain', 'ehrenber', 'chap', 'watchingamistad', 'burn', 'fire', 'cell', 'emergency', 'exit', 'sayin', 'noticing', 'g', 'quite', 'beyond', 'keeping', 'expectation', 'path', 'thriving', 'grandpa', 'jim', 'clam', 'fog', 'whisperer', 'rank', '1', 'intothefog', 'igy6', 'sound', 'indulgent', 'priority', '2018', 'fword', 'oil', 'overwhelming', 'article', 'onlinecoaching', 'remains', 'presence', 'rather', 'prefer', 'hopeworld', 'january', '1st', 'bri', 'givers', 'limit', 'taker', 'wolchin', 'boundaries', 'machine', 'doing', 'aboriginal', 'torres', 'strait', 'islander', 'athletes', 'psychological', 'lean', 'studentathletes', 'thursday', 'namicoloradosprings', 'endthestigma', 'ive', 'failed', 'summer', 'tucked', 'aw', 'enough', 'sparked', 'ngl', 'stream', 'connect', 'humble', 'yourselves', 'god', 'hand', 'lift', 'cast', 'able', 'acknowledge', 'attacking', 'elliptical', 'outside', '876', 'fitness', 'nolimits', 'kick', 'relatively', 'letting', 'dan', 'millman', 'defunded', 'criminal', 'fraud', 'denying', 'service', 'enormous', 'solution', 'moreo', 'prepared', 'managing', 'dunk', 'twist', 'top', 'anthem', 'artistsontwitter', 'badmood', 'boo', 'sob', 'yell', 'space', 'authentic', 'bod', 'farm', 'kellys', 'refer', 'k', 'forget', 'tl', 'battling', 'laugh', 'p', 'seizures', 'brought', 'wearing', 'mask', 'socialising', 'looked', 'chocolate', 'cake', 'lunch', 'upsetting', 'entire', 'running', 'lol', 'waking', 'middle', 'suddenly', 'el', 'plea', 'second', 'opinion', 'unusannuschallenge', 'playitforward365days', 'thankmas2020', 'thankmas', 'affect', 'productivity', 'seek', 'specialized', 'pet', 'pic', 'party', 'comment', 'beloved', 'caregivers', 'postpartum', 'nor', 'relationshipadvice', 'youtuber', 'smallyoutuber', 'jeresspace', 'lifestyleyoutuber', 'date', '14', 'naseem', 'myth', 'liar', 'masks', 'anxietyisaliar', 'atl', 'atlanta', 'maskup', 'educator', 'requires', 'removed', 'inclusive', 'opportunity', 'recharge', 'rejuvenate', 'persistent', 'newage', 'spiritual', 'steeped', 'tox', 'burnout', 'twas', 'land', 'cursing', 'local', 'tar', 'charity', 'close', 'someway', 'animalitos', 'cbd', 'dog', 'tincture', '300mg', 'painrelief', 'pets', 'dogs', 'arthritis', 'prevent', 'helpful', 'friendly', 'loving', 'othe', 'partner', 'staff', 'thesanctuarycourse', 'y', 'assemblage', 'nature', 'stomping', 'significant', 'movie', 'fact', 'wrap', 'regard', 'trained', 'former', 'captain', 'rick', 'vaive', 'hockey', 'writer', 'scott', 'morrison', 'save', 'term', 'queero', 'queer', 'hero', 'insp', 'man', 'drama', 'cousin', 'wanting', 'college', 'eat', 'functional', 'ned', 'vizzini', 'mota', 'thc', '900mg', 'indica', 'corner', 'stressing', 'u0001f97a', 'stressed', 'ugh', 'iwanttocry', 'detrimental', 'envy', 'appears', 'lindsey', 'narrates', 'growing', 'abusive', 'brutal', 'beating', 'answer', 'recovering', 'addicts', 'ridden', 'indie', 'film', 'movin', 'groovin', 'music', 'ma', 'offering', 'african', 'heritage', 'referr', 'coursemates', 'computer', 'icon', 'university', 'tall', 'theyll', 'fall', 'drowned', 'beer', 'miss', 'valid', 'tomorrow', 'promo', 'code', 'called', 'chosen', 'performance', 'bio', 'unusual', 'sam', 'reminded', 'bright', 'bargain', 'store', 'regular', 'sat', 'sun', 'closed', 'ca', 'makingtime', '18years', 'wear', 'dinner', 'table', 'lockdown', 'hopeisreal', 'ruined', 'ya', 'sink', 'wan', 'na', 'hitting', 'toughest', 'escaped', 'celebrateyou', 'sports', 'physicalheath', '3pm', 'announcement', 'whippedsheabutter', 'whippedbodybutter', 'example', 'cmhas', 'lack', 'integrity', 'leadership', 'gett', 'throw', 'bomb', 'thankful', 'shift', 'perspecti', 'mindbodyspirit', 'bet', 'st', 'prepare', 'cmha', 'talks', 'michelle', 'allysa', 'unmotivated', 'headed', 'trouble', 'ann', 'greco', 'anxi', 'christian', 'ridsdale', 'jail', 'stopchildabuse', 'lower', 'hippoca', '6', 'road', 'trip', 'hotelmarketing', 'hotelnews', 'estrogen', 'cvd', 'ogbyn', 'daniel', 'bahnmiller', 'damaging', '52', 'frequent', 'smartwatch', 'developed', 'hackathon', 'frickin', 'overthinking', 'mylife', 'same', 'relatable', 'memes', 'helping', 'u200d', 'folk', 'whose', 'obsession', 'crossed', 'ashwagandha', 'effects', 'induced', 'nobody', 'dismissive', 'elses', 'sheet', 'carers', 'ebook', 'codependents', 'codependent', 'melodybeatty', 'stayhome', 'nye', 'discuss', 'changing', 'landscape', 'scho', 'past', 'enlarge', 'boose', 'course', 'feb', 'attachment', 'rocking', 'gon', 'sway', 'chevonna', 'gaylor', 'lmft', 'pas', 'owned', 'forced', 'businessnews', 'ignorance', 'america', 'ge', 'advice', 'provided', 'longstanding', 'obstacle', 'acceptance', 'boundar', 'youd', 'monthly', 'newsletter', 'hilarious', 'fun', 'vlog', 'vlogmas', 'harsher', 'tier', 'disconnect', 'resour', 'seegod', 'despair', 'hopelessness', 'annoyance', 'schizophrenia', 'investigational', 'streamers', 'exhaustion', 'tweet', 'dec', '24th', 'likely', 'scheduled', 'june', '40', 'reported', 'substance', 'typical', 'ppl', 'talented', 'troubleshooting', 'common', 'areas', 'asd', 'asperger', 'stfu', 'juicewrld', 'match', 'burning', 'destroys', 'dolly', 'ball', 'sacked', 'pajamas', 'stigmas', 'pose', 'proud', 'noon', 'ms', 'teams', 'meeting', 'coalition', 'normal', 'ten', 'ago', 'ignore', 'far', 'holidayseason', 'holidays2020', 'superpower', 'bemightier', 'mightier', 'bigfeelings', 'keepcool', 'address', 'edtpa', 'forcing', 'turn', 'awakening', 'pattern', 'emotion', 'reliving', 'feelin', 'hypersexuality', 'sex', 'newest', 'lifestyles', 'host', 'soberiety', 'measures', 'institution', 'provide', 'adequate', 'supply', 'educate', 'deadly', 'impacted', 'unemployment', 'puck', 'handle', 'interdisciplinary', 'festival', 'iarf', 'arts', 'creative', 'youll', 'taco', 'writerslife', 'quoteoftheday', 'strong', 'decrease', 'glad', 'supportive', 'likes', 'needed', 'asktwitter', 'crystal', 'singing', 'bowl', 'holi', 'oxford', 'relations', 'coordinator', 'john', 'keyes', 'recently', 'rise', 'result', 'jobs', 'yesterdays', 'tools', 'marshall', 'mcluhan', 'search', 'ch', 'showing', 'act', 'sooner', 'things', 'substanceabuse', 'psychotic', 'website', 'recommendation', 'harmed', 'seemingly', 'sucked', 'idea', 'struck', 'studies', 'petting', 'blood', 'lipstick', 'pig', 'pei', 'govt', 'realizes', 'youtube', 'channel', 'adiaryfromnoone', 'popping', '2012', 'bpdandchristmas', 'covidchristmas2020', 'santa', 'slip', 'stabilizer', 'tree', 'awful', 'hurry', 'eye', 'tea', '12th', 'pt', 'livestream', 'bringing', 'increase', 'happening', 'prevalent', 'bl', 'grantee', 'provides', 'counseling', 'rural', 'area', 'limited', 'tms', 'noninvasive', 'empathy', 'digital', 'coffees', 'continues', 'raven', 'warren', 'mo', 'cost', 'measure', 'amplifykindnes', 'estancia', 'nm', 'hello', 'fam', 'blessed', 'meetup', 'sh', 'option', 'spreading', 'yoursel', 'sits', 'expert', 'erin', 'cantor', 'song', 'play', 'services', 'embrace', 'possible', 'came', 'hardened', 'dissapointments', 'tool', 'wildly', 'active', 'emptiness', 'inner', 'peggy', 'omara', 'motherhood', 'donald', 'verifiably', 'unwell', 'sociopathic', 'spiral', 'trumpisnotwell', 'npd', 'hands', 'id', 'weve', 'frustration', 'journaling', 'clensing', 'appreciate', 'drive', 'critic', 'perused', 'thus', 'deemed', 'worthy', 'instagram', 'caption', 'afsporgnewjersey', 'illustration', 'lifestyle', 'hashtags', 'befearless', 'gingercookies', 'son', 'prouddad', 'double', 'ginger', 'yeah', 'promise', 'election', 'sister', 'preacher', 'stealing', 'tra', 'embarrassed', 'express', 'surround', 'genuinely', 'direct', 'anticipate', 'choice', 'cycle', 'state', 'apologize', 'salve', 'administration', 'method', 'benefit', 'cannabidiol', 'wellbeingunisusorguk', 'itsoktonottobeok', 'wise', 'prosperous', 'copy', 'uncertain', 'purpose', 'build', 'selfworth', 'selfconfidence', 'small', 'volu', 'wherever', 'positivethoughts', 'rethinking', 'ally', 'psychtwitter', 'thanks', 'writers', 'novel', 'makes', 'us', 'vegetarian', 'vegan', 'dance', 'seduce', 'manifest', 'thi', 'culture', 'country', 'wonder', 'wow', 'seriously', 'congratulations', 'negativity', 'failing', 'privilege', 'villain', 'dreambig', 'privatepractice', 'cornwall', 'took', 'weed', 'tear', 'exhaled', 'report', 'poor', 'overdoses', 'direction', 'uncertainty', 'fake', 'addictionrecovery', 'couldnt', 'goodnight', 'nowplaying', 'obbm', 'playl', 'shipment', 'couldn', 'shittyday', 'rootcanal', '60', 'dy', 'saving', 'inbox', 'shown', 'ibs', 'psoriasis', 'bei', 'yourfriendlyneighborhoodmexican', 'oneofthem', 'oils', 'lavender', 'naturaltherapy', 'power', 'copingwithcovid', 'autistic', 'ideal', 'negative', 'spac', 'nations', 'advocacy', 'association', 'hid', 'david', 'corecivic', 'hiring', 'olneysprings', 'missing', 'meds', 'sorry', 'bullied', 'nee', 'cope', 'settlement', 'ontario', 'language', 'pa', 'joe', 'jackson', 'llc', 'felicia', 'dope', 'inbetweeners', '1618', 'yr', 'disadvantage', 'seekin', 'turmoil', 'adventure', 'bucket', 'load', 'dysfunctional', 'splash', 'physically', 'touch', 'brainwashing', 'form', 'wash', 'independent', 'approve', 'disabled', 'chronically', 'neis', 'erase', 'interesting', 'unique', 'friends', '26', 'sunshine', 'kindle', 'psychedelic', 'industry', 'psychedelicstocks', 'trait', 'pisces', 'fml', 'single', 'hardest', 'txt', 'tho', 'defeated', 'inspiratio', 'u0001f9e0', 'melsminds', 'howsyourmental', 'transformative', 'thirdperson', 'imm', 'fuckin', 'cunt', 'peep', 'elevation', 'blimey', 'fatfitbogan', 'marathontraining', 'runner', 'luxury', 'slave', 'frui', 'daring', 'boundary', 'disappointing', 'recent', 'event', 'youth', 'nebraska', 'ondemand', 'ig', 'codependency', 'parentingadvice', 'surefire', 'ruin', 'engagin', '1435', 'hav', 'plainly', 'document', 'traci', 'shameful', 'financialcrises', 'introspective', 'expressing', 'inspir', 'sweet', 'info', 'science', 'scicomm', 'optimistic', 'convince', 'occupationaltherapy', 'whole', 'approach', 'serving', 'globe', '100', 'physicalhealth', 'conspiracy', 'dontgetcomplacent', 'knowledgeispower', 'nowyouknow', 'pharmacy', 'technician', 'band', 'applicat', 'disappointed', 'drove', 'tire', 'debi', 'sounds', 'x', 'asksaiqa', 'rid', 'thursdaythoughts', 'heal', 'move', 'block', 'built', 'tremendous', 'pressure', 'themselves', 'perform', 'balancing', 'cover', 'integrate', 'planning', 'exactly', 'sadlife', 'nofriends', 'nofeelings', 'anonymous', 'seem', 'disintegrating', 'nope', 'unfortunately', 'slot', 'transition', 'learning', 'ap', 'webinar', '1202', '21', 'organised', 'jointly', 'british', 'workers', 'values', 'foundationh', 'relaying', 'shieldingstories', 'reallife', 'lived', 'clinicallyvulnerable', 'unsupported', 'su', 'engagement', 'population', 'improving', 'outcomes', 'traumainformed', 'part', 'tr', 'hardly', 'owt', 'exhausted', 'bitch', 'planned', '3rd', 'timetable', 'icymi', 'yesterday', 'reflected', 'faced', 'highlighted', 'skip', 'decided', 'appointment', 'thrilled', 'acting', 'sharon', 'despondency', 'aiming', '930', 'connecting', 'deeper', 'connection', 'recognize', 'fragile', 'volume', 'occasion', 'pull', 'fourstep', 'sticker', 'funny', 'cutie', 'ohyouresotough', 'staying', 'older', 'include', 'socially', 'serve', 'domesticviolence', 'companionship', 'write', 'demon', 'burble', 'launched', 'innovative', 'links', 'weekly', 'oct', 'ediscovery', 'savior', 'lord', 'forever', 'ezek', '3626', 'ps', '4211', 'fwork', 'investt', 'abstractat', 'strikes', 'dive', 'sporttype', 'sportmotivation', 'mad', 'james', 'harden', 'paid', 'fatigued', 'humans', 'tel', 'picked', 'shop', 'floor', 'kiddy', 'toy', 'box', 'caught', 'testing', 'qt', 'border', 'whereisthescience', 'startup', 'youturn', 'works', 'expand', 'afternoon', '7km', 'lots', 'snow', 'probably', 'trail', 'shoe', 'revisiting', 'intentional', 'evolution', 'intention', 'process', 'philosophy', 'invest', 'strongly', 'charitable', 'organisation', 'enterprise', 'forgotten', 'liste', 'spring', 'slightly', 'stabby', 'wasnt', 'turning', 'blackboyjoy', 'gummy', 'finding', 'water', 'sing', 'loud', '7pm', 'tests', 'diagnosing', 'aspergers', 'scroll', 'blogpost', 'pcos', 'yogaathome', 'stretch', 'periods', 'carefully', 'observing', 'medal', 'honor', 'recipient', 'kyle', 'white', 'cutting', 'ourself', 'temporarily', 'relieve', 'deep', 'behavioralhealthcare', 'considered', 'general', 'specialty', 'remain', 'piece', 'campus', 'gettingthrough', 'whatever', 'tend', 'exchange', 'neighbour', 'autoimmune', 'immune', 'mediated', 'experiencing', 'harder', 'captive', 'meditation', 'busy', 'extreme', 'gifted', 'invited', '12mins', 'brexit', 'amd', 'teammates', 'understand', 'raw', 'kept', 'stolen', 'responsible', 'whenever', 'shake', 'funk', 'three', 'isparx', 'transformed', 'psych', 'pmhnp', 'graduate', 'brainhealth', 'olivia', 'was', 'taught', 'emotins', 'greg', 'choose', 'sicknotweak', 'dyk', 'sameday', 'sk', 'gave', 'opened', 'thurs', '1200', 'pst', 'guest', 'activist', 'actor', 'mariel', 'hemingway', 'funniesttweets', 'funnylines', 'funnyquotes', 'benzodiazepines', 'zdrugs', 'prescribed', 'indefinitely', 'sort', 'storm', 'factor', 'william', 'stoops', 'phd', 'professor', 'legitimize', 'wha', 'amanda', 'weewaaz', 'justdoit', 'avoiding', 'telehealth', 'telemedicine', 'beneficial', 'bill', 'options', 'mat', 'programs', 'attitude', 'ensure', 'mid', '20', 'dad', 'prayerforlife', 'dear', 'jolly', 'although', 'map', 'vacation', 'indulge', 'kruse', 'veterancommunity', 'awesome', 'reminding', 'track', 'checki', 'alotlikechristmas', 'eviction', 'hunger', 'challe', 'recording', 'alive', 'meaning', 'happyholidays', 'cook', 'rochdale', 'town', 'carry', 'imperfection', 'cuz', 'convos', 'dei', 'foot', 'warmer', 'mention', 'comfy', 'lidl', 'system', 'britain', 'governance', 'bullying', 'large', 'behavioralhealth', 'mild', 'mouth', 'guard', 'clenching', 'jaw', 'twice', 'beat', 'failure', 'success', 'unknown', 'inquiries', 'bollywood', 'clarify', 'behind', 'account', 'easing', 'hopefully', 'festive', 'festiveseason', 'source', 'prepandemic', 'nu', 'review', 'carol', 'aural', 'antidote', 'jesse', 'dynes', 'performs', 'hopefortheholidays', 'coaching', 'soca', 'dancing', 'public', 'totally', 'fine', 'adorable', 'relief', 'kit', 'pleasant', 'valley', 'aevidum', 'inspire', 'snapchat', 'crazy', 'u0001f970', 'tight', 'california', 'quickly', 'leaving', 'dust', 'corne', 'tackle', 'beforehand', 'soothing', 'botanical', 'ze', 'abo', 'arte', 'digitalart', 'artista', 'visualart', 'cool', 'instart', 'mh', 'meditations', 'rewire', 'neural', 'pathways', 'transform', 'consta', 'unprecedented', 'similar', 'grand', 'allowing', 'receive', 'damage', 'catalyzed', 'root', 'ba', 'amongus', 'figure', 'worked', 'shtwt', 'uwu', 'boys', 'residential', 'lane', 'appearances', 'programme', 'picture', 'random', 'shit', 'complete', 'asshole', 'sleeping', 'weighted', 'blanket', 'zopiclone', 'luck', 'haha', 'morgan', 'unit', 'worship', 'baptize', 'strongertogether', 'resist', 'resisters', 'savetheplanet', 'ragescreamed', 'gutteral', 'noise', 'lung', 'painted', 'rainbow', 'comedy', 'amreading', 'happens', 'television', 'cheaper', 'morrisons', 'fruit', 'aldi', 'profit', 'syso', 'foundation', 'google', 'jump', 'conclusion', 'horrible', 'di', 'mentalhealthcheckin', 'donate', 'suit', 'sorrowful', 'believe', 'lucky', 'mentor', 'none', 'erc', 'olmsted', 'county', 'conversion', 'banning', 'statewide', 'erika', '10000', 'served', 'law', 'attorney', 'employees', 'pick', 'bag', 'potato', 'carrot', 'sprout', 'foe', 'spendi', 'playwitheric', 'initiative', 'musician', 'rough', 'chill', 'worldofwarcraft', 'grinding', 'lvl', 'shadowlands', 'lov', '48', 'enjoylife', 'havefun', 'enjoythemoment', 'behappy', 'sheffield', 'dogwalker', 'carer', 'gut', 'probiotics', 'survived', 'shamble', 'habing', 'saod', 'scientific', 'nimh', 'curated', 'cyberpunk2077', 'playstation4', 'breed', 'unrealistic', 'nurture', 'harriet', 'dyer', 'guestpost', 'saved', 'fortune', 'workshop', 'encourage', 'identity', 'heritag', 'survive', 'danielles', 'borderlinepersonalitydisorder', 'prime', 'fictitious', 'mindjournal', 'mine', 'describe', 'parksandrec', 'april', 'andy', 'whether', 'stranger', 'hoping', 'amendment', 'takeover', 'doublebooked', 'usual', 'oped', 'u2066', 'u2069', 'curl', 'nasty', 'goals', 'med', 'grocery', 'ti', 'convenience', 'chip', 'dishes', 'cptsd', '43wks', 'counting', 'flashback', 'atomization', 'crawling', 'regulate', 'five', 'canadians', 'less', 'reserved', 'seat', '8', 'healthh', 'virtualhealth', 'discovered', 'refresh', 'tank', 'puddle', 'knee', 'arun', 'cassette', 'upstairs', 'hes', 'absolutel', 'thissssssss', 'wasn', 'diagnosed', 'un', 'whe', 'minsan', 'pinangarap', 'ko', 'talagang', 'makilala', 'ako', 'ng', 'iba', 'passion', 'hobby', 'talent', 'pero', 'drag', 'rq', 'pop', 'plus', 'antidepressan', 'generation', 'battled', 'sliver', 'grad', 'breaking', 'contract', 'soooo', 'ur', 'money', 'sought', 'cw', 'several', 'belittled', 'dismissed', 'yea', 'depressive', 'wit', 'screwing', 'apparently', 'selfdiagnosed', 'depres', 'misdiagnosed', 'didnt', 'dsm', 'requ', 'checked', 'tw', 'ment', 'remind', 'youlee', 'suho', 'webtoon', 'depressiondon', 'charac', 'daughter', 'hugs', 'depr', 'either', 'louis', 'lowest', 'diagnose', 'bc', 'shi', 'lmao', 'umm', 'insensitive', 'joke', 'mg', 'anxie', 'least', 'officially', 'befo', 'completely', 'aye', 'sexy', 'mf', 'old', 'incomplete', 'barely', 'understood', 'stuff', 'tonights', 'loser', 'vids', 'latel', 'spine', 'fibromyalgia', 'sucky', 'kicker', 'undiagnosed', 'schoo', 'ly', '45', 'french', 'korean', '165', 'cm', 'ana', 'mia', 'relapsing', 'rn', 'u0001f9cd', 'refuse', 'diff', 'tried', 'generalized', 'disordered', 'eating', 'entertain', 'depressio', 'tail', 'pinned', 'realized', 'drinking', 'capped', 'distinguish', 'recall', 'sickle', 'disturbed', 'scare', 'kelly', 'earlier', 'u0001f972', 'medically', 'chemical', 'imbalance', 'stil', 'field', 'hi', 'remission', 'diagn', 'kazakhstan', 'liver', 'de', 'dirty', 'blame', 'gad', 'slew', 'grandma', 'uncle', 'heya', 'strea', 'salary', 'house', 'hel', 'su1c1da', 'diagno', 'swear', 'knew', 'yknow', 'tht', 'bitches', 'positively', 'misgendered', 'shouldn', 'bother', 'transgender', 'cancelled', 'housing', 'semester', 'submitted', 'appe', 'formally', 'written', 'etc', 'semba', 'nonbinary', 'trans', 'guy', 'sculpting', 'global', 'car', 'accident', 'anorexia', 'um', 'legit', 'trendy', 'fucking', 'crashed', 'air', 'biopolar', 'swing', 'twt', 'socmed', 'worried', 'shes', 'teenagers', '66', 'premature', 'obser', 'agree', 'selfdiagnosing', 'insurance', 'won', 'sa', 'woop', 'degree', 'seasonally', 'ide', 'told', 'biological', 'vulnerable', 'dep', 'neurodivergence', 'catchall', 'rur', 'cosmetologist', 'seen', 'decent', 'answering', 'completed', 'master', 'biolog', 'advised', 'watchi', 'hat', 'gone', 'pinpoint', 'nintendo', 'saying', 'privileged', 'depresse', 'instea', 'argue', 'majority', 'helluva', 'reser', 'yazi', 'fix', 'cornerstone', 'clowning', 'robot', '2016', 'breathe', 'quell', 'versus', 'focusing', 'depresive', 'bila', 'unlike', '90', 'spent', 'facility', 'ofc', 'awhile', 'additional', 'context', 'asymptomatic', 'whi', 'voluntary', 'claptrap', 'gaslighting', 'ex', 'zealander', 'com', 'actual', 'idk', 'consequence', 'sushant', 'filled', 'diagnos', 'majorly', 'wth', 'seve', 'lovin', 'clinically', 'spa', 'clearly', 'downplay', 'anyones', 'imply', 'signif', 'theyre', 'terrible', 'nonsense', 'rigorous', 'wor', 'months', 'irl', 'wkth', 'audio', 'lmaoooo', 'normalizing', 'left', 'obesity', 'killed', 'untreated', 'psychiatry', 'freshly', 'thankfully', 'conclus', 'announcing', 'sensitive', 'topic', 'cus', 'pool', 'saturated', 'mess', '99', 'edgy', 'diag', '16', 'ironic', 'meal', 'idaho', 'slimjim', 'meatgang', 'offense', 'psychopath', 'buat', 'orang', 'rasa', 'stopped', 'prank', 'skeptical', 'surge', 'dysphor', 'backgrou', 'checker', 'holy', 'sent', 'suffers', 'involved', 'fascinating', 'indeed', 'stumbling', 'evaluated', 'maybe', '46', 'unsurprisingly', 'gp', 'spotify', 'ai', 'havi', 'seven', 'coordinating', 'began', 'subdrop', 'karen', 'cal', 'caregiving', 'caring', 'au', 'prompt', 'owe', 'transparent', 'crossover', 'sym', 'half', 'brother', 'tweeted', '63', 'downward', 'spawned', 'lik', 'scared', 'belen', 'marcus', 'grow', 'fi', 'bee', 'fullblown', 'adjustment', 'iv', 'gosh', '12kg', 'gained', 'crumb', 'whoeber', '725', '2530', 'kim', 'apnea', 'according', 'asaa', 'longterm', 'eff', 'lana', 'cn', 'dia', 'ure', 'born', 'nigeria', 'automatically', 'nepa', 'insecurity', 'interest', 'lefthanded', 'biggest', 'curse', 'delivers', 'given', 'businesses', 'rate', 'preventab', 'dsmiv', 'prohibit', 'ph', 'phase', 'mentioned', '37', 'twenty', 'fo', 'sushantsinghrajput', 'hed', 'doctors', 'sever', 'adderall', 'duper', 'ppd', 'definitel', 'galaxy', 'nearly', 'national', 'alliance', '64', 'condit', '1212', 'clue', 'borderline', 'dick', 'decade', 'titkok', 'voluntarily', 'participating', 'hygiene', 'suicidality', 'suicidal', 'extensive', 'cliftongrooms', 'eighteen', 'canadian', 'prorecovery', 'diso', 'shitty', 'countless', 'comp', 'lmaooo', 'rubbish', 'alright', 'dying', 'emo', 'thingz', 'nah', 'debilitating', 'met', 'insanely', 'constantly', 'hiding', 'embarassing', 'introduction', 'transboy', 'named', 'ashton', 'liam', 'mostly', 'ily', 'nowadays', 'enduring', 'schoolwork', 'perfectly', 'painting', 'lembro', 'wilbur', 'msica', 'faculty', 'veterinary', 'medicine', 'mu', 'showed', 'chroni', 'pathologize', 'wondering', 'thru', 'shoul', 'pjsekai', 'hug', 'miku', 'wouldn', 'cyber', 'specifically', 'depre', 'pre', 'diabetic', 'nev', 'died', 'bleed', '300k', 'suggested', 'meditatio', 'chooses', 'lasted', 'transparenc', 'honest', 'agoraphobic', 'riddled', 'exserviceman', 'chort', 'possibly', 'bout', 'seemed', 'cracker', 'preferred', 'talki', 'upheaval', 'ohh', 'yaaaaaay', 'smtg', 'probl', 'stigmatized', 'korea', 'sunmi', 'suggest', 'autisti', 'qondile', 'surely', 'otherwise', 'dysregulation', 'mfs', 'environment', 'u0001f92c', 'calibri', 'urself', 'smthing', 'doubt', 'kinda', 'allud', 'affecting', 'asthma', 'revea', 'aren', 'perhaps', 'wil', 'extent', 'thes', 'became', 'kpop', 'saw', 'ent', 'actress', 'deepika', 'padukone', 'noth', 'bi', 'streaming', 'atm', 'mystery', 'dumb', 'faking', 'technically', 'derealization', 'suspect', 'usa', 'exploration', 'microorganism', 'abused', 'implication', 'lil', 'ideation', 'quarantine', 'rlly', '1998', 'six', 'mix', 'kidney', 'stone', 'cyst', 'stuck', 'sunggyu', 'listened', 'intently', 'fan', 'july', 'kinky', 'boots', 'permit', 'empty', 'tim', 'undefined', 'mania', 'nicknamed', 'vampire', 'surprised', 'dawg', 'iknow', 'dipolar', 'afab', 'teenager', 'hm', 'apartment', 'onl', 'nd', 'preliminary', 'neurodivergent', 'dysmorphia', 'ste', 'grandkids', 'depressi', 'skin', 'outr', 'willing', 'send', 'threatened', 'sexuality', 'cide', '98', 'lesbian', 'ednos', 'harmer', 'dnf', 'dni', 'till', 'stigma', 'dismiss', 'label', 'menta', 'imagine', '22k', 'subscriber', 'upload', 'keratoconus', 'developing', 'u0001f92a', 'shitting', 'a8', 'roller', 'coaster', 'ups', 'downside', 'drsuess', 'aesthetic', 'round', 'fairly', 'allowed', 'tendency', 'besties', 'inactive', 'unresponsive', 'battle', 'osteoporosis', 'silent', 'bone', 'bec', 'alcoholism', 'sense', 'alcoholic', 'dpd', 'tie', 'crippled', 'immediate', 'delaying', 'inevitable', 'trichotillomania', 'tmt', 'whoever', 'momma', 'hoe', 'hiv', 'egirl', 'ps4', 'shocked', 'disorders', 'prolonged', 'stepsister', 'stepdad', 'bending', 'backwards', 'sto', 'adolescent', 'nafld', 'incidence', 'depress', 'negatively', 'gastrointestinal', 'yeonbin', 'barista', '452', 'includi', 'posting', 'combined', 'wi', 'stoner', 'beatachorzepa', 'kkwholiday', 'foreclosure', 'vise', 'versa', 'gianna', '1989', 'rhetorical', 'sarcastic', 'depersonnalisation', 'ahaha', 'sike', 'hearing', 'nerve', 'wrecking', 'thatll', 'stable', 'mr', 'topak', 'kasi', 'po', 'healed', 'beg', 'bro', 'ahhhh', 'imposter', 'syndrome', 'appt', 'ruthy', 'taylor', 'swift', 'thirteen', 'genuine', 'obsessing', 'bot', 'worrying', 'lifted', 'u0001f9b7', 'tooth', 'teeth', 'bisexy', 'addict', 'numerous', 'somatic', 'tmi', 'medicated', 'somehow', 'inspired', 'happ', 'moot', 'reece', 'str', 'users', 'labeled', 'anchor', 'satisfied', 'strict', 'appreciative', 'anxiet', 'inb', 'referred', 'waiting', 'list', 'bipolardepression', 'market', 'expected', 'cagr', '1669', '201730', 'managed', 'smoking', 'socialize', 'imprisoned', 'multiple', 'illnesss', 'invalidation', 'polit', 'liberal', 'following', 'rea', 'redoing', 'fyucki', 'fyu', 'pronoun', 'edtwt', 'sporadically', 'xem', 'idc', 'alw', 'hunny', 'regula', 'farahxleeuwenhof', 'deserves', 'pampering', 'rly', 'pissed', 'abt', 'ended', 'unfoll', 'stan', 'acc', 'commented', 'triggered', 'punched', 'hole', 'bedroom', 'nit', 'aggressive', 'order', 'sick', 'capacity', 'familys', 'ove', 'properly', 'seeker', 'doct', 'impossible', 'gm', 'susp', 'excuse', 'disclaimer', 'basically', 'traced', 'mdd', 'treated', 'differently', 'excluded', 'som', 'ooze', 'masc', 'deployment', 'strain', 'uhmh', 'suree', 'display', 'javent', 'sibling', 'u0001f971', 'fck', 'ailment', 'barney', 'february', 'grandfather', 'jul', 'eligible', 'pencil', 'understandable', 'professi', 'recorded', 'huh', 'except', 'su1c1dal', 'acti', 'specific', 'arachnoid', 'lobe', 'size', 'cleared', 'u1', 'eudicia', 'occasionally', '70000', 'ibd', 'tied', 'comorbid', 'awwww', 'ness', 'ik', 'und', 'hahaha', 'cue', 'frame', '28', 'granddaughter', 'woah', 'af', 'estimate', '570k', 'pushed', '3yrs', 'norm', 'allura', 'haru', 'surprise', 'span', 'xx', 'cybernova', 'fighti', 'sadly', 'selfharm', 'ineffective', 'gesture', 'wo', 'imo', 'omg', 'medicineeeeeeeeeeeee', 'inlaw', 'hill', 'sum', 'europea', 'absolute', '430', 'lifelong', 'annoying', 'internalize', 'ego', 'elite', 'bunch', '20092014', '70', 'male', 'si', 'confidence', 'lmaooooo', 'offends', 'hmu', 'sensory', 'allergy', 'blast', 'itching', 'niharika', 'pcod', 'healthier', 'sprea', 'difference', 'tellin', 'lexapro', 'weird', 'stupid', 'phrase', 'guilty', 'myselffeeling', 'concussion', 'neck', 'adrenal', 'btw', 'selft', 'agnosick', 'deseases', 'consistent', 'malar', 'rash', 'difficulty', 'tachycardia', 'indicative', 'mcas', 'lazy', 'proceed', 'sit', 'improv', 'kahit', 'binge', 'odaat', 'watched', 'penelop', 'emotionsafter', 'diabetes', 'blackout', 'attempted', 'lillyanas', 'mum', 'lee', 'witn', 'sen', 'heyo', 'names', 'emi', 'sitting', 'effort', 'politician', 'noone', 'sectioned', 'schizophrenic', 'doc', 'trash', 'medscape', 'conditio', 'substantial', 'sometim', 'replying', 'dms', 'humbly', 'pp', 'refused', 'toward', 'personally', 'gotten', 'smoker', 'various', 'uncured', 'tashigi', 'tfw', 'comorbidities', 'alongside', 'yeaaaa', 'gue', 'wellbutrin', 'pure', 'babeee', 'penis', 'heroine', 'addicted', 'cli', 'sons', 'combination', 'omegle', 'tysm', 'pr', 'badly', 'portray', 'zoey', 'traumatic', 'bcz', 'mome', 'survived2020', 'herself', 'frustrated', 'angry', 'catfishing', 'gaslig', 'antidepressants', 'shrink', 'craig', 'deen', 'plenty', 'hahahahhaha', 'therapi', 'controlling', '2014', 'fanfic', 'drained', 'atlas', 'evanna', 'lupin', 'attacked', 'werewolf', 'hooooly', 'anyway', '34', 'suicides', 'incorrectly', 'manic', 'hot', 'explanation', 'joking', 'depers', 'presentation', 'eupd', 'unemployed', 'copay', 'stare', 'nhs', 'overwhelmed', 'restriction', 'financ', 'ii', 'narcissism', 'scored', 'curious', 'sane', 'boy', 'amongst', 'outmuscled', 'freekick', 'lewa', 'invalidating', 'se', 'nyc', 'selfdiagnosis', 'dangerous', 'medicatio', 'suici', 'lock', 'normalized', 'texting', 'resistant', 'const', 'paranoid', 'rece', 'yikes', 'concerned', 'unde', 'grandas', 'frie', 'tak', 'akan', 'tahu', 'hadap', 'llllloooollllll', 'nur', 'middl', 'identified', 'oxygen', 'organ', 'surgery', 'worke', 'comparing', 'boyfriend', 'wreck', 'idrk', 'swag', 'prophet', 'yaqub', 'alaihisala', 'assoc', 'werent', 'rejected', 'questionnaire', 'committed', 'complicated', 'pfft', 'questioning', 'assume', 'freshman', 'prob', 'reaction', 'hysteria', 'teens', 'educational', 'achievement', 'terminal', 'fair', 'nursing', 'richard', 'moron', 'conscious', 'iceberg', 'goin', 'masculine', '3am', 'dissociation', 'oomfs', 'recommended', 'sincerely', 'stigm', 'drawingwithanxiety', 'drawingwithadhd', 'max', 'undi', 'bp2', 'immediately', 'besid', 'knowing', 'frightening', 'waz', 'bcos', 'epic', 'pogchamp', 'rejection', 'sensitivity', 'obvious', '52560', 'sc', 'chest', 'glass', 'lmaooooooooo', 'fee', 'poggers', 'decades', 'poison', 'progressively', 'dysthymia', 'disentangle', 'range', 'kalon', 'delayed', 'operation', 'cap', 'aka', 'livingalegacy', 'entertainment', 'hypomanic', 'saddest', 'hysterical', 'gir', 'fridaythoughts', 'fridaymood', 'snuck', 'received', 'bulimia', 'aga', 'generaliz', 'outburst', 'easily', 'mancave', 'cont', 'brushed', 'mar', 'square', 'saturn', 'pluto', 'orange', 'aunt', 'blaimed', 'commonly', 'generalize', 'deppression', 'doting', 'inc', 'anfield', 'redecorated', 'interior', 'psycologist', 'loosing', 'yup', 'traum', 'record', 'dollar', 'dropped', 'publicly', 'baseline', 'selfdx', 'evil', 'spouse', 'pointed', 'fandom', 'happend', 'foreve', 'frankincense', 'copaiba', 'bra', 'struggled', 'aspect', 'trashcan', 'shou', 'project', 'skill', 'covidrelated', 'textshe', 'dysfunction', 'rsd', 'regulation', 'impulsive', 'participate', 'hashtag', 'hypersensitive', 'hearin', 'western', 'apa', 'nyumbani', 'looooong', 'roman', 'tumblr', 'auntie', 'tumigil', 'ang', 'trabaho', 'depends', 'shanti', 'das', 'announce', 'fifa', 'ongoing', 'autis', 'untold', 'misery', 'economic', 'disproportionate', 'glorifie', 'welp', 'dunno', 'mark', 'turned', 'zoloft', 'dating', 'diagnostic', 'ev', 'equate', 'epilepsy', '2001', 'undercurrent', 'achieved', 'translating', 'publish', 'midget', 'returning', 'rewind', 'cu', 'todo', 'mal', 'fighting', 'neva', 'fourteen', 'slee', 'punch', 'sth', 'wiping', 'kaia', 'pat', 'siri', 'hispanic', 'turns', 'tying', 'hair', 'visiting', 'stomach', 'ache', 'admitting', 'overweight', 'inherent', 'bias', 'gro', 'mainly', 'discredit', 'dxers', 'anecdote', 'spam', 'reply', 'bump', 'vibe', 'beca', 'ima', 'mmmmm', 'dyspraxia', 'crohn', 'latin', 'wtf', 'encima', 'dice', 'queee', 'initially', 'disastrous', '65', 'percent', 'poverty', 'religious', 'hatred', 'bullimia', 'nervosa', 'closely', 'stated', 'initial', 'generally', 'score', 'neuroticism', 'amount', 'ham', 'everytime', 'sdxs', 'causing', 'develop', 'pist', 'october', 'internalised', 'apar', 'jeff', 'killer', 'randomly', 'asperges', 'izukus', 'tic', 'repressed', 'w33d', 'believed', 'newer', 'follower', 'owllie', 'oc', 'fatality', 'statistic', 'subtract', '27', 'fell', 'har', 'dose', 'bette', 'vertigo', 'fashionable', 'nigga', 'realise', 'minor', 'unt', 'woo', 'boi', 'soup', 'boiling', 'completing', 'somethin', 'mistook', 'newly', 'accurate', 'wanti', 'ext', 'australia', 'nsw', 'gambling', '201920', 'principal', 'disfunction', 'usi', 'has', 'uphill', 'lewy', 'dementia', 'prayed', 'pray', 'deel', 'asks', 'respect', 'selfharmed', 'dyslexia', 'smth', 'owns', 'raging', 'inferiority', 'compl', 'varies', 'chanel', 'factz', 'ab', 'bcs', 'sebastian', 'misunderstand', '2010', 'placed', 'cute', 'someones', 'heartwarming', 'rant', '2yrs', 'declined', 'bulb', 'anx', 'upset', 'blocked', 'dykes', 'lashed', 'neil', 'lennon', 'nida', 'rehman', 'kashmir', 'destigmatized', 'updated', 'addition', 'alreadydiagnosed', 'disea', 'interview', 'killing', 'trust', 'acute', 'paper', 'fucked', 'picky', 'iokparadiseinpain', '42', 'visited', 'reasons', 'teensplain', 'sweetie']\n"
          ],
          "name": "stdout"
        }
      ]
    },
    {
      "cell_type": "code",
      "metadata": {
        "id": "rmNXuyVliCI1",
        "colab": {
          "base_uri": "https://localhost:8080/"
        },
        "outputId": "6212945d-e381-4224-98a0-4484f9755e64"
      },
      "source": [
        "model.wv.most_similar('depression')"
      ],
      "execution_count": null,
      "outputs": [
        {
          "output_type": "execute_result",
          "data": {
            "text/plain": [
              "[('diagnosed', 0.9967317581176758),\n",
              " ('wa', 0.9963631629943848),\n",
              " ('anxiety', 0.9959952235221863),\n",
              " ('mentalhealth', 0.9959667921066284),\n",
              " ('year', 0.9958199262619019),\n",
              " ('get', 0.9953647255897522),\n",
              " ('people', 0.9949799180030823),\n",
              " ('health', 0.994754433631897),\n",
              " ('like', 0.994587779045105),\n",
              " ('time', 0.9944572448730469)]"
            ]
          },
          "metadata": {
            "tags": []
          },
          "execution_count": 8
        }
      ]
    },
    {
      "cell_type": "markdown",
      "metadata": {
        "id": "_EBxCSIe2sxy"
      },
      "source": [
        "Saving the word2vec model"
      ]
    },
    {
      "cell_type": "code",
      "metadata": {
        "id": "PZnauC_OmInN"
      },
      "source": [
        "filename = 'tweets_embedding.txt'\n",
        "model.wv.save_word2vec_format(filename,binary=False)"
      ],
      "execution_count": null,
      "outputs": []
    },
    {
      "cell_type": "markdown",
      "metadata": {
        "id": "b21TlBd_xzAo"
      },
      "source": [
        "Preparing Train and Test Data\n"
      ]
    },
    {
      "cell_type": "code",
      "metadata": {
        "id": "Vi9BjL-WczkS"
      },
      "source": [
        "def prep_tokenizer(tweet_list):\n",
        "    #instantiating the tokenizing object -creating a unique word dictionary ,where unique words are rep. as sentences\n",
        "    tokenizer = Tokenizer()\n",
        "    #fitting it into the text\n",
        "    tokenizer.fit_on_texts(tweet_list)\n",
        "    #saving the tokenizing object\n",
        "    with open(‘tokenizer.pickle’, ‘wb’) as handle:\n",
        "    pickle.dump(tokenizer, handle, protocol=pickle.HIGHEST_PROTOCOL)\n",
        "    print(“Tokeniser saved”)\n",
        " \n",
        "def prepare_data(tweet_list,tokenizer):\n",
        "   #creating a list of tokens for each tweet (A list of lists)\n",
        "   sequences = tokenizer.texts_to_sequences(tweet_list)\n",
        "   word_index = tokenizer.word_index\n",
        "   print(‘Vocabulary size:’, len(word_index))\n",
        "   max_length = max([len(s.split()) for s in tweets])\n",
        "   tweet_pad =pad_sequences(sequences,maxlen=max_length)\n",
        "   return tweet_pad\n",
        "\n",
        " "
      ],
      "execution_count": null,
      "outputs": []
    },
    {
      "cell_type": "code",
      "metadata": {
        "id": "Y618PXpIsd0n"
      },
      "source": [
        "prep_tokenizer(tweet_list)\n",
        "with open(‘tokenizer.pickle’, ‘rb’) as handle:\n",
        "   tokenizer = pickle.load(handle)\n",
        "\n",
        "tweet_pad = prepare_data(tweet_list,tokenizer)"
      ],
      "execution_count": null,
      "outputs": []
    },
    {
      "cell_type": "code",
      "metadata": {
        "id": "axq4niqswduR"
      },
      "source": [
        "emotion_score=data['labels'].values\n",
        "\n",
        "VALIDATION_SPLIT = 0.2\n",
        "indices = np.arange(tweet_pad.shape[0])\n",
        "np.random.shuffle(indices)\n",
        "tweet_pad = tweet_pad[indices]\n",
        "emotion_score = emotion_score[indices]\n",
        "\n",
        "num_validation_samples = int(VALIDATION_SPLIT * tweet_pad.shape[0])\n",
        "\n",
        "x_train_pad = tweet_pad[:-num_validation_samples]\n",
        "y_train = emotion_score[:-num_validation_samples]\n",
        "x_test_pad = tweet_pad[-num_validation_samples:]\n",
        "y_test = emotion_score[-num_validation_samples:]"
      ],
      "execution_count": null,
      "outputs": []
    },
    {
      "cell_type": "code",
      "metadata": {
        "id": "fMRmKnCb10T7"
      },
      "source": [
        "x_train_pad = np.asarray(x_train_pad).astype(np.float32)\n",
        "y_train = np.asarray(y_train).astype(np.float32)\n",
        "x_test_pad = np.asarray(x_test_pad).astype(np.float32)\n",
        "y_test= np.asarray(y_test).astype(np.float32)\n",
        "\n",
        "\n",
        "print(len(x_test_pad))\n",
        "print(len(x_train_pad))\n",
        "print(len(y_train))\n",
        "print(len(y_test))"
      ],
      "execution_count": null,
      "outputs": []
    },
    {
      "cell_type": "markdown",
      "metadata": {
        "id": "CKrf7_a23YOw"
      },
      "source": [
        "Creating the Embedding layer"
      ]
    },
    {
      "cell_type": "code",
      "metadata": {
        "id": "xOQDMEcHm49c"
      },
      "source": [
        "import os\n",
        "embeddings_index = {}\n",
        "f = open(os.path.join('','tweets_embedding.txt'),encoding=\"utf-8\")\n",
        "for line in f:\n",
        "    values = line.split()\n",
        "    word = values[0]\n",
        "    coefs = np.asarray(values[1:])\n",
        "    embeddings_index[word] = coefs\n",
        "f.close()    "
      ],
      "execution_count": null,
      "outputs": []
    },
    {
      "cell_type": "markdown",
      "metadata": {
        "id": "HtBpNUfhpz3j"
      },
      "source": [
        "Embedding Matrix"
      ]
    },
    {
      "cell_type": "code",
      "metadata": {
        "id": "qxvwpIMPtGqi"
      },
      "source": [
        "num_words = len(word_index) + 1\n",
        "embedding_matrix = np.zeros((num_words,EMBEDDING_DIM))\n",
        "\n",
        "for word,i in word_index.items():\n",
        "    if i > num_words:\n",
        "        continue\n",
        "        embedding_vector = embeddings_index.get(word)\n",
        "        if embedding_vector is not None:\n",
        "            embedding_matrix[i] = embedding_vector"
      ],
      "execution_count": null,
      "outputs": []
    },
    {
      "cell_type": "code",
      "metadata": {
        "colab": {
          "base_uri": "https://localhost:8080/"
        },
        "id": "KkjovhgDt7At",
        "outputId": "69fe046b-1cc2-4936-ce09-4ff50801f321"
      },
      "source": [
        "print(num_words)"
      ],
      "execution_count": null,
      "outputs": [
        {
          "output_type": "stream",
          "text": [
            "4909\n"
          ],
          "name": "stdout"
        }
      ]
    },
    {
      "cell_type": "code",
      "metadata": {
        "id": "-Ya6syCtuCTl"
      },
      "source": [
        "model = Sequential()\n",
        "embedding_layer = Embedding(num_words ,EMBEDDING_DIM)                         \n",
        "model.add(embedding_layer)\n",
        "model.add(Dropout(0.5))\n",
        "model.add(LSTM(1, activation=\"tanh\"))\n",
        "model.add(Dense(6,activation='softmax'))\n",
        "\n",
        "model.compile(loss='sparse_categorical_crossentropy',optimizer='adam' , metrics=['accuracy'])\n"
      ],
      "execution_count": null,
      "outputs": []
    },
    {
      "cell_type": "markdown",
      "metadata": {
        "id": "3i69J5WF4_DO"
      },
      "source": [
        "Model Training Finally...."
      ]
    },
    {
      "cell_type": "code",
      "metadata": {
        "colab": {
          "base_uri": "https://localhost:8080/"
        },
        "id": "1YTd0aqH0J46",
        "outputId": "3347922f-709f-4e5a-b195-4fe68bd7a1c0"
      },
      "source": [
        "model.fit(x_train_pad,y_train, batch_size=10, epochs=20 , validation_data=(x_test_pad,y_test),verbose=2)"
      ],
      "execution_count": null,
      "outputs": [
        {
          "output_type": "stream",
          "text": [
            "Epoch 1/20\n",
            "160/160 - 4s - loss: 1.6233 - accuracy: 0.5800 - val_loss: 1.4439 - val_accuracy: 0.5965\n",
            "Epoch 2/20\n",
            "160/160 - 2s - loss: 1.3227 - accuracy: 0.6206 - val_loss: 1.2390 - val_accuracy: 0.5965\n",
            "Epoch 3/20\n",
            "160/160 - 2s - loss: 1.1499 - accuracy: 0.6206 - val_loss: 1.1218 - val_accuracy: 0.5965\n",
            "Epoch 4/20\n",
            "160/160 - 2s - loss: 1.0346 - accuracy: 0.6206 - val_loss: 1.0521 - val_accuracy: 0.5965\n",
            "Epoch 5/20\n",
            "160/160 - 2s - loss: 0.9516 - accuracy: 0.6206 - val_loss: 1.0035 - val_accuracy: 0.5965\n",
            "Epoch 6/20\n",
            "160/160 - 2s - loss: 0.8879 - accuracy: 0.6281 - val_loss: 0.9612 - val_accuracy: 0.5965\n",
            "Epoch 7/20\n",
            "160/160 - 2s - loss: 0.8382 - accuracy: 0.6431 - val_loss: 0.9269 - val_accuracy: 0.5990\n",
            "Epoch 8/20\n",
            "160/160 - 2s - loss: 0.7963 - accuracy: 0.6619 - val_loss: 0.9003 - val_accuracy: 0.6015\n",
            "Epoch 9/20\n",
            "160/160 - 2s - loss: 0.7636 - accuracy: 0.6719 - val_loss: 0.8689 - val_accuracy: 0.6165\n",
            "Epoch 10/20\n",
            "160/160 - 2s - loss: 0.7334 - accuracy: 0.6769 - val_loss: 0.8524 - val_accuracy: 0.6140\n",
            "Epoch 11/20\n",
            "160/160 - 2s - loss: 0.7030 - accuracy: 0.6800 - val_loss: 0.8259 - val_accuracy: 0.6291\n",
            "Epoch 12/20\n",
            "160/160 - 2s - loss: 0.6709 - accuracy: 0.6869 - val_loss: 0.8110 - val_accuracy: 0.6391\n",
            "Epoch 13/20\n",
            "160/160 - 2s - loss: 0.6351 - accuracy: 0.7088 - val_loss: 0.7906 - val_accuracy: 0.6441\n",
            "Epoch 14/20\n",
            "160/160 - 2s - loss: 0.5952 - accuracy: 0.7531 - val_loss: 0.7642 - val_accuracy: 0.6792\n",
            "Epoch 15/20\n",
            "160/160 - 2s - loss: 0.5547 - accuracy: 0.8125 - val_loss: 0.7359 - val_accuracy: 0.7018\n",
            "Epoch 16/20\n",
            "160/160 - 2s - loss: 0.5130 - accuracy: 0.8750 - val_loss: 0.7140 - val_accuracy: 0.7444\n",
            "Epoch 17/20\n",
            "160/160 - 2s - loss: 0.4723 - accuracy: 0.9350 - val_loss: 0.6991 - val_accuracy: 0.7494\n",
            "Epoch 18/20\n",
            "160/160 - 2s - loss: 0.4371 - accuracy: 0.9556 - val_loss: 0.6873 - val_accuracy: 0.7594\n",
            "Epoch 19/20\n",
            "160/160 - 2s - loss: 0.4045 - accuracy: 0.9550 - val_loss: 0.6835 - val_accuracy: 0.7669\n",
            "Epoch 20/20\n",
            "160/160 - 2s - loss: 0.3778 - accuracy: 0.9400 - val_loss: 0.6735 - val_accuracy: 0.7569\n"
          ],
          "name": "stdout"
        },
        {
          "output_type": "execute_result",
          "data": {
            "text/plain": [
              "<tensorflow.python.keras.callbacks.History at 0x7f7f01192ad0>"
            ]
          },
          "metadata": {
            "tags": []
          },
          "execution_count": 62
        }
      ]
    },
    {
      "cell_type": "code",
      "metadata": {
        "colab": {
          "base_uri": "https://localhost:8080/"
        },
        "id": "QavzjDRzKNgc",
        "outputId": "3befe46d-332f-4bbe-8e6d-acfdcd02b49f"
      },
      "source": [
        "model.fit(x_train_pad,y_train, batch_size=20, epochs=20 , validation_data=(x_test_pad,y_test),verbose=2)\n",
        "lstm_model.save('final_lstm.h5')\n"
      ],
      "execution_count": null,
      "outputs": [
        {
          "output_type": "stream",
          "text": [
            "Epoch 1/20\n",
            "80/80 - 2s - loss: 0.3579 - accuracy: 0.9175 - val_loss: 0.6641 - val_accuracy: 0.7619\n",
            "Epoch 2/20\n",
            "80/80 - 1s - loss: 0.3479 - accuracy: 0.9131 - val_loss: 0.6640 - val_accuracy: 0.7594\n",
            "Epoch 3/20\n",
            "80/80 - 1s - loss: 0.3379 - accuracy: 0.9131 - val_loss: 0.6626 - val_accuracy: 0.7519\n",
            "Epoch 4/20\n",
            "80/80 - 1s - loss: 0.3293 - accuracy: 0.9137 - val_loss: 0.6645 - val_accuracy: 0.7519\n",
            "Epoch 5/20\n",
            "80/80 - 1s - loss: 0.3215 - accuracy: 0.9131 - val_loss: 0.6683 - val_accuracy: 0.7494\n",
            "Epoch 6/20\n",
            "80/80 - 1s - loss: 0.3138 - accuracy: 0.9137 - val_loss: 0.6695 - val_accuracy: 0.7519\n",
            "Epoch 7/20\n",
            "80/80 - 1s - loss: 0.3062 - accuracy: 0.9150 - val_loss: 0.6715 - val_accuracy: 0.7519\n",
            "Epoch 8/20\n",
            "80/80 - 1s - loss: 0.3001 - accuracy: 0.9150 - val_loss: 0.6704 - val_accuracy: 0.7519\n",
            "Epoch 9/20\n",
            "80/80 - 1s - loss: 0.2954 - accuracy: 0.9150 - val_loss: 0.6746 - val_accuracy: 0.7544\n",
            "Epoch 10/20\n",
            "80/80 - 1s - loss: 0.2898 - accuracy: 0.9150 - val_loss: 0.6707 - val_accuracy: 0.7494\n",
            "Epoch 11/20\n",
            "80/80 - 1s - loss: 0.2857 - accuracy: 0.9150 - val_loss: 0.6753 - val_accuracy: 0.7419\n",
            "Epoch 12/20\n",
            "80/80 - 1s - loss: 0.2808 - accuracy: 0.9162 - val_loss: 0.6849 - val_accuracy: 0.7419\n",
            "Epoch 13/20\n",
            "80/80 - 1s - loss: 0.2768 - accuracy: 0.9162 - val_loss: 0.6862 - val_accuracy: 0.7368\n",
            "Epoch 14/20\n",
            "80/80 - 1s - loss: 0.2740 - accuracy: 0.9156 - val_loss: 0.6945 - val_accuracy: 0.7368\n",
            "Epoch 15/20\n",
            "80/80 - 1s - loss: 0.2707 - accuracy: 0.9162 - val_loss: 0.7067 - val_accuracy: 0.7343\n",
            "Epoch 16/20\n",
            "80/80 - 1s - loss: 0.2681 - accuracy: 0.9162 - val_loss: 0.7116 - val_accuracy: 0.7368\n",
            "Epoch 17/20\n",
            "80/80 - 1s - loss: 0.2657 - accuracy: 0.9162 - val_loss: 0.7139 - val_accuracy: 0.7293\n",
            "Epoch 18/20\n",
            "80/80 - 1s - loss: 0.2630 - accuracy: 0.9162 - val_loss: 0.7116 - val_accuracy: 0.7293\n",
            "Epoch 19/20\n",
            "80/80 - 1s - loss: 0.2607 - accuracy: 0.9162 - val_loss: 0.7235 - val_accuracy: 0.7368\n",
            "Epoch 20/20\n",
            "80/80 - 1s - loss: 0.2587 - accuracy: 0.9150 - val_loss: 0.7290 - val_accuracy: 0.7343\n"
          ],
          "name": "stdout"
        },
        {
          "output_type": "execute_result",
          "data": {
            "text/plain": [
              "<tensorflow.python.keras.callbacks.History at 0x7f7ef6530e10>"
            ]
          },
          "metadata": {
            "tags": []
          },
          "execution_count": 63
        }
      ]
    },
    {
      "cell_type": "code",
      "metadata": {
        "colab": {
          "base_uri": "https://localhost:8080/"
        },
        "id": "_IY5eb1lNPUc",
        "outputId": "ef15da9c-a25f-4f16-c8df-422e50b30c92"
      },
      "source": [
        "txt=[\"who new life would be so hard this fast\"]\n",
        "seq = tok_obj.texts_to_sequences(txt)\n",
        "padded = pad_sequences(seq, maxlen=max_length)\n",
        "pred = model.predict(padded)\n",
        "print(np.argmax(pred))\n"
      ],
      "execution_count": null,
      "outputs": [
        {
          "output_type": "stream",
          "text": [
            "1\n"
          ],
          "name": "stdout"
        }
      ]
    },
    {
      "cell_type": "code",
      "metadata": {
        "id": "5ywLWDRgos4-"
      },
      "source": [
        "#Creating the tokenisation object\n",
        "def tokenizer(tweet_list){\n",
        "    tok_obj = Tokenizer()\n",
        "    return (tok_obj.fit_on_texts(tweet_list))\n",
        "    }\n",
        "\n",
        "tok_obj=tokenizer(tweet_list)\n",
        "sequences = tok_obj.texts_to_sequences(tweet_list)\n",
        "word_index=tok_obj.word_index\n",
        "print(len(words))\n",
        "max_length = max([len(s.split()) for s in tweets])\n",
        "\n",
        "tweet_pad =pad_sequences(sequences,maxlen=max_length)\n",
        "emotion_score=data['labels'].values\n",
        "\n",
        "print('Shape of tweet Tensor:',tweet_pad.shape)\n",
        "print('Shape of emotion_score Tensor:',emotion_score.shape)\n",
        "\n"
      ],
      "execution_count": null,
      "outputs": []
    },
    {
      "cell_type": "markdown",
      "metadata": {
        "id": "v-UNdK-yCTLB"
      },
      "source": [
        "# Streamlit code\n"
      ]
    },
    {
      "cell_type": "code",
      "metadata": {
        "id": "KKqPfmfQAWyE"
      },
      "source": [
        "MODEL_PATH = r'final_lstm.h5'\n",
        "MAX_NB_WORDS = 100000 # max no. of words for tokenizer\n",
        "MAX_SEQUENCE_LENGTH = 200 # max length of each entry (sentence), including padding\n",
        "VALIDATION_SPLIT = 0.2 # data for validation (not used in training)\n",
        "EMBEDDING_DIM = 100\n",
        "tokenizer_file = “tokenizer.pickle”"
      ],
      "execution_count": null,
      "outputs": []
    },
    {
      "cell_type": "code",
      "metadata": {
        "id": "plfKV0oIB_8b"
      },
      "source": [
        "with open(tokenizer_file, ‘rb’) as handle:\n",
        "   tokenizer = pickle.load(handle)\n",
        "@st.cache(allow_output_mutation=True)\n",
        "def Load_model():\n",
        "   model = load_model(MODEL_PATH)\n",
        "   model._make_predict_function()\n",
        "   model.summary() # included to make it visible when model is reloaded\n",
        "   session = K.get_session()\n",
        "   return model, session"
      ],
      "execution_count": null,
      "outputs": []
    },
    {
      "cell_type": "code",
      "metadata": {
        "id": "hsXUSSw_CG2y"
      },
      "source": [
        "if predict_btt:\n",
        "   clean_text = []\n",
        "   K.set_session(session)\n",
        "   i = basic_text_cleaning(sentence)\n",
        "   clean_text.append(i)\n",
        "   sequences = tokenizer.texts_to_sequences(clean_text)\n",
        "   data = pad_sequences(sequences, padding = ‘post’, maxlen =  MAX_SEQUENCE_LENGTH)\n",
        "   prediction = model.predict(data)"
      ],
      "execution_count": null,
      "outputs": []
    }
  ]
}